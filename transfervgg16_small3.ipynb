{
  "nbformat": 4,
  "nbformat_minor": 0,
  "metadata": {
    "colab": {
      "name": "transfervgg16-small3.ipynb",
      "provenance": [],
      "authorship_tag": "ABX9TyMDEiyOp+RE4jJEZiEZZyQU",
      "include_colab_link": true
    },
    "kernelspec": {
      "name": "python3",
      "display_name": "Python 3"
    },
    "accelerator": "GPU"
  },
  "cells": [
    {
      "cell_type": "markdown",
      "metadata": {
        "id": "view-in-github",
        "colab_type": "text"
      },
      "source": [
        "<a href=\"https://colab.research.google.com/github/fwangliberty/AIoTDesign-Frontend/blob/master/transfervgg16_small3.ipynb\" target=\"_parent\"><img src=\"https://colab.research.google.com/assets/colab-badge.svg\" alt=\"Open In Colab\"/></a>"
      ]
    },
    {
      "cell_type": "markdown",
      "metadata": {
        "id": "Cv5NXr4G5ADU"
      },
      "source": [
        "We continue our efforts to train a new small VGG model from the original VGG16 model. The first CONV block and the last CONV layer will be used in our small joint model. We will use small middle CONV layers to see how the simplification impacts the accuracy."
      ]
    },
    {
      "cell_type": "markdown",
      "metadata": {
        "id": "PfnrXdhg5rs5"
      },
      "source": [
        "# 1. Connecting to our Google Drive"
      ]
    },
    {
      "cell_type": "code",
      "metadata": {
        "colab": {
          "base_uri": "https://localhost:8080/"
        },
        "id": "gIbfgWHz435d",
        "outputId": "bbee8295-cf5f-45fa-9a16-5bcc9e36a791"
      },
      "source": [
        "from google.colab import drive\n",
        "drive.mount('/content/drive')"
      ],
      "execution_count": 3,
      "outputs": [
        {
          "output_type": "stream",
          "text": [
            "Mounted at /content/drive\n"
          ],
          "name": "stdout"
        }
      ]
    },
    {
      "cell_type": "code",
      "metadata": {
        "colab": {
          "base_uri": "https://localhost:8080/"
        },
        "id": "Zg-Z0Inv6xf3",
        "outputId": "53e217e3-13fc-45c9-f141-26aa15414161"
      },
      "source": [
        "!ls \"/content/drive/My Drive/small/\""
      ],
      "execution_count": 4,
      "outputs": [
        {
          "output_type": "stream",
          "text": [
            "test  train  validation\n"
          ],
          "name": "stdout"
        }
      ]
    },
    {
      "cell_type": "markdown",
      "metadata": {
        "id": "SXlaVFPz7VIW"
      },
      "source": [
        "#2. Prepare dataset"
      ]
    },
    {
      "cell_type": "code",
      "metadata": {
        "id": "lcr1DbDi7i0l"
      },
      "source": [
        "import keras\n",
        "import os, shutil\n",
        "from keras import regularizers\n",
        "from keras.preprocessing.image import ImageDataGenerator\n",
        "from tensorflow.keras.models import load_model\n",
        "import tensorflow as tf\n",
        "import tensorflow.keras as keras\n",
        "from tensorflow.keras.models import Sequential\n",
        "from tensorflow.keras.layers import InputLayer\n",
        "import tensorflow.keras.backend as K\n",
        "from keras.applications import VGG16"
      ],
      "execution_count": 10,
      "outputs": []
    },
    {
      "cell_type": "markdown",
      "metadata": {
        "id": "Hz4LVRuc7qmG"
      },
      "source": [
        "The directory where we will store our smaller dataset"
      ]
    },
    {
      "cell_type": "code",
      "metadata": {
        "id": "17Yj8xwu7lCV"
      },
      "source": [
        "base_dir = '/content/drive/My Drive/small'"
      ],
      "execution_count": 11,
      "outputs": []
    },
    {
      "cell_type": "markdown",
      "metadata": {
        "id": "iq1WUkkY8DQe"
      },
      "source": [
        " Directories for our smaller training and validation splits "
      ]
    },
    {
      "cell_type": "code",
      "metadata": {
        "id": "rYB1SFmR8FJH"
      },
      "source": [
        "train_dir = os.path.join(base_dir, 'train')\n",
        "validation_dir = os.path.join(base_dir, 'validation')\n",
        "test_dir = os.path.join(base_dir, 'test')"
      ],
      "execution_count": 12,
      "outputs": []
    },
    {
      "cell_type": "markdown",
      "metadata": {
        "id": "O-XWsXvg8Xge"
      },
      "source": [
        "Build the train imagedatagenerator"
      ]
    },
    {
      "cell_type": "code",
      "metadata": {
        "id": "P1d4yp0w8Y4Q"
      },
      "source": [
        "train_datagen = ImageDataGenerator(\n",
        "      rescale=1./255,\n",
        "      rotation_range=40,\n",
        "      width_shift_range=0.2,\n",
        "      height_shift_range=0.2,\n",
        "      shear_range=0.1,\n",
        "      zoom_range=0.1,\n",
        "      horizontal_flip=True,\n",
        "      fill_mode='nearest')"
      ],
      "execution_count": 13,
      "outputs": []
    },
    {
      "cell_type": "markdown",
      "metadata": {
        "id": "tmD9EnBK8mi-"
      },
      "source": [
        "Note that the validation data should not be augmented!"
      ]
    },
    {
      "cell_type": "code",
      "metadata": {
        "id": "ATpMzR0p8n-w"
      },
      "source": [
        "test_datagen = ImageDataGenerator(rescale=1./255)"
      ],
      "execution_count": 14,
      "outputs": []
    },
    {
      "cell_type": "code",
      "metadata": {
        "colab": {
          "base_uri": "https://localhost:8080/"
        },
        "id": "WIrOdni68s2H",
        "outputId": "bd42d35c-a9b3-479c-e6f1-fc2b385cbe72"
      },
      "source": [
        "train_generator = train_datagen.flow_from_directory(\n",
        "        # This is the target directory\n",
        "        train_dir,\n",
        "        # All images will be resized to 150x150\n",
        "        target_size=(150, 150),\n",
        "        batch_size=20,\n",
        "        # Since we use binary_crossentropy loss, we need binary labels\n",
        "        class_mode='binary')"
      ],
      "execution_count": 15,
      "outputs": [
        {
          "output_type": "stream",
          "text": [
            "Found 2000 images belonging to 2 classes.\n"
          ],
          "name": "stdout"
        }
      ]
    },
    {
      "cell_type": "code",
      "metadata": {
        "colab": {
          "base_uri": "https://localhost:8080/"
        },
        "id": "VQGAct1s8wFB",
        "outputId": "86efa933-43d2-4dae-bc94-d9798b08edca"
      },
      "source": [
        "validation_generator = test_datagen.flow_from_directory(\n",
        "        validation_dir,\n",
        "        target_size=(150, 150),\n",
        "        batch_size=20,\n",
        "        class_mode='binary')"
      ],
      "execution_count": 16,
      "outputs": [
        {
          "output_type": "stream",
          "text": [
            "Found 1000 images belonging to 2 classes.\n"
          ],
          "name": "stdout"
        }
      ]
    },
    {
      "cell_type": "code",
      "metadata": {
        "colab": {
          "base_uri": "https://localhost:8080/"
        },
        "id": "Muvd8ReV80qn",
        "outputId": "cfee2994-8db6-47f8-d121-d61b6783da06"
      },
      "source": [
        "test_generator = test_datagen.flow_from_directory(\n",
        "         test_dir,\n",
        "         target_size=(150, 150),\n",
        "         batch_size=20,\n",
        "         class_mode='binary')"
      ],
      "execution_count": 17,
      "outputs": [
        {
          "output_type": "stream",
          "text": [
            "Found 1000 images belonging to 2 classes.\n"
          ],
          "name": "stdout"
        }
      ]
    },
    {
      "cell_type": "markdown",
      "metadata": {
        "id": "eivnb5n49AzH"
      },
      "source": [
        "# 3. Import VGG16 model"
      ]
    },
    {
      "cell_type": "code",
      "metadata": {
        "colab": {
          "base_uri": "https://localhost:8080/"
        },
        "id": "WeRc6siY9E4H",
        "outputId": "429510ac-2818-468b-b94e-7c71444b1a01"
      },
      "source": [
        "vgg16 = keras.applications.vgg16\n",
        "conv_model = vgg16.VGG16(weights='imagenet', include_top=False, input_shape=(150,150,3))\n",
        "conv_model.summary()"
      ],
      "execution_count": 18,
      "outputs": [
        {
          "output_type": "stream",
          "text": [
            "Downloading data from https://storage.googleapis.com/tensorflow/keras-applications/vgg16/vgg16_weights_tf_dim_ordering_tf_kernels_notop.h5\n",
            "58892288/58889256 [==============================] - 0s 0us/step\n",
            "Model: \"vgg16\"\n",
            "_________________________________________________________________\n",
            "Layer (type)                 Output Shape              Param #   \n",
            "=================================================================\n",
            "input_1 (InputLayer)         [(None, 150, 150, 3)]     0         \n",
            "_________________________________________________________________\n",
            "block1_conv1 (Conv2D)        (None, 150, 150, 64)      1792      \n",
            "_________________________________________________________________\n",
            "block1_conv2 (Conv2D)        (None, 150, 150, 64)      36928     \n",
            "_________________________________________________________________\n",
            "block1_pool (MaxPooling2D)   (None, 75, 75, 64)        0         \n",
            "_________________________________________________________________\n",
            "block2_conv1 (Conv2D)        (None, 75, 75, 128)       73856     \n",
            "_________________________________________________________________\n",
            "block2_conv2 (Conv2D)        (None, 75, 75, 128)       147584    \n",
            "_________________________________________________________________\n",
            "block2_pool (MaxPooling2D)   (None, 37, 37, 128)       0         \n",
            "_________________________________________________________________\n",
            "block3_conv1 (Conv2D)        (None, 37, 37, 256)       295168    \n",
            "_________________________________________________________________\n",
            "block3_conv2 (Conv2D)        (None, 37, 37, 256)       590080    \n",
            "_________________________________________________________________\n",
            "block3_conv3 (Conv2D)        (None, 37, 37, 256)       590080    \n",
            "_________________________________________________________________\n",
            "block3_pool (MaxPooling2D)   (None, 18, 18, 256)       0         \n",
            "_________________________________________________________________\n",
            "block4_conv1 (Conv2D)        (None, 18, 18, 512)       1180160   \n",
            "_________________________________________________________________\n",
            "block4_conv2 (Conv2D)        (None, 18, 18, 512)       2359808   \n",
            "_________________________________________________________________\n",
            "block4_conv3 (Conv2D)        (None, 18, 18, 512)       2359808   \n",
            "_________________________________________________________________\n",
            "block4_pool (MaxPooling2D)   (None, 9, 9, 512)         0         \n",
            "_________________________________________________________________\n",
            "block5_conv1 (Conv2D)        (None, 9, 9, 512)         2359808   \n",
            "_________________________________________________________________\n",
            "block5_conv2 (Conv2D)        (None, 9, 9, 512)         2359808   \n",
            "_________________________________________________________________\n",
            "block5_conv3 (Conv2D)        (None, 9, 9, 512)         2359808   \n",
            "_________________________________________________________________\n",
            "block5_pool (MaxPooling2D)   (None, 4, 4, 512)         0         \n",
            "=================================================================\n",
            "Total params: 14,714,688\n",
            "Trainable params: 14,714,688\n",
            "Non-trainable params: 0\n",
            "_________________________________________________________________\n"
          ],
          "name": "stdout"
        }
      ]
    },
    {
      "cell_type": "markdown",
      "metadata": {
        "id": "9sqAZWWSB_qN"
      },
      "source": [
        "We lock all the layers of the convolutional part:"
      ]
    },
    {
      "cell_type": "code",
      "metadata": {
        "id": "PZjiVAKRB-gm"
      },
      "source": [
        "for layer in conv_model.layers:\n",
        "    layer.trainable = False"
      ],
      "execution_count": 19,
      "outputs": []
    },
    {
      "cell_type": "markdown",
      "metadata": {
        "id": "Zoa7sETI9WFW"
      },
      "source": [
        "Reduce the number of filters in the last CONV block."
      ]
    },
    {
      "cell_type": "code",
      "metadata": {
        "colab": {
          "base_uri": "https://localhost:8080/"
        },
        "id": "SySoEvKb9gTI",
        "outputId": "adfcb716-1e20-4989-ce76-1ad5192f9eb9"
      },
      "source": [
        "#x=tf.keras.layers.Conv2D(256,3,padding='same',activation='relu',)(conv_model.layers[6].output)\n",
        "x=tf.keras.layers.MaxPooling2D(2)(conv_model.layers[8].output)\n",
        "x=tf.keras.layers.Conv2D(256,3,padding='same',activation='relu',)(x)\n",
        "x=tf.keras.layers.MaxPooling2D(2)(x)\n",
        "x=tf.keras.layers.Conv2D(256,3,padding='same',activation='relu',)(x)\n",
        "x=tf.keras.layers.MaxPooling2D(2)(x)\n",
        "x = tf.keras.layers.Flatten()(x)\n",
        "# one dropout layer\n",
        "x = keras.layers.Dropout(0.2)(x)\n",
        "# one hidden layer\n",
        "x = keras.layers.Dense(256, activation='relu')(x)\n",
        "# final softmax layer with two categories (dog and cat)\n",
        "predictions = keras.layers.Dense(1, activation='sigmoid')(x)\n",
        "\n",
        "# creating the full model:\n",
        "full_model = keras.models.Model(inputs=conv_model.input, outputs=predictions)\n",
        "full_model.summary()"
      ],
      "execution_count": 33,
      "outputs": [
        {
          "output_type": "stream",
          "text": [
            "Model: \"functional_7\"\n",
            "_________________________________________________________________\n",
            "Layer (type)                 Output Shape              Param #   \n",
            "=================================================================\n",
            "input_1 (InputLayer)         [(None, 150, 150, 3)]     0         \n",
            "_________________________________________________________________\n",
            "block1_conv1 (Conv2D)        (None, 150, 150, 64)      1792      \n",
            "_________________________________________________________________\n",
            "block1_conv2 (Conv2D)        (None, 150, 150, 64)      36928     \n",
            "_________________________________________________________________\n",
            "block1_pool (MaxPooling2D)   (None, 75, 75, 64)        0         \n",
            "_________________________________________________________________\n",
            "block2_conv1 (Conv2D)        (None, 75, 75, 128)       73856     \n",
            "_________________________________________________________________\n",
            "block2_conv2 (Conv2D)        (None, 75, 75, 128)       147584    \n",
            "_________________________________________________________________\n",
            "block2_pool (MaxPooling2D)   (None, 37, 37, 128)       0         \n",
            "_________________________________________________________________\n",
            "block3_conv1 (Conv2D)        (None, 37, 37, 256)       295168    \n",
            "_________________________________________________________________\n",
            "block3_conv2 (Conv2D)        (None, 37, 37, 256)       590080    \n",
            "_________________________________________________________________\n",
            "max_pooling2d_8 (MaxPooling2 (None, 18, 18, 256)       0         \n",
            "_________________________________________________________________\n",
            "conv2d_7 (Conv2D)            (None, 18, 18, 256)       590080    \n",
            "_________________________________________________________________\n",
            "max_pooling2d_9 (MaxPooling2 (None, 9, 9, 256)         0         \n",
            "_________________________________________________________________\n",
            "conv2d_8 (Conv2D)            (None, 9, 9, 256)         590080    \n",
            "_________________________________________________________________\n",
            "max_pooling2d_10 (MaxPooling (None, 4, 4, 256)         0         \n",
            "_________________________________________________________________\n",
            "flatten_3 (Flatten)          (None, 4096)              0         \n",
            "_________________________________________________________________\n",
            "dropout_3 (Dropout)          (None, 4096)              0         \n",
            "_________________________________________________________________\n",
            "dense_6 (Dense)              (None, 256)               1048832   \n",
            "_________________________________________________________________\n",
            "dense_7 (Dense)              (None, 1)                 257       \n",
            "=================================================================\n",
            "Total params: 3,374,657\n",
            "Trainable params: 2,229,249\n",
            "Non-trainable params: 1,145,408\n",
            "_________________________________________________________________\n"
          ],
          "name": "stdout"
        }
      ]
    },
    {
      "cell_type": "markdown",
      "metadata": {
        "id": "6C1wDoRbCeBG"
      },
      "source": [
        "Now compile and train the model"
      ]
    },
    {
      "cell_type": "code",
      "metadata": {
        "colab": {
          "base_uri": "https://localhost:8080/"
        },
        "id": "z7IacWnYCeu_",
        "outputId": "64796aec-39c5-43f8-bd40-db912d157a19"
      },
      "source": [
        "full_model.compile(loss='binary_crossentropy',\n",
        "              optimizer=keras.optimizers.RMSprop(lr=1e-4),\n",
        "              #optimizer=keras.optimizers.Adamax(lr=0.001),\n",
        "              metrics=['acc'])\n",
        "\t\t\t  \n",
        "history = full_model.fit(\n",
        "      train_generator,\n",
        "      steps_per_epoch=100,\n",
        "      epochs=50,\n",
        "      validation_data=validation_generator,\n",
        "      validation_steps=50)"
      ],
      "execution_count": 43,
      "outputs": [
        {
          "output_type": "stream",
          "text": [
            "Epoch 1/50\n",
            "100/100 [==============================] - 21s 213ms/step - loss: 0.2601 - acc: 0.9210 - val_loss: 0.8451 - val_acc: 0.9100\n",
            "Epoch 2/50\n",
            "100/100 [==============================] - 21s 213ms/step - loss: 0.2416 - acc: 0.9120 - val_loss: 0.1781 - val_acc: 0.9310\n",
            "Epoch 3/50\n",
            "100/100 [==============================] - 21s 211ms/step - loss: 0.2461 - acc: 0.9170 - val_loss: 0.1703 - val_acc: 0.9330\n",
            "Epoch 4/50\n",
            "100/100 [==============================] - 21s 209ms/step - loss: 0.2490 - acc: 0.9110 - val_loss: 0.2267 - val_acc: 0.9200\n",
            "Epoch 5/50\n",
            "100/100 [==============================] - 21s 211ms/step - loss: 0.2294 - acc: 0.9205 - val_loss: 0.1893 - val_acc: 0.9130\n",
            "Epoch 6/50\n",
            "100/100 [==============================] - 21s 212ms/step - loss: 0.2127 - acc: 0.9125 - val_loss: 0.3328 - val_acc: 0.9140\n",
            "Epoch 7/50\n",
            "100/100 [==============================] - 21s 214ms/step - loss: 0.2269 - acc: 0.9160 - val_loss: 0.2782 - val_acc: 0.9230\n",
            "Epoch 8/50\n",
            "100/100 [==============================] - 21s 214ms/step - loss: 0.2312 - acc: 0.9160 - val_loss: 0.2101 - val_acc: 0.9310\n",
            "Epoch 9/50\n",
            "100/100 [==============================] - 21s 213ms/step - loss: 0.2665 - acc: 0.9230 - val_loss: 0.1872 - val_acc: 0.9210\n",
            "Epoch 10/50\n",
            "100/100 [==============================] - 21s 214ms/step - loss: 0.2214 - acc: 0.9265 - val_loss: 0.2716 - val_acc: 0.9330\n",
            "Epoch 11/50\n",
            "100/100 [==============================] - 22s 219ms/step - loss: 0.2176 - acc: 0.9260 - val_loss: 0.1992 - val_acc: 0.9340\n",
            "Epoch 12/50\n",
            "100/100 [==============================] - 23s 225ms/step - loss: 0.2158 - acc: 0.9185 - val_loss: 0.2549 - val_acc: 0.9310\n",
            "Epoch 13/50\n",
            "100/100 [==============================] - 23s 226ms/step - loss: 0.1944 - acc: 0.9325 - val_loss: 0.2633 - val_acc: 0.9050\n",
            "Epoch 14/50\n",
            "100/100 [==============================] - 22s 225ms/step - loss: 0.2947 - acc: 0.9410 - val_loss: 0.5301 - val_acc: 0.9310\n",
            "Epoch 15/50\n",
            "100/100 [==============================] - 22s 222ms/step - loss: 0.2044 - acc: 0.9290 - val_loss: 0.2103 - val_acc: 0.9370\n",
            "Epoch 16/50\n",
            "100/100 [==============================] - 22s 218ms/step - loss: 0.2182 - acc: 0.9250 - val_loss: 0.2889 - val_acc: 0.9360\n",
            "Epoch 17/50\n",
            "100/100 [==============================] - 22s 217ms/step - loss: 0.2185 - acc: 0.9215 - val_loss: 0.1676 - val_acc: 0.9510\n",
            "Epoch 18/50\n",
            "100/100 [==============================] - 22s 217ms/step - loss: 0.2240 - acc: 0.9200 - val_loss: 0.3088 - val_acc: 0.9330\n",
            "Epoch 19/50\n",
            "100/100 [==============================] - 21s 214ms/step - loss: 0.2431 - acc: 0.9285 - val_loss: 0.2288 - val_acc: 0.9340\n",
            "Epoch 20/50\n",
            "100/100 [==============================] - 21s 214ms/step - loss: 0.2253 - acc: 0.9120 - val_loss: 0.2209 - val_acc: 0.9320\n",
            "Epoch 21/50\n",
            "100/100 [==============================] - 21s 214ms/step - loss: 0.2270 - acc: 0.9280 - val_loss: 0.2175 - val_acc: 0.9350\n",
            "Epoch 22/50\n",
            "100/100 [==============================] - 22s 218ms/step - loss: 0.2155 - acc: 0.9250 - val_loss: 0.2107 - val_acc: 0.9330\n",
            "Epoch 23/50\n",
            "100/100 [==============================] - 21s 215ms/step - loss: 0.2936 - acc: 0.9290 - val_loss: 0.2297 - val_acc: 0.9380\n",
            "Epoch 24/50\n",
            "100/100 [==============================] - 22s 217ms/step - loss: 0.3366 - acc: 0.9200 - val_loss: 0.1974 - val_acc: 0.9350\n",
            "Epoch 25/50\n",
            "100/100 [==============================] - 22s 216ms/step - loss: 0.2297 - acc: 0.9275 - val_loss: 0.3187 - val_acc: 0.9170\n",
            "Epoch 26/50\n",
            "100/100 [==============================] - 22s 215ms/step - loss: 0.2100 - acc: 0.9260 - val_loss: 0.2569 - val_acc: 0.9250\n",
            "Epoch 27/50\n",
            "100/100 [==============================] - 21s 215ms/step - loss: 0.2169 - acc: 0.9255 - val_loss: 0.2023 - val_acc: 0.9410\n",
            "Epoch 28/50\n",
            "100/100 [==============================] - 22s 218ms/step - loss: 0.2176 - acc: 0.9250 - val_loss: 0.2953 - val_acc: 0.9250\n",
            "Epoch 29/50\n",
            "100/100 [==============================] - 22s 217ms/step - loss: 0.2259 - acc: 0.9315 - val_loss: 0.3144 - val_acc: 0.8980\n",
            "Epoch 30/50\n",
            "100/100 [==============================] - 22s 215ms/step - loss: 0.1999 - acc: 0.9335 - val_loss: 0.3924 - val_acc: 0.9280\n",
            "Epoch 31/50\n",
            "100/100 [==============================] - 21s 214ms/step - loss: 0.2121 - acc: 0.9255 - val_loss: 0.2490 - val_acc: 0.9060\n",
            "Epoch 32/50\n",
            "100/100 [==============================] - 21s 211ms/step - loss: 0.2210 - acc: 0.9305 - val_loss: 0.2614 - val_acc: 0.8790\n",
            "Epoch 33/50\n",
            "100/100 [==============================] - 21s 215ms/step - loss: 0.2330 - acc: 0.9305 - val_loss: 0.4114 - val_acc: 0.9210\n",
            "Epoch 34/50\n",
            "100/100 [==============================] - 21s 210ms/step - loss: 0.2152 - acc: 0.9320 - val_loss: 0.4649 - val_acc: 0.8940\n",
            "Epoch 35/50\n",
            "100/100 [==============================] - 21s 213ms/step - loss: 0.2264 - acc: 0.9140 - val_loss: 0.3718 - val_acc: 0.9440\n",
            "Epoch 36/50\n",
            "100/100 [==============================] - 22s 215ms/step - loss: 0.1774 - acc: 0.9435 - val_loss: 0.2624 - val_acc: 0.9370\n",
            "Epoch 37/50\n",
            "100/100 [==============================] - 21s 214ms/step - loss: 0.2084 - acc: 0.9275 - val_loss: 0.5137 - val_acc: 0.9220\n",
            "Epoch 38/50\n",
            "100/100 [==============================] - 21s 215ms/step - loss: 0.2539 - acc: 0.9325 - val_loss: 0.1940 - val_acc: 0.9250\n",
            "Epoch 39/50\n",
            "100/100 [==============================] - 21s 214ms/step - loss: 0.1914 - acc: 0.9325 - val_loss: 0.2789 - val_acc: 0.9290\n",
            "Epoch 40/50\n",
            "100/100 [==============================] - 21s 210ms/step - loss: 0.2051 - acc: 0.9335 - val_loss: 0.4045 - val_acc: 0.9030\n",
            "Epoch 41/50\n",
            "100/100 [==============================] - 21s 212ms/step - loss: 0.2083 - acc: 0.9305 - val_loss: 0.2413 - val_acc: 0.9140\n",
            "Epoch 42/50\n",
            "100/100 [==============================] - 21s 210ms/step - loss: 0.1955 - acc: 0.9395 - val_loss: 0.1748 - val_acc: 0.9440\n",
            "Epoch 43/50\n",
            "100/100 [==============================] - 21s 214ms/step - loss: 0.2927 - acc: 0.9390 - val_loss: 0.2149 - val_acc: 0.9450\n",
            "Epoch 44/50\n",
            "100/100 [==============================] - 21s 211ms/step - loss: 0.1940 - acc: 0.9305 - val_loss: 0.2274 - val_acc: 0.9430\n",
            "Epoch 45/50\n",
            "100/100 [==============================] - 21s 209ms/step - loss: 0.2614 - acc: 0.9265 - val_loss: 0.2804 - val_acc: 0.9390\n",
            "Epoch 46/50\n",
            "100/100 [==============================] - 21s 210ms/step - loss: 0.2045 - acc: 0.9320 - val_loss: 0.4033 - val_acc: 0.9380\n",
            "Epoch 47/50\n",
            "100/100 [==============================] - 21s 209ms/step - loss: 0.2498 - acc: 0.9300 - val_loss: 0.5596 - val_acc: 0.9220\n",
            "Epoch 48/50\n",
            "100/100 [==============================] - 21s 210ms/step - loss: 0.1997 - acc: 0.9365 - val_loss: 0.2714 - val_acc: 0.9380\n",
            "Epoch 49/50\n",
            "100/100 [==============================] - 21s 208ms/step - loss: 0.2850 - acc: 0.9235 - val_loss: 0.2184 - val_acc: 0.9350\n",
            "Epoch 50/50\n",
            "100/100 [==============================] - 21s 212ms/step - loss: 0.1907 - acc: 0.9350 - val_loss: 0.3843 - val_acc: 0.9390\n"
          ],
          "name": "stdout"
        }
      ]
    },
    {
      "cell_type": "code",
      "metadata": {
        "id": "0c__H05nHCr-"
      },
      "source": [
        "full_model.save('cats_and_dogs_full_small3.h5')"
      ],
      "execution_count": 44,
      "outputs": []
    },
    {
      "cell_type": "code",
      "metadata": {
        "colab": {
          "base_uri": "https://localhost:8080/",
          "height": 17
        },
        "id": "xphUOheTJQsA",
        "outputId": "03e0a25c-276c-4d40-9787-3e8852d1de47"
      },
      "source": [
        "from google.colab import files\n",
        "files.download(\"cats_and_dogs_full_small3.h5\")"
      ],
      "execution_count": 45,
      "outputs": [
        {
          "output_type": "display_data",
          "data": {
            "application/javascript": [
              "\n",
              "    async function download(id, filename, size) {\n",
              "      if (!google.colab.kernel.accessAllowed) {\n",
              "        return;\n",
              "      }\n",
              "      const div = document.createElement('div');\n",
              "      const label = document.createElement('label');\n",
              "      label.textContent = `Downloading \"${filename}\": `;\n",
              "      div.appendChild(label);\n",
              "      const progress = document.createElement('progress');\n",
              "      progress.max = size;\n",
              "      div.appendChild(progress);\n",
              "      document.body.appendChild(div);\n",
              "\n",
              "      const buffers = [];\n",
              "      let downloaded = 0;\n",
              "\n",
              "      const channel = await google.colab.kernel.comms.open(id);\n",
              "      // Send a message to notify the kernel that we're ready.\n",
              "      channel.send({})\n",
              "\n",
              "      for await (const message of channel.messages) {\n",
              "        // Send a message to notify the kernel that we're ready.\n",
              "        channel.send({})\n",
              "        if (message.buffers) {\n",
              "          for (const buffer of message.buffers) {\n",
              "            buffers.push(buffer);\n",
              "            downloaded += buffer.byteLength;\n",
              "            progress.value = downloaded;\n",
              "          }\n",
              "        }\n",
              "      }\n",
              "      const blob = new Blob(buffers, {type: 'application/binary'});\n",
              "      const a = document.createElement('a');\n",
              "      a.href = window.URL.createObjectURL(blob);\n",
              "      a.download = filename;\n",
              "      div.appendChild(a);\n",
              "      a.click();\n",
              "      div.remove();\n",
              "    }\n",
              "  "
            ],
            "text/plain": [
              "<IPython.core.display.Javascript object>"
            ]
          },
          "metadata": {
            "tags": []
          }
        },
        {
          "output_type": "display_data",
          "data": {
            "application/javascript": [
              "download(\"download_ee77f1bc-246a-4560-9b72-fdb4d12137d2\", \"cats_and_dogs_full_small3.h5\", 22488944)"
            ],
            "text/plain": [
              "<IPython.core.display.Javascript object>"
            ]
          },
          "metadata": {
            "tags": []
          }
        }
      ]
    },
    {
      "cell_type": "code",
      "metadata": {
        "colab": {
          "base_uri": "https://localhost:8080/"
        },
        "id": "-cBI7VSwIuHU",
        "outputId": "c74e36a3-0259-4f3e-ff30-952a8ee90c09"
      },
      "source": [
        "print(\"Evaluate the full model on small test data\")\n",
        "results = full_model.evaluate(test_generator)\n",
        "print(\"test loss, test acc:\", results)"
      ],
      "execution_count": 46,
      "outputs": [
        {
          "output_type": "stream",
          "text": [
            "Evaluate the full model on small test data\n",
            "50/50 [==============================] - 4s 82ms/step - loss: 0.5960 - acc: 0.9220\n",
            "test loss, test acc: [0.5959747433662415, 0.921999990940094]\n"
          ],
          "name": "stdout"
        }
      ]
    },
    {
      "cell_type": "code",
      "metadata": {
        "colab": {
          "base_uri": "https://localhost:8080/",
          "height": 545
        },
        "id": "SsJo_omrIzj9",
        "outputId": "1804f5ac-ba33-4f69-9bd4-113a085d2432"
      },
      "source": [
        "import matplotlib.pyplot as plt\n",
        "\n",
        "acc = history.history['acc']\n",
        "val_acc = history.history['val_acc']\n",
        "loss = history.history['loss']\n",
        "val_loss = history.history['val_loss']\n",
        "epochs = range(1, len(acc) + 1)\n",
        "\n",
        "plt.plot(epochs, acc, 'bo', label='Training acc')\n",
        "plt.plot(epochs, val_acc, 'b', label='Validation acc')\n",
        "plt.title('Training and validation accuracy')\n",
        "plt.legend()\n",
        "plt.figure()\n",
        "plt.plot(epochs, loss, 'bo', label='Training loss')\n",
        "plt.plot(epochs, val_loss, 'b', label='Validation loss')\n",
        "plt.title('Training and validation loss')\n",
        "plt.legend()\n",
        "plt.show()"
      ],
      "execution_count": 47,
      "outputs": [
        {
          "output_type": "display_data",
          "data": {
            "image/png": "[encoded data removed]",
            "text/plain": [
              "<Figure size 432x288 with 1 Axes>"
            ]
          },
          "metadata": {
            "tags": [],
            "needs_background": "light"
          }
        },
        {
          "output_type": "display_data",
          "data": {
            "image/png": "[encoded data removed]",
            "text/plain": [
              "<Figure size 432x288 with 1 Axes>"
            ]
          },
          "metadata": {
            "tags": [],
            "needs_background": "light"
          }
        }
      ]
    }
  ]
}