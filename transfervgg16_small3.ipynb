{
  "nbformat": 4,
  "nbformat_minor": 0,
  "metadata": {
    "colab": {
      "name": "transfervgg16-small3.ipynb",
      "provenance": [],
      "authorship_tag": "ABX9TyPMJCrBh1GGYunbfb23SaGP",
      "include_colab_link": true
    },
    "kernelspec": {
      "name": "python3",
      "display_name": "Python 3"
    },
    "accelerator": "GPU"
  },
  "cells": [
    {
      "cell_type": "markdown",
      "metadata": {
        "id": "view-in-github",
        "colab_type": "text"
      },
      "source": [
        "<a href=\"https://colab.research.google.com/github/fwangliberty/AIoTDesign-Frontend/blob/master/transfervgg16_small3.ipynb\" target=\"_parent\"><img src=\"https://colab.research.google.com/assets/colab-badge.svg\" alt=\"Open In Colab\"/></a>"
      ]
    },
    {
      "cell_type": "markdown",
      "metadata": {
        "id": "Cv5NXr4G5ADU"
      },
      "source": [
        "We continue our efforts to train a new small VGG model from the original VGG16 model. The first CONV block and the last CONV layer will be used in our small joint model. We will use small middle CONV layers to see how the simplification impacts the accuracy."
      ]
    },
    {
      "cell_type": "markdown",
      "metadata": {
        "id": "PfnrXdhg5rs5"
      },
      "source": [
        "# 1. Connecting to our Google Drive"
      ]
    },
    {
      "cell_type": "code",
      "metadata": {
        "colab": {
          "base_uri": "https://localhost:8080/"
        },
        "id": "gIbfgWHz435d",
        "outputId": "bbee8295-cf5f-45fa-9a16-5bcc9e36a791"
      },
      "source": [
        "from google.colab import drive\n",
        "drive.mount('/content/drive')"
      ],
      "execution_count": 3,
      "outputs": [
        {
          "output_type": "stream",
          "text": [
            "Mounted at /content/drive\n"
          ],
          "name": "stdout"
        }
      ]
    },
    {
      "cell_type": "code",
      "metadata": {
        "colab": {
          "base_uri": "https://localhost:8080/"
        },
        "id": "Zg-Z0Inv6xf3",
        "outputId": "53e217e3-13fc-45c9-f141-26aa15414161"
      },
      "source": [
        "!ls \"/content/drive/My Drive/small/\""
      ],
      "execution_count": 4,
      "outputs": [
        {
          "output_type": "stream",
          "text": [
            "test  train  validation\n"
          ],
          "name": "stdout"
        }
      ]
    },
    {
      "cell_type": "markdown",
      "metadata": {
        "id": "SXlaVFPz7VIW"
      },
      "source": [
        "#2. Prepare dataset"
      ]
    },
    {
      "cell_type": "code",
      "metadata": {
        "id": "lcr1DbDi7i0l"
      },
      "source": [
        "import keras\n",
        "import os, shutil\n",
        "from keras import regularizers\n",
        "from keras.preprocessing.image import ImageDataGenerator\n",
        "from tensorflow.keras.models import load_model\n",
        "import tensorflow as tf\n",
        "import tensorflow.keras as keras\n",
        "from tensorflow.keras.models import Sequential\n",
        "from tensorflow.keras.layers import InputLayer\n",
        "import tensorflow.keras.backend as K\n",
        "from keras.applications import VGG16"
      ],
      "execution_count": 10,
      "outputs": []
    },
    {
      "cell_type": "markdown",
      "metadata": {
        "id": "Hz4LVRuc7qmG"
      },
      "source": [
        "The directory where we will store our smaller dataset"
      ]
    },
    {
      "cell_type": "code",
      "metadata": {
        "id": "17Yj8xwu7lCV"
      },
      "source": [
        "base_dir = '/content/drive/My Drive/small'"
      ],
      "execution_count": 11,
      "outputs": []
    },
    {
      "cell_type": "markdown",
      "metadata": {
        "id": "iq1WUkkY8DQe"
      },
      "source": [
        " Directories for our smaller training and validation splits "
      ]
    },
    {
      "cell_type": "code",
      "metadata": {
        "id": "rYB1SFmR8FJH"
      },
      "source": [
        "train_dir = os.path.join(base_dir, 'train')\n",
        "validation_dir = os.path.join(base_dir, 'validation')\n",
        "test_dir = os.path.join(base_dir, 'test')"
      ],
      "execution_count": 12,
      "outputs": []
    },
    {
      "cell_type": "markdown",
      "metadata": {
        "id": "O-XWsXvg8Xge"
      },
      "source": [
        "Build the train imagedatagenerator"
      ]
    },
    {
      "cell_type": "code",
      "metadata": {
        "id": "P1d4yp0w8Y4Q"
      },
      "source": [
        "train_datagen = ImageDataGenerator(\n",
        "      rescale=1./255,\n",
        "      rotation_range=40,\n",
        "      width_shift_range=0.2,\n",
        "      height_shift_range=0.2,\n",
        "      shear_range=0.1,\n",
        "      zoom_range=0.1,\n",
        "      horizontal_flip=True,\n",
        "      fill_mode='nearest')"
      ],
      "execution_count": 13,
      "outputs": []
    },
    {
      "cell_type": "markdown",
      "metadata": {
        "id": "tmD9EnBK8mi-"
      },
      "source": [
        "Note that the validation data should not be augmented!"
      ]
    },
    {
      "cell_type": "code",
      "metadata": {
        "id": "ATpMzR0p8n-w"
      },
      "source": [
        "test_datagen = ImageDataGenerator(rescale=1./255)"
      ],
      "execution_count": 14,
      "outputs": []
    },
    {
      "cell_type": "code",
      "metadata": {
        "colab": {
          "base_uri": "https://localhost:8080/"
        },
        "id": "WIrOdni68s2H",
        "outputId": "bd42d35c-a9b3-479c-e6f1-fc2b385cbe72"
      },
      "source": [
        "train_generator = train_datagen.flow_from_directory(\n",
        "        # This is the target directory\n",
        "        train_dir,\n",
        "        # All images will be resized to 150x150\n",
        "        target_size=(150, 150),\n",
        "        batch_size=20,\n",
        "        # Since we use binary_crossentropy loss, we need binary labels\n",
        "        class_mode='binary')"
      ],
      "execution_count": 15,
      "outputs": [
        {
          "output_type": "stream",
          "text": [
            "Found 2000 images belonging to 2 classes.\n"
          ],
          "name": "stdout"
        }
      ]
    },
    {
      "cell_type": "code",
      "metadata": {
        "colab": {
          "base_uri": "https://localhost:8080/"
        },
        "id": "VQGAct1s8wFB",
        "outputId": "86efa933-43d2-4dae-bc94-d9798b08edca"
      },
      "source": [
        "validation_generator = test_datagen.flow_from_directory(\n",
        "        validation_dir,\n",
        "        target_size=(150, 150),\n",
        "        batch_size=20,\n",
        "        class_mode='binary')"
      ],
      "execution_count": 16,
      "outputs": [
        {
          "output_type": "stream",
          "text": [
            "Found 1000 images belonging to 2 classes.\n"
          ],
          "name": "stdout"
        }
      ]
    },
    {
      "cell_type": "code",
      "metadata": {
        "colab": {
          "base_uri": "https://localhost:8080/"
        },
        "id": "Muvd8ReV80qn",
        "outputId": "cfee2994-8db6-47f8-d121-d61b6783da06"
      },
      "source": [
        "test_generator = test_datagen.flow_from_directory(\n",
        "         test_dir,\n",
        "         target_size=(150, 150),\n",
        "         batch_size=20,\n",
        "         class_mode='binary')"
      ],
      "execution_count": 17,
      "outputs": [
        {
          "output_type": "stream",
          "text": [
            "Found 1000 images belonging to 2 classes.\n"
          ],
          "name": "stdout"
        }
      ]
    },
    {
      "cell_type": "markdown",
      "metadata": {
        "id": "eivnb5n49AzH"
      },
      "source": [
        "# 3. Import VGG16 model"
      ]
    },
    {
      "cell_type": "code",
      "metadata": {
        "colab": {
          "base_uri": "https://localhost:8080/"
        },
        "id": "WeRc6siY9E4H",
        "outputId": "429510ac-2818-468b-b94e-7c71444b1a01"
      },
      "source": [
        "vgg16 = keras.applications.vgg16\n",
        "conv_model = vgg16.VGG16(weights='imagenet', include_top=False, input_shape=(150,150,3))\n",
        "conv_model.summary()"
      ],
      "execution_count": 18,
      "outputs": [
        {
          "output_type": "stream",
          "text": [
            "Downloading data from https://storage.googleapis.com/tensorflow/keras-applications/vgg16/vgg16_weights_tf_dim_ordering_tf_kernels_notop.h5\n",
            "58892288/58889256 [==============================] - 0s 0us/step\n",
            "Model: \"vgg16\"\n",
            "_________________________________________________________________\n",
            "Layer (type)                 Output Shape              Param #   \n",
            "=================================================================\n",
            "input_1 (InputLayer)         [(None, 150, 150, 3)]     0         \n",
            "_________________________________________________________________\n",
            "block1_conv1 (Conv2D)        (None, 150, 150, 64)      1792      \n",
            "_________________________________________________________________\n",
            "block1_conv2 (Conv2D)        (None, 150, 150, 64)      36928     \n",
            "_________________________________________________________________\n",
            "block1_pool (MaxPooling2D)   (None, 75, 75, 64)        0         \n",
            "_________________________________________________________________\n",
            "block2_conv1 (Conv2D)        (None, 75, 75, 128)       73856     \n",
            "_________________________________________________________________\n",
            "block2_conv2 (Conv2D)        (None, 75, 75, 128)       147584    \n",
            "_________________________________________________________________\n",
            "block2_pool (MaxPooling2D)   (None, 37, 37, 128)       0         \n",
            "_________________________________________________________________\n",
            "block3_conv1 (Conv2D)        (None, 37, 37, 256)       295168    \n",
            "_________________________________________________________________\n",
            "block3_conv2 (Conv2D)        (None, 37, 37, 256)       590080    \n",
            "_________________________________________________________________\n",
            "block3_conv3 (Conv2D)        (None, 37, 37, 256)       590080    \n",
            "_________________________________________________________________\n",
            "block3_pool (MaxPooling2D)   (None, 18, 18, 256)       0         \n",
            "_________________________________________________________________\n",
            "block4_conv1 (Conv2D)        (None, 18, 18, 512)       1180160   \n",
            "_________________________________________________________________\n",
            "block4_conv2 (Conv2D)        (None, 18, 18, 512)       2359808   \n",
            "_________________________________________________________________\n",
            "block4_conv3 (Conv2D)        (None, 18, 18, 512)       2359808   \n",
            "_________________________________________________________________\n",
            "block4_pool (MaxPooling2D)   (None, 9, 9, 512)         0         \n",
            "_________________________________________________________________\n",
            "block5_conv1 (Conv2D)        (None, 9, 9, 512)         2359808   \n",
            "_________________________________________________________________\n",
            "block5_conv2 (Conv2D)        (None, 9, 9, 512)         2359808   \n",
            "_________________________________________________________________\n",
            "block5_conv3 (Conv2D)        (None, 9, 9, 512)         2359808   \n",
            "_________________________________________________________________\n",
            "block5_pool (MaxPooling2D)   (None, 4, 4, 512)         0         \n",
            "=================================================================\n",
            "Total params: 14,714,688\n",
            "Trainable params: 14,714,688\n",
            "Non-trainable params: 0\n",
            "_________________________________________________________________\n"
          ],
          "name": "stdout"
        }
      ]
    },
    {
      "cell_type": "markdown",
      "metadata": {
        "id": "9sqAZWWSB_qN"
      },
      "source": [
        "We lock all the layers of the convolutional part:"
      ]
    },
    {
      "cell_type": "code",
      "metadata": {
        "id": "PZjiVAKRB-gm"
      },
      "source": [
        "for layer in conv_model.layers:\n",
        "    layer.trainable = False"
      ],
      "execution_count": 19,
      "outputs": []
    },
    {
      "cell_type": "markdown",
      "metadata": {
        "id": "Zoa7sETI9WFW"
      },
      "source": [
        "Reduce the number of filters in the last CONV block."
      ]
    },
    {
      "cell_type": "code",
      "metadata": {
        "colab": {
          "base_uri": "https://localhost:8080/"
        },
        "id": "SySoEvKb9gTI",
        "outputId": "adfcb716-1e20-4989-ce76-1ad5192f9eb9"
      },
      "source": [
        "#x=tf.keras.layers.Conv2D(256,3,padding='same',activation='relu',)(conv_model.layers[6].output)\n",
        "x=tf.keras.layers.MaxPooling2D(2)(conv_model.layers[8].output)\n",
        "x=tf.keras.layers.Conv2D(256,3,padding='same',activation='relu',)(x)\n",
        "x=tf.keras.layers.MaxPooling2D(2)(x)\n",
        "x=tf.keras.layers.Conv2D(256,3,padding='same',activation='relu',)(x)\n",
        "x=tf.keras.layers.MaxPooling2D(2)(x)\n",
        "x = tf.keras.layers.Flatten()(x)\n",
        "# one dropout layer\n",
        "x = keras.layers.Dropout(0.2)(x)\n",
        "# one hidden layer\n",
        "x = keras.layers.Dense(256, activation='relu')(x)\n",
        "# final softmax layer with two categories (dog and cat)\n",
        "predictions = keras.layers.Dense(1, activation='sigmoid')(x)\n",
        "\n",
        "# creating the full model:\n",
        "full_model = keras.models.Model(inputs=conv_model.input, outputs=predictions)\n",
        "full_model.summary()"
      ],
      "execution_count": 33,
      "outputs": [
        {
          "output_type": "stream",
          "text": [
            "Model: \"functional_7\"\n",
            "_________________________________________________________________\n",
            "Layer (type)                 Output Shape              Param #   \n",
            "=================================================================\n",
            "input_1 (InputLayer)         [(None, 150, 150, 3)]     0         \n",
            "_________________________________________________________________\n",
            "block1_conv1 (Conv2D)        (None, 150, 150, 64)      1792      \n",
            "_________________________________________________________________\n",
            "block1_conv2 (Conv2D)        (None, 150, 150, 64)      36928     \n",
            "_________________________________________________________________\n",
            "block1_pool (MaxPooling2D)   (None, 75, 75, 64)        0         \n",
            "_________________________________________________________________\n",
            "block2_conv1 (Conv2D)        (None, 75, 75, 128)       73856     \n",
            "_________________________________________________________________\n",
            "block2_conv2 (Conv2D)        (None, 75, 75, 128)       147584    \n",
            "_________________________________________________________________\n",
            "block2_pool (MaxPooling2D)   (None, 37, 37, 128)       0         \n",
            "_________________________________________________________________\n",
            "block3_conv1 (Conv2D)        (None, 37, 37, 256)       295168    \n",
            "_________________________________________________________________\n",
            "block3_conv2 (Conv2D)        (None, 37, 37, 256)       590080    \n",
            "_________________________________________________________________\n",
            "max_pooling2d_8 (MaxPooling2 (None, 18, 18, 256)       0         \n",
            "_________________________________________________________________\n",
            "conv2d_7 (Conv2D)            (None, 18, 18, 256)       590080    \n",
            "_________________________________________________________________\n",
            "max_pooling2d_9 (MaxPooling2 (None, 9, 9, 256)         0         \n",
            "_________________________________________________________________\n",
            "conv2d_8 (Conv2D)            (None, 9, 9, 256)         590080    \n",
            "_________________________________________________________________\n",
            "max_pooling2d_10 (MaxPooling (None, 4, 4, 256)         0         \n",
            "_________________________________________________________________\n",
            "flatten_3 (Flatten)          (None, 4096)              0         \n",
            "_________________________________________________________________\n",
            "dropout_3 (Dropout)          (None, 4096)              0         \n",
            "_________________________________________________________________\n",
            "dense_6 (Dense)              (None, 256)               1048832   \n",
            "_________________________________________________________________\n",
            "dense_7 (Dense)              (None, 1)                 257       \n",
            "=================================================================\n",
            "Total params: 3,374,657\n",
            "Trainable params: 2,229,249\n",
            "Non-trainable params: 1,145,408\n",
            "_________________________________________________________________\n"
          ],
          "name": "stdout"
        }
      ]
    },
    {
      "cell_type": "markdown",
      "metadata": {
        "id": "6C1wDoRbCeBG"
      },
      "source": [
        "Now compile and train the model"
      ]
    },
    {
      "cell_type": "code",
      "metadata": {
        "colab": {
          "base_uri": "https://localhost:8080/"
        },
        "id": "z7IacWnYCeu_",
        "outputId": "432e2349-2cfc-4883-fe8e-e4bf74c631b2"
      },
      "source": [
        "full_model.compile(loss='binary_crossentropy',\n",
        "              optimizer=keras.optimizers.RMSprop(lr=1e-4),\n",
        "              #optimizer=keras.optimizers.Adamax(lr=0.001),\n",
        "              metrics=['acc'])\n",
        "\t\t\t  \n",
        "history = full_model.fit(\n",
        "      train_generator,\n",
        "      steps_per_epoch=100,\n",
        "      epochs=100,\n",
        "      validation_data=validation_generator,\n",
        "      validation_steps=50)"
      ],
      "execution_count": null,
      "outputs": [
        {
          "output_type": "stream",
          "text": [
            "Epoch 1/100\n",
            "100/100 [==============================] - 22s 222ms/step - loss: 0.8088 - acc: 0.7305 - val_loss: 1.6065 - val_acc: 0.5400\n",
            "Epoch 2/100\n",
            "100/100 [==============================] - 22s 221ms/step - loss: 0.5661 - acc: 0.7600 - val_loss: 0.3587 - val_acc: 0.8500\n",
            "Epoch 3/100\n",
            "100/100 [==============================] - 22s 220ms/step - loss: 0.5246 - acc: 0.7670 - val_loss: 0.2926 - val_acc: 0.8670\n",
            "Epoch 4/100\n",
            "100/100 [==============================] - 22s 219ms/step - loss: 0.5058 - acc: 0.7740 - val_loss: 0.4174 - val_acc: 0.8040\n",
            "Epoch 5/100\n",
            "100/100 [==============================] - 22s 217ms/step - loss: 0.4708 - acc: 0.7745 - val_loss: 0.3301 - val_acc: 0.8600\n",
            "Epoch 6/100\n",
            "100/100 [==============================] - 22s 218ms/step - loss: 0.4813 - acc: 0.7865 - val_loss: 0.7477 - val_acc: 0.7670\n",
            "Epoch 7/100\n",
            "100/100 [==============================] - 22s 217ms/step - loss: 0.4751 - acc: 0.7885 - val_loss: 0.3399 - val_acc: 0.8390\n",
            "Epoch 8/100\n",
            "100/100 [==============================] - 21s 212ms/step - loss: 0.4313 - acc: 0.8180 - val_loss: 0.3384 - val_acc: 0.8510\n",
            "Epoch 9/100\n",
            "100/100 [==============================] - 21s 210ms/step - loss: 0.4453 - acc: 0.7935 - val_loss: 0.3763 - val_acc: 0.8340\n",
            "Epoch 10/100\n",
            "100/100 [==============================] - 21s 212ms/step - loss: 0.4233 - acc: 0.8185 - val_loss: 0.3787 - val_acc: 0.8080\n",
            "Epoch 11/100\n",
            "100/100 [==============================] - 22s 216ms/step - loss: 0.4319 - acc: 0.8140 - val_loss: 0.4007 - val_acc: 0.8400\n",
            "Epoch 12/100\n",
            "100/100 [==============================] - 21s 214ms/step - loss: 0.4062 - acc: 0.8165 - val_loss: 0.2891 - val_acc: 0.8810\n",
            "Epoch 13/100\n",
            "100/100 [==============================] - 22s 219ms/step - loss: 0.3898 - acc: 0.8270 - val_loss: 0.2659 - val_acc: 0.8910\n",
            "Epoch 14/100\n",
            "100/100 [==============================] - 21s 215ms/step - loss: 0.4236 - acc: 0.8195 - val_loss: 0.3933 - val_acc: 0.8430\n",
            "Epoch 15/100\n",
            "100/100 [==============================] - 21s 213ms/step - loss: 0.3940 - acc: 0.8375 - val_loss: 0.3585 - val_acc: 0.8440\n",
            "Epoch 16/100\n",
            "100/100 [==============================] - 22s 220ms/step - loss: 0.4049 - acc: 0.8250 - val_loss: 0.3094 - val_acc: 0.8580\n",
            "Epoch 17/100\n",
            "100/100 [==============================] - 23s 226ms/step - loss: 0.3911 - acc: 0.8325 - val_loss: 0.3388 - val_acc: 0.8280\n",
            "Epoch 18/100\n",
            "100/100 [==============================] - 23s 226ms/step - loss: 0.3813 - acc: 0.8475 - val_loss: 0.3206 - val_acc: 0.8610\n",
            "Epoch 19/100\n",
            "100/100 [==============================] - 22s 220ms/step - loss: 0.3726 - acc: 0.8275 - val_loss: 0.3109 - val_acc: 0.8810\n",
            "Epoch 20/100\n",
            "100/100 [==============================] - 22s 221ms/step - loss: 0.3902 - acc: 0.8350 - val_loss: 0.2702 - val_acc: 0.8840\n",
            "Epoch 21/100\n",
            "100/100 [==============================] - 22s 222ms/step - loss: 0.3698 - acc: 0.8485 - val_loss: 0.3301 - val_acc: 0.8370\n",
            "Epoch 22/100\n",
            "100/100 [==============================] - 22s 220ms/step - loss: 0.3575 - acc: 0.8425 - val_loss: 0.3499 - val_acc: 0.8390\n",
            "Epoch 23/100\n",
            "100/100 [==============================] - 22s 220ms/step - loss: 0.3563 - acc: 0.8550 - val_loss: 0.2437 - val_acc: 0.9020\n",
            "Epoch 24/100\n",
            "100/100 [==============================] - 22s 221ms/step - loss: 0.3398 - acc: 0.8625 - val_loss: 0.2504 - val_acc: 0.9090\n",
            "Epoch 25/100\n",
            " 79/100 [======================>.......] - ETA: 3s - loss: 0.3887 - acc: 0.8519"
          ],
          "name": "stdout"
        }
      ]
    },
    {
      "cell_type": "code",
      "metadata": {
        "id": "0c__H05nHCr-"
      },
      "source": [
        "full_model.save('cats_and_dogs_full_small2.h5')"
      ],
      "execution_count": 23,
      "outputs": []
    },
    {
      "cell_type": "code",
      "metadata": {
        "colab": {
          "base_uri": "https://localhost:8080/",
          "height": 17
        },
        "id": "xphUOheTJQsA",
        "outputId": "73ac5035-aaef-49e8-83d8-88dffae5b5a9"
      },
      "source": [
        "from google.colab import files\n",
        "files.download(\"cats_and_dogs_full_small2.h5\")"
      ],
      "execution_count": 24,
      "outputs": [
        {
          "output_type": "display_data",
          "data": {
            "application/javascript": [
              "\n",
              "    async function download(id, filename, size) {\n",
              "      if (!google.colab.kernel.accessAllowed) {\n",
              "        return;\n",
              "      }\n",
              "      const div = document.createElement('div');\n",
              "      const label = document.createElement('label');\n",
              "      label.textContent = `Downloading \"${filename}\": `;\n",
              "      div.appendChild(label);\n",
              "      const progress = document.createElement('progress');\n",
              "      progress.max = size;\n",
              "      div.appendChild(progress);\n",
              "      document.body.appendChild(div);\n",
              "\n",
              "      const buffers = [];\n",
              "      let downloaded = 0;\n",
              "\n",
              "      const channel = await google.colab.kernel.comms.open(id);\n",
              "      // Send a message to notify the kernel that we're ready.\n",
              "      channel.send({})\n",
              "\n",
              "      for await (const message of channel.messages) {\n",
              "        // Send a message to notify the kernel that we're ready.\n",
              "        channel.send({})\n",
              "        if (message.buffers) {\n",
              "          for (const buffer of message.buffers) {\n",
              "            buffers.push(buffer);\n",
              "            downloaded += buffer.byteLength;\n",
              "            progress.value = downloaded;\n",
              "          }\n",
              "        }\n",
              "      }\n",
              "      const blob = new Blob(buffers, {type: 'application/binary'});\n",
              "      const a = document.createElement('a');\n",
              "      a.href = window.URL.createObjectURL(blob);\n",
              "      a.download = filename;\n",
              "      div.appendChild(a);\n",
              "      a.click();\n",
              "      div.remove();\n",
              "    }\n",
              "  "
            ],
            "text/plain": [
              "<IPython.core.display.Javascript object>"
            ]
          },
          "metadata": {
            "tags": []
          }
        },
        {
          "output_type": "display_data",
          "data": {
            "application/javascript": [
              "download(\"download_ff45e513-14c5-4771-ba8c-43749fd1ace3\", \"cats_and_dogs_full_small.h5\", 24854152)"
            ],
            "text/plain": [
              "<IPython.core.display.Javascript object>"
            ]
          },
          "metadata": {
            "tags": []
          }
        }
      ]
    },
    {
      "cell_type": "code",
      "metadata": {
        "colab": {
          "base_uri": "https://localhost:8080/"
        },
        "id": "-cBI7VSwIuHU",
        "outputId": "15d5a97e-bd60-473f-a330-b2a4cec165da"
      },
      "source": [
        "print(\"Evaluate the full model on small test data\")\n",
        "results = full_model.evaluate(test_generator)\n",
        "print(\"test loss, test acc:\", results)"
      ],
      "execution_count": 35,
      "outputs": [
        {
          "output_type": "stream",
          "text": [
            "Evaluate the full model on small test data\n",
            "50/50 [==============================] - 4s 79ms/step - loss: 0.4696 - acc: 0.8590\n",
            "test loss, test acc: [0.4696223735809326, 0.859000027179718]\n"
          ],
          "name": "stdout"
        }
      ]
    },
    {
      "cell_type": "code",
      "metadata": {
        "colab": {
          "base_uri": "https://localhost:8080/",
          "height": 545
        },
        "id": "SsJo_omrIzj9",
        "outputId": "0368b176-6315-4cc6-e9b4-cb35311486c7"
      },
      "source": [
        "import matplotlib.pyplot as plt\n",
        "\n",
        "acc = history.history['acc']\n",
        "val_acc = history.history['val_acc']\n",
        "loss = history.history['loss']\n",
        "val_loss = history.history['val_loss']\n",
        "epochs = range(1, len(acc) + 1)\n",
        "\n",
        "plt.plot(epochs, acc, 'bo', label='Training acc')\n",
        "plt.plot(epochs, val_acc, 'b', label='Validation acc')\n",
        "plt.title('Training and validation accuracy')\n",
        "plt.legend()\n",
        "plt.figure()\n",
        "plt.plot(epochs, loss, 'bo', label='Training loss')\n",
        "plt.plot(epochs, val_loss, 'b', label='Validation loss')\n",
        "plt.title('Training and validation loss')\n",
        "plt.legend()\n",
        "plt.show()"
      ],
      "execution_count": 36,
      "outputs": [
        {
          "output_type": "display_data",
          "data": {
            "image/png": "[encoded data removed]",
            "text/plain": [
              "<Figure size 432x288 with 1 Axes>"
            ]
          },
          "metadata": {
            "tags": [],
            "needs_background": "light"
          }
        },
        {
          "output_type": "display_data",
          "data": {
            "image/png": "[encoded data removed]",
            "text/plain": [
              "<Figure size 432x288 with 1 Axes>"
            ]
          },
          "metadata": {
            "tags": [],
            "needs_background": "light"
          }
        }
      ]
    }
  ]
}