{
  "nbformat": 4,
  "nbformat_minor": 0,
  "metadata": {
    "colab": {
      "name": "Copy of transfervgg16-small-2_58m.ipynb",
      "provenance": [],
      "authorship_tag": "ABX9TyMSKhVj4HXFcvj0XUJfa5UF",
      "include_colab_link": true
    },
    "kernelspec": {
      "name": "python3",
      "display_name": "Python 3"
    },
    "accelerator": "GPU"
  },
  "cells": [
    {
      "cell_type": "markdown",
      "metadata": {
        "id": "view-in-github",
        "colab_type": "text"
      },
      "source": [
        "<a href=\"https://colab.research.google.com/github/fwangliberty/AIoTDesign-Frontend/blob/master/Copy_of_transfervgg16_small_2_58m.ipynb\" target=\"_parent\"><img src=\"https://colab.research.google.com/assets/colab-badge.svg\" alt=\"Open In Colab\"/></a>"
      ]
    },
    {
      "cell_type": "markdown",
      "metadata": {
        "id": "Cv5NXr4G5ADU"
      },
      "source": [
        "We continue our efforts to train a new smaller VGG model from the original VGG16 model. The number of parameters is 2.85M. The accuracy is about 0.924, and max accuracy is 0.941"
      ]
    },
    {
      "cell_type": "markdown",
      "metadata": {
        "id": "PfnrXdhg5rs5"
      },
      "source": [
        "# 1. Connecting to our Google Drive"
      ]
    },
    {
      "cell_type": "code",
      "metadata": {
        "colab": {
          "base_uri": "https://localhost:8080/"
        },
        "id": "gIbfgWHz435d",
        "outputId": "105d3a5d-575e-41fa-81bf-1adf0711b455"
      },
      "source": [
        "from google.colab import drive\n",
        "drive.mount('/content/drive')"
      ],
      "execution_count": 1,
      "outputs": [
        {
          "output_type": "stream",
          "text": [
            "Mounted at /content/drive\n"
          ],
          "name": "stdout"
        }
      ]
    },
    {
      "cell_type": "code",
      "metadata": {
        "colab": {
          "base_uri": "https://localhost:8080/"
        },
        "id": "Zg-Z0Inv6xf3",
        "outputId": "651d8cf7-02ee-466d-91b0-b75911f2cd3d"
      },
      "source": [
        "!ls \"/content/drive/My Drive/small/\""
      ],
      "execution_count": 2,
      "outputs": [
        {
          "output_type": "stream",
          "text": [
            "test  train  validation\n"
          ],
          "name": "stdout"
        }
      ]
    },
    {
      "cell_type": "markdown",
      "metadata": {
        "id": "SXlaVFPz7VIW"
      },
      "source": [
        "#2. Prepare dataset"
      ]
    },
    {
      "cell_type": "code",
      "metadata": {
        "id": "lcr1DbDi7i0l"
      },
      "source": [
        "import keras\n",
        "import os, shutil\n",
        "from keras import regularizers\n",
        "from keras.preprocessing.image import ImageDataGenerator\n",
        "from tensorflow.keras.models import load_model\n",
        "import tensorflow as tf\n",
        "import tensorflow.keras as keras\n",
        "from tensorflow.keras.models import Sequential\n",
        "from tensorflow.keras.layers import InputLayer\n",
        "import tensorflow.keras.backend as K\n",
        "from keras.applications import VGG16"
      ],
      "execution_count": 3,
      "outputs": []
    },
    {
      "cell_type": "markdown",
      "metadata": {
        "id": "Hz4LVRuc7qmG"
      },
      "source": [
        "The directory where we will store our smaller dataset"
      ]
    },
    {
      "cell_type": "code",
      "metadata": {
        "id": "17Yj8xwu7lCV"
      },
      "source": [
        "base_dir = '/content/drive/My Drive/small'"
      ],
      "execution_count": 4,
      "outputs": []
    },
    {
      "cell_type": "markdown",
      "metadata": {
        "id": "iq1WUkkY8DQe"
      },
      "source": [
        " Directories for our smaller training and validation splits "
      ]
    },
    {
      "cell_type": "code",
      "metadata": {
        "id": "rYB1SFmR8FJH"
      },
      "source": [
        "train_dir = os.path.join(base_dir, 'train')\n",
        "validation_dir = os.path.join(base_dir, 'validation')\n",
        "test_dir = os.path.join(base_dir, 'test')"
      ],
      "execution_count": 5,
      "outputs": []
    },
    {
      "cell_type": "markdown",
      "metadata": {
        "id": "O-XWsXvg8Xge"
      },
      "source": [
        "Build the train imagedatagenerator"
      ]
    },
    {
      "cell_type": "code",
      "metadata": {
        "id": "P1d4yp0w8Y4Q"
      },
      "source": [
        "train_datagen = ImageDataGenerator(\n",
        "      rescale=1./255,\n",
        "      rotation_range=40,\n",
        "      width_shift_range=0.2,\n",
        "      height_shift_range=0.2,\n",
        "      shear_range=0.1,\n",
        "      zoom_range=0.1,\n",
        "      horizontal_flip=True,\n",
        "      fill_mode='nearest')"
      ],
      "execution_count": 6,
      "outputs": []
    },
    {
      "cell_type": "markdown",
      "metadata": {
        "id": "tmD9EnBK8mi-"
      },
      "source": [
        "Note that the validation data should not be augmented!"
      ]
    },
    {
      "cell_type": "code",
      "metadata": {
        "id": "ATpMzR0p8n-w"
      },
      "source": [
        "test_datagen = ImageDataGenerator(rescale=1./255)"
      ],
      "execution_count": 7,
      "outputs": []
    },
    {
      "cell_type": "code",
      "metadata": {
        "colab": {
          "base_uri": "https://localhost:8080/"
        },
        "id": "WIrOdni68s2H",
        "outputId": "82a3cd35-3a46-490e-b0ea-0611454aac96"
      },
      "source": [
        "train_generator = train_datagen.flow_from_directory(\n",
        "        # This is the target directory\n",
        "        train_dir,\n",
        "        # All images will be resized to 150x150\n",
        "        target_size=(150, 150),\n",
        "        batch_size=20,\n",
        "        # Since we use binary_crossentropy loss, we need binary labels\n",
        "        class_mode='binary')"
      ],
      "execution_count": 8,
      "outputs": [
        {
          "output_type": "stream",
          "text": [
            "Found 2000 images belonging to 2 classes.\n"
          ],
          "name": "stdout"
        }
      ]
    },
    {
      "cell_type": "code",
      "metadata": {
        "colab": {
          "base_uri": "https://localhost:8080/"
        },
        "id": "VQGAct1s8wFB",
        "outputId": "986e2a98-894b-4d2c-f9a0-faf1043ede84"
      },
      "source": [
        "validation_generator = test_datagen.flow_from_directory(\n",
        "        validation_dir,\n",
        "        target_size=(150, 150),\n",
        "        batch_size=20,\n",
        "        class_mode='binary')"
      ],
      "execution_count": 9,
      "outputs": [
        {
          "output_type": "stream",
          "text": [
            "Found 1000 images belonging to 2 classes.\n"
          ],
          "name": "stdout"
        }
      ]
    },
    {
      "cell_type": "code",
      "metadata": {
        "colab": {
          "base_uri": "https://localhost:8080/"
        },
        "id": "Muvd8ReV80qn",
        "outputId": "dc938b2e-0e7f-48b4-b44c-f20fd1450025"
      },
      "source": [
        "test_generator = test_datagen.flow_from_directory(\n",
        "         test_dir,\n",
        "         target_size=(150, 150),\n",
        "         batch_size=20,\n",
        "         class_mode='binary')"
      ],
      "execution_count": 10,
      "outputs": [
        {
          "output_type": "stream",
          "text": [
            "Found 1000 images belonging to 2 classes.\n"
          ],
          "name": "stdout"
        }
      ]
    },
    {
      "cell_type": "markdown",
      "metadata": {
        "id": "eivnb5n49AzH"
      },
      "source": [
        "# 3. Import VGG16 model"
      ]
    },
    {
      "cell_type": "code",
      "metadata": {
        "colab": {
          "base_uri": "https://localhost:8080/"
        },
        "id": "WeRc6siY9E4H",
        "outputId": "e8f8753a-994e-4f8e-cd71-64cbf8d16581"
      },
      "source": [
        "vgg16 = keras.applications.vgg16\n",
        "conv_model = vgg16.VGG16(weights='imagenet', include_top=False, input_shape=(150,150,3))\n",
        "conv_model.summary()"
      ],
      "execution_count": 11,
      "outputs": [
        {
          "output_type": "stream",
          "text": [
            "Downloading data from https://storage.googleapis.com/tensorflow/keras-applications/vgg16/vgg16_weights_tf_dim_ordering_tf_kernels_notop.h5\n",
            "58892288/58889256 [==============================] - 0s 0us/step\n",
            "Model: \"vgg16\"\n",
            "_________________________________________________________________\n",
            "Layer (type)                 Output Shape              Param #   \n",
            "=================================================================\n",
            "input_1 (InputLayer)         [(None, 150, 150, 3)]     0         \n",
            "_________________________________________________________________\n",
            "block1_conv1 (Conv2D)        (None, 150, 150, 64)      1792      \n",
            "_________________________________________________________________\n",
            "block1_conv2 (Conv2D)        (None, 150, 150, 64)      36928     \n",
            "_________________________________________________________________\n",
            "block1_pool (MaxPooling2D)   (None, 75, 75, 64)        0         \n",
            "_________________________________________________________________\n",
            "block2_conv1 (Conv2D)        (None, 75, 75, 128)       73856     \n",
            "_________________________________________________________________\n",
            "block2_conv2 (Conv2D)        (None, 75, 75, 128)       147584    \n",
            "_________________________________________________________________\n",
            "block2_pool (MaxPooling2D)   (None, 37, 37, 128)       0         \n",
            "_________________________________________________________________\n",
            "block3_conv1 (Conv2D)        (None, 37, 37, 256)       295168    \n",
            "_________________________________________________________________\n",
            "block3_conv2 (Conv2D)        (None, 37, 37, 256)       590080    \n",
            "_________________________________________________________________\n",
            "block3_conv3 (Conv2D)        (None, 37, 37, 256)       590080    \n",
            "_________________________________________________________________\n",
            "block3_pool (MaxPooling2D)   (None, 18, 18, 256)       0         \n",
            "_________________________________________________________________\n",
            "block4_conv1 (Conv2D)        (None, 18, 18, 512)       1180160   \n",
            "_________________________________________________________________\n",
            "block4_conv2 (Conv2D)        (None, 18, 18, 512)       2359808   \n",
            "_________________________________________________________________\n",
            "block4_conv3 (Conv2D)        (None, 18, 18, 512)       2359808   \n",
            "_________________________________________________________________\n",
            "block4_pool (MaxPooling2D)   (None, 9, 9, 512)         0         \n",
            "_________________________________________________________________\n",
            "block5_conv1 (Conv2D)        (None, 9, 9, 512)         2359808   \n",
            "_________________________________________________________________\n",
            "block5_conv2 (Conv2D)        (None, 9, 9, 512)         2359808   \n",
            "_________________________________________________________________\n",
            "block5_conv3 (Conv2D)        (None, 9, 9, 512)         2359808   \n",
            "_________________________________________________________________\n",
            "block5_pool (MaxPooling2D)   (None, 4, 4, 512)         0         \n",
            "=================================================================\n",
            "Total params: 14,714,688\n",
            "Trainable params: 14,714,688\n",
            "Non-trainable params: 0\n",
            "_________________________________________________________________\n"
          ],
          "name": "stdout"
        }
      ]
    },
    {
      "cell_type": "markdown",
      "metadata": {
        "id": "9sqAZWWSB_qN"
      },
      "source": [
        "We lock all the layers of the convolutional part:"
      ]
    },
    {
      "cell_type": "code",
      "metadata": {
        "id": "PZjiVAKRB-gm"
      },
      "source": [
        "for layer in conv_model.layers:\n",
        "    layer.trainable = False"
      ],
      "execution_count": 12,
      "outputs": []
    },
    {
      "cell_type": "markdown",
      "metadata": {
        "id": "Zoa7sETI9WFW"
      },
      "source": [
        "Reduce the number of filters in the last CONV block."
      ]
    },
    {
      "cell_type": "code",
      "metadata": {
        "colab": {
          "base_uri": "https://localhost:8080/"
        },
        "id": "SySoEvKb9gTI",
        "outputId": "f433dd0e-b895-4d20-c930-38e6730a17b3"
      },
      "source": [
        "#x=tf.keras.layers.Conv2D(256,3,padding='same',activation='relu',)(conv_model.layers[6].output)\n",
        "x=tf.keras.layers.MaxPooling2D(2)(conv_model.layers[8].output)\n",
        "x=tf.keras.layers.Conv2D(256,3,padding='same',activation='relu',)(x)\n",
        "x=tf.keras.layers.MaxPooling2D(2)(x)\n",
        "x=tf.keras.layers.Conv2D(256,3,padding='same',activation='relu',)(x)\n",
        "x=tf.keras.layers.MaxPooling2D(2)(x)\n",
        "x = tf.keras.layers.Flatten()(x)\n",
        "# one dropout layer\n",
        "x = keras.layers.Dropout(0.2)(x)\n",
        "# one hidden layer\n",
        "x = keras.layers.Dense(64, activation='relu')(x)\n",
        "# final softmax layer with two categories (dog and cat)\n",
        "predictions = keras.layers.Dense(1, activation='sigmoid')(x)\n",
        "\n",
        "# creating the full model:\n",
        "full_model = keras.models.Model(inputs=conv_model.input, outputs=predictions)\n",
        "full_model.summary()"
      ],
      "execution_count": 13,
      "outputs": [
        {
          "output_type": "stream",
          "text": [
            "Model: \"functional_1\"\n",
            "_________________________________________________________________\n",
            "Layer (type)                 Output Shape              Param #   \n",
            "=================================================================\n",
            "input_1 (InputLayer)         [(None, 150, 150, 3)]     0         \n",
            "_________________________________________________________________\n",
            "block1_conv1 (Conv2D)        (None, 150, 150, 64)      1792      \n",
            "_________________________________________________________________\n",
            "block1_conv2 (Conv2D)        (None, 150, 150, 64)      36928     \n",
            "_________________________________________________________________\n",
            "block1_pool (MaxPooling2D)   (None, 75, 75, 64)        0         \n",
            "_________________________________________________________________\n",
            "block2_conv1 (Conv2D)        (None, 75, 75, 128)       73856     \n",
            "_________________________________________________________________\n",
            "block2_conv2 (Conv2D)        (None, 75, 75, 128)       147584    \n",
            "_________________________________________________________________\n",
            "block2_pool (MaxPooling2D)   (None, 37, 37, 128)       0         \n",
            "_________________________________________________________________\n",
            "block3_conv1 (Conv2D)        (None, 37, 37, 256)       295168    \n",
            "_________________________________________________________________\n",
            "block3_conv2 (Conv2D)        (None, 37, 37, 256)       590080    \n",
            "_________________________________________________________________\n",
            "max_pooling2d (MaxPooling2D) (None, 18, 18, 256)       0         \n",
            "_________________________________________________________________\n",
            "conv2d (Conv2D)              (None, 18, 18, 256)       590080    \n",
            "_________________________________________________________________\n",
            "max_pooling2d_1 (MaxPooling2 (None, 9, 9, 256)         0         \n",
            "_________________________________________________________________\n",
            "conv2d_1 (Conv2D)            (None, 9, 9, 256)         590080    \n",
            "_________________________________________________________________\n",
            "max_pooling2d_2 (MaxPooling2 (None, 4, 4, 256)         0         \n",
            "_________________________________________________________________\n",
            "flatten (Flatten)            (None, 4096)              0         \n",
            "_________________________________________________________________\n",
            "dropout (Dropout)            (None, 4096)              0         \n",
            "_________________________________________________________________\n",
            "dense (Dense)                (None, 64)                262208    \n",
            "_________________________________________________________________\n",
            "dense_1 (Dense)              (None, 1)                 65        \n",
            "=================================================================\n",
            "Total params: 2,587,841\n",
            "Trainable params: 1,442,433\n",
            "Non-trainable params: 1,145,408\n",
            "_________________________________________________________________\n"
          ],
          "name": "stdout"
        }
      ]
    },
    {
      "cell_type": "markdown",
      "metadata": {
        "id": "6C1wDoRbCeBG"
      },
      "source": [
        "Now compile and train the model"
      ]
    },
    {
      "cell_type": "code",
      "metadata": {
        "colab": {
          "base_uri": "https://localhost:8080/"
        },
        "id": "z7IacWnYCeu_",
        "outputId": "f9205026-60a6-419f-ffec-036835588d97"
      },
      "source": [
        "full_model.compile(loss='binary_crossentropy',\n",
        "              optimizer=keras.optimizers.RMSprop(lr=1e-4),  # retrain rate = 1e-4\n",
        "              #optimizer=keras.optimizers.Adamax(lr=0.001),\n",
        "              metrics=['acc'])\n",
        "\t\t\t  \n",
        "history = full_model.fit(\n",
        "      train_generator,\n",
        "      steps_per_epoch=100,\n",
        "      epochs=100,\n",
        "      validation_data=validation_generator,\n",
        "      validation_steps=50)"
      ],
      "execution_count": 14,
      "outputs": [
        {
          "output_type": "stream",
          "text": [
            "Epoch 1/100\n",
            "100/100 [==============================] - 708s 7s/step - loss: 1.6574 - acc: 0.4980 - val_loss: 0.8418 - val_acc: 0.5000\n",
            "Epoch 2/100\n",
            "100/100 [==============================] - 20s 203ms/step - loss: 0.7366 - acc: 0.5585 - val_loss: 0.6570 - val_acc: 0.6440\n",
            "Epoch 3/100\n",
            "100/100 [==============================] - 20s 202ms/step - loss: 0.6929 - acc: 0.5850 - val_loss: 0.6292 - val_acc: 0.6720\n",
            "Epoch 4/100\n",
            "100/100 [==============================] - 20s 205ms/step - loss: 0.6589 - acc: 0.6260 - val_loss: 0.5758 - val_acc: 0.6700\n",
            "Epoch 5/100\n",
            "100/100 [==============================] - 20s 203ms/step - loss: 0.6169 - acc: 0.6600 - val_loss: 0.5671 - val_acc: 0.6650\n",
            "Epoch 6/100\n",
            "100/100 [==============================] - 21s 208ms/step - loss: 0.6088 - acc: 0.6705 - val_loss: 0.4729 - val_acc: 0.7950\n",
            "Epoch 7/100\n",
            "100/100 [==============================] - 20s 202ms/step - loss: 0.6059 - acc: 0.6745 - val_loss: 0.5235 - val_acc: 0.7340\n",
            "Epoch 8/100\n",
            "100/100 [==============================] - 20s 203ms/step - loss: 0.5793 - acc: 0.7090 - val_loss: 0.4852 - val_acc: 0.7530\n",
            "Epoch 9/100\n",
            "100/100 [==============================] - 20s 202ms/step - loss: 0.5462 - acc: 0.7380 - val_loss: 0.5074 - val_acc: 0.7320\n",
            "Epoch 10/100\n",
            "100/100 [==============================] - 20s 202ms/step - loss: 0.5351 - acc: 0.7325 - val_loss: 0.4001 - val_acc: 0.8200\n",
            "Epoch 11/100\n",
            "100/100 [==============================] - 20s 201ms/step - loss: 0.5314 - acc: 0.7430 - val_loss: 0.9948 - val_acc: 0.5800\n",
            "Epoch 12/100\n",
            "100/100 [==============================] - 20s 202ms/step - loss: 0.5235 - acc: 0.7470 - val_loss: 0.5229 - val_acc: 0.7170\n",
            "Epoch 13/100\n",
            "100/100 [==============================] - 20s 203ms/step - loss: 0.4994 - acc: 0.7695 - val_loss: 0.4076 - val_acc: 0.8030\n",
            "Epoch 14/100\n",
            "100/100 [==============================] - 20s 202ms/step - loss: 0.4906 - acc: 0.7835 - val_loss: 0.3517 - val_acc: 0.8450\n",
            "Epoch 15/100\n",
            "100/100 [==============================] - 20s 203ms/step - loss: 0.4734 - acc: 0.7735 - val_loss: 0.4139 - val_acc: 0.8050\n",
            "Epoch 16/100\n",
            "100/100 [==============================] - 20s 203ms/step - loss: 0.4679 - acc: 0.7835 - val_loss: 0.3821 - val_acc: 0.8190\n",
            "Epoch 17/100\n",
            "100/100 [==============================] - 20s 201ms/step - loss: 0.4377 - acc: 0.8085 - val_loss: 0.3700 - val_acc: 0.8300\n",
            "Epoch 18/100\n",
            "100/100 [==============================] - 20s 202ms/step - loss: 0.4529 - acc: 0.7920 - val_loss: 0.3350 - val_acc: 0.8590\n",
            "Epoch 19/100\n",
            "100/100 [==============================] - 20s 203ms/step - loss: 0.4252 - acc: 0.7990 - val_loss: 0.3295 - val_acc: 0.8600\n",
            "Epoch 20/100\n",
            "100/100 [==============================] - 20s 203ms/step - loss: 0.4269 - acc: 0.8115 - val_loss: 0.3022 - val_acc: 0.8610\n",
            "Epoch 21/100\n",
            "100/100 [==============================] - 21s 208ms/step - loss: 0.4260 - acc: 0.8215 - val_loss: 0.3082 - val_acc: 0.8540\n",
            "Epoch 22/100\n",
            "100/100 [==============================] - 20s 201ms/step - loss: 0.4087 - acc: 0.8160 - val_loss: 0.3408 - val_acc: 0.8420\n",
            "Epoch 23/100\n",
            "100/100 [==============================] - 20s 202ms/step - loss: 0.4112 - acc: 0.8170 - val_loss: 0.5341 - val_acc: 0.7650\n",
            "Epoch 24/100\n",
            "100/100 [==============================] - 20s 204ms/step - loss: 0.3903 - acc: 0.8300 - val_loss: 0.3552 - val_acc: 0.8490\n",
            "Epoch 25/100\n",
            "100/100 [==============================] - 20s 203ms/step - loss: 0.4088 - acc: 0.8265 - val_loss: 0.4003 - val_acc: 0.8190\n",
            "Epoch 26/100\n",
            "100/100 [==============================] - 20s 201ms/step - loss: 0.3912 - acc: 0.8280 - val_loss: 0.3632 - val_acc: 0.8460\n",
            "Epoch 27/100\n",
            "100/100 [==============================] - 20s 202ms/step - loss: 0.3886 - acc: 0.8280 - val_loss: 0.5043 - val_acc: 0.8130\n",
            "Epoch 28/100\n",
            "100/100 [==============================] - 20s 204ms/step - loss: 0.3823 - acc: 0.8310 - val_loss: 0.2754 - val_acc: 0.8820\n",
            "Epoch 29/100\n",
            "100/100 [==============================] - 20s 202ms/step - loss: 0.3625 - acc: 0.8430 - val_loss: 0.2841 - val_acc: 0.8840\n",
            "Epoch 30/100\n",
            "100/100 [==============================] - 20s 202ms/step - loss: 0.3754 - acc: 0.8340 - val_loss: 0.2703 - val_acc: 0.8870\n",
            "Epoch 31/100\n",
            "100/100 [==============================] - 20s 201ms/step - loss: 0.3546 - acc: 0.8445 - val_loss: 0.2989 - val_acc: 0.8690\n",
            "Epoch 32/100\n",
            "100/100 [==============================] - 20s 203ms/step - loss: 0.3692 - acc: 0.8410 - val_loss: 0.2639 - val_acc: 0.8900\n",
            "Epoch 33/100\n",
            "100/100 [==============================] - 20s 202ms/step - loss: 0.3569 - acc: 0.8565 - val_loss: 0.3182 - val_acc: 0.8590\n",
            "Epoch 34/100\n",
            "100/100 [==============================] - 20s 202ms/step - loss: 0.3488 - acc: 0.8505 - val_loss: 0.3625 - val_acc: 0.8690\n",
            "Epoch 35/100\n",
            "100/100 [==============================] - 20s 202ms/step - loss: 0.3541 - acc: 0.8435 - val_loss: 0.2728 - val_acc: 0.8820\n",
            "Epoch 36/100\n",
            "100/100 [==============================] - 21s 208ms/step - loss: 0.3410 - acc: 0.8640 - val_loss: 0.2663 - val_acc: 0.8900\n",
            "Epoch 37/100\n",
            "100/100 [==============================] - 20s 203ms/step - loss: 0.3491 - acc: 0.8525 - val_loss: 0.2671 - val_acc: 0.8840\n",
            "Epoch 38/100\n",
            "100/100 [==============================] - 20s 203ms/step - loss: 0.3545 - acc: 0.8535 - val_loss: 0.2416 - val_acc: 0.9000\n",
            "Epoch 39/100\n",
            "100/100 [==============================] - 20s 203ms/step - loss: 0.3445 - acc: 0.8650 - val_loss: 0.2532 - val_acc: 0.9010\n",
            "Epoch 40/100\n",
            "100/100 [==============================] - 20s 203ms/step - loss: 0.3454 - acc: 0.8600 - val_loss: 0.2442 - val_acc: 0.8990\n",
            "Epoch 41/100\n",
            "100/100 [==============================] - 20s 203ms/step - loss: 0.3321 - acc: 0.8540 - val_loss: 0.2666 - val_acc: 0.8930\n",
            "Epoch 42/100\n",
            "100/100 [==============================] - 20s 202ms/step - loss: 0.3366 - acc: 0.8610 - val_loss: 0.3088 - val_acc: 0.8730\n",
            "Epoch 43/100\n",
            "100/100 [==============================] - 20s 204ms/step - loss: 0.3300 - acc: 0.8590 - val_loss: 0.2363 - val_acc: 0.8990\n",
            "Epoch 44/100\n",
            "100/100 [==============================] - 21s 205ms/step - loss: 0.3439 - acc: 0.8650 - val_loss: 0.2590 - val_acc: 0.9030\n",
            "Epoch 45/100\n",
            "100/100 [==============================] - 20s 203ms/step - loss: 0.3355 - acc: 0.8595 - val_loss: 0.2801 - val_acc: 0.8800\n",
            "Epoch 46/100\n",
            "100/100 [==============================] - 20s 203ms/step - loss: 0.3142 - acc: 0.8720 - val_loss: 0.3322 - val_acc: 0.8630\n",
            "Epoch 47/100\n",
            "100/100 [==============================] - 20s 203ms/step - loss: 0.2969 - acc: 0.8685 - val_loss: 0.3281 - val_acc: 0.8640\n",
            "Epoch 48/100\n",
            "100/100 [==============================] - 20s 203ms/step - loss: 0.3228 - acc: 0.8675 - val_loss: 0.2263 - val_acc: 0.9040\n",
            "Epoch 49/100\n",
            "100/100 [==============================] - 20s 202ms/step - loss: 0.3381 - acc: 0.8675 - val_loss: 0.2429 - val_acc: 0.9090\n",
            "Epoch 50/100\n",
            "100/100 [==============================] - 20s 202ms/step - loss: 0.3002 - acc: 0.8790 - val_loss: 0.2703 - val_acc: 0.8940\n",
            "Epoch 51/100\n",
            "100/100 [==============================] - 21s 207ms/step - loss: 0.3137 - acc: 0.8685 - val_loss: 0.2600 - val_acc: 0.9030\n",
            "Epoch 52/100\n",
            "100/100 [==============================] - 21s 206ms/step - loss: 0.3066 - acc: 0.8795 - val_loss: 0.2518 - val_acc: 0.8820\n",
            "Epoch 53/100\n",
            "100/100 [==============================] - 20s 202ms/step - loss: 0.2966 - acc: 0.8790 - val_loss: 0.2105 - val_acc: 0.9070\n",
            "Epoch 54/100\n",
            "100/100 [==============================] - 20s 202ms/step - loss: 0.3087 - acc: 0.8825 - val_loss: 0.2178 - val_acc: 0.9030\n",
            "Epoch 55/100\n",
            "100/100 [==============================] - 20s 203ms/step - loss: 0.2869 - acc: 0.8815 - val_loss: 0.2804 - val_acc: 0.8790\n",
            "Epoch 56/100\n",
            "100/100 [==============================] - 20s 201ms/step - loss: 0.2825 - acc: 0.8885 - val_loss: 0.5537 - val_acc: 0.8350\n",
            "Epoch 57/100\n",
            "100/100 [==============================] - 21s 207ms/step - loss: 0.2893 - acc: 0.8815 - val_loss: 0.2616 - val_acc: 0.8910\n",
            "Epoch 58/100\n",
            "100/100 [==============================] - 21s 208ms/step - loss: 0.2931 - acc: 0.8815 - val_loss: 0.2207 - val_acc: 0.9080\n",
            "Epoch 59/100\n",
            "100/100 [==============================] - 21s 207ms/step - loss: 0.2742 - acc: 0.8855 - val_loss: 0.2167 - val_acc: 0.9110\n",
            "Epoch 60/100\n",
            "100/100 [==============================] - 21s 206ms/step - loss: 0.2859 - acc: 0.8780 - val_loss: 0.2251 - val_acc: 0.9070\n",
            "Epoch 61/100\n",
            "100/100 [==============================] - 20s 202ms/step - loss: 0.2759 - acc: 0.8825 - val_loss: 0.2362 - val_acc: 0.9150\n",
            "Epoch 62/100\n",
            "100/100 [==============================] - 20s 202ms/step - loss: 0.2734 - acc: 0.8965 - val_loss: 0.2070 - val_acc: 0.9050\n",
            "Epoch 63/100\n",
            "100/100 [==============================] - 21s 206ms/step - loss: 0.2963 - acc: 0.8860 - val_loss: 0.2177 - val_acc: 0.9150\n",
            "Epoch 64/100\n",
            "100/100 [==============================] - 20s 204ms/step - loss: 0.2647 - acc: 0.8990 - val_loss: 0.2885 - val_acc: 0.8670\n",
            "Epoch 65/100\n",
            "100/100 [==============================] - 20s 203ms/step - loss: 0.2971 - acc: 0.8825 - val_loss: 0.3944 - val_acc: 0.8680\n",
            "Epoch 66/100\n",
            "100/100 [==============================] - 21s 207ms/step - loss: 0.2956 - acc: 0.8800 - val_loss: 0.2006 - val_acc: 0.9130\n",
            "Epoch 67/100\n",
            "100/100 [==============================] - 21s 208ms/step - loss: 0.2716 - acc: 0.8910 - val_loss: 0.1923 - val_acc: 0.9140\n",
            "Epoch 68/100\n",
            "100/100 [==============================] - 20s 202ms/step - loss: 0.2890 - acc: 0.8985 - val_loss: 0.3671 - val_acc: 0.8910\n",
            "Epoch 69/100\n",
            "100/100 [==============================] - 20s 202ms/step - loss: 0.2619 - acc: 0.8945 - val_loss: 0.2366 - val_acc: 0.9160\n",
            "Epoch 70/100\n",
            "100/100 [==============================] - 20s 202ms/step - loss: 0.3016 - acc: 0.9010 - val_loss: 0.2096 - val_acc: 0.9260\n",
            "Epoch 71/100\n",
            "100/100 [==============================] - 20s 204ms/step - loss: 0.2601 - acc: 0.8830 - val_loss: 0.2658 - val_acc: 0.9050\n",
            "Epoch 72/100\n",
            "100/100 [==============================] - 20s 204ms/step - loss: 0.2552 - acc: 0.9025 - val_loss: 0.2589 - val_acc: 0.9270\n",
            "Epoch 73/100\n",
            "100/100 [==============================] - 20s 202ms/step - loss: 0.2957 - acc: 0.8930 - val_loss: 0.2270 - val_acc: 0.9140\n",
            "Epoch 74/100\n",
            "100/100 [==============================] - 20s 204ms/step - loss: 0.2187 - acc: 0.9155 - val_loss: 0.2471 - val_acc: 0.8960\n",
            "Epoch 75/100\n",
            "100/100 [==============================] - 20s 203ms/step - loss: 0.2876 - acc: 0.8945 - val_loss: 0.2047 - val_acc: 0.9220\n",
            "Epoch 76/100\n",
            "100/100 [==============================] - 20s 203ms/step - loss: 0.2645 - acc: 0.8955 - val_loss: 0.1945 - val_acc: 0.9240\n",
            "Epoch 77/100\n",
            "100/100 [==============================] - 20s 202ms/step - loss: 0.2655 - acc: 0.8975 - val_loss: 0.3313 - val_acc: 0.8450\n",
            "Epoch 78/100\n",
            "100/100 [==============================] - 20s 203ms/step - loss: 0.2937 - acc: 0.8935 - val_loss: 0.1909 - val_acc: 0.9320\n",
            "Epoch 79/100\n",
            "100/100 [==============================] - 20s 203ms/step - loss: 0.2602 - acc: 0.8955 - val_loss: 0.2135 - val_acc: 0.9150\n",
            "Epoch 80/100\n",
            "100/100 [==============================] - 20s 203ms/step - loss: 0.2529 - acc: 0.9160 - val_loss: 0.2884 - val_acc: 0.9260\n",
            "Epoch 81/100\n",
            "100/100 [==============================] - 20s 203ms/step - loss: 0.2781 - acc: 0.8965 - val_loss: 0.2640 - val_acc: 0.8920\n",
            "Epoch 82/100\n",
            "100/100 [==============================] - 21s 208ms/step - loss: 0.2475 - acc: 0.9080 - val_loss: 0.2283 - val_acc: 0.9090\n",
            "Epoch 83/100\n",
            "100/100 [==============================] - 20s 204ms/step - loss: 0.2806 - acc: 0.8970 - val_loss: 0.2264 - val_acc: 0.9110\n",
            "Epoch 84/100\n",
            "100/100 [==============================] - 20s 202ms/step - loss: 0.2146 - acc: 0.9125 - val_loss: 0.3923 - val_acc: 0.8780\n",
            "Epoch 85/100\n",
            "100/100 [==============================] - 20s 204ms/step - loss: 0.2345 - acc: 0.9075 - val_loss: 0.1934 - val_acc: 0.9310\n",
            "Epoch 86/100\n",
            "100/100 [==============================] - 20s 205ms/step - loss: 0.2711 - acc: 0.9020 - val_loss: 0.2223 - val_acc: 0.9190\n",
            "Epoch 87/100\n",
            "100/100 [==============================] - 20s 203ms/step - loss: 0.2467 - acc: 0.9090 - val_loss: 0.1859 - val_acc: 0.9340\n",
            "Epoch 88/100\n",
            "100/100 [==============================] - 20s 202ms/step - loss: 0.2201 - acc: 0.9090 - val_loss: 1.1623 - val_acc: 0.8290\n",
            "Epoch 89/100\n",
            "100/100 [==============================] - 21s 205ms/step - loss: 0.2523 - acc: 0.9100 - val_loss: 0.1757 - val_acc: 0.9270\n",
            "Epoch 90/100\n",
            "100/100 [==============================] - 20s 203ms/step - loss: 0.2264 - acc: 0.9100 - val_loss: 0.3538 - val_acc: 0.8910\n",
            "Epoch 91/100\n",
            "100/100 [==============================] - 20s 202ms/step - loss: 0.2606 - acc: 0.9070 - val_loss: 0.2982 - val_acc: 0.8850\n",
            "Epoch 92/100\n",
            "100/100 [==============================] - 20s 201ms/step - loss: 0.2511 - acc: 0.9080 - val_loss: 0.1920 - val_acc: 0.9330\n",
            "Epoch 93/100\n",
            "100/100 [==============================] - 20s 202ms/step - loss: 0.2495 - acc: 0.9140 - val_loss: 0.3350 - val_acc: 0.8780\n",
            "Epoch 94/100\n",
            "100/100 [==============================] - 20s 203ms/step - loss: 0.2268 - acc: 0.9115 - val_loss: 0.1916 - val_acc: 0.9260\n",
            "Epoch 95/100\n",
            "100/100 [==============================] - 20s 201ms/step - loss: 0.2667 - acc: 0.9020 - val_loss: 0.1801 - val_acc: 0.9210\n",
            "Epoch 96/100\n",
            "100/100 [==============================] - 20s 202ms/step - loss: 0.1971 - acc: 0.9220 - val_loss: 0.2008 - val_acc: 0.9320\n",
            "Epoch 97/100\n",
            "100/100 [==============================] - 21s 206ms/step - loss: 0.2231 - acc: 0.9155 - val_loss: 0.1844 - val_acc: 0.9290\n",
            "Epoch 98/100\n",
            "100/100 [==============================] - 20s 202ms/step - loss: 0.2316 - acc: 0.9150 - val_loss: 0.1745 - val_acc: 0.9350\n",
            "Epoch 99/100\n",
            "100/100 [==============================] - 20s 202ms/step - loss: 0.2473 - acc: 0.9070 - val_loss: 0.2525 - val_acc: 0.9200\n",
            "Epoch 100/100\n",
            "100/100 [==============================] - 20s 202ms/step - loss: 0.2820 - acc: 0.9120 - val_loss: 0.2471 - val_acc: 0.9050\n"
          ],
          "name": "stdout"
        }
      ]
    },
    {
      "cell_type": "code",
      "metadata": {
        "id": "0c__H05nHCr-"
      },
      "source": [
        "full_model.save('cats_and_dogs_full_small-2.58m.h5')"
      ],
      "execution_count": 17,
      "outputs": []
    },
    {
      "cell_type": "code",
      "metadata": {
        "colab": {
          "base_uri": "https://localhost:8080/",
          "height": 17
        },
        "id": "xphUOheTJQsA",
        "outputId": "1ceb5eb4-6e6e-4ce7-f43a-74a39aff29c9"
      },
      "source": [
        "from google.colab import files\n",
        "files.download(\"cats_and_dogs_full_small-2.58m.h5\")"
      ],
      "execution_count": 16,
      "outputs": [
        {
          "output_type": "display_data",
          "data": {
            "application/javascript": [
              "\n",
              "    async function download(id, filename, size) {\n",
              "      if (!google.colab.kernel.accessAllowed) {\n",
              "        return;\n",
              "      }\n",
              "      const div = document.createElement('div');\n",
              "      const label = document.createElement('label');\n",
              "      label.textContent = `Downloading \"${filename}\": `;\n",
              "      div.appendChild(label);\n",
              "      const progress = document.createElement('progress');\n",
              "      progress.max = size;\n",
              "      div.appendChild(progress);\n",
              "      document.body.appendChild(div);\n",
              "\n",
              "      const buffers = [];\n",
              "      let downloaded = 0;\n",
              "\n",
              "      const channel = await google.colab.kernel.comms.open(id);\n",
              "      // Send a message to notify the kernel that we're ready.\n",
              "      channel.send({})\n",
              "\n",
              "      for await (const message of channel.messages) {\n",
              "        // Send a message to notify the kernel that we're ready.\n",
              "        channel.send({})\n",
              "        if (message.buffers) {\n",
              "          for (const buffer of message.buffers) {\n",
              "            buffers.push(buffer);\n",
              "            downloaded += buffer.byteLength;\n",
              "            progress.value = downloaded;\n",
              "          }\n",
              "        }\n",
              "      }\n",
              "      const blob = new Blob(buffers, {type: 'application/binary'});\n",
              "      const a = document.createElement('a');\n",
              "      a.href = window.URL.createObjectURL(blob);\n",
              "      a.download = filename;\n",
              "      div.appendChild(a);\n",
              "      a.click();\n",
              "      div.remove();\n",
              "    }\n",
              "  "
            ],
            "text/plain": [
              "<IPython.core.display.Javascript object>"
            ]
          },
          "metadata": {
            "tags": []
          }
        },
        {
          "output_type": "display_data",
          "data": {
            "application/javascript": [
              "download(\"download_5726eacf-1afc-4eee-a129-0689c8095c18\", \"cats_and_dogs_full_small-2.85m.h5\", 16195168)"
            ],
            "text/plain": [
              "<IPython.core.display.Javascript object>"
            ]
          },
          "metadata": {
            "tags": []
          }
        }
      ]
    },
    {
      "cell_type": "code",
      "metadata": {
        "colab": {
          "base_uri": "https://localhost:8080/"
        },
        "id": "-cBI7VSwIuHU",
        "outputId": "75d80d38-4b5c-4a37-c0fb-74ab011124ae"
      },
      "source": [
        "print(\"Evaluate the full model on small test data\")\n",
        "results = full_model.evaluate(test_generator)\n",
        "print(\"test loss, test acc:\", results)"
      ],
      "execution_count": 18,
      "outputs": [
        {
          "output_type": "stream",
          "text": [
            "Evaluate the full model on small test data\n",
            "50/50 [==============================] - 266s 5s/step - loss: 0.2633 - acc: 0.9050\n",
            "test loss, test acc: [0.2633039355278015, 0.9049999713897705]\n"
          ],
          "name": "stdout"
        }
      ]
    },
    {
      "cell_type": "code",
      "metadata": {
        "colab": {
          "base_uri": "https://localhost:8080/",
          "height": 545
        },
        "id": "SsJo_omrIzj9",
        "outputId": "63d9ea87-eadb-46dd-aa01-32df927b7426"
      },
      "source": [
        "import matplotlib.pyplot as plt\n",
        "\n",
        "acc = history.history['acc']\n",
        "val_acc = history.history['val_acc']\n",
        "loss = history.history['loss']\n",
        "val_loss = history.history['val_loss']\n",
        "epochs = range(1, len(acc) + 1)\n",
        "\n",
        "plt.plot(epochs, acc, 'bo', label='Training acc')\n",
        "plt.plot(epochs, val_acc, 'b', label='Validation acc')\n",
        "plt.title('Training and validation accuracy')\n",
        "plt.legend()\n",
        "plt.figure()\n",
        "plt.plot(epochs, loss, 'bo', label='Training loss')\n",
        "plt.plot(epochs, val_loss, 'b', label='Validation loss')\n",
        "plt.title('Training and validation loss')\n",
        "plt.legend()\n",
        "plt.show()"
      ],
      "execution_count": 19,
      "outputs": [
        {
          "output_type": "display_data",
          "data": {
            "image/png": "[encoded data removed]",
            "text/plain": [
              "<Figure size 432x288 with 1 Axes>"
            ]
          },
          "metadata": {
            "tags": [],
            "needs_background": "light"
          }
        },
        {
          "output_type": "display_data",
          "data": {
            "image/png": "[encoded data removed]",
            "text/plain": [
              "<Figure size 432x288 with 1 Axes>"
            ]
          },
          "metadata": {
            "tags": [],
            "needs_background": "light"
          }
        }
      ]
    }
  ]
}