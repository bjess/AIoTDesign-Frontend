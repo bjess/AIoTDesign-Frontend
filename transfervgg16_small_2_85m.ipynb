{
  "nbformat": 4,
  "nbformat_minor": 0,
  "metadata": {
    "colab": {
      "name": "transfervgg16-small-2.85m.ipynb",
      "provenance": [],
      "authorship_tag": "ABX9TyNvU8rlqyNF3nfPCpAfmo5b",
      "include_colab_link": true
    },
    "kernelspec": {
      "name": "python3",
      "display_name": "Python 3"
    },
    "accelerator": "GPU"
  },
  "cells": [
    {
      "cell_type": "markdown",
      "metadata": {
        "id": "view-in-github",
        "colab_type": "text"
      },
      "source": [
        "<a href=\"https://colab.research.google.com/github/fwangliberty/AIoTDesign-Frontend/blob/master/transfervgg16_small_2_85m.ipynb\" target=\"_parent\"><img src=\"https://colab.research.google.com/assets/colab-badge.svg\" alt=\"Open In Colab\"/></a>"
      ]
    },
    {
      "cell_type": "markdown",
      "metadata": {
        "id": "Cv5NXr4G5ADU"
      },
      "source": [
        "We continue our efforts to train a new smaller VGG model from the original VGG16 model. The number of parameters is 2.85M. The accuracy is about 0.924, and max accuracy is 0.941"
      ]
    },
    {
      "cell_type": "markdown",
      "metadata": {
        "id": "PfnrXdhg5rs5"
      },
      "source": [
        "# 1. Connecting to our Google Drive"
      ]
    },
    {
      "cell_type": "code",
      "metadata": {
        "colab": {
          "base_uri": "https://localhost:8080/"
        },
        "id": "gIbfgWHz435d",
        "outputId": "bbee8295-cf5f-45fa-9a16-5bcc9e36a791"
      },
      "source": [
        "from google.colab import drive\n",
        "drive.mount('/content/drive')"
      ],
      "execution_count": 3,
      "outputs": [
        {
          "output_type": "stream",
          "text": [
            "Mounted at /content/drive\n"
          ],
          "name": "stdout"
        }
      ]
    },
    {
      "cell_type": "code",
      "metadata": {
        "colab": {
          "base_uri": "https://localhost:8080/"
        },
        "id": "Zg-Z0Inv6xf3",
        "outputId": "53e217e3-13fc-45c9-f141-26aa15414161"
      },
      "source": [
        "!ls \"/content/drive/My Drive/small/\""
      ],
      "execution_count": 4,
      "outputs": [
        {
          "output_type": "stream",
          "text": [
            "test  train  validation\n"
          ],
          "name": "stdout"
        }
      ]
    },
    {
      "cell_type": "markdown",
      "metadata": {
        "id": "SXlaVFPz7VIW"
      },
      "source": [
        "#2. Prepare dataset"
      ]
    },
    {
      "cell_type": "code",
      "metadata": {
        "id": "lcr1DbDi7i0l"
      },
      "source": [
        "import keras\n",
        "import os, shutil\n",
        "from keras import regularizers\n",
        "from keras.preprocessing.image import ImageDataGenerator\n",
        "from tensorflow.keras.models import load_model\n",
        "import tensorflow as tf\n",
        "import tensorflow.keras as keras\n",
        "from tensorflow.keras.models import Sequential\n",
        "from tensorflow.keras.layers import InputLayer\n",
        "import tensorflow.keras.backend as K\n",
        "from keras.applications import VGG16"
      ],
      "execution_count": 10,
      "outputs": []
    },
    {
      "cell_type": "markdown",
      "metadata": {
        "id": "Hz4LVRuc7qmG"
      },
      "source": [
        "The directory where we will store our smaller dataset"
      ]
    },
    {
      "cell_type": "code",
      "metadata": {
        "id": "17Yj8xwu7lCV"
      },
      "source": [
        "base_dir = '/content/drive/My Drive/small'"
      ],
      "execution_count": 11,
      "outputs": []
    },
    {
      "cell_type": "markdown",
      "metadata": {
        "id": "iq1WUkkY8DQe"
      },
      "source": [
        " Directories for our smaller training and validation splits "
      ]
    },
    {
      "cell_type": "code",
      "metadata": {
        "id": "rYB1SFmR8FJH"
      },
      "source": [
        "train_dir = os.path.join(base_dir, 'train')\n",
        "validation_dir = os.path.join(base_dir, 'validation')\n",
        "test_dir = os.path.join(base_dir, 'test')"
      ],
      "execution_count": 12,
      "outputs": []
    },
    {
      "cell_type": "markdown",
      "metadata": {
        "id": "O-XWsXvg8Xge"
      },
      "source": [
        "Build the train imagedatagenerator"
      ]
    },
    {
      "cell_type": "code",
      "metadata": {
        "id": "P1d4yp0w8Y4Q"
      },
      "source": [
        "train_datagen = ImageDataGenerator(\n",
        "      rescale=1./255,\n",
        "      rotation_range=40,\n",
        "      width_shift_range=0.2,\n",
        "      height_shift_range=0.2,\n",
        "      shear_range=0.1,\n",
        "      zoom_range=0.1,\n",
        "      horizontal_flip=True,\n",
        "      fill_mode='nearest')"
      ],
      "execution_count": 13,
      "outputs": []
    },
    {
      "cell_type": "markdown",
      "metadata": {
        "id": "tmD9EnBK8mi-"
      },
      "source": [
        "Note that the validation data should not be augmented!"
      ]
    },
    {
      "cell_type": "code",
      "metadata": {
        "id": "ATpMzR0p8n-w"
      },
      "source": [
        "test_datagen = ImageDataGenerator(rescale=1./255)"
      ],
      "execution_count": 14,
      "outputs": []
    },
    {
      "cell_type": "code",
      "metadata": {
        "colab": {
          "base_uri": "https://localhost:8080/"
        },
        "id": "WIrOdni68s2H",
        "outputId": "bd42d35c-a9b3-479c-e6f1-fc2b385cbe72"
      },
      "source": [
        "train_generator = train_datagen.flow_from_directory(\n",
        "        # This is the target directory\n",
        "        train_dir,\n",
        "        # All images will be resized to 150x150\n",
        "        target_size=(150, 150),\n",
        "        batch_size=20,\n",
        "        # Since we use binary_crossentropy loss, we need binary labels\n",
        "        class_mode='binary')"
      ],
      "execution_count": 15,
      "outputs": [
        {
          "output_type": "stream",
          "text": [
            "Found 2000 images belonging to 2 classes.\n"
          ],
          "name": "stdout"
        }
      ]
    },
    {
      "cell_type": "code",
      "metadata": {
        "colab": {
          "base_uri": "https://localhost:8080/"
        },
        "id": "VQGAct1s8wFB",
        "outputId": "86efa933-43d2-4dae-bc94-d9798b08edca"
      },
      "source": [
        "validation_generator = test_datagen.flow_from_directory(\n",
        "        validation_dir,\n",
        "        target_size=(150, 150),\n",
        "        batch_size=20,\n",
        "        class_mode='binary')"
      ],
      "execution_count": 16,
      "outputs": [
        {
          "output_type": "stream",
          "text": [
            "Found 1000 images belonging to 2 classes.\n"
          ],
          "name": "stdout"
        }
      ]
    },
    {
      "cell_type": "code",
      "metadata": {
        "colab": {
          "base_uri": "https://localhost:8080/"
        },
        "id": "Muvd8ReV80qn",
        "outputId": "cfee2994-8db6-47f8-d121-d61b6783da06"
      },
      "source": [
        "test_generator = test_datagen.flow_from_directory(\n",
        "         test_dir,\n",
        "         target_size=(150, 150),\n",
        "         batch_size=20,\n",
        "         class_mode='binary')"
      ],
      "execution_count": 17,
      "outputs": [
        {
          "output_type": "stream",
          "text": [
            "Found 1000 images belonging to 2 classes.\n"
          ],
          "name": "stdout"
        }
      ]
    },
    {
      "cell_type": "markdown",
      "metadata": {
        "id": "eivnb5n49AzH"
      },
      "source": [
        "# 3. Import VGG16 model"
      ]
    },
    {
      "cell_type": "code",
      "metadata": {
        "colab": {
          "base_uri": "https://localhost:8080/"
        },
        "id": "WeRc6siY9E4H",
        "outputId": "429510ac-2818-468b-b94e-7c71444b1a01"
      },
      "source": [
        "vgg16 = keras.applications.vgg16\n",
        "conv_model = vgg16.VGG16(weights='imagenet', include_top=False, input_shape=(150,150,3))\n",
        "conv_model.summary()"
      ],
      "execution_count": 18,
      "outputs": [
        {
          "output_type": "stream",
          "text": [
            "Downloading data from https://storage.googleapis.com/tensorflow/keras-applications/vgg16/vgg16_weights_tf_dim_ordering_tf_kernels_notop.h5\n",
            "58892288/58889256 [==============================] - 0s 0us/step\n",
            "Model: \"vgg16\"\n",
            "_________________________________________________________________\n",
            "Layer (type)                 Output Shape              Param #   \n",
            "=================================================================\n",
            "input_1 (InputLayer)         [(None, 150, 150, 3)]     0         \n",
            "_________________________________________________________________\n",
            "block1_conv1 (Conv2D)        (None, 150, 150, 64)      1792      \n",
            "_________________________________________________________________\n",
            "block1_conv2 (Conv2D)        (None, 150, 150, 64)      36928     \n",
            "_________________________________________________________________\n",
            "block1_pool (MaxPooling2D)   (None, 75, 75, 64)        0         \n",
            "_________________________________________________________________\n",
            "block2_conv1 (Conv2D)        (None, 75, 75, 128)       73856     \n",
            "_________________________________________________________________\n",
            "block2_conv2 (Conv2D)        (None, 75, 75, 128)       147584    \n",
            "_________________________________________________________________\n",
            "block2_pool (MaxPooling2D)   (None, 37, 37, 128)       0         \n",
            "_________________________________________________________________\n",
            "block3_conv1 (Conv2D)        (None, 37, 37, 256)       295168    \n",
            "_________________________________________________________________\n",
            "block3_conv2 (Conv2D)        (None, 37, 37, 256)       590080    \n",
            "_________________________________________________________________\n",
            "block3_conv3 (Conv2D)        (None, 37, 37, 256)       590080    \n",
            "_________________________________________________________________\n",
            "block3_pool (MaxPooling2D)   (None, 18, 18, 256)       0         \n",
            "_________________________________________________________________\n",
            "block4_conv1 (Conv2D)        (None, 18, 18, 512)       1180160   \n",
            "_________________________________________________________________\n",
            "block4_conv2 (Conv2D)        (None, 18, 18, 512)       2359808   \n",
            "_________________________________________________________________\n",
            "block4_conv3 (Conv2D)        (None, 18, 18, 512)       2359808   \n",
            "_________________________________________________________________\n",
            "block4_pool (MaxPooling2D)   (None, 9, 9, 512)         0         \n",
            "_________________________________________________________________\n",
            "block5_conv1 (Conv2D)        (None, 9, 9, 512)         2359808   \n",
            "_________________________________________________________________\n",
            "block5_conv2 (Conv2D)        (None, 9, 9, 512)         2359808   \n",
            "_________________________________________________________________\n",
            "block5_conv3 (Conv2D)        (None, 9, 9, 512)         2359808   \n",
            "_________________________________________________________________\n",
            "block5_pool (MaxPooling2D)   (None, 4, 4, 512)         0         \n",
            "=================================================================\n",
            "Total params: 14,714,688\n",
            "Trainable params: 14,714,688\n",
            "Non-trainable params: 0\n",
            "_________________________________________________________________\n"
          ],
          "name": "stdout"
        }
      ]
    },
    {
      "cell_type": "markdown",
      "metadata": {
        "id": "9sqAZWWSB_qN"
      },
      "source": [
        "We lock all the layers of the convolutional part:"
      ]
    },
    {
      "cell_type": "code",
      "metadata": {
        "id": "PZjiVAKRB-gm"
      },
      "source": [
        "for layer in conv_model.layers:\n",
        "    layer.trainable = False"
      ],
      "execution_count": 19,
      "outputs": []
    },
    {
      "cell_type": "markdown",
      "metadata": {
        "id": "Zoa7sETI9WFW"
      },
      "source": [
        "Reduce the number of filters in the last CONV block."
      ]
    },
    {
      "cell_type": "code",
      "metadata": {
        "colab": {
          "base_uri": "https://localhost:8080/"
        },
        "id": "SySoEvKb9gTI",
        "outputId": "f6e92ace-87cb-4485-ed62-6958432fae82"
      },
      "source": [
        "#x=tf.keras.layers.Conv2D(256,3,padding='same',activation='relu',)(conv_model.layers[6].output)\n",
        "x=tf.keras.layers.MaxPooling2D(2)(conv_model.layers[8].output)\n",
        "x=tf.keras.layers.Conv2D(256,3,padding='same',activation='relu',)(x)\n",
        "x=tf.keras.layers.MaxPooling2D(2)(x)\n",
        "x=tf.keras.layers.Conv2D(256,3,padding='same',activation='relu',)(x)\n",
        "x=tf.keras.layers.MaxPooling2D(2)(x)\n",
        "x = tf.keras.layers.Flatten()(x)\n",
        "# one dropout layer\n",
        "x = keras.layers.Dropout(0.2)(x)\n",
        "# one hidden layer\n",
        "x = keras.layers.Dense(128, activation='relu')(x)\n",
        "# final softmax layer with two categories (dog and cat)\n",
        "predictions = keras.layers.Dense(1, activation='sigmoid')(x)\n",
        "\n",
        "# creating the full model:\n",
        "full_model = keras.models.Model(inputs=conv_model.input, outputs=predictions)\n",
        "full_model.summary()"
      ],
      "execution_count": 48,
      "outputs": [
        {
          "output_type": "stream",
          "text": [
            "Model: \"functional_9\"\n",
            "_________________________________________________________________\n",
            "Layer (type)                 Output Shape              Param #   \n",
            "=================================================================\n",
            "input_1 (InputLayer)         [(None, 150, 150, 3)]     0         \n",
            "_________________________________________________________________\n",
            "block1_conv1 (Conv2D)        (None, 150, 150, 64)      1792      \n",
            "_________________________________________________________________\n",
            "block1_conv2 (Conv2D)        (None, 150, 150, 64)      36928     \n",
            "_________________________________________________________________\n",
            "block1_pool (MaxPooling2D)   (None, 75, 75, 64)        0         \n",
            "_________________________________________________________________\n",
            "block2_conv1 (Conv2D)        (None, 75, 75, 128)       73856     \n",
            "_________________________________________________________________\n",
            "block2_conv2 (Conv2D)        (None, 75, 75, 128)       147584    \n",
            "_________________________________________________________________\n",
            "block2_pool (MaxPooling2D)   (None, 37, 37, 128)       0         \n",
            "_________________________________________________________________\n",
            "block3_conv1 (Conv2D)        (None, 37, 37, 256)       295168    \n",
            "_________________________________________________________________\n",
            "block3_conv2 (Conv2D)        (None, 37, 37, 256)       590080    \n",
            "_________________________________________________________________\n",
            "max_pooling2d_11 (MaxPooling (None, 18, 18, 256)       0         \n",
            "_________________________________________________________________\n",
            "conv2d_9 (Conv2D)            (None, 18, 18, 256)       590080    \n",
            "_________________________________________________________________\n",
            "max_pooling2d_12 (MaxPooling (None, 9, 9, 256)         0         \n",
            "_________________________________________________________________\n",
            "conv2d_10 (Conv2D)           (None, 9, 9, 256)         590080    \n",
            "_________________________________________________________________\n",
            "max_pooling2d_13 (MaxPooling (None, 4, 4, 256)         0         \n",
            "_________________________________________________________________\n",
            "flatten_4 (Flatten)          (None, 4096)              0         \n",
            "_________________________________________________________________\n",
            "dropout_4 (Dropout)          (None, 4096)              0         \n",
            "_________________________________________________________________\n",
            "dense_8 (Dense)              (None, 128)               524416    \n",
            "_________________________________________________________________\n",
            "dense_9 (Dense)              (None, 1)                 129       \n",
            "=================================================================\n",
            "Total params: 2,850,113\n",
            "Trainable params: 1,704,705\n",
            "Non-trainable params: 1,145,408\n",
            "_________________________________________________________________\n"
          ],
          "name": "stdout"
        }
      ]
    },
    {
      "cell_type": "markdown",
      "metadata": {
        "id": "6C1wDoRbCeBG"
      },
      "source": [
        "Now compile and train the model"
      ]
    },
    {
      "cell_type": "code",
      "metadata": {
        "colab": {
          "base_uri": "https://localhost:8080/"
        },
        "id": "z7IacWnYCeu_",
        "outputId": "40148bcb-8682-41fd-f0a9-3665f7570505"
      },
      "source": [
        "full_model.compile(loss='binary_crossentropy',\n",
        "              optimizer=keras.optimizers.RMSprop(lr=1e-4),  # retrain rate = 1e-4\n",
        "              #optimizer=keras.optimizers.Adamax(lr=0.001),\n",
        "              metrics=['acc'])\n",
        "\t\t\t  \n",
        "history = full_model.fit(\n",
        "      train_generator,\n",
        "      steps_per_epoch=100,\n",
        "      epochs=100,\n",
        "      validation_data=validation_generator,\n",
        "      validation_steps=50)"
      ],
      "execution_count": 50,
      "outputs": [
        {
          "output_type": "stream",
          "text": [
            "Epoch 1/100\n",
            "100/100 [==============================] - 22s 220ms/step - loss: 1.2161 - acc: 0.7695 - val_loss: 0.6802 - val_acc: 0.6620\n",
            "Epoch 2/100\n",
            "100/100 [==============================] - 22s 215ms/step - loss: 0.5565 - acc: 0.7425 - val_loss: 0.4037 - val_acc: 0.8320\n",
            "Epoch 3/100\n",
            "100/100 [==============================] - 21s 215ms/step - loss: 0.5203 - acc: 0.7640 - val_loss: 0.3347 - val_acc: 0.8610\n",
            "Epoch 4/100\n",
            "100/100 [==============================] - 21s 212ms/step - loss: 0.5077 - acc: 0.7735 - val_loss: 0.4750 - val_acc: 0.7810\n",
            "Epoch 5/100\n",
            "100/100 [==============================] - 21s 213ms/step - loss: 0.5038 - acc: 0.7660 - val_loss: 0.3169 - val_acc: 0.8680\n",
            "Epoch 6/100\n",
            "100/100 [==============================] - 22s 218ms/step - loss: 0.4584 - acc: 0.7905 - val_loss: 0.2881 - val_acc: 0.8710\n",
            "Epoch 7/100\n",
            "100/100 [==============================] - 21s 212ms/step - loss: 0.4552 - acc: 0.7995 - val_loss: 0.6963 - val_acc: 0.6830\n",
            "Epoch 8/100\n",
            "100/100 [==============================] - 21s 212ms/step - loss: 0.4553 - acc: 0.8040 - val_loss: 0.3259 - val_acc: 0.8390\n",
            "Epoch 9/100\n",
            "100/100 [==============================] - 22s 215ms/step - loss: 0.4228 - acc: 0.8235 - val_loss: 0.3200 - val_acc: 0.8630\n",
            "Epoch 10/100\n",
            "100/100 [==============================] - 21s 211ms/step - loss: 0.4314 - acc: 0.8185 - val_loss: 0.3380 - val_acc: 0.8410\n",
            "Epoch 11/100\n",
            "100/100 [==============================] - 21s 213ms/step - loss: 0.4255 - acc: 0.8120 - val_loss: 0.2838 - val_acc: 0.8870\n",
            "Epoch 12/100\n",
            "100/100 [==============================] - 21s 212ms/step - loss: 0.4324 - acc: 0.8165 - val_loss: 0.2492 - val_acc: 0.8910\n",
            "Epoch 13/100\n",
            "100/100 [==============================] - 21s 212ms/step - loss: 0.4271 - acc: 0.8180 - val_loss: 0.2584 - val_acc: 0.8940\n",
            "Epoch 14/100\n",
            "100/100 [==============================] - 21s 212ms/step - loss: 0.3957 - acc: 0.8375 - val_loss: 0.2722 - val_acc: 0.8820\n",
            "Epoch 15/100\n",
            "100/100 [==============================] - 21s 212ms/step - loss: 0.4123 - acc: 0.8290 - val_loss: 0.3106 - val_acc: 0.8900\n",
            "Epoch 16/100\n",
            "100/100 [==============================] - 21s 212ms/step - loss: 0.3988 - acc: 0.8385 - val_loss: 0.3072 - val_acc: 0.8580\n",
            "Epoch 17/100\n",
            "100/100 [==============================] - 21s 212ms/step - loss: 0.3837 - acc: 0.8415 - val_loss: 0.2676 - val_acc: 0.8850\n",
            "Epoch 18/100\n",
            "100/100 [==============================] - 21s 212ms/step - loss: 0.3741 - acc: 0.8420 - val_loss: 0.2503 - val_acc: 0.8950\n",
            "Epoch 19/100\n",
            "100/100 [==============================] - 21s 210ms/step - loss: 0.4231 - acc: 0.8385 - val_loss: 0.2297 - val_acc: 0.8990\n",
            "Epoch 20/100\n",
            "100/100 [==============================] - 21s 212ms/step - loss: 0.3750 - acc: 0.8390 - val_loss: 0.2597 - val_acc: 0.8980\n",
            "Epoch 21/100\n",
            "100/100 [==============================] - 22s 215ms/step - loss: 0.3802 - acc: 0.8510 - val_loss: 0.2781 - val_acc: 0.8800\n",
            "Epoch 22/100\n",
            "100/100 [==============================] - 21s 209ms/step - loss: 0.3624 - acc: 0.8515 - val_loss: 0.2256 - val_acc: 0.9060\n",
            "Epoch 23/100\n",
            "100/100 [==============================] - 21s 212ms/step - loss: 0.4085 - acc: 0.8310 - val_loss: 0.2327 - val_acc: 0.9040\n",
            "Epoch 24/100\n",
            "100/100 [==============================] - 21s 212ms/step - loss: 0.3798 - acc: 0.8410 - val_loss: 0.2615 - val_acc: 0.8920\n",
            "Epoch 25/100\n",
            "100/100 [==============================] - 21s 210ms/step - loss: 0.3863 - acc: 0.8550 - val_loss: 0.2365 - val_acc: 0.9010\n",
            "Epoch 26/100\n",
            "100/100 [==============================] - 21s 210ms/step - loss: 0.3845 - acc: 0.8620 - val_loss: 0.2398 - val_acc: 0.9030\n",
            "Epoch 27/100\n",
            "100/100 [==============================] - 21s 211ms/step - loss: 0.3179 - acc: 0.8715 - val_loss: 0.2543 - val_acc: 0.8800\n",
            "Epoch 28/100\n",
            "100/100 [==============================] - 21s 211ms/step - loss: 0.3319 - acc: 0.8595 - val_loss: 0.2059 - val_acc: 0.9140\n",
            "Epoch 29/100\n",
            "100/100 [==============================] - 21s 211ms/step - loss: 0.3399 - acc: 0.8600 - val_loss: 0.2072 - val_acc: 0.9130\n",
            "Epoch 30/100\n",
            "100/100 [==============================] - 21s 210ms/step - loss: 0.3418 - acc: 0.8605 - val_loss: 0.2084 - val_acc: 0.9120\n",
            "Epoch 31/100\n",
            "100/100 [==============================] - 21s 212ms/step - loss: 0.3245 - acc: 0.8665 - val_loss: 0.2090 - val_acc: 0.9140\n",
            "Epoch 32/100\n",
            "100/100 [==============================] - 21s 210ms/step - loss: 0.3269 - acc: 0.8725 - val_loss: 0.2139 - val_acc: 0.9170\n",
            "Epoch 33/100\n",
            "100/100 [==============================] - 21s 209ms/step - loss: 0.3503 - acc: 0.8580 - val_loss: 0.2304 - val_acc: 0.8990\n",
            "Epoch 34/100\n",
            "100/100 [==============================] - 21s 210ms/step - loss: 0.3484 - acc: 0.8580 - val_loss: 0.2401 - val_acc: 0.8990\n",
            "Epoch 35/100\n",
            "100/100 [==============================] - 22s 216ms/step - loss: 0.3301 - acc: 0.8660 - val_loss: 0.2725 - val_acc: 0.8940\n",
            "Epoch 36/100\n",
            "100/100 [==============================] - 21s 212ms/step - loss: 0.3285 - acc: 0.8775 - val_loss: 0.2202 - val_acc: 0.9060\n",
            "Epoch 37/100\n",
            "100/100 [==============================] - 21s 207ms/step - loss: 0.3238 - acc: 0.8780 - val_loss: 0.2247 - val_acc: 0.9200\n",
            "Epoch 38/100\n",
            "100/100 [==============================] - 21s 210ms/step - loss: 0.3177 - acc: 0.8670 - val_loss: 0.5864 - val_acc: 0.8040\n",
            "Epoch 39/100\n",
            "100/100 [==============================] - 21s 213ms/step - loss: 0.3095 - acc: 0.8795 - val_loss: 0.2604 - val_acc: 0.8880\n",
            "Epoch 40/100\n",
            "100/100 [==============================] - 21s 210ms/step - loss: 0.2932 - acc: 0.8820 - val_loss: 0.3535 - val_acc: 0.8320\n",
            "Epoch 41/100\n",
            "100/100 [==============================] - 21s 210ms/step - loss: 0.3053 - acc: 0.8710 - val_loss: 0.2092 - val_acc: 0.9120\n",
            "Epoch 42/100\n",
            "100/100 [==============================] - 21s 213ms/step - loss: 0.3021 - acc: 0.8830 - val_loss: 0.5102 - val_acc: 0.8480\n",
            "Epoch 43/100\n",
            "100/100 [==============================] - 21s 211ms/step - loss: 0.3183 - acc: 0.8810 - val_loss: 0.2072 - val_acc: 0.9160\n",
            "Epoch 44/100\n",
            "100/100 [==============================] - 21s 210ms/step - loss: 0.2790 - acc: 0.8845 - val_loss: 0.3734 - val_acc: 0.8400\n",
            "Epoch 45/100\n",
            "100/100 [==============================] - 21s 211ms/step - loss: 0.3142 - acc: 0.8730 - val_loss: 0.2280 - val_acc: 0.9030\n",
            "Epoch 46/100\n",
            "100/100 [==============================] - 21s 213ms/step - loss: 0.2963 - acc: 0.8880 - val_loss: 0.2583 - val_acc: 0.9240\n",
            "Epoch 47/100\n",
            "100/100 [==============================] - 21s 210ms/step - loss: 0.3292 - acc: 0.8775 - val_loss: 0.2462 - val_acc: 0.8940\n",
            "Epoch 48/100\n",
            "100/100 [==============================] - 21s 211ms/step - loss: 0.2752 - acc: 0.8860 - val_loss: 0.2227 - val_acc: 0.9140\n",
            "Epoch 49/100\n",
            "100/100 [==============================] - 21s 209ms/step - loss: 0.2904 - acc: 0.8800 - val_loss: 0.1902 - val_acc: 0.9290\n",
            "Epoch 50/100\n",
            "100/100 [==============================] - 21s 214ms/step - loss: 0.2925 - acc: 0.8900 - val_loss: 0.1929 - val_acc: 0.9280\n",
            "Epoch 51/100\n",
            "100/100 [==============================] - 21s 208ms/step - loss: 0.3134 - acc: 0.8840 - val_loss: 0.1822 - val_acc: 0.9310\n",
            "Epoch 52/100\n",
            "100/100 [==============================] - 21s 208ms/step - loss: 0.2912 - acc: 0.8800 - val_loss: 0.2490 - val_acc: 0.8990\n",
            "Epoch 53/100\n",
            "100/100 [==============================] - 21s 208ms/step - loss: 0.2915 - acc: 0.8830 - val_loss: 0.1842 - val_acc: 0.9270\n",
            "Epoch 54/100\n",
            "100/100 [==============================] - 21s 209ms/step - loss: 0.2617 - acc: 0.8940 - val_loss: 1.2167 - val_acc: 0.8140\n",
            "Epoch 55/100\n",
            "100/100 [==============================] - 21s 207ms/step - loss: 0.2804 - acc: 0.8955 - val_loss: 0.2780 - val_acc: 0.9000\n",
            "Epoch 56/100\n",
            "100/100 [==============================] - 21s 208ms/step - loss: 0.2839 - acc: 0.9025 - val_loss: 2.5472 - val_acc: 0.7420\n",
            "Epoch 57/100\n",
            "100/100 [==============================] - 21s 210ms/step - loss: 0.3180 - acc: 0.8825 - val_loss: 0.2685 - val_acc: 0.9160\n",
            "Epoch 58/100\n",
            "100/100 [==============================] - 21s 209ms/step - loss: 0.2611 - acc: 0.8900 - val_loss: 0.3002 - val_acc: 0.8980\n",
            "Epoch 59/100\n",
            "100/100 [==============================] - 21s 206ms/step - loss: 0.2919 - acc: 0.8945 - val_loss: 0.1641 - val_acc: 0.9300\n",
            "Epoch 60/100\n",
            "100/100 [==============================] - 21s 208ms/step - loss: 0.2789 - acc: 0.8935 - val_loss: 0.2102 - val_acc: 0.9170\n",
            "Epoch 61/100\n",
            "100/100 [==============================] - 21s 207ms/step - loss: 0.2443 - acc: 0.9020 - val_loss: 0.2533 - val_acc: 0.8780\n",
            "Epoch 62/100\n",
            "100/100 [==============================] - 21s 208ms/step - loss: 0.2822 - acc: 0.9015 - val_loss: 0.2437 - val_acc: 0.9060\n",
            "Epoch 63/100\n",
            "100/100 [==============================] - 21s 208ms/step - loss: 0.2599 - acc: 0.9035 - val_loss: 0.1947 - val_acc: 0.9250\n",
            "Epoch 64/100\n",
            "100/100 [==============================] - 21s 207ms/step - loss: 0.2557 - acc: 0.9020 - val_loss: 0.2687 - val_acc: 0.9170\n",
            "Epoch 65/100\n",
            "100/100 [==============================] - 21s 213ms/step - loss: 0.2653 - acc: 0.8995 - val_loss: 0.2327 - val_acc: 0.8990\n",
            "Epoch 66/100\n",
            "100/100 [==============================] - 21s 206ms/step - loss: 0.2857 - acc: 0.8965 - val_loss: 0.1686 - val_acc: 0.9340\n",
            "Epoch 67/100\n",
            "100/100 [==============================] - 21s 206ms/step - loss: 0.2911 - acc: 0.8920 - val_loss: 0.1951 - val_acc: 0.9210\n",
            "Epoch 68/100\n",
            "100/100 [==============================] - 21s 207ms/step - loss: 0.3993 - acc: 0.8925 - val_loss: 0.2580 - val_acc: 0.8850\n",
            "Epoch 69/100\n",
            "100/100 [==============================] - 21s 208ms/step - loss: 0.2745 - acc: 0.9020 - val_loss: 0.3571 - val_acc: 0.8880\n",
            "Epoch 70/100\n",
            "100/100 [==============================] - 21s 207ms/step - loss: 0.2555 - acc: 0.8980 - val_loss: 0.1754 - val_acc: 0.9340\n",
            "Epoch 71/100\n",
            "100/100 [==============================] - 21s 208ms/step - loss: 0.3135 - acc: 0.8900 - val_loss: 0.1654 - val_acc: 0.9420\n",
            "Epoch 72/100\n",
            "100/100 [==============================] - 21s 208ms/step - loss: 0.2445 - acc: 0.9075 - val_loss: 0.1859 - val_acc: 0.9390\n",
            "Epoch 73/100\n",
            "100/100 [==============================] - 21s 207ms/step - loss: 0.2645 - acc: 0.8945 - val_loss: 0.6224 - val_acc: 0.8160\n",
            "Epoch 74/100\n",
            "100/100 [==============================] - 21s 206ms/step - loss: 0.3159 - acc: 0.8980 - val_loss: 0.2512 - val_acc: 0.9280\n",
            "Epoch 75/100\n",
            "100/100 [==============================] - 21s 207ms/step - loss: 0.2645 - acc: 0.8950 - val_loss: 0.2143 - val_acc: 0.9050\n",
            "Epoch 76/100\n",
            "100/100 [==============================] - 21s 207ms/step - loss: 0.2586 - acc: 0.9030 - val_loss: 0.1898 - val_acc: 0.9260\n",
            "Epoch 77/100\n",
            "100/100 [==============================] - 21s 208ms/step - loss: 0.2334 - acc: 0.9085 - val_loss: 0.1841 - val_acc: 0.9280\n",
            "Epoch 78/100\n",
            "100/100 [==============================] - 21s 206ms/step - loss: 0.2952 - acc: 0.9030 - val_loss: 0.2581 - val_acc: 0.9150\n",
            "Epoch 79/100\n",
            "100/100 [==============================] - 21s 211ms/step - loss: 0.2413 - acc: 0.9095 - val_loss: 0.2179 - val_acc: 0.9220\n",
            "Epoch 80/100\n",
            "100/100 [==============================] - 21s 211ms/step - loss: 0.2823 - acc: 0.9030 - val_loss: 0.1879 - val_acc: 0.9380\n",
            "Epoch 81/100\n",
            "100/100 [==============================] - 21s 206ms/step - loss: 0.2523 - acc: 0.9100 - val_loss: 0.4903 - val_acc: 0.9260\n",
            "Epoch 82/100\n",
            "100/100 [==============================] - 21s 206ms/step - loss: 0.3588 - acc: 0.9065 - val_loss: 0.1736 - val_acc: 0.9320\n",
            "Epoch 83/100\n",
            "100/100 [==============================] - 21s 205ms/step - loss: 0.2360 - acc: 0.9050 - val_loss: 0.1968 - val_acc: 0.9140\n",
            "Epoch 84/100\n",
            "100/100 [==============================] - 21s 207ms/step - loss: 0.3173 - acc: 0.9045 - val_loss: 0.1791 - val_acc: 0.9250\n",
            "Epoch 85/100\n",
            "100/100 [==============================] - 21s 207ms/step - loss: 0.2336 - acc: 0.9120 - val_loss: 0.1974 - val_acc: 0.9150\n",
            "Epoch 86/100\n",
            "100/100 [==============================] - 21s 208ms/step - loss: 0.2366 - acc: 0.9020 - val_loss: 0.1993 - val_acc: 0.9270\n",
            "Epoch 87/100\n",
            "100/100 [==============================] - 20s 204ms/step - loss: 0.2375 - acc: 0.9185 - val_loss: 0.1636 - val_acc: 0.9320\n",
            "Epoch 88/100\n",
            "100/100 [==============================] - 21s 206ms/step - loss: 0.2430 - acc: 0.9030 - val_loss: 0.1821 - val_acc: 0.9260\n",
            "Epoch 89/100\n",
            "100/100 [==============================] - 21s 205ms/step - loss: 0.2503 - acc: 0.9205 - val_loss: 0.1784 - val_acc: 0.9350\n",
            "Epoch 90/100\n",
            "100/100 [==============================] - 20s 204ms/step - loss: 0.2448 - acc: 0.9050 - val_loss: 0.4167 - val_acc: 0.8720\n",
            "Epoch 91/100\n",
            "100/100 [==============================] - 20s 204ms/step - loss: 0.2424 - acc: 0.9080 - val_loss: 0.2003 - val_acc: 0.9330\n",
            "Epoch 92/100\n",
            "100/100 [==============================] - 20s 205ms/step - loss: 0.2875 - acc: 0.9110 - val_loss: 0.1850 - val_acc: 0.9330\n",
            "Epoch 93/100\n",
            "100/100 [==============================] - 20s 204ms/step - loss: 0.2418 - acc: 0.9080 - val_loss: 0.2320 - val_acc: 0.9300\n",
            "Epoch 94/100\n",
            "100/100 [==============================] - 21s 208ms/step - loss: 0.2518 - acc: 0.9020 - val_loss: 0.5050 - val_acc: 0.8110\n",
            "Epoch 95/100\n",
            "100/100 [==============================] - 21s 208ms/step - loss: 0.2856 - acc: 0.9075 - val_loss: 0.1690 - val_acc: 0.9410\n",
            "Epoch 96/100\n",
            "100/100 [==============================] - 21s 206ms/step - loss: 0.2350 - acc: 0.9160 - val_loss: 0.1823 - val_acc: 0.9270\n",
            "Epoch 97/100\n",
            "100/100 [==============================] - 20s 205ms/step - loss: 0.2664 - acc: 0.9115 - val_loss: 0.1949 - val_acc: 0.9170\n",
            "Epoch 98/100\n",
            "100/100 [==============================] - 21s 205ms/step - loss: 0.2081 - acc: 0.9265 - val_loss: 0.1995 - val_acc: 0.9240\n",
            "Epoch 99/100\n",
            "100/100 [==============================] - 21s 205ms/step - loss: 0.2422 - acc: 0.9120 - val_loss: 0.2049 - val_acc: 0.9250\n",
            "Epoch 100/100\n",
            "100/100 [==============================] - 21s 206ms/step - loss: 0.2071 - acc: 0.9170 - val_loss: 0.1713 - val_acc: 0.9390\n"
          ],
          "name": "stdout"
        }
      ]
    },
    {
      "cell_type": "code",
      "metadata": {
        "id": "0c__H05nHCr-"
      },
      "source": [
        "full_model.save('cats_and_dogs_full_small-2.85m.h5')"
      ],
      "execution_count": 51,
      "outputs": []
    },
    {
      "cell_type": "code",
      "metadata": {
        "colab": {
          "base_uri": "https://localhost:8080/",
          "height": 17
        },
        "id": "xphUOheTJQsA",
        "outputId": "9d23086d-0cb1-43e2-efe3-79f577b81f77"
      },
      "source": [
        "from google.colab import files\n",
        "files.download(\"cats_and_dogs_full_small-2.85m.h5\")"
      ],
      "execution_count": 52,
      "outputs": [
        {
          "output_type": "display_data",
          "data": {
            "application/javascript": [
              "\n",
              "    async function download(id, filename, size) {\n",
              "      if (!google.colab.kernel.accessAllowed) {\n",
              "        return;\n",
              "      }\n",
              "      const div = document.createElement('div');\n",
              "      const label = document.createElement('label');\n",
              "      label.textContent = `Downloading \"${filename}\": `;\n",
              "      div.appendChild(label);\n",
              "      const progress = document.createElement('progress');\n",
              "      progress.max = size;\n",
              "      div.appendChild(progress);\n",
              "      document.body.appendChild(div);\n",
              "\n",
              "      const buffers = [];\n",
              "      let downloaded = 0;\n",
              "\n",
              "      const channel = await google.colab.kernel.comms.open(id);\n",
              "      // Send a message to notify the kernel that we're ready.\n",
              "      channel.send({})\n",
              "\n",
              "      for await (const message of channel.messages) {\n",
              "        // Send a message to notify the kernel that we're ready.\n",
              "        channel.send({})\n",
              "        if (message.buffers) {\n",
              "          for (const buffer of message.buffers) {\n",
              "            buffers.push(buffer);\n",
              "            downloaded += buffer.byteLength;\n",
              "            progress.value = downloaded;\n",
              "          }\n",
              "        }\n",
              "      }\n",
              "      const blob = new Blob(buffers, {type: 'application/binary'});\n",
              "      const a = document.createElement('a');\n",
              "      a.href = window.URL.createObjectURL(blob);\n",
              "      a.download = filename;\n",
              "      div.appendChild(a);\n",
              "      a.click();\n",
              "      div.remove();\n",
              "    }\n",
              "  "
            ],
            "text/plain": [
              "<IPython.core.display.Javascript object>"
            ]
          },
          "metadata": {
            "tags": []
          }
        },
        {
          "output_type": "display_data",
          "data": {
            "application/javascript": [
              "download(\"download_578ebfa2-b3fa-45be-b9d8-0c735000f764\", \"cats_and_dogs_full_small-2.85m.h5\", 18292504)"
            ],
            "text/plain": [
              "<IPython.core.display.Javascript object>"
            ]
          },
          "metadata": {
            "tags": []
          }
        }
      ]
    },
    {
      "cell_type": "code",
      "metadata": {
        "colab": {
          "base_uri": "https://localhost:8080/"
        },
        "id": "-cBI7VSwIuHU",
        "outputId": "c5c132f2-6ed4-46d2-af57-e3417c12221f"
      },
      "source": [
        "print(\"Evaluate the full model on small test data\")\n",
        "results = full_model.evaluate(test_generator)\n",
        "print(\"test loss, test acc:\", results)"
      ],
      "execution_count": 53,
      "outputs": [
        {
          "output_type": "stream",
          "text": [
            "Evaluate the full model on small test data\n",
            "50/50 [==============================] - 4s 77ms/step - loss: 0.3414 - acc: 0.9240\n",
            "test loss, test acc: [0.34140852093696594, 0.9240000247955322]\n"
          ],
          "name": "stdout"
        }
      ]
    },
    {
      "cell_type": "code",
      "metadata": {
        "colab": {
          "base_uri": "https://localhost:8080/",
          "height": 545
        },
        "id": "SsJo_omrIzj9",
        "outputId": "3189d36a-e681-4d35-bfac-341336f7733a"
      },
      "source": [
        "import matplotlib.pyplot as plt\n",
        "\n",
        "acc = history.history['acc']\n",
        "val_acc = history.history['val_acc']\n",
        "loss = history.history['loss']\n",
        "val_loss = history.history['val_loss']\n",
        "epochs = range(1, len(acc) + 1)\n",
        "\n",
        "plt.plot(epochs, acc, 'bo', label='Training acc')\n",
        "plt.plot(epochs, val_acc, 'b', label='Validation acc')\n",
        "plt.title('Training and validation accuracy')\n",
        "plt.legend()\n",
        "plt.figure()\n",
        "plt.plot(epochs, loss, 'bo', label='Training loss')\n",
        "plt.plot(epochs, val_loss, 'b', label='Validation loss')\n",
        "plt.title('Training and validation loss')\n",
        "plt.legend()\n",
        "plt.show()"
      ],
      "execution_count": 54,
      "outputs": [
        {
          "output_type": "display_data",
          "data": {
            "image/png": "[encoded data removed]",
            "text/plain": [
              "<Figure size 432x288 with 1 Axes>"
            ]
          },
          "metadata": {
            "tags": [],
            "needs_background": "light"
          }
        },
        {
          "output_type": "display_data",
          "data": {
            "image/png": "[encoded data removed]",
            "text/plain": [
              "<Figure size 432x288 with 1 Axes>"
            ]
          },
          "metadata": {
            "tags": [],
            "needs_background": "light"
          }
        }
      ]
    }
  ]
}