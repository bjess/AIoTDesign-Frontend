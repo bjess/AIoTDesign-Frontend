{
  "nbformat": 4,
  "nbformat_minor": 0,
  "metadata": {
    "colab": {
      "name": "transfervgg16-small2.ipynb",
      "provenance": [],
      "authorship_tag": "ABX9TyMoktdAbL3rb+0Yte4TwuXq",
      "include_colab_link": true
    },
    "kernelspec": {
      "name": "python3",
      "display_name": "Python 3"
    },
    "accelerator": "GPU"
  },
  "cells": [
    {
      "cell_type": "markdown",
      "metadata": {
        "id": "view-in-github",
        "colab_type": "text"
      },
      "source": [
        "<a href=\"https://colab.research.google.com/github/fwangliberty/AIoTDesign-Frontend/blob/master/transfervgg16_small2.ipynb\" target=\"_parent\"><img src=\"https://colab.research.google.com/assets/colab-badge.svg\" alt=\"Open In Colab\"/></a>"
      ]
    },
    {
      "cell_type": "markdown",
      "metadata": {
        "id": "Cv5NXr4G5ADU"
      },
      "source": [
        "We continue our efforts to train a new small VGG model from the original VGG16 model. The first CONV block and the last CONV layer will be used in our small joint model. We will use small middle CONV layers to see how the simplification impacts the accuracy."
      ]
    },
    {
      "cell_type": "markdown",
      "metadata": {
        "id": "PfnrXdhg5rs5"
      },
      "source": [
        "# 1. Connecting to our Google Drive"
      ]
    },
    {
      "cell_type": "code",
      "metadata": {
        "colab": {
          "base_uri": "https://localhost:8080/"
        },
        "id": "gIbfgWHz435d",
        "outputId": "bbee8295-cf5f-45fa-9a16-5bcc9e36a791"
      },
      "source": [
        "from google.colab import drive\n",
        "drive.mount('/content/drive')"
      ],
      "execution_count": 3,
      "outputs": [
        {
          "output_type": "stream",
          "text": [
            "Mounted at /content/drive\n"
          ],
          "name": "stdout"
        }
      ]
    },
    {
      "cell_type": "code",
      "metadata": {
        "colab": {
          "base_uri": "https://localhost:8080/"
        },
        "id": "Zg-Z0Inv6xf3",
        "outputId": "53e217e3-13fc-45c9-f141-26aa15414161"
      },
      "source": [
        "!ls \"/content/drive/My Drive/small/\""
      ],
      "execution_count": 4,
      "outputs": [
        {
          "output_type": "stream",
          "text": [
            "test  train  validation\n"
          ],
          "name": "stdout"
        }
      ]
    },
    {
      "cell_type": "markdown",
      "metadata": {
        "id": "SXlaVFPz7VIW"
      },
      "source": [
        "#2. Prepare dataset"
      ]
    },
    {
      "cell_type": "code",
      "metadata": {
        "id": "lcr1DbDi7i0l"
      },
      "source": [
        "import keras\n",
        "import os, shutil\n",
        "from keras import regularizers\n",
        "from keras.preprocessing.image import ImageDataGenerator\n",
        "from tensorflow.keras.models import load_model\n",
        "import tensorflow as tf\n",
        "import tensorflow.keras as keras\n",
        "from tensorflow.keras.models import Sequential\n",
        "from tensorflow.keras.layers import InputLayer\n",
        "import tensorflow.keras.backend as K\n",
        "from keras.applications import VGG16"
      ],
      "execution_count": 10,
      "outputs": []
    },
    {
      "cell_type": "markdown",
      "metadata": {
        "id": "Hz4LVRuc7qmG"
      },
      "source": [
        "The directory where we will store our smaller dataset"
      ]
    },
    {
      "cell_type": "code",
      "metadata": {
        "id": "17Yj8xwu7lCV"
      },
      "source": [
        "base_dir = '/content/drive/My Drive/small'"
      ],
      "execution_count": 11,
      "outputs": []
    },
    {
      "cell_type": "markdown",
      "metadata": {
        "id": "iq1WUkkY8DQe"
      },
      "source": [
        " Directories for our smaller training and validation splits "
      ]
    },
    {
      "cell_type": "code",
      "metadata": {
        "id": "rYB1SFmR8FJH"
      },
      "source": [
        "train_dir = os.path.join(base_dir, 'train')\n",
        "validation_dir = os.path.join(base_dir, 'validation')\n",
        "test_dir = os.path.join(base_dir, 'test')"
      ],
      "execution_count": 12,
      "outputs": []
    },
    {
      "cell_type": "markdown",
      "metadata": {
        "id": "O-XWsXvg8Xge"
      },
      "source": [
        "Build the train imagedatagenerator"
      ]
    },
    {
      "cell_type": "code",
      "metadata": {
        "id": "P1d4yp0w8Y4Q"
      },
      "source": [
        "train_datagen = ImageDataGenerator(\n",
        "      rescale=1./255,\n",
        "      rotation_range=40,\n",
        "      width_shift_range=0.2,\n",
        "      height_shift_range=0.2,\n",
        "      shear_range=0.1,\n",
        "      zoom_range=0.1,\n",
        "      horizontal_flip=True,\n",
        "      fill_mode='nearest')"
      ],
      "execution_count": 13,
      "outputs": []
    },
    {
      "cell_type": "markdown",
      "metadata": {
        "id": "tmD9EnBK8mi-"
      },
      "source": [
        "Note that the validation data should not be augmented!"
      ]
    },
    {
      "cell_type": "code",
      "metadata": {
        "id": "ATpMzR0p8n-w"
      },
      "source": [
        "test_datagen = ImageDataGenerator(rescale=1./255)"
      ],
      "execution_count": 14,
      "outputs": []
    },
    {
      "cell_type": "code",
      "metadata": {
        "colab": {
          "base_uri": "https://localhost:8080/"
        },
        "id": "WIrOdni68s2H",
        "outputId": "bd42d35c-a9b3-479c-e6f1-fc2b385cbe72"
      },
      "source": [
        "train_generator = train_datagen.flow_from_directory(\n",
        "        # This is the target directory\n",
        "        train_dir,\n",
        "        # All images will be resized to 150x150\n",
        "        target_size=(150, 150),\n",
        "        batch_size=20,\n",
        "        # Since we use binary_crossentropy loss, we need binary labels\n",
        "        class_mode='binary')"
      ],
      "execution_count": 15,
      "outputs": [
        {
          "output_type": "stream",
          "text": [
            "Found 2000 images belonging to 2 classes.\n"
          ],
          "name": "stdout"
        }
      ]
    },
    {
      "cell_type": "code",
      "metadata": {
        "colab": {
          "base_uri": "https://localhost:8080/"
        },
        "id": "VQGAct1s8wFB",
        "outputId": "86efa933-43d2-4dae-bc94-d9798b08edca"
      },
      "source": [
        "validation_generator = test_datagen.flow_from_directory(\n",
        "        validation_dir,\n",
        "        target_size=(150, 150),\n",
        "        batch_size=20,\n",
        "        class_mode='binary')"
      ],
      "execution_count": 16,
      "outputs": [
        {
          "output_type": "stream",
          "text": [
            "Found 1000 images belonging to 2 classes.\n"
          ],
          "name": "stdout"
        }
      ]
    },
    {
      "cell_type": "code",
      "metadata": {
        "colab": {
          "base_uri": "https://localhost:8080/"
        },
        "id": "Muvd8ReV80qn",
        "outputId": "cfee2994-8db6-47f8-d121-d61b6783da06"
      },
      "source": [
        "test_generator = test_datagen.flow_from_directory(\n",
        "         test_dir,\n",
        "         target_size=(150, 150),\n",
        "         batch_size=20,\n",
        "         class_mode='binary')"
      ],
      "execution_count": 17,
      "outputs": [
        {
          "output_type": "stream",
          "text": [
            "Found 1000 images belonging to 2 classes.\n"
          ],
          "name": "stdout"
        }
      ]
    },
    {
      "cell_type": "markdown",
      "metadata": {
        "id": "eivnb5n49AzH"
      },
      "source": [
        "# 3. Import VGG16 model"
      ]
    },
    {
      "cell_type": "code",
      "metadata": {
        "colab": {
          "base_uri": "https://localhost:8080/"
        },
        "id": "WeRc6siY9E4H",
        "outputId": "429510ac-2818-468b-b94e-7c71444b1a01"
      },
      "source": [
        "vgg16 = keras.applications.vgg16\n",
        "conv_model = vgg16.VGG16(weights='imagenet', include_top=False, input_shape=(150,150,3))\n",
        "conv_model.summary()"
      ],
      "execution_count": 18,
      "outputs": [
        {
          "output_type": "stream",
          "text": [
            "Downloading data from https://storage.googleapis.com/tensorflow/keras-applications/vgg16/vgg16_weights_tf_dim_ordering_tf_kernels_notop.h5\n",
            "58892288/58889256 [==============================] - 0s 0us/step\n",
            "Model: \"vgg16\"\n",
            "_________________________________________________________________\n",
            "Layer (type)                 Output Shape              Param #   \n",
            "=================================================================\n",
            "input_1 (InputLayer)         [(None, 150, 150, 3)]     0         \n",
            "_________________________________________________________________\n",
            "block1_conv1 (Conv2D)        (None, 150, 150, 64)      1792      \n",
            "_________________________________________________________________\n",
            "block1_conv2 (Conv2D)        (None, 150, 150, 64)      36928     \n",
            "_________________________________________________________________\n",
            "block1_pool (MaxPooling2D)   (None, 75, 75, 64)        0         \n",
            "_________________________________________________________________\n",
            "block2_conv1 (Conv2D)        (None, 75, 75, 128)       73856     \n",
            "_________________________________________________________________\n",
            "block2_conv2 (Conv2D)        (None, 75, 75, 128)       147584    \n",
            "_________________________________________________________________\n",
            "block2_pool (MaxPooling2D)   (None, 37, 37, 128)       0         \n",
            "_________________________________________________________________\n",
            "block3_conv1 (Conv2D)        (None, 37, 37, 256)       295168    \n",
            "_________________________________________________________________\n",
            "block3_conv2 (Conv2D)        (None, 37, 37, 256)       590080    \n",
            "_________________________________________________________________\n",
            "block3_conv3 (Conv2D)        (None, 37, 37, 256)       590080    \n",
            "_________________________________________________________________\n",
            "block3_pool (MaxPooling2D)   (None, 18, 18, 256)       0         \n",
            "_________________________________________________________________\n",
            "block4_conv1 (Conv2D)        (None, 18, 18, 512)       1180160   \n",
            "_________________________________________________________________\n",
            "block4_conv2 (Conv2D)        (None, 18, 18, 512)       2359808   \n",
            "_________________________________________________________________\n",
            "block4_conv3 (Conv2D)        (None, 18, 18, 512)       2359808   \n",
            "_________________________________________________________________\n",
            "block4_pool (MaxPooling2D)   (None, 9, 9, 512)         0         \n",
            "_________________________________________________________________\n",
            "block5_conv1 (Conv2D)        (None, 9, 9, 512)         2359808   \n",
            "_________________________________________________________________\n",
            "block5_conv2 (Conv2D)        (None, 9, 9, 512)         2359808   \n",
            "_________________________________________________________________\n",
            "block5_conv3 (Conv2D)        (None, 9, 9, 512)         2359808   \n",
            "_________________________________________________________________\n",
            "block5_pool (MaxPooling2D)   (None, 4, 4, 512)         0         \n",
            "=================================================================\n",
            "Total params: 14,714,688\n",
            "Trainable params: 14,714,688\n",
            "Non-trainable params: 0\n",
            "_________________________________________________________________\n"
          ],
          "name": "stdout"
        }
      ]
    },
    {
      "cell_type": "markdown",
      "metadata": {
        "id": "9sqAZWWSB_qN"
      },
      "source": [
        "We lock all the layers of the convolutional part:"
      ]
    },
    {
      "cell_type": "code",
      "metadata": {
        "id": "PZjiVAKRB-gm"
      },
      "source": [
        "for layer in conv_model.layers:\n",
        "    layer.trainable = False"
      ],
      "execution_count": 19,
      "outputs": []
    },
    {
      "cell_type": "markdown",
      "metadata": {
        "id": "Zoa7sETI9WFW"
      },
      "source": [
        "Reduce the number of filters in the last CONV block."
      ]
    },
    {
      "cell_type": "code",
      "metadata": {
        "colab": {
          "base_uri": "https://localhost:8080/"
        },
        "id": "SySoEvKb9gTI",
        "outputId": "109527ba-dc6c-4fab-f04e-3d7cacd05692"
      },
      "source": [
        "#x=tf.keras.layers.Conv2D(256,3,padding='same',activation='relu',)(conv_model.layers[6].output)\n",
        "x=tf.keras.layers.MaxPooling2D(2)(conv_model.layers[7].output)\n",
        "x=tf.keras.layers.Conv2D(256,3,padding='same',activation='relu',)(x)\n",
        "x=tf.keras.layers.MaxPooling2D(2)(x)\n",
        "x=tf.keras.layers.Conv2D(256,3,padding='same',activation='relu',)(x)\n",
        "x=tf.keras.layers.MaxPooling2D(2)(x)\n",
        "x = tf.keras.layers.Flatten()(x)\n",
        "# one dropout layer\n",
        "x = keras.layers.Dropout(0.2)(x)\n",
        "# one hidden layer\n",
        "x = keras.layers.Dense(256, activation='relu')(x)\n",
        "# final softmax layer with two categories (dog and cat)\n",
        "predictions = keras.layers.Dense(1, activation='sigmoid')(x)\n",
        "\n",
        "# creating the full model:\n",
        "full_model = keras.models.Model(inputs=conv_model.input, outputs=predictions)\n",
        "full_model.summary()"
      ],
      "execution_count": 29,
      "outputs": [
        {
          "output_type": "stream",
          "text": [
            "Model: \"functional_5\"\n",
            "_________________________________________________________________\n",
            "Layer (type)                 Output Shape              Param #   \n",
            "=================================================================\n",
            "input_1 (InputLayer)         [(None, 150, 150, 3)]     0         \n",
            "_________________________________________________________________\n",
            "block1_conv1 (Conv2D)        (None, 150, 150, 64)      1792      \n",
            "_________________________________________________________________\n",
            "block1_conv2 (Conv2D)        (None, 150, 150, 64)      36928     \n",
            "_________________________________________________________________\n",
            "block1_pool (MaxPooling2D)   (None, 75, 75, 64)        0         \n",
            "_________________________________________________________________\n",
            "block2_conv1 (Conv2D)        (None, 75, 75, 128)       73856     \n",
            "_________________________________________________________________\n",
            "block2_conv2 (Conv2D)        (None, 75, 75, 128)       147584    \n",
            "_________________________________________________________________\n",
            "block2_pool (MaxPooling2D)   (None, 37, 37, 128)       0         \n",
            "_________________________________________________________________\n",
            "block3_conv1 (Conv2D)        (None, 37, 37, 256)       295168    \n",
            "_________________________________________________________________\n",
            "max_pooling2d_5 (MaxPooling2 (None, 18, 18, 256)       0         \n",
            "_________________________________________________________________\n",
            "conv2d_5 (Conv2D)            (None, 18, 18, 256)       590080    \n",
            "_________________________________________________________________\n",
            "max_pooling2d_6 (MaxPooling2 (None, 9, 9, 256)         0         \n",
            "_________________________________________________________________\n",
            "conv2d_6 (Conv2D)            (None, 9, 9, 256)         590080    \n",
            "_________________________________________________________________\n",
            "max_pooling2d_7 (MaxPooling2 (None, 4, 4, 256)         0         \n",
            "_________________________________________________________________\n",
            "flatten_2 (Flatten)          (None, 4096)              0         \n",
            "_________________________________________________________________\n",
            "dropout_2 (Dropout)          (None, 4096)              0         \n",
            "_________________________________________________________________\n",
            "dense_4 (Dense)              (None, 256)               1048832   \n",
            "_________________________________________________________________\n",
            "dense_5 (Dense)              (None, 1)                 257       \n",
            "=================================================================\n",
            "Total params: 2,784,577\n",
            "Trainable params: 2,229,249\n",
            "Non-trainable params: 555,328\n",
            "_________________________________________________________________\n"
          ],
          "name": "stdout"
        }
      ]
    },
    {
      "cell_type": "markdown",
      "metadata": {
        "id": "6C1wDoRbCeBG"
      },
      "source": [
        "Now compile and train the model"
      ]
    },
    {
      "cell_type": "code",
      "metadata": {
        "colab": {
          "base_uri": "https://localhost:8080/"
        },
        "id": "z7IacWnYCeu_",
        "outputId": "17bc4c5a-cc54-4660-e46f-ab1d27bdfbfc"
      },
      "source": [
        "full_model.compile(loss='binary_crossentropy',\n",
        "              optimizer=keras.optimizers.RMSprop(lr=2e-5),\n",
        "              #optimizer=keras.optimizers.Adamax(lr=0.001),\n",
        "              metrics=['acc'])\n",
        "\t\t\t  \n",
        "history = full_model.fit(\n",
        "      train_generator,\n",
        "      steps_per_epoch=100,\n",
        "      epochs=100,\n",
        "      validation_data=validation_generator,\n",
        "      validation_steps=50)"
      ],
      "execution_count": 30,
      "outputs": [
        {
          "output_type": "stream",
          "text": [
            "Epoch 1/100\n",
            "100/100 [==============================] - 21s 213ms/step - loss: 2.3622 - acc: 0.5100 - val_loss: 1.2837 - val_acc: 0.5750\n",
            "Epoch 2/100\n",
            "100/100 [==============================] - 22s 218ms/step - loss: 1.3271 - acc: 0.5705 - val_loss: 0.6469 - val_acc: 0.6720\n",
            "Epoch 3/100\n",
            "100/100 [==============================] - 21s 208ms/step - loss: 0.9669 - acc: 0.5995 - val_loss: 0.7262 - val_acc: 0.6610\n",
            "Epoch 4/100\n",
            "100/100 [==============================] - 21s 209ms/step - loss: 0.8361 - acc: 0.6180 - val_loss: 0.8208 - val_acc: 0.6050\n",
            "Epoch 5/100\n",
            "100/100 [==============================] - 21s 207ms/step - loss: 0.7703 - acc: 0.6325 - val_loss: 0.6722 - val_acc: 0.6350\n",
            "Epoch 6/100\n",
            "100/100 [==============================] - 21s 210ms/step - loss: 0.7203 - acc: 0.6400 - val_loss: 0.5151 - val_acc: 0.7370\n",
            "Epoch 7/100\n",
            "100/100 [==============================] - 21s 212ms/step - loss: 0.6715 - acc: 0.6555 - val_loss: 0.5196 - val_acc: 0.7270\n",
            "Epoch 8/100\n",
            "100/100 [==============================] - 21s 210ms/step - loss: 0.6682 - acc: 0.6485 - val_loss: 0.5056 - val_acc: 0.7330\n",
            "Epoch 9/100\n",
            "100/100 [==============================] - 21s 206ms/step - loss: 0.6363 - acc: 0.6735 - val_loss: 0.5245 - val_acc: 0.7300\n",
            "Epoch 10/100\n",
            "100/100 [==============================] - 20s 203ms/step - loss: 0.6149 - acc: 0.6760 - val_loss: 0.5402 - val_acc: 0.7230\n",
            "Epoch 11/100\n",
            "100/100 [==============================] - 20s 202ms/step - loss: 0.6202 - acc: 0.6795 - val_loss: 0.4853 - val_acc: 0.7640\n",
            "Epoch 12/100\n",
            "100/100 [==============================] - 20s 204ms/step - loss: 0.5967 - acc: 0.7045 - val_loss: 0.4716 - val_acc: 0.7740\n",
            "Epoch 13/100\n",
            "100/100 [==============================] - 20s 203ms/step - loss: 0.5877 - acc: 0.7015 - val_loss: 0.5370 - val_acc: 0.7290\n",
            "Epoch 14/100\n",
            "100/100 [==============================] - 20s 202ms/step - loss: 0.5808 - acc: 0.6960 - val_loss: 0.4909 - val_acc: 0.7590\n",
            "Epoch 15/100\n",
            "100/100 [==============================] - 20s 204ms/step - loss: 0.5867 - acc: 0.6955 - val_loss: 0.4514 - val_acc: 0.7940\n",
            "Epoch 16/100\n",
            "100/100 [==============================] - 21s 205ms/step - loss: 0.5695 - acc: 0.7070 - val_loss: 0.4480 - val_acc: 0.7900\n",
            "Epoch 17/100\n",
            "100/100 [==============================] - 21s 208ms/step - loss: 0.5771 - acc: 0.7025 - val_loss: 0.4658 - val_acc: 0.7750\n",
            "Epoch 18/100\n",
            "100/100 [==============================] - 20s 204ms/step - loss: 0.5471 - acc: 0.7240 - val_loss: 0.4399 - val_acc: 0.8020\n",
            "Epoch 19/100\n",
            "100/100 [==============================] - 21s 205ms/step - loss: 0.5677 - acc: 0.7185 - val_loss: 0.4439 - val_acc: 0.7850\n",
            "Epoch 20/100\n",
            "100/100 [==============================] - 21s 213ms/step - loss: 0.5438 - acc: 0.7350 - val_loss: 0.4752 - val_acc: 0.7620\n",
            "Epoch 21/100\n",
            "100/100 [==============================] - 21s 213ms/step - loss: 0.5473 - acc: 0.7245 - val_loss: 0.4243 - val_acc: 0.7990\n",
            "Epoch 22/100\n",
            "100/100 [==============================] - 22s 216ms/step - loss: 0.5425 - acc: 0.7360 - val_loss: 0.4190 - val_acc: 0.7950\n",
            "Epoch 23/100\n",
            "100/100 [==============================] - 21s 208ms/step - loss: 0.5335 - acc: 0.7485 - val_loss: 0.4377 - val_acc: 0.8000\n",
            "Epoch 24/100\n",
            "100/100 [==============================] - 21s 205ms/step - loss: 0.5312 - acc: 0.7390 - val_loss: 0.4048 - val_acc: 0.8120\n",
            "Epoch 25/100\n",
            "100/100 [==============================] - 21s 208ms/step - loss: 0.5230 - acc: 0.7395 - val_loss: 0.4212 - val_acc: 0.7940\n",
            "Epoch 26/100\n",
            "100/100 [==============================] - 21s 208ms/step - loss: 0.5290 - acc: 0.7295 - val_loss: 0.4143 - val_acc: 0.8070\n",
            "Epoch 27/100\n",
            "100/100 [==============================] - 20s 205ms/step - loss: 0.5139 - acc: 0.7510 - val_loss: 0.4211 - val_acc: 0.8140\n",
            "Epoch 28/100\n",
            "100/100 [==============================] - 21s 206ms/step - loss: 0.5133 - acc: 0.7655 - val_loss: 0.4065 - val_acc: 0.8180\n",
            "Epoch 29/100\n",
            "100/100 [==============================] - 21s 208ms/step - loss: 0.5078 - acc: 0.7505 - val_loss: 0.4079 - val_acc: 0.8130\n",
            "Epoch 30/100\n",
            "100/100 [==============================] - 21s 205ms/step - loss: 0.4950 - acc: 0.7585 - val_loss: 0.3839 - val_acc: 0.8310\n",
            "Epoch 31/100\n",
            "100/100 [==============================] - 21s 211ms/step - loss: 0.4749 - acc: 0.7690 - val_loss: 0.4164 - val_acc: 0.7960\n",
            "Epoch 32/100\n",
            "100/100 [==============================] - 21s 207ms/step - loss: 0.4905 - acc: 0.7735 - val_loss: 0.3860 - val_acc: 0.8120\n",
            "Epoch 33/100\n",
            "100/100 [==============================] - 20s 205ms/step - loss: 0.5115 - acc: 0.7535 - val_loss: 0.4082 - val_acc: 0.8160\n",
            "Epoch 34/100\n",
            "100/100 [==============================] - 21s 207ms/step - loss: 0.4915 - acc: 0.7525 - val_loss: 0.3884 - val_acc: 0.8190\n",
            "Epoch 35/100\n",
            "100/100 [==============================] - 21s 207ms/step - loss: 0.4856 - acc: 0.7780 - val_loss: 0.3802 - val_acc: 0.8310\n",
            "Epoch 36/100\n",
            "100/100 [==============================] - 21s 208ms/step - loss: 0.4748 - acc: 0.7765 - val_loss: 0.4134 - val_acc: 0.8160\n",
            "Epoch 37/100\n",
            "100/100 [==============================] - 21s 207ms/step - loss: 0.4600 - acc: 0.7785 - val_loss: 0.3718 - val_acc: 0.8370\n",
            "Epoch 38/100\n",
            "100/100 [==============================] - 21s 206ms/step - loss: 0.4737 - acc: 0.7840 - val_loss: 0.3928 - val_acc: 0.8120\n",
            "Epoch 39/100\n",
            "100/100 [==============================] - 21s 206ms/step - loss: 0.4709 - acc: 0.7685 - val_loss: 0.4086 - val_acc: 0.8100\n",
            "Epoch 40/100\n",
            "100/100 [==============================] - 20s 204ms/step - loss: 0.4610 - acc: 0.7805 - val_loss: 0.3633 - val_acc: 0.8430\n",
            "Epoch 41/100\n",
            "100/100 [==============================] - 21s 207ms/step - loss: 0.4723 - acc: 0.7760 - val_loss: 0.4198 - val_acc: 0.8070\n",
            "Epoch 42/100\n",
            "100/100 [==============================] - 20s 205ms/step - loss: 0.4523 - acc: 0.7940 - val_loss: 0.3803 - val_acc: 0.8360\n",
            "Epoch 43/100\n",
            "100/100 [==============================] - 21s 205ms/step - loss: 0.4588 - acc: 0.7915 - val_loss: 0.3635 - val_acc: 0.8350\n",
            "Epoch 44/100\n",
            "100/100 [==============================] - 20s 205ms/step - loss: 0.4609 - acc: 0.7895 - val_loss: 0.3669 - val_acc: 0.8450\n",
            "Epoch 45/100\n",
            "100/100 [==============================] - 20s 203ms/step - loss: 0.4533 - acc: 0.7835 - val_loss: 0.3622 - val_acc: 0.8450\n",
            "Epoch 46/100\n",
            "100/100 [==============================] - 21s 209ms/step - loss: 0.4457 - acc: 0.7835 - val_loss: 0.3741 - val_acc: 0.8280\n",
            "Epoch 47/100\n",
            "100/100 [==============================] - 21s 206ms/step - loss: 0.4495 - acc: 0.7920 - val_loss: 0.3719 - val_acc: 0.8430\n",
            "Epoch 48/100\n",
            "100/100 [==============================] - 21s 206ms/step - loss: 0.4376 - acc: 0.8005 - val_loss: 0.3878 - val_acc: 0.8210\n",
            "Epoch 49/100\n",
            "100/100 [==============================] - 20s 204ms/step - loss: 0.4415 - acc: 0.7950 - val_loss: 0.4507 - val_acc: 0.7850\n",
            "Epoch 50/100\n",
            "100/100 [==============================] - 20s 203ms/step - loss: 0.4506 - acc: 0.7995 - val_loss: 0.4087 - val_acc: 0.8200\n",
            "Epoch 51/100\n",
            "100/100 [==============================] - 20s 204ms/step - loss: 0.4346 - acc: 0.8045 - val_loss: 0.3469 - val_acc: 0.8500\n",
            "Epoch 52/100\n",
            "100/100 [==============================] - 20s 203ms/step - loss: 0.4247 - acc: 0.8090 - val_loss: 0.3365 - val_acc: 0.8580\n",
            "Epoch 53/100\n",
            "100/100 [==============================] - 20s 202ms/step - loss: 0.4174 - acc: 0.8115 - val_loss: 0.3904 - val_acc: 0.8220\n",
            "Epoch 54/100\n",
            "100/100 [==============================] - 20s 204ms/step - loss: 0.4056 - acc: 0.8105 - val_loss: 0.3388 - val_acc: 0.8540\n",
            "Epoch 55/100\n",
            "100/100 [==============================] - 20s 205ms/step - loss: 0.4317 - acc: 0.8055 - val_loss: 0.3510 - val_acc: 0.8320\n",
            "Epoch 56/100\n",
            "100/100 [==============================] - 20s 202ms/step - loss: 0.4211 - acc: 0.8110 - val_loss: 0.3469 - val_acc: 0.8520\n",
            "Epoch 57/100\n",
            "100/100 [==============================] - 20s 203ms/step - loss: 0.4104 - acc: 0.8060 - val_loss: 0.3414 - val_acc: 0.8620\n",
            "Epoch 58/100\n",
            "100/100 [==============================] - 20s 204ms/step - loss: 0.4099 - acc: 0.8080 - val_loss: 0.3379 - val_acc: 0.8570\n",
            "Epoch 59/100\n",
            "100/100 [==============================] - 20s 202ms/step - loss: 0.4107 - acc: 0.8165 - val_loss: 0.3489 - val_acc: 0.8520\n",
            "Epoch 60/100\n",
            "100/100 [==============================] - 20s 204ms/step - loss: 0.4024 - acc: 0.8175 - val_loss: 0.3245 - val_acc: 0.8570\n",
            "Epoch 61/100\n",
            "100/100 [==============================] - 21s 207ms/step - loss: 0.4188 - acc: 0.8180 - val_loss: 0.3458 - val_acc: 0.8510\n",
            "Epoch 62/100\n",
            "100/100 [==============================] - 21s 205ms/step - loss: 0.4087 - acc: 0.8160 - val_loss: 0.3342 - val_acc: 0.8540\n",
            "Epoch 63/100\n",
            "100/100 [==============================] - 20s 205ms/step - loss: 0.3839 - acc: 0.8230 - val_loss: 0.3577 - val_acc: 0.8470\n",
            "Epoch 64/100\n",
            "100/100 [==============================] - 20s 203ms/step - loss: 0.3723 - acc: 0.8340 - val_loss: 0.3569 - val_acc: 0.8510\n",
            "Epoch 65/100\n",
            "100/100 [==============================] - 20s 202ms/step - loss: 0.3771 - acc: 0.8295 - val_loss: 0.3512 - val_acc: 0.8460\n",
            "Epoch 66/100\n",
            "100/100 [==============================] - 20s 205ms/step - loss: 0.3925 - acc: 0.8245 - val_loss: 0.3125 - val_acc: 0.8750\n",
            "Epoch 67/100\n",
            "100/100 [==============================] - 20s 203ms/step - loss: 0.3865 - acc: 0.8330 - val_loss: 0.4032 - val_acc: 0.8160\n",
            "Epoch 68/100\n",
            "100/100 [==============================] - 20s 202ms/step - loss: 0.3850 - acc: 0.8275 - val_loss: 0.3207 - val_acc: 0.8700\n",
            "Epoch 69/100\n",
            "100/100 [==============================] - 20s 202ms/step - loss: 0.3817 - acc: 0.8390 - val_loss: 0.3182 - val_acc: 0.8650\n",
            "Epoch 70/100\n",
            "100/100 [==============================] - 20s 203ms/step - loss: 0.3900 - acc: 0.8305 - val_loss: 0.3774 - val_acc: 0.8380\n",
            "Epoch 71/100\n",
            "100/100 [==============================] - 20s 202ms/step - loss: 0.3868 - acc: 0.8205 - val_loss: 0.3206 - val_acc: 0.8650\n",
            "Epoch 72/100\n",
            "100/100 [==============================] - 20s 204ms/step - loss: 0.3674 - acc: 0.8350 - val_loss: 0.3119 - val_acc: 0.8660\n",
            "Epoch 73/100\n",
            "100/100 [==============================] - 20s 204ms/step - loss: 0.3783 - acc: 0.8300 - val_loss: 0.3255 - val_acc: 0.8620\n",
            "Epoch 74/100\n",
            "100/100 [==============================] - 20s 203ms/step - loss: 0.3674 - acc: 0.8330 - val_loss: 0.3059 - val_acc: 0.8780\n",
            "Epoch 75/100\n",
            "100/100 [==============================] - 20s 203ms/step - loss: 0.3724 - acc: 0.8340 - val_loss: 0.3031 - val_acc: 0.8630\n",
            "Epoch 76/100\n",
            "100/100 [==============================] - 21s 205ms/step - loss: 0.3635 - acc: 0.8380 - val_loss: 0.3478 - val_acc: 0.8510\n",
            "Epoch 77/100\n",
            "100/100 [==============================] - 21s 206ms/step - loss: 0.3601 - acc: 0.8390 - val_loss: 0.3037 - val_acc: 0.8710\n",
            "Epoch 78/100\n",
            "100/100 [==============================] - 21s 206ms/step - loss: 0.3554 - acc: 0.8455 - val_loss: 0.3242 - val_acc: 0.8640\n",
            "Epoch 79/100\n",
            "100/100 [==============================] - 20s 203ms/step - loss: 0.3520 - acc: 0.8485 - val_loss: 0.3071 - val_acc: 0.8600\n",
            "Epoch 80/100\n",
            "100/100 [==============================] - 20s 202ms/step - loss: 0.3583 - acc: 0.8410 - val_loss: 0.2946 - val_acc: 0.8730\n",
            "Epoch 81/100\n",
            "100/100 [==============================] - 20s 203ms/step - loss: 0.3653 - acc: 0.8370 - val_loss: 0.2941 - val_acc: 0.8710\n",
            "Epoch 82/100\n",
            "100/100 [==============================] - 20s 205ms/step - loss: 0.3480 - acc: 0.8450 - val_loss: 0.3216 - val_acc: 0.8680\n",
            "Epoch 83/100\n",
            "100/100 [==============================] - 20s 202ms/step - loss: 0.3492 - acc: 0.8450 - val_loss: 0.3257 - val_acc: 0.8670\n",
            "Epoch 84/100\n",
            "100/100 [==============================] - 20s 202ms/step - loss: 0.3595 - acc: 0.8340 - val_loss: 0.4071 - val_acc: 0.8270\n",
            "Epoch 85/100\n",
            "100/100 [==============================] - 20s 202ms/step - loss: 0.3404 - acc: 0.8485 - val_loss: 0.3014 - val_acc: 0.8850\n",
            "Epoch 86/100\n",
            "100/100 [==============================] - 20s 204ms/step - loss: 0.3370 - acc: 0.8535 - val_loss: 0.4093 - val_acc: 0.8370\n",
            "Epoch 87/100\n",
            "100/100 [==============================] - 20s 204ms/step - loss: 0.3389 - acc: 0.8615 - val_loss: 0.3094 - val_acc: 0.8670\n",
            "Epoch 88/100\n",
            "100/100 [==============================] - 20s 202ms/step - loss: 0.3381 - acc: 0.8580 - val_loss: 0.2973 - val_acc: 0.8690\n",
            "Epoch 89/100\n",
            "100/100 [==============================] - 20s 202ms/step - loss: 0.3505 - acc: 0.8505 - val_loss: 0.2982 - val_acc: 0.8760\n",
            "Epoch 90/100\n",
            "100/100 [==============================] - 20s 204ms/step - loss: 0.3336 - acc: 0.8550 - val_loss: 0.3025 - val_acc: 0.8690\n",
            "Epoch 91/100\n",
            "100/100 [==============================] - 20s 202ms/step - loss: 0.3494 - acc: 0.8540 - val_loss: 0.3605 - val_acc: 0.8280\n",
            "Epoch 92/100\n",
            "100/100 [==============================] - 21s 208ms/step - loss: 0.3275 - acc: 0.8565 - val_loss: 0.2901 - val_acc: 0.8820\n",
            "Epoch 93/100\n",
            "100/100 [==============================] - 20s 204ms/step - loss: 0.3392 - acc: 0.8560 - val_loss: 0.3431 - val_acc: 0.8710\n",
            "Epoch 94/100\n",
            "100/100 [==============================] - 20s 202ms/step - loss: 0.3350 - acc: 0.8575 - val_loss: 0.2852 - val_acc: 0.8860\n",
            "Epoch 95/100\n",
            "100/100 [==============================] - 20s 201ms/step - loss: 0.3165 - acc: 0.8650 - val_loss: 0.4083 - val_acc: 0.8220\n",
            "Epoch 96/100\n",
            "100/100 [==============================] - 20s 203ms/step - loss: 0.3229 - acc: 0.8530 - val_loss: 0.2926 - val_acc: 0.8660\n",
            "Epoch 97/100\n",
            "100/100 [==============================] - 20s 202ms/step - loss: 0.3181 - acc: 0.8715 - val_loss: 0.3015 - val_acc: 0.8730\n",
            "Epoch 98/100\n",
            "100/100 [==============================] - 20s 203ms/step - loss: 0.3188 - acc: 0.8620 - val_loss: 0.2933 - val_acc: 0.8710\n",
            "Epoch 99/100\n",
            "100/100 [==============================] - 20s 202ms/step - loss: 0.3173 - acc: 0.8670 - val_loss: 0.2854 - val_acc: 0.8710\n",
            "Epoch 100/100\n",
            "100/100 [==============================] - 20s 201ms/step - loss: 0.3146 - acc: 0.8635 - val_loss: 0.4394 - val_acc: 0.8150\n"
          ],
          "name": "stdout"
        }
      ]
    },
    {
      "cell_type": "code",
      "metadata": {
        "id": "0c__H05nHCr-"
      },
      "source": [
        "full_model.save('cats_and_dogs_full_small2.h5')"
      ],
      "execution_count": 23,
      "outputs": []
    },
    {
      "cell_type": "code",
      "metadata": {
        "colab": {
          "base_uri": "https://localhost:8080/",
          "height": 17
        },
        "id": "xphUOheTJQsA",
        "outputId": "73ac5035-aaef-49e8-83d8-88dffae5b5a9"
      },
      "source": [
        "from google.colab import files\n",
        "files.download(\"cats_and_dogs_full_small2.h5\")"
      ],
      "execution_count": 24,
      "outputs": [
        {
          "output_type": "display_data",
          "data": {
            "application/javascript": [
              "\n",
              "    async function download(id, filename, size) {\n",
              "      if (!google.colab.kernel.accessAllowed) {\n",
              "        return;\n",
              "      }\n",
              "      const div = document.createElement('div');\n",
              "      const label = document.createElement('label');\n",
              "      label.textContent = `Downloading \"${filename}\": `;\n",
              "      div.appendChild(label);\n",
              "      const progress = document.createElement('progress');\n",
              "      progress.max = size;\n",
              "      div.appendChild(progress);\n",
              "      document.body.appendChild(div);\n",
              "\n",
              "      const buffers = [];\n",
              "      let downloaded = 0;\n",
              "\n",
              "      const channel = await google.colab.kernel.comms.open(id);\n",
              "      // Send a message to notify the kernel that we're ready.\n",
              "      channel.send({})\n",
              "\n",
              "      for await (const message of channel.messages) {\n",
              "        // Send a message to notify the kernel that we're ready.\n",
              "        channel.send({})\n",
              "        if (message.buffers) {\n",
              "          for (const buffer of message.buffers) {\n",
              "            buffers.push(buffer);\n",
              "            downloaded += buffer.byteLength;\n",
              "            progress.value = downloaded;\n",
              "          }\n",
              "        }\n",
              "      }\n",
              "      const blob = new Blob(buffers, {type: 'application/binary'});\n",
              "      const a = document.createElement('a');\n",
              "      a.href = window.URL.createObjectURL(blob);\n",
              "      a.download = filename;\n",
              "      div.appendChild(a);\n",
              "      a.click();\n",
              "      div.remove();\n",
              "    }\n",
              "  "
            ],
            "text/plain": [
              "<IPython.core.display.Javascript object>"
            ]
          },
          "metadata": {
            "tags": []
          }
        },
        {
          "output_type": "display_data",
          "data": {
            "application/javascript": [
              "download(\"download_ff45e513-14c5-4771-ba8c-43749fd1ace3\", \"cats_and_dogs_full_small.h5\", 24854152)"
            ],
            "text/plain": [
              "<IPython.core.display.Javascript object>"
            ]
          },
          "metadata": {
            "tags": []
          }
        }
      ]
    },
    {
      "cell_type": "code",
      "metadata": {
        "colab": {
          "base_uri": "https://localhost:8080/"
        },
        "id": "-cBI7VSwIuHU",
        "outputId": "1a309cf7-8680-473f-b9a8-dab1c9ea9489"
      },
      "source": [
        "print(\"Evaluate the full model on small test data\")\n",
        "results = full_model.evaluate(test_generator)\n",
        "print(\"test loss, test acc:\", results)"
      ],
      "execution_count": 31,
      "outputs": [
        {
          "output_type": "stream",
          "text": [
            "Evaluate the full model on small test data\n",
            "50/50 [==============================] - 4s 75ms/step - loss: 0.4851 - acc: 0.8000\n",
            "test loss, test acc: [0.48508360981941223, 0.800000011920929]\n"
          ],
          "name": "stdout"
        }
      ]
    },
    {
      "cell_type": "code",
      "metadata": {
        "colab": {
          "base_uri": "https://localhost:8080/",
          "height": 545
        },
        "id": "SsJo_omrIzj9",
        "outputId": "3ad11231-779b-4994-84aa-5b4cb9ee03b9"
      },
      "source": [
        "import matplotlib.pyplot as plt\n",
        "\n",
        "acc = history.history['acc']\n",
        "val_acc = history.history['val_acc']\n",
        "loss = history.history['loss']\n",
        "val_loss = history.history['val_loss']\n",
        "epochs = range(1, len(acc) + 1)\n",
        "\n",
        "plt.plot(epochs, acc, 'bo', label='Training acc')\n",
        "plt.plot(epochs, val_acc, 'b', label='Validation acc')\n",
        "plt.title('Training and validation accuracy')\n",
        "plt.legend()\n",
        "plt.figure()\n",
        "plt.plot(epochs, loss, 'bo', label='Training loss')\n",
        "plt.plot(epochs, val_loss, 'b', label='Validation loss')\n",
        "plt.title('Training and validation loss')\n",
        "plt.legend()\n",
        "plt.show()"
      ],
      "execution_count": 32,
      "outputs": [
        {
          "output_type": "display_data",
          "data": {
            "image/png": "[encoded data removed]",
            "text/plain": [
              "<Figure size 432x288 with 1 Axes>"
            ]
          },
          "metadata": {
            "tags": [],
            "needs_background": "light"
          }
        },
        {
          "output_type": "display_data",
          "data": {
            "image/png": "[encoded data removed]",
            "text/plain": [
              "<Figure size 432x288 with 1 Axes>"
            ]
          },
          "metadata": {
            "tags": [],
            "needs_background": "light"
          }
        }
      ]
    }
  ]
}