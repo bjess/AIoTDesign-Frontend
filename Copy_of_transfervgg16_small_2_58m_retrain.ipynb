{
  "nbformat": 4,
  "nbformat_minor": 0,
  "metadata": {
    "colab": {
      "name": "Copy of transfervgg16-small-2_58m-retrain.ipynb",
      "provenance": [],
      "authorship_tag": "ABX9TyOx0JpaBhB/NQLk2ikE2d5s",
      "include_colab_link": true
    },
    "kernelspec": {
      "name": "python3",
      "display_name": "Python 3"
    },
    "accelerator": "GPU"
  },
  "cells": [
    {
      "cell_type": "markdown",
      "metadata": {
        "id": "view-in-github",
        "colab_type": "text"
      },
      "source": [
        "<a href=\"https://colab.research.google.com/github/fwangliberty/AIoTDesign-Frontend/blob/master/Copy_of_transfervgg16_small_2_58m_retrain.ipynb\" target=\"_parent\"><img src=\"https://colab.research.google.com/assets/colab-badge.svg\" alt=\"Open In Colab\"/></a>"
      ]
    },
    {
      "cell_type": "markdown",
      "metadata": {
        "id": "Cv5NXr4G5ADU"
      },
      "source": [
        "We continue our efforts to train a new smaller VGG model from the original VGG16 model. The number of parameters is 2.85M. The accuracy is about 0.924, and max accuracy is 0.941"
      ]
    },
    {
      "cell_type": "markdown",
      "metadata": {
        "id": "PfnrXdhg5rs5"
      },
      "source": [
        "# 1. Connecting to our Google Drive"
      ]
    },
    {
      "cell_type": "code",
      "metadata": {
        "colab": {
          "base_uri": "https://localhost:8080/"
        },
        "id": "gIbfgWHz435d",
        "outputId": "105d3a5d-575e-41fa-81bf-1adf0711b455"
      },
      "source": [
        "from google.colab import drive\n",
        "drive.mount('/content/drive')"
      ],
      "execution_count": 1,
      "outputs": [
        {
          "output_type": "stream",
          "text": [
            "Mounted at /content/drive\n"
          ],
          "name": "stdout"
        }
      ]
    },
    {
      "cell_type": "code",
      "metadata": {
        "colab": {
          "base_uri": "https://localhost:8080/"
        },
        "id": "Zg-Z0Inv6xf3",
        "outputId": "651d8cf7-02ee-466d-91b0-b75911f2cd3d"
      },
      "source": [
        "!ls \"/content/drive/My Drive/small/\""
      ],
      "execution_count": 2,
      "outputs": [
        {
          "output_type": "stream",
          "text": [
            "test  train  validation\n"
          ],
          "name": "stdout"
        }
      ]
    },
    {
      "cell_type": "markdown",
      "metadata": {
        "id": "SXlaVFPz7VIW"
      },
      "source": [
        "#2. Prepare dataset"
      ]
    },
    {
      "cell_type": "code",
      "metadata": {
        "id": "lcr1DbDi7i0l"
      },
      "source": [
        "import keras\n",
        "import os, shutil\n",
        "from keras import regularizers\n",
        "from keras.preprocessing.image import ImageDataGenerator\n",
        "from tensorflow.keras.models import load_model\n",
        "import tensorflow as tf\n",
        "import tensorflow.keras as keras\n",
        "from tensorflow.keras.models import Sequential\n",
        "from tensorflow.keras.layers import InputLayer\n",
        "import tensorflow.keras.backend as K\n",
        "from keras.applications import VGG16"
      ],
      "execution_count": 3,
      "outputs": []
    },
    {
      "cell_type": "markdown",
      "metadata": {
        "id": "Hz4LVRuc7qmG"
      },
      "source": [
        "The directory where we will store our smaller dataset"
      ]
    },
    {
      "cell_type": "code",
      "metadata": {
        "id": "17Yj8xwu7lCV"
      },
      "source": [
        "base_dir = '/content/drive/My Drive/small'"
      ],
      "execution_count": 4,
      "outputs": []
    },
    {
      "cell_type": "markdown",
      "metadata": {
        "id": "iq1WUkkY8DQe"
      },
      "source": [
        " Directories for our smaller training and validation splits "
      ]
    },
    {
      "cell_type": "code",
      "metadata": {
        "id": "rYB1SFmR8FJH"
      },
      "source": [
        "train_dir = os.path.join(base_dir, 'train')\n",
        "validation_dir = os.path.join(base_dir, 'validation')\n",
        "test_dir = os.path.join(base_dir, 'test')"
      ],
      "execution_count": 5,
      "outputs": []
    },
    {
      "cell_type": "markdown",
      "metadata": {
        "id": "O-XWsXvg8Xge"
      },
      "source": [
        "Build the train imagedatagenerator"
      ]
    },
    {
      "cell_type": "code",
      "metadata": {
        "id": "P1d4yp0w8Y4Q"
      },
      "source": [
        "train_datagen = ImageDataGenerator(\n",
        "      rescale=1./255,\n",
        "      rotation_range=40,\n",
        "      width_shift_range=0.2,\n",
        "      height_shift_range=0.2,\n",
        "      shear_range=0.1,\n",
        "      zoom_range=0.1,\n",
        "      horizontal_flip=True,\n",
        "      fill_mode='nearest')"
      ],
      "execution_count": 6,
      "outputs": []
    },
    {
      "cell_type": "markdown",
      "metadata": {
        "id": "tmD9EnBK8mi-"
      },
      "source": [
        "Note that the validation data should not be augmented!"
      ]
    },
    {
      "cell_type": "code",
      "metadata": {
        "id": "ATpMzR0p8n-w"
      },
      "source": [
        "test_datagen = ImageDataGenerator(rescale=1./255)"
      ],
      "execution_count": 7,
      "outputs": []
    },
    {
      "cell_type": "code",
      "metadata": {
        "colab": {
          "base_uri": "https://localhost:8080/"
        },
        "id": "WIrOdni68s2H",
        "outputId": "82a3cd35-3a46-490e-b0ea-0611454aac96"
      },
      "source": [
        "train_generator = train_datagen.flow_from_directory(\n",
        "        # This is the target directory\n",
        "        train_dir,\n",
        "        # All images will be resized to 150x150\n",
        "        target_size=(150, 150),\n",
        "        batch_size=20,\n",
        "        # Since we use binary_crossentropy loss, we need binary labels\n",
        "        class_mode='binary')"
      ],
      "execution_count": 8,
      "outputs": [
        {
          "output_type": "stream",
          "text": [
            "Found 2000 images belonging to 2 classes.\n"
          ],
          "name": "stdout"
        }
      ]
    },
    {
      "cell_type": "code",
      "metadata": {
        "colab": {
          "base_uri": "https://localhost:8080/"
        },
        "id": "VQGAct1s8wFB",
        "outputId": "986e2a98-894b-4d2c-f9a0-faf1043ede84"
      },
      "source": [
        "validation_generator = test_datagen.flow_from_directory(\n",
        "        validation_dir,\n",
        "        target_size=(150, 150),\n",
        "        batch_size=20,\n",
        "        class_mode='binary')"
      ],
      "execution_count": 9,
      "outputs": [
        {
          "output_type": "stream",
          "text": [
            "Found 1000 images belonging to 2 classes.\n"
          ],
          "name": "stdout"
        }
      ]
    },
    {
      "cell_type": "code",
      "metadata": {
        "colab": {
          "base_uri": "https://localhost:8080/"
        },
        "id": "Muvd8ReV80qn",
        "outputId": "dc938b2e-0e7f-48b4-b44c-f20fd1450025"
      },
      "source": [
        "test_generator = test_datagen.flow_from_directory(\n",
        "         test_dir,\n",
        "         target_size=(150, 150),\n",
        "         batch_size=20,\n",
        "         class_mode='binary')"
      ],
      "execution_count": 10,
      "outputs": [
        {
          "output_type": "stream",
          "text": [
            "Found 1000 images belonging to 2 classes.\n"
          ],
          "name": "stdout"
        }
      ]
    },
    {
      "cell_type": "markdown",
      "metadata": {
        "id": "eivnb5n49AzH"
      },
      "source": [
        "# 3. Import VGG16 model"
      ]
    },
    {
      "cell_type": "code",
      "metadata": {
        "colab": {
          "base_uri": "https://localhost:8080/"
        },
        "id": "WeRc6siY9E4H",
        "outputId": "e8f8753a-994e-4f8e-cd71-64cbf8d16581"
      },
      "source": [
        "vgg16 = keras.applications.vgg16\n",
        "conv_model = vgg16.VGG16(weights='imagenet', include_top=False, input_shape=(150,150,3))\n",
        "conv_model.summary()"
      ],
      "execution_count": 11,
      "outputs": [
        {
          "output_type": "stream",
          "text": [
            "Downloading data from https://storage.googleapis.com/tensorflow/keras-applications/vgg16/vgg16_weights_tf_dim_ordering_tf_kernels_notop.h5\n",
            "58892288/58889256 [==============================] - 0s 0us/step\n",
            "Model: \"vgg16\"\n",
            "_________________________________________________________________\n",
            "Layer (type)                 Output Shape              Param #   \n",
            "=================================================================\n",
            "input_1 (InputLayer)         [(None, 150, 150, 3)]     0         \n",
            "_________________________________________________________________\n",
            "block1_conv1 (Conv2D)        (None, 150, 150, 64)      1792      \n",
            "_________________________________________________________________\n",
            "block1_conv2 (Conv2D)        (None, 150, 150, 64)      36928     \n",
            "_________________________________________________________________\n",
            "block1_pool (MaxPooling2D)   (None, 75, 75, 64)        0         \n",
            "_________________________________________________________________\n",
            "block2_conv1 (Conv2D)        (None, 75, 75, 128)       73856     \n",
            "_________________________________________________________________\n",
            "block2_conv2 (Conv2D)        (None, 75, 75, 128)       147584    \n",
            "_________________________________________________________________\n",
            "block2_pool (MaxPooling2D)   (None, 37, 37, 128)       0         \n",
            "_________________________________________________________________\n",
            "block3_conv1 (Conv2D)        (None, 37, 37, 256)       295168    \n",
            "_________________________________________________________________\n",
            "block3_conv2 (Conv2D)        (None, 37, 37, 256)       590080    \n",
            "_________________________________________________________________\n",
            "block3_conv3 (Conv2D)        (None, 37, 37, 256)       590080    \n",
            "_________________________________________________________________\n",
            "block3_pool (MaxPooling2D)   (None, 18, 18, 256)       0         \n",
            "_________________________________________________________________\n",
            "block4_conv1 (Conv2D)        (None, 18, 18, 512)       1180160   \n",
            "_________________________________________________________________\n",
            "block4_conv2 (Conv2D)        (None, 18, 18, 512)       2359808   \n",
            "_________________________________________________________________\n",
            "block4_conv3 (Conv2D)        (None, 18, 18, 512)       2359808   \n",
            "_________________________________________________________________\n",
            "block4_pool (MaxPooling2D)   (None, 9, 9, 512)         0         \n",
            "_________________________________________________________________\n",
            "block5_conv1 (Conv2D)        (None, 9, 9, 512)         2359808   \n",
            "_________________________________________________________________\n",
            "block5_conv2 (Conv2D)        (None, 9, 9, 512)         2359808   \n",
            "_________________________________________________________________\n",
            "block5_conv3 (Conv2D)        (None, 9, 9, 512)         2359808   \n",
            "_________________________________________________________________\n",
            "block5_pool (MaxPooling2D)   (None, 4, 4, 512)         0         \n",
            "=================================================================\n",
            "Total params: 14,714,688\n",
            "Trainable params: 14,714,688\n",
            "Non-trainable params: 0\n",
            "_________________________________________________________________\n"
          ],
          "name": "stdout"
        }
      ]
    },
    {
      "cell_type": "markdown",
      "metadata": {
        "id": "9sqAZWWSB_qN"
      },
      "source": [
        "We lock all the layers of the convolutional part:"
      ]
    },
    {
      "cell_type": "code",
      "metadata": {
        "id": "PZjiVAKRB-gm"
      },
      "source": [
        "for layer in conv_model.layers:\n",
        "    layer.trainable = False"
      ],
      "execution_count": 12,
      "outputs": []
    },
    {
      "cell_type": "markdown",
      "metadata": {
        "id": "Zoa7sETI9WFW"
      },
      "source": [
        "Reduce the number of filters in the last CONV block."
      ]
    },
    {
      "cell_type": "code",
      "metadata": {
        "colab": {
          "base_uri": "https://localhost:8080/"
        },
        "id": "SySoEvKb9gTI",
        "outputId": "f433dd0e-b895-4d20-c930-38e6730a17b3"
      },
      "source": [
        "#x=tf.keras.layers.Conv2D(256,3,padding='same',activation='relu',)(conv_model.layers[6].output)\n",
        "x=tf.keras.layers.MaxPooling2D(2)(conv_model.layers[8].output)\n",
        "x=tf.keras.layers.Conv2D(256,3,padding='same',activation='relu',)(x)\n",
        "x=tf.keras.layers.MaxPooling2D(2)(x)\n",
        "x=tf.keras.layers.Conv2D(256,3,padding='same',activation='relu',)(x)\n",
        "x=tf.keras.layers.MaxPooling2D(2)(x)\n",
        "x = tf.keras.layers.Flatten()(x)\n",
        "# one dropout layer\n",
        "x = keras.layers.Dropout(0.2)(x)\n",
        "# one hidden layer\n",
        "x = keras.layers.Dense(64, activation='relu')(x)\n",
        "# final softmax layer with two categories (dog and cat)\n",
        "predictions = keras.layers.Dense(1, activation='sigmoid')(x)\n",
        "\n",
        "# creating the full model:\n",
        "full_model = keras.models.Model(inputs=conv_model.input, outputs=predictions)\n",
        "full_model.summary()"
      ],
      "execution_count": 13,
      "outputs": [
        {
          "output_type": "stream",
          "text": [
            "Model: \"functional_1\"\n",
            "_________________________________________________________________\n",
            "Layer (type)                 Output Shape              Param #   \n",
            "=================================================================\n",
            "input_1 (InputLayer)         [(None, 150, 150, 3)]     0         \n",
            "_________________________________________________________________\n",
            "block1_conv1 (Conv2D)        (None, 150, 150, 64)      1792      \n",
            "_________________________________________________________________\n",
            "block1_conv2 (Conv2D)        (None, 150, 150, 64)      36928     \n",
            "_________________________________________________________________\n",
            "block1_pool (MaxPooling2D)   (None, 75, 75, 64)        0         \n",
            "_________________________________________________________________\n",
            "block2_conv1 (Conv2D)        (None, 75, 75, 128)       73856     \n",
            "_________________________________________________________________\n",
            "block2_conv2 (Conv2D)        (None, 75, 75, 128)       147584    \n",
            "_________________________________________________________________\n",
            "block2_pool (MaxPooling2D)   (None, 37, 37, 128)       0         \n",
            "_________________________________________________________________\n",
            "block3_conv1 (Conv2D)        (None, 37, 37, 256)       295168    \n",
            "_________________________________________________________________\n",
            "block3_conv2 (Conv2D)        (None, 37, 37, 256)       590080    \n",
            "_________________________________________________________________\n",
            "max_pooling2d (MaxPooling2D) (None, 18, 18, 256)       0         \n",
            "_________________________________________________________________\n",
            "conv2d (Conv2D)              (None, 18, 18, 256)       590080    \n",
            "_________________________________________________________________\n",
            "max_pooling2d_1 (MaxPooling2 (None, 9, 9, 256)         0         \n",
            "_________________________________________________________________\n",
            "conv2d_1 (Conv2D)            (None, 9, 9, 256)         590080    \n",
            "_________________________________________________________________\n",
            "max_pooling2d_2 (MaxPooling2 (None, 4, 4, 256)         0         \n",
            "_________________________________________________________________\n",
            "flatten (Flatten)            (None, 4096)              0         \n",
            "_________________________________________________________________\n",
            "dropout (Dropout)            (None, 4096)              0         \n",
            "_________________________________________________________________\n",
            "dense (Dense)                (None, 64)                262208    \n",
            "_________________________________________________________________\n",
            "dense_1 (Dense)              (None, 1)                 65        \n",
            "=================================================================\n",
            "Total params: 2,587,841\n",
            "Trainable params: 1,442,433\n",
            "Non-trainable params: 1,145,408\n",
            "_________________________________________________________________\n"
          ],
          "name": "stdout"
        }
      ]
    },
    {
      "cell_type": "markdown",
      "metadata": {
        "id": "6C1wDoRbCeBG"
      },
      "source": [
        "Now compile and train the model. To get a higher accuracy, we need to retrain the model twice. The first iteration, the learning rate is 1e-4, and second one is 2e-5. The final accuracy is about 94%."
      ]
    },
    {
      "cell_type": "code",
      "metadata": {
        "colab": {
          "base_uri": "https://localhost:8080/"
        },
        "id": "z7IacWnYCeu_",
        "outputId": "58c1f122-7078-4c03-a245-03135b7a87a0"
      },
      "source": [
        "full_model.compile(loss='binary_crossentropy',\n",
        "              optimizer=keras.optimizers.RMSprop(lr=2e-5),  # retrain rate = 1e-4\n",
        "              #optimizer=keras.optimizers.Adamax(lr=0.001),\n",
        "              metrics=['acc'])\n",
        "\t\t\t  \n",
        "history = full_model.fit(\n",
        "      train_generator,\n",
        "      steps_per_epoch=100,\n",
        "      epochs=50,\n",
        "      validation_data=validation_generator,\n",
        "      validation_steps=50)"
      ],
      "execution_count": 20,
      "outputs": [
        {
          "output_type": "stream",
          "text": [
            "Epoch 1/50\n",
            "100/100 [==============================] - 21s 212ms/step - loss: 0.1558 - acc: 0.9365 - val_loss: 0.1861 - val_acc: 0.9290\n",
            "Epoch 2/50\n",
            "100/100 [==============================] - 21s 212ms/step - loss: 0.1409 - acc: 0.9420 - val_loss: 0.1875 - val_acc: 0.9310\n",
            "Epoch 3/50\n",
            "100/100 [==============================] - 21s 210ms/step - loss: 0.1273 - acc: 0.9445 - val_loss: 0.1927 - val_acc: 0.9340\n",
            "Epoch 4/50\n",
            "100/100 [==============================] - 21s 207ms/step - loss: 0.1379 - acc: 0.9505 - val_loss: 0.2192 - val_acc: 0.9350\n",
            "Epoch 5/50\n",
            "100/100 [==============================] - 20s 204ms/step - loss: 0.1241 - acc: 0.9485 - val_loss: 0.2355 - val_acc: 0.9260\n",
            "Epoch 6/50\n",
            "100/100 [==============================] - 21s 206ms/step - loss: 0.1423 - acc: 0.9475 - val_loss: 0.2405 - val_acc: 0.9260\n",
            "Epoch 7/50\n",
            "100/100 [==============================] - 21s 210ms/step - loss: 0.1278 - acc: 0.9535 - val_loss: 0.2299 - val_acc: 0.9200\n",
            "Epoch 8/50\n",
            "100/100 [==============================] - 20s 204ms/step - loss: 0.1263 - acc: 0.9505 - val_loss: 0.2085 - val_acc: 0.9300\n",
            "Epoch 9/50\n",
            "100/100 [==============================] - 20s 204ms/step - loss: 0.1227 - acc: 0.9470 - val_loss: 0.2018 - val_acc: 0.9320\n",
            "Epoch 10/50\n",
            "100/100 [==============================] - 20s 205ms/step - loss: 0.1438 - acc: 0.9400 - val_loss: 0.2264 - val_acc: 0.9160\n",
            "Epoch 11/50\n",
            "100/100 [==============================] - 20s 204ms/step - loss: 0.1359 - acc: 0.9460 - val_loss: 0.2065 - val_acc: 0.9380\n",
            "Epoch 12/50\n",
            "100/100 [==============================] - 20s 202ms/step - loss: 0.1070 - acc: 0.9590 - val_loss: 0.2096 - val_acc: 0.9360\n",
            "Epoch 13/50\n",
            "100/100 [==============================] - 21s 207ms/step - loss: 0.1207 - acc: 0.9520 - val_loss: 0.2303 - val_acc: 0.9390\n",
            "Epoch 14/50\n",
            "100/100 [==============================] - 21s 208ms/step - loss: 0.1431 - acc: 0.9500 - val_loss: 0.2258 - val_acc: 0.9130\n",
            "Epoch 15/50\n",
            "100/100 [==============================] - 20s 205ms/step - loss: 0.1173 - acc: 0.9490 - val_loss: 0.2043 - val_acc: 0.9430\n",
            "Epoch 16/50\n",
            "100/100 [==============================] - 21s 206ms/step - loss: 0.1341 - acc: 0.9495 - val_loss: 0.2107 - val_acc: 0.9400\n",
            "Epoch 17/50\n",
            "100/100 [==============================] - 21s 207ms/step - loss: 0.1358 - acc: 0.9510 - val_loss: 0.2035 - val_acc: 0.9380\n",
            "Epoch 18/50\n",
            "100/100 [==============================] - 21s 207ms/step - loss: 0.1104 - acc: 0.9555 - val_loss: 0.2015 - val_acc: 0.9400\n",
            "Epoch 19/50\n",
            "100/100 [==============================] - 21s 206ms/step - loss: 0.1269 - acc: 0.9550 - val_loss: 0.2005 - val_acc: 0.9360\n",
            "Epoch 20/50\n",
            "100/100 [==============================] - 21s 206ms/step - loss: 0.1322 - acc: 0.9545 - val_loss: 0.2100 - val_acc: 0.9340\n",
            "Epoch 21/50\n",
            "100/100 [==============================] - 20s 205ms/step - loss: 0.1281 - acc: 0.9520 - val_loss: 0.2288 - val_acc: 0.9340\n",
            "Epoch 22/50\n",
            "100/100 [==============================] - 21s 212ms/step - loss: 0.1249 - acc: 0.9490 - val_loss: 0.1994 - val_acc: 0.9350\n",
            "Epoch 23/50\n",
            "100/100 [==============================] - 21s 206ms/step - loss: 0.1296 - acc: 0.9530 - val_loss: 0.2223 - val_acc: 0.9330\n",
            "Epoch 24/50\n",
            "100/100 [==============================] - 21s 206ms/step - loss: 0.1115 - acc: 0.9565 - val_loss: 0.2043 - val_acc: 0.9420\n",
            "Epoch 25/50\n",
            "100/100 [==============================] - 21s 205ms/step - loss: 0.1321 - acc: 0.9565 - val_loss: 0.2321 - val_acc: 0.9320\n",
            "Epoch 26/50\n",
            "100/100 [==============================] - 21s 208ms/step - loss: 0.1262 - acc: 0.9515 - val_loss: 0.2511 - val_acc: 0.9380\n",
            "Epoch 27/50\n",
            "100/100 [==============================] - 21s 207ms/step - loss: 0.1130 - acc: 0.9540 - val_loss: 0.2359 - val_acc: 0.9390\n",
            "Epoch 28/50\n",
            "100/100 [==============================] - 21s 206ms/step - loss: 0.1269 - acc: 0.9535 - val_loss: 0.2365 - val_acc: 0.9370\n",
            "Epoch 29/50\n",
            "100/100 [==============================] - 21s 207ms/step - loss: 0.1223 - acc: 0.9545 - val_loss: 0.1836 - val_acc: 0.9320\n",
            "Epoch 30/50\n",
            "100/100 [==============================] - 21s 208ms/step - loss: 0.1087 - acc: 0.9550 - val_loss: 0.2267 - val_acc: 0.9210\n",
            "Epoch 31/50\n",
            "100/100 [==============================] - 21s 206ms/step - loss: 0.1148 - acc: 0.9540 - val_loss: 0.2200 - val_acc: 0.9390\n",
            "Epoch 32/50\n",
            "100/100 [==============================] - 21s 206ms/step - loss: 0.1325 - acc: 0.9495 - val_loss: 0.2818 - val_acc: 0.9380\n",
            "Epoch 33/50\n",
            "100/100 [==============================] - 21s 207ms/step - loss: 0.1280 - acc: 0.9575 - val_loss: 0.1914 - val_acc: 0.9330\n",
            "Epoch 34/50\n",
            "100/100 [==============================] - 21s 207ms/step - loss: 0.1127 - acc: 0.9570 - val_loss: 0.2250 - val_acc: 0.9330\n",
            "Epoch 35/50\n",
            "100/100 [==============================] - 21s 205ms/step - loss: 0.1178 - acc: 0.9550 - val_loss: 0.2075 - val_acc: 0.9380\n",
            "Epoch 36/50\n",
            "100/100 [==============================] - 21s 206ms/step - loss: 0.1131 - acc: 0.9565 - val_loss: 0.2494 - val_acc: 0.9280\n",
            "Epoch 37/50\n",
            "100/100 [==============================] - 21s 212ms/step - loss: 0.1084 - acc: 0.9590 - val_loss: 0.3235 - val_acc: 0.9340\n",
            "Epoch 38/50\n",
            "100/100 [==============================] - 21s 206ms/step - loss: 0.1385 - acc: 0.9520 - val_loss: 0.2105 - val_acc: 0.9370\n",
            "Epoch 39/50\n",
            "100/100 [==============================] - 21s 207ms/step - loss: 0.1127 - acc: 0.9580 - val_loss: 0.2692 - val_acc: 0.9360\n",
            "Epoch 40/50\n",
            "100/100 [==============================] - 21s 206ms/step - loss: 0.1195 - acc: 0.9560 - val_loss: 0.2079 - val_acc: 0.9360\n",
            "Epoch 41/50\n",
            "100/100 [==============================] - 21s 208ms/step - loss: 0.1155 - acc: 0.9535 - val_loss: 0.2204 - val_acc: 0.9380\n",
            "Epoch 42/50\n",
            "100/100 [==============================] - 21s 207ms/step - loss: 0.1284 - acc: 0.9520 - val_loss: 0.2654 - val_acc: 0.9400\n",
            "Epoch 43/50\n",
            "100/100 [==============================] - 21s 206ms/step - loss: 0.1082 - acc: 0.9580 - val_loss: 0.2435 - val_acc: 0.9300\n",
            "Epoch 44/50\n",
            "100/100 [==============================] - 21s 206ms/step - loss: 0.1301 - acc: 0.9465 - val_loss: 0.1954 - val_acc: 0.9380\n",
            "Epoch 45/50\n",
            "100/100 [==============================] - 21s 208ms/step - loss: 0.0937 - acc: 0.9625 - val_loss: 0.2142 - val_acc: 0.9370\n",
            "Epoch 46/50\n",
            "100/100 [==============================] - 21s 206ms/step - loss: 0.0977 - acc: 0.9595 - val_loss: 0.3038 - val_acc: 0.9410\n",
            "Epoch 47/50\n",
            "100/100 [==============================] - 21s 206ms/step - loss: 0.1086 - acc: 0.9630 - val_loss: 0.3780 - val_acc: 0.9220\n",
            "Epoch 48/50\n",
            "100/100 [==============================] - 21s 206ms/step - loss: 0.1139 - acc: 0.9580 - val_loss: 0.2531 - val_acc: 0.9340\n",
            "Epoch 49/50\n",
            "100/100 [==============================] - 21s 208ms/step - loss: 0.1061 - acc: 0.9615 - val_loss: 0.2559 - val_acc: 0.9350\n",
            "Epoch 50/50\n",
            "100/100 [==============================] - 21s 206ms/step - loss: 0.1093 - acc: 0.9570 - val_loss: 0.2551 - val_acc: 0.9350\n"
          ],
          "name": "stdout"
        }
      ]
    },
    {
      "cell_type": "code",
      "metadata": {
        "id": "0c__H05nHCr-"
      },
      "source": [
        "full_model.save('cats_and_dogs_full_small-2.58m_retrain.h5')"
      ],
      "execution_count": 22,
      "outputs": []
    },
    {
      "cell_type": "code",
      "metadata": {
        "colab": {
          "base_uri": "https://localhost:8080/",
          "height": 17
        },
        "id": "xphUOheTJQsA",
        "outputId": "2378c1e1-a17a-4af9-8c89-4c8ccbce9258"
      },
      "source": [
        "from google.colab import files\n",
        "files.download(\"cats_and_dogs_full_small-2.58m_retrain.h5\")"
      ],
      "execution_count": 23,
      "outputs": [
        {
          "output_type": "display_data",
          "data": {
            "application/javascript": [
              "\n",
              "    async function download(id, filename, size) {\n",
              "      if (!google.colab.kernel.accessAllowed) {\n",
              "        return;\n",
              "      }\n",
              "      const div = document.createElement('div');\n",
              "      const label = document.createElement('label');\n",
              "      label.textContent = `Downloading \"${filename}\": `;\n",
              "      div.appendChild(label);\n",
              "      const progress = document.createElement('progress');\n",
              "      progress.max = size;\n",
              "      div.appendChild(progress);\n",
              "      document.body.appendChild(div);\n",
              "\n",
              "      const buffers = [];\n",
              "      let downloaded = 0;\n",
              "\n",
              "      const channel = await google.colab.kernel.comms.open(id);\n",
              "      // Send a message to notify the kernel that we're ready.\n",
              "      channel.send({})\n",
              "\n",
              "      for await (const message of channel.messages) {\n",
              "        // Send a message to notify the kernel that we're ready.\n",
              "        channel.send({})\n",
              "        if (message.buffers) {\n",
              "          for (const buffer of message.buffers) {\n",
              "            buffers.push(buffer);\n",
              "            downloaded += buffer.byteLength;\n",
              "            progress.value = downloaded;\n",
              "          }\n",
              "        }\n",
              "      }\n",
              "      const blob = new Blob(buffers, {type: 'application/binary'});\n",
              "      const a = document.createElement('a');\n",
              "      a.href = window.URL.createObjectURL(blob);\n",
              "      a.download = filename;\n",
              "      div.appendChild(a);\n",
              "      a.click();\n",
              "      div.remove();\n",
              "    }\n",
              "  "
            ],
            "text/plain": [
              "<IPython.core.display.Javascript object>"
            ]
          },
          "metadata": {
            "tags": []
          }
        },
        {
          "output_type": "display_data",
          "data": {
            "application/javascript": [
              "download(\"download_f90cdb87-6fca-46ed-bc0d-0d80c9eceb79\", \"cats_and_dogs_full_small-2.58m_retrain.h5\", 16195168)"
            ],
            "text/plain": [
              "<IPython.core.display.Javascript object>"
            ]
          },
          "metadata": {
            "tags": []
          }
        }
      ]
    },
    {
      "cell_type": "code",
      "metadata": {
        "colab": {
          "base_uri": "https://localhost:8080/"
        },
        "id": "-cBI7VSwIuHU",
        "outputId": "f053fa47-ceab-4988-c9f8-f88405c34307"
      },
      "source": [
        "print(\"Evaluate the full model on small test data\")\n",
        "results = full_model.evaluate(test_generator)\n",
        "print(\"test loss, test acc:\", results)"
      ],
      "execution_count": 21,
      "outputs": [
        {
          "output_type": "stream",
          "text": [
            "Evaluate the full model on small test data\n",
            "50/50 [==============================] - 4s 76ms/step - loss: 0.4835 - acc: 0.9240\n",
            "test loss, test acc: [0.48346585035324097, 0.9240000247955322]\n"
          ],
          "name": "stdout"
        }
      ]
    },
    {
      "cell_type": "code",
      "metadata": {
        "colab": {
          "base_uri": "https://localhost:8080/",
          "height": 545
        },
        "id": "SsJo_omrIzj9",
        "outputId": "1f35a255-6680-4963-86cb-78b16dad422c"
      },
      "source": [
        "import matplotlib.pyplot as plt\n",
        "\n",
        "acc = history.history['acc']\n",
        "val_acc = history.history['val_acc']\n",
        "loss = history.history['loss']\n",
        "val_loss = history.history['val_loss']\n",
        "epochs = range(1, len(acc) + 1)\n",
        "\n",
        "plt.plot(epochs, acc, 'bo', label='Training acc')\n",
        "plt.plot(epochs, val_acc, 'b', label='Validation acc')\n",
        "plt.title('Training and validation accuracy')\n",
        "plt.legend()\n",
        "plt.figure()\n",
        "plt.plot(epochs, loss, 'bo', label='Training loss')\n",
        "plt.plot(epochs, val_loss, 'b', label='Validation loss')\n",
        "plt.title('Training and validation loss')\n",
        "plt.legend()\n",
        "plt.show()"
      ],
      "execution_count": 24,
      "outputs": [
        {
          "output_type": "display_data",
          "data": {
            "image/png": "[encoded data removed]",
            "text/plain": [
              "<Figure size 432x288 with 1 Axes>"
            ]
          },
          "metadata": {
            "tags": [],
            "needs_background": "light"
          }
        },
        {
          "output_type": "display_data",
          "data": {
            "image/png": "[encoded data removed]",
            "text/plain": [
              "<Figure size 432x288 with 1 Axes>"
            ]
          },
          "metadata": {
            "tags": [],
            "needs_background": "light"
          }
        }
      ]
    }
  ]
}