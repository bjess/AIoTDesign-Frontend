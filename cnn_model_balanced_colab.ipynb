{
  "nbformat": 4,
  "nbformat_minor": 0,
  "metadata": {
    "kernelspec": {
      "display_name": "Python 3",
      "language": "python",
      "name": "python3"
    },
    "language_info": {
      "codemirror_mode": {
        "name": "ipython",
        "version": 3
      },
      "file_extension": ".py",
      "mimetype": "text/x-python",
      "name": "python",
      "nbconvert_exporter": "python",
      "pygments_lexer": "ipython3",
      "version": "3.7.4"
    },
    "colab": {
      "name": "cnn_model-balanced-colab.ipynb",
      "provenance": [],
      "collapsed_sections": [],
      "include_colab_link": true
    },
    "accelerator": "GPU"
  },
  "cells": [
    {
      "cell_type": "markdown",
      "metadata": {
        "id": "view-in-github",
        "colab_type": "text"
      },
      "source": [
        "<a href=\"https://colab.research.google.com/github/fwangliberty/AIoTDesign-Frontend/blob/master/cnn_model_balanced_colab.ipynb\" target=\"_parent\"><img src=\"https://colab.research.google.com/assets/colab-badge.svg\" alt=\"Open In Colab\"/></a>"
      ]
    },
    {
      "cell_type": "markdown",
      "metadata": {
        "id": "UHrlHCYsVhVI"
      },
      "source": [
        "# Intrusion Detection based on CICIDS 2017 Data Set (2)"
      ]
    },
    {
      "cell_type": "markdown",
      "metadata": {
        "id": "lOM-A--9VhVS"
      },
      "source": [
        "We use the pre-processing dataset from mlp4nids (Multi-layer perceptron for network intrusion detection). https://github.com/ArnaudRosay/mlp4nids. Use another colab script to conver parquet files to csv files. "
      ]
    },
    {
      "cell_type": "code",
      "metadata": {
        "id": "FTe0kED3VhVT",
        "colab": {
          "base_uri": "https://localhost:8080/"
        },
        "outputId": "81c92f04-a640-40ac-b2a1-3bdaf84090d7"
      },
      "source": [
        "import os\n",
        "from os.path import join\n",
        "import glob\n",
        "import pandas as pd\n",
        "import numpy as np\n",
        "import time\n",
        "import seaborn as sns\n",
        "import matplotlib.pyplot as plt\n",
        "%load_ext autoreload"
      ],
      "execution_count": 53,
      "outputs": [
        {
          "output_type": "stream",
          "text": [
            "The autoreload extension is already loaded. To reload it, use:\n",
            "  %reload_ext autoreload\n"
          ],
          "name": "stdout"
        }
      ]
    },
    {
      "cell_type": "code",
      "metadata": {
        "id": "-iI9jwuFVhVV"
      },
      "source": [
        "def display_all(df):\n",
        "    with pd.option_context(\"display.max_rows\", 100, \"display.max_columns\", 100): \n",
        "        print(df)"
      ],
      "execution_count": 54,
      "outputs": []
    },
    {
      "cell_type": "code",
      "metadata": {
        "id": "xZFOb0S1VhVV"
      },
      "source": [
        "def make_value2index(attacks):\n",
        "    #make dictionary\n",
        "    attacks = sorted(attacks)\n",
        "    d = {}\n",
        "    counter=0\n",
        "    for attack in attacks:\n",
        "        d[attack] = counter\n",
        "        counter+=1\n",
        "    return d"
      ],
      "execution_count": 55,
      "outputs": []
    },
    {
      "cell_type": "code",
      "metadata": {
        "id": "hhLnsYxeVhVW"
      },
      "source": [
        "# chganges label from string to integer/index\n",
        "def encode_label(Y_str):\n",
        "    labels_d = make_value2index(np.unique(Y_str))\n",
        "    Y = [labels_d[y_str] for y_str  in Y_str]\n",
        "    Y = np.array(Y)\n",
        "    return np.array(Y)"
      ],
      "execution_count": 56,
      "outputs": []
    },
    {
      "cell_type": "markdown",
      "metadata": {
        "id": "32nfwRGiVhVW"
      },
      "source": [
        "## Step 1. Loading csv files"
      ]
    },
    {
      "cell_type": "markdown",
      "metadata": {
        "id": "Dt7z9tDHVxkD"
      },
      "source": [
        "Connect to Google Drive"
      ]
    },
    {
      "cell_type": "code",
      "metadata": {
        "colab": {
          "base_uri": "https://localhost:8080/"
        },
        "id": "ATXKRQN5VwRk",
        "outputId": "71e533a2-8ecc-4124-8de4-84fff169331e"
      },
      "source": [
        "from google.colab import drive\r\n",
        "drive.mount('/content/drive')"
      ],
      "execution_count": 57,
      "outputs": [
        {
          "output_type": "stream",
          "text": [
            "Drive already mounted at /content/drive; to attempt to forcibly remount, call drive.mount(\"/content/drive\", force_remount=True).\n"
          ],
          "name": "stdout"
        }
      ]
    },
    {
      "cell_type": "code",
      "metadata": {
        "id": "ASr9N_gQVhVW"
      },
      "source": [
        "# All columns\n",
        "col_names = np.array(['Source Port', 'Destination Port',\n",
        "                      'Protocol', 'Flow Duration', 'Total Fwd Packets', 'Total Backward Packets', 'Total Length of Fwd Packets',\n",
        "                      'Total Length of Bwd Packets', 'Fwd Packet Length Max', 'Fwd Packet Length Min', 'Fwd Packet Length Mean',\n",
        "                      'Fwd Packet Length Std', 'Bwd Packet Length Max', 'Bwd Packet Length Min', 'Bwd Packet Length Mean', 'Bwd Packet Length Std',\n",
        "                      'Flow Bytes/s', 'Flow Packets/s', 'Flow IAT Mean', 'Flow IAT Std', 'Flow IAT Max', 'Flow IAT Min', 'Fwd IAT Total',\n",
        "                      'Fwd IAT Mean', 'Fwd IAT Std', 'Fwd IAT Max', 'Fwd IAT Min', 'Bwd IAT Total', 'Bwd IAT Mean', 'Bwd IAT Std', 'Bwd IAT Max',\n",
        "                      'Bwd IAT Min', 'Fwd PSH Flags', 'Fwd URG Flags', 'Fwd Header Length', 'Bwd Header Length',\n",
        "                      'Fwd Packets/s', 'Bwd Packets/s', 'Min Packet Length', 'Max Packet Length', 'Packet Length Mean', 'Packet Length Std',\n",
        "                      'Packet Length Variance', 'FIN Flag Count', 'SYN Flag Count', 'RST Flag Count', 'PSH Flag Count', 'ACK Flag Count',\n",
        "                      'URG Flag Count', 'CWE Flag Count', 'ECE Flag Count', 'Down/Up Ratio', 'Average Packet Size', 'Avg Fwd Segment Size',\n",
        "                      'Avg Bwd Segment Size','Subflow Fwd Packets', 'Subflow Fwd Bytes',\n",
        "                      'Subflow Bwd Packets', 'Subflow Bwd Bytes', 'Init_Win_bytes_forward', 'Init_Win_bytes_backward',\n",
        "                      'act_data_pkt_fwd', 'min_seg_size_forward', 'Active Mean', 'Active Std', 'Active Max', 'Active Min', 'Idle Mean',\n",
        "                      'Idle Std', 'Idle Max', 'Idle Min', 'Label'])"
      ],
      "execution_count": 58,
      "outputs": []
    },
    {
      "cell_type": "code",
      "metadata": {
        "id": "uILOayLZVhVY"
      },
      "source": [
        "# load three csv files generated by mlp4nids (Multi-layer perceptron for network intrusion detection )\n",
        "# first load the train set\n",
        "df_train = pd.read_csv('/content/drive/My Drive/CICIDS2017/train_set.csv',names=col_names, skiprows=1)  "
      ],
      "execution_count": 59,
      "outputs": []
    },
    {
      "cell_type": "code",
      "metadata": {
        "scrolled": false,
        "colab": {
          "base_uri": "https://localhost:8080/"
        },
        "id": "BRPkCsdlVhVZ",
        "outputId": "fe814f41-2c5b-4d98-99eb-acb725aa2e57"
      },
      "source": [
        "# Here we can see the number of rows and columns for each table.\n",
        "print(df_train.shape)"
      ],
      "execution_count": 60,
      "outputs": [
        {
          "output_type": "stream",
          "text": [
            "(556548, 72)\n"
          ],
          "name": "stdout"
        }
      ]
    },
    {
      "cell_type": "markdown",
      "metadata": {
        "id": "ICny2va3VhVb"
      },
      "source": [
        "Count the number of attacks"
      ]
    },
    {
      "cell_type": "code",
      "metadata": {
        "scrolled": true,
        "colab": {
          "base_uri": "https://localhost:8080/"
        },
        "id": "0Yanv7FqVhVb",
        "outputId": "08310e7f-8612-46a6-b3fa-7510097b856b"
      },
      "source": [
        "df_train['Label'].value_counts()"
      ],
      "execution_count": 10,
      "outputs": [
        {
          "output_type": "execute_result",
          "data": {
            "text/plain": [
              "BENIGN                        278274\n",
              "DoS Hulk                      115062\n",
              "PortScan                       79402\n",
              "DDoS                           64012\n",
              "DoS GoldenEye                   5146\n",
              "FTP-Patator                     3967\n",
              "SSH-Patator                     2948\n",
              "DoS slowloris                   2898\n",
              "DoS Slowhttptest                2749\n",
              "Bot                              978\n",
              "Web Attack  Brute Force         753\n",
              "Web Attack  XSS                 326\n",
              "Infiltration                      18\n",
              "Web Attack  Sql Injection        10\n",
              "Heartbleed                         5\n",
              "Name: Label, dtype: int64"
            ]
          },
          "metadata": {
            "tags": []
          },
          "execution_count": 10
        }
      ]
    },
    {
      "cell_type": "markdown",
      "metadata": {
        "id": "_v-dyNq5VhVc"
      },
      "source": [
        "Read test and validation sets"
      ]
    },
    {
      "cell_type": "code",
      "metadata": {
        "colab": {
          "base_uri": "https://localhost:8080/"
        },
        "id": "wBfNHRNJVhVd",
        "outputId": "8b3f7989-1f51-4a0e-d799-72aac6d9b482"
      },
      "source": [
        "df_test = pd.read_csv('/content/drive/My Drive/CICIDS2017/test_set.csv',names=col_names, skiprows=1)  \n",
        "print('Test set size: ', df_test.shape)\n",
        "\n",
        "df_val = pd.read_csv('/content/drive/My Drive/CICIDS2017/crossval_set.csv',names=col_names, skiprows=1)  \n",
        "print('Validation set size: ', df_val.shape)"
      ],
      "execution_count": 61,
      "outputs": [
        {
          "output_type": "stream",
          "text": [
            "Test set size:  (278270, 72)\n",
            "Validation set size:  (278270, 72)\n"
          ],
          "name": "stdout"
        }
      ]
    },
    {
      "cell_type": "markdown",
      "metadata": {
        "id": "T1_j8CVGVhVe"
      },
      "source": [
        "Distribution of different attack cases"
      ]
    },
    {
      "cell_type": "code",
      "metadata": {
        "colab": {
          "base_uri": "https://localhost:8080/"
        },
        "id": "gTVt_7VXVhVe",
        "outputId": "999e2ff5-2699-4654-fea1-af4beff5b711"
      },
      "source": [
        "print('Test set: ')\n",
        "df_test['Label'].value_counts()"
      ],
      "execution_count": 12,
      "outputs": [
        {
          "output_type": "stream",
          "text": [
            "Test set: \n"
          ],
          "name": "stdout"
        },
        {
          "output_type": "execute_result",
          "data": {
            "text/plain": [
              "BENIGN                        139135\n",
              "DoS Hulk                       57531\n",
              "PortScan                       39701\n",
              "DDoS                           32006\n",
              "DoS GoldenEye                   2573\n",
              "FTP-Patator                     1983\n",
              "SSH-Patator                     1474\n",
              "DoS slowloris                   1449\n",
              "DoS Slowhttptest                1374\n",
              "Bot                              489\n",
              "Web Attack  Brute Force         376\n",
              "Web Attack  XSS                 163\n",
              "Infiltration                       9\n",
              "Web Attack  Sql Injection         5\n",
              "Heartbleed                         2\n",
              "Name: Label, dtype: int64"
            ]
          },
          "metadata": {
            "tags": []
          },
          "execution_count": 12
        }
      ]
    },
    {
      "cell_type": "code",
      "metadata": {
        "colab": {
          "base_uri": "https://localhost:8080/"
        },
        "id": "2o3LPdwDVhVe",
        "outputId": "b7f8b019-dab7-405a-d1b4-77794be0822c"
      },
      "source": [
        "print('Validation set: ')\n",
        "df_val['Label'].value_counts()"
      ],
      "execution_count": 12,
      "outputs": [
        {
          "output_type": "stream",
          "text": [
            "Validation set: \n"
          ],
          "name": "stdout"
        },
        {
          "output_type": "execute_result",
          "data": {
            "text/plain": [
              "BENIGN                        139135\n",
              "DoS Hulk                       57531\n",
              "PortScan                       39701\n",
              "DDoS                           32006\n",
              "DoS GoldenEye                   2573\n",
              "FTP-Patator                     1983\n",
              "SSH-Patator                     1474\n",
              "DoS slowloris                   1449\n",
              "DoS Slowhttptest                1374\n",
              "Bot                              489\n",
              "Web Attack  Brute Force         376\n",
              "Web Attack  XSS                 163\n",
              "Infiltration                       9\n",
              "Web Attack  Sql Injection         5\n",
              "Heartbleed                         2\n",
              "Name: Label, dtype: int64"
            ]
          },
          "metadata": {
            "tags": []
          },
          "execution_count": 12
        }
      ]
    },
    {
      "cell_type": "markdown",
      "metadata": {
        "id": "wC4QBhkAVhVf"
      },
      "source": [
        "## Step 2. Normalization\n",
        "\n",
        "The continuous feature values are normalized into the same feature space. This is important when using features that have different measurements, and is a general requirement of many machine learning algorithms. Therefore, the values for this dataset are also normalized using the Min-Max scaling technique, bringing them all within a range of [0,1]."
      ]
    },
    {
      "cell_type": "markdown",
      "metadata": {
        "id": "BFgZB_NfVhVf"
      },
      "source": [
        "### Step 2.1 Encoding train dataset\n",
        "Encoding the labels, and generate numpy array. Note that the label has not been encoded as one-hot coding. We will use one-hot code later. "
      ]
    },
    {
      "cell_type": "code",
      "metadata": {
        "id": "IQxKTIT9VhVg"
      },
      "source": [
        "df_label = df_train['Label']\n",
        "data = df_train.drop(columns=['Label'])\n",
        "X_train = data.values\n",
        "y_train = encode_label(df_label.values)"
      ],
      "execution_count": 62,
      "outputs": []
    },
    {
      "cell_type": "markdown",
      "metadata": {
        "id": "SieMK6-cVhVg"
      },
      "source": [
        "### Step 2.2 Normalizing train dataset"
      ]
    },
    {
      "cell_type": "code",
      "metadata": {
        "id": "IKi1kteuVhVh"
      },
      "source": [
        "from sklearn.preprocessing import MinMaxScaler"
      ],
      "execution_count": 63,
      "outputs": []
    },
    {
      "cell_type": "code",
      "metadata": {
        "scrolled": true,
        "colab": {
          "base_uri": "https://localhost:8080/"
        },
        "id": "ynaAVC63VhVh",
        "outputId": "cd6562a4-07ca-48bc-ce31-66505cc017de"
      },
      "source": [
        "scaler = MinMaxScaler()\n",
        "X_train = scaler.fit_transform(X_train)\n",
        "X_train"
      ],
      "execution_count": 64,
      "outputs": [
        {
          "output_type": "execute_result",
          "data": {
            "text/plain": [
              "array([[0.00000000e+00, 0.00000000e+00, 0.00000000e+00, ...,\n",
              "        1.64199192e-01, 2.67500000e-01, 6.67991250e-02],\n",
              "       [8.60215054e-04, 3.36651758e-04, 0.00000000e+00, ...,\n",
              "        0.00000000e+00, 0.00000000e+00, 0.00000000e+00],\n",
              "       [0.00000000e+00, 0.00000000e+00, 0.00000000e+00, ...,\n",
              "        0.00000000e+00, 0.00000000e+00, 0.00000000e+00],\n",
              "       ...,\n",
              "       [0.00000000e+00, 6.98552397e-03, 1.61354247e-02, ...,\n",
              "        0.00000000e+00, 6.92500000e-01, 6.92500000e-01],\n",
              "       [0.00000000e+00, 3.19819170e-03, 2.81067803e-03, ...,\n",
              "        9.18180611e-05, 2.06666667e-01, 2.06666667e-01],\n",
              "       [0.00000000e+00, 4.59155592e-02, 5.83030421e-02, ...,\n",
              "        0.00000000e+00, 0.00000000e+00, 0.00000000e+00]])"
            ]
          },
          "metadata": {
            "tags": []
          },
          "execution_count": 64
        }
      ]
    },
    {
      "cell_type": "markdown",
      "metadata": {
        "id": "mcAOekqBVhVh"
      },
      "source": [
        "### Step 2.3. Encoding test dataset"
      ]
    },
    {
      "cell_type": "code",
      "metadata": {
        "scrolled": true,
        "id": "FHh3Xfs6VhVi"
      },
      "source": [
        "dft_label = df_test['Label']\n",
        "datat = df_test.drop(columns=['Label'])\n",
        "X_test = datat.values\n",
        "y_test = encode_label(dft_label.values)"
      ],
      "execution_count": 65,
      "outputs": []
    },
    {
      "cell_type": "markdown",
      "metadata": {
        "id": "R_K42JmRVhVi"
      },
      "source": [
        "### Step 2.4. Normalizing test dataset"
      ]
    },
    {
      "cell_type": "code",
      "metadata": {
        "colab": {
          "base_uri": "https://localhost:8080/"
        },
        "id": "6FhdSoOHVhVj",
        "outputId": "89c8c50b-0d05-413d-ccb1-001bd6006b80"
      },
      "source": [
        "scaler = MinMaxScaler()\n",
        "X_test = scaler.fit_transform(X_test)\n",
        "X_test"
      ],
      "execution_count": 66,
      "outputs": [
        {
          "output_type": "execute_result",
          "data": {
            "text/plain": [
              "array([[0.00000000e+00, 1.88574865e-02, 3.72734867e-02, ...,\n",
              "        0.00000000e+00, 0.00000000e+00, 0.00000000e+00],\n",
              "       [2.61501211e-02, 9.09200241e-03, 0.00000000e+00, ...,\n",
              "        0.00000000e+00, 0.00000000e+00, 0.00000000e+00],\n",
              "       [1.79176755e-02, 6.22970535e-03, 0.00000000e+00, ...,\n",
              "        0.00000000e+00, 0.00000000e+00, 0.00000000e+00],\n",
              "       ...,\n",
              "       [1.45278450e-02, 5.05111245e-03, 0.00000000e+00, ...,\n",
              "        0.00000000e+00, 0.00000000e+00, 0.00000000e+00],\n",
              "       [0.00000000e+00, 5.40889958e-03, 1.83091266e-02, ...,\n",
              "        8.72072356e-05, 8.33333333e-02, 8.32840583e-02],\n",
              "       [0.00000000e+00, 6.50330728e-03, 1.88504848e-02, ...,\n",
              "        0.00000000e+00, 8.22500000e-01, 8.22500000e-01]])"
            ]
          },
          "metadata": {
            "tags": []
          },
          "execution_count": 66
        }
      ]
    },
    {
      "cell_type": "markdown",
      "metadata": {
        "id": "TO6uaTIJVhVj"
      },
      "source": [
        "### Step 2.5 Encoding validation dataset"
      ]
    },
    {
      "cell_type": "code",
      "metadata": {
        "id": "yAE5BhkAVhVk"
      },
      "source": [
        "dfv_label = df_val['Label']\n",
        "datav = df_val.drop(columns=['Label'])\n",
        "X_val = datav.values\n",
        "y_val = encode_label(dfv_label.values)"
      ],
      "execution_count": 67,
      "outputs": []
    },
    {
      "cell_type": "markdown",
      "metadata": {
        "id": "8QqGf7AViJ9J"
      },
      "source": [
        "### Step 2.6. Normalizing validation dataset"
      ]
    },
    {
      "cell_type": "code",
      "metadata": {
        "colab": {
          "base_uri": "https://localhost:8080/"
        },
        "id": "_6siB3IBiHLz",
        "outputId": "a59d4c21-55a4-47e1-a265-92983e5cf2d7"
      },
      "source": [
        "scaler = MinMaxScaler()\r\n",
        "X_val = scaler.fit_transform(X_val)\r\n",
        "X_val"
      ],
      "execution_count": 68,
      "outputs": [
        {
          "output_type": "execute_result",
          "data": {
            "text/plain": [
              "array([[0.        , 0.        , 0.        , ..., 0.        , 0.        ,\n",
              "        0.        ],\n",
              "       [0.        , 0.0234824 , 0.03596298, ..., 0.        , 0.        ,\n",
              "        0.        ],\n",
              "       [0.        , 0.00078058, 0.00059772, ..., 0.        , 0.        ,\n",
              "        0.        ],\n",
              "       ...,\n",
              "       [0.        , 0.        , 0.        , ..., 0.        , 0.        ,\n",
              "        0.        ],\n",
              "       [0.        , 0.00169125, 0.00177089, ..., 0.        , 0.        ,\n",
              "        0.        ],\n",
              "       [0.03922518, 0.01580671, 0.        , ..., 0.        , 0.        ,\n",
              "        0.        ]])"
            ]
          },
          "metadata": {
            "tags": []
          },
          "execution_count": 68
        }
      ]
    },
    {
      "cell_type": "markdown",
      "metadata": {
        "id": "gMCdGVokVhVk"
      },
      "source": [
        "## Step 3 One-hot encoding for labels"
      ]
    },
    {
      "cell_type": "markdown",
      "metadata": {
        "id": "VjZYdE6DVhVl"
      },
      "source": [
        "y_train, y_test and y_val have to be one-hot-encoded. That means they must have dimension (number_of_samples, 15), where 15 denotes number of classes."
      ]
    },
    {
      "cell_type": "code",
      "metadata": {
        "id": "sJLUjCbDVhVm"
      },
      "source": [
        "from tensorflow.keras.utils import to_categorical"
      ],
      "execution_count": 69,
      "outputs": []
    },
    {
      "cell_type": "markdown",
      "metadata": {
        "id": "AQTPua4m_Nns"
      },
      "source": [
        "Save the labels for AdaBoostClassifier"
      ]
    },
    {
      "cell_type": "code",
      "metadata": {
        "id": "4c8eIghW_Zsz"
      },
      "source": [
        "y_train_ada=y_train\r\n",
        "y_test_ada=y_test\r\n",
        "y_val_ada=y_val"
      ],
      "execution_count": 70,
      "outputs": []
    },
    {
      "cell_type": "code",
      "metadata": {
        "id": "Jm9z7MNgVhVm"
      },
      "source": [
        "y_train = to_categorical(y_train, 15)\n",
        "y_test = to_categorical(y_test, 15)\n",
        "y_val = to_categorical(y_val, 15)"
      ],
      "execution_count": 21,
      "outputs": []
    },
    {
      "cell_type": "markdown",
      "metadata": {
        "id": "uATqQNwsVhVm"
      },
      "source": [
        "## Step 4. Build the model"
      ]
    },
    {
      "cell_type": "code",
      "metadata": {
        "id": "0apHzPg8VhVn"
      },
      "source": [
        "import tensorflow as tf\n",
        "from tensorflow.keras.models import Sequential\n",
        "from tensorflow.keras.layers import Conv1D, BatchNormalization, Flatten, Dense, Activation,Dropout\n",
        "from tensorflow.keras.constraints import max_norm"
      ],
      "execution_count": null,
      "outputs": []
    },
    {
      "cell_type": "code",
      "metadata": {
        "colab": {
          "base_uri": "https://localhost:8080/"
        },
        "id": "CnoOCpmMVhVn",
        "outputId": "84e2f623-3589-4f4c-d6f2-e73fd4a284e9"
      },
      "source": [
        "#hyper-params\n",
        "batch_size = 1024 # increasing batch size with more gpu added\n",
        "input_dim = X_train.shape[1]\n",
        "num_class = 15                   # 15 intrusion classes, including benign traffic class\n",
        "num_epochs = 30\n",
        "learning_rates = 1e-3\n",
        "regularizations = 1e-3\n",
        "optim = tf.keras.optimizers.Adam(lr=learning_rates, beta_1=0.9, beta_2=0.999, epsilon=1e-8)\n",
        "\n",
        "print(input_dim)\n",
        "print(num_class)"
      ],
      "execution_count": null,
      "outputs": [
        {
          "output_type": "stream",
          "text": [
            "71\n",
            "15\n"
          ],
          "name": "stdout"
        }
      ]
    },
    {
      "cell_type": "code",
      "metadata": {
        "colab": {
          "base_uri": "https://localhost:8080/"
        },
        "id": "bLwYgMMEVhVo",
        "outputId": "ef06f87e-1f80-49c7-d89e-486af6345ceb"
      },
      "source": [
        "#X_train_r = np.reshape(X_train, (X_train.shape[0], X_train.shape[1], 1))\n",
        "X_train_r = np.zeros((len(X_train), input_dim, 1))\n",
        "X_train_r[:, :, 0] = X_train[:, :input_dim]\n",
        "print(X_train_r.shape)"
      ],
      "execution_count": null,
      "outputs": [
        {
          "output_type": "stream",
          "text": [
            "(556548, 71, 1)\n"
          ],
          "name": "stdout"
        }
      ]
    },
    {
      "cell_type": "code",
      "metadata": {
        "colab": {
          "base_uri": "https://localhost:8080/"
        },
        "id": "HDWet-dFVhVp",
        "outputId": "92a8d1fd-b228-4e7d-8a1a-17a60719e16e"
      },
      "source": [
        "X_test_r = np.zeros((len(X_test), input_dim, 1))\n",
        "X_test_r[:, :, 0] = X_test[:, :input_dim]\n",
        "print(X_test_r.shape)"
      ],
      "execution_count": null,
      "outputs": [
        {
          "output_type": "stream",
          "text": [
            "(278270, 71, 1)\n"
          ],
          "name": "stdout"
        }
      ]
    },
    {
      "cell_type": "code",
      "metadata": {
        "colab": {
          "base_uri": "https://localhost:8080/"
        },
        "id": "Vzf1idPdVhVq",
        "outputId": "852fabdd-9eaf-42ce-d477-0d223834e5bf"
      },
      "source": [
        "X_val_r = np.zeros((len(X_val), input_dim, 1))\n",
        "X_val_r[:, :, 0] = X_val[:, :input_dim]\n",
        "print(X_val_r.shape)"
      ],
      "execution_count": null,
      "outputs": [
        {
          "output_type": "stream",
          "text": [
            "(278270, 71, 1)\n"
          ],
          "name": "stdout"
        }
      ]
    },
    {
      "cell_type": "code",
      "metadata": {
        "colab": {
          "base_uri": "https://localhost:8080/"
        },
        "id": "0rBezIX_VhVr",
        "outputId": "9622c1ba-2f99-4c65-cd77-b6ca995beed9"
      },
      "source": [
        "model = Sequential()\n",
        "\n",
        "# input layer\n",
        "model.add(Conv1D(filters=64, kernel_size=3, padding='same', input_shape=(71,1)))\n",
        "model.add(BatchNormalization(axis=1))\n",
        "model.add(Activation('relu'))\n",
        "\n",
        "\n",
        "model.add(Conv1D(filters=128, kernel_size=3))\n",
        "model.add(BatchNormalization(axis=1))\n",
        "model.add(Activation('relu'))\n",
        "\n",
        "model.add(Flatten())\n",
        "model.add(Dense(100, activation='relu'))\n",
        "model.add(Dense(num_class))\n",
        "model.add(Activation('softmax'))\n",
        "\n",
        "\n",
        "model.summary()"
      ],
      "execution_count": null,
      "outputs": [
        {
          "output_type": "stream",
          "text": [
            "Model: \"sequential\"\n",
            "_________________________________________________________________\n",
            "Layer (type)                 Output Shape              Param #   \n",
            "=================================================================\n",
            "conv1d (Conv1D)              (None, 71, 64)            256       \n",
            "_________________________________________________________________\n",
            "batch_normalization (BatchNo (None, 71, 64)            284       \n",
            "_________________________________________________________________\n",
            "activation (Activation)      (None, 71, 64)            0         \n",
            "_________________________________________________________________\n",
            "conv1d_1 (Conv1D)            (None, 69, 128)           24704     \n",
            "_________________________________________________________________\n",
            "batch_normalization_1 (Batch (None, 69, 128)           276       \n",
            "_________________________________________________________________\n",
            "activation_1 (Activation)    (None, 69, 128)           0         \n",
            "_________________________________________________________________\n",
            "flatten (Flatten)            (None, 8832)              0         \n",
            "_________________________________________________________________\n",
            "dense (Dense)                (None, 100)               883300    \n",
            "_________________________________________________________________\n",
            "dense_1 (Dense)              (None, 15)                1515      \n",
            "_________________________________________________________________\n",
            "activation_2 (Activation)    (None, 15)                0         \n",
            "=================================================================\n",
            "Total params: 910,335\n",
            "Trainable params: 910,055\n",
            "Non-trainable params: 280\n",
            "_________________________________________________________________\n"
          ],
          "name": "stdout"
        }
      ]
    },
    {
      "cell_type": "code",
      "metadata": {
        "id": "mRyLt02XVhVs"
      },
      "source": [
        "model.compile(loss='categorical_crossentropy', optimizer=optim, metrics=['accuracy']) "
      ],
      "execution_count": null,
      "outputs": []
    },
    {
      "cell_type": "markdown",
      "metadata": {
        "id": "NDH9NG7WVhVs"
      },
      "source": [
        "## Step 5. Training the model"
      ]
    },
    {
      "cell_type": "code",
      "metadata": {
        "colab": {
          "base_uri": "https://localhost:8080/"
        },
        "id": "vp7vl70tVhVt",
        "outputId": "7b54c0c3-d1df-48e8-b36d-fde1b08d4e81"
      },
      "source": [
        "# fit network\n",
        "model.fit(X_train_r, y_train, epochs=num_epochs, batch_size=batch_size, validation_data=(X_val_r, y_val), verbose=1)"
      ],
      "execution_count": null,
      "outputs": [
        {
          "output_type": "stream",
          "text": [
            "Epoch 1/30\n",
            "544/544 [==============================] - 15s 16ms/step - loss: 0.3761 - accuracy: 0.8867 - val_loss: 0.1968 - val_accuracy: 0.9491\n",
            "Epoch 2/30\n",
            "544/544 [==============================] - 8s 15ms/step - loss: 0.0919 - accuracy: 0.9689 - val_loss: 0.1204 - val_accuracy: 0.9620\n",
            "Epoch 3/30\n",
            "544/544 [==============================] - 8s 15ms/step - loss: 0.0805 - accuracy: 0.9719 - val_loss: 0.0859 - val_accuracy: 0.9694\n",
            "Epoch 4/30\n",
            "544/544 [==============================] - 8s 15ms/step - loss: 0.0742 - accuracy: 0.9737 - val_loss: 0.0852 - val_accuracy: 0.9736\n",
            "Epoch 5/30\n",
            "544/544 [==============================] - 8s 15ms/step - loss: 0.0644 - accuracy: 0.9777 - val_loss: 0.0692 - val_accuracy: 0.9763\n",
            "Epoch 6/30\n",
            "544/544 [==============================] - 8s 15ms/step - loss: 0.0564 - accuracy: 0.9804 - val_loss: 0.0874 - val_accuracy: 0.9649\n",
            "Epoch 7/30\n",
            "544/544 [==============================] - 8s 15ms/step - loss: 0.0541 - accuracy: 0.9814 - val_loss: 0.0664 - val_accuracy: 0.9769\n",
            "Epoch 8/30\n",
            "544/544 [==============================] - 8s 15ms/step - loss: 0.0503 - accuracy: 0.9824 - val_loss: 0.0672 - val_accuracy: 0.9773\n",
            "Epoch 9/30\n",
            "544/544 [==============================] - 8s 15ms/step - loss: 0.0467 - accuracy: 0.9834 - val_loss: 0.0684 - val_accuracy: 0.9713\n",
            "Epoch 10/30\n",
            "544/544 [==============================] - 8s 15ms/step - loss: 0.0457 - accuracy: 0.9839 - val_loss: 0.0895 - val_accuracy: 0.9656\n",
            "Epoch 11/30\n",
            "544/544 [==============================] - 8s 15ms/step - loss: 0.0407 - accuracy: 0.9856 - val_loss: 0.3497 - val_accuracy: 0.9147\n",
            "Epoch 12/30\n",
            "544/544 [==============================] - 8s 15ms/step - loss: 0.0509 - accuracy: 0.9828 - val_loss: 0.1008 - val_accuracy: 0.9777\n",
            "Epoch 13/30\n",
            "544/544 [==============================] - 8s 15ms/step - loss: 0.0319 - accuracy: 0.9892 - val_loss: 0.0942 - val_accuracy: 0.9684\n",
            "Epoch 14/30\n",
            "544/544 [==============================] - 8s 15ms/step - loss: 0.0262 - accuracy: 0.9916 - val_loss: 0.1114 - val_accuracy: 0.9705\n",
            "Epoch 15/30\n",
            "544/544 [==============================] - 8s 14ms/step - loss: 0.0381 - accuracy: 0.9886 - val_loss: 0.1274 - val_accuracy: 0.9719\n",
            "Epoch 16/30\n",
            "544/544 [==============================] - 8s 14ms/step - loss: 0.0239 - accuracy: 0.9926 - val_loss: 0.1246 - val_accuracy: 0.9728\n",
            "Epoch 17/30\n",
            "544/544 [==============================] - 8s 15ms/step - loss: 0.0215 - accuracy: 0.9934 - val_loss: 0.1059 - val_accuracy: 0.9754\n",
            "Epoch 18/30\n",
            "544/544 [==============================] - 8s 15ms/step - loss: 0.0208 - accuracy: 0.9937 - val_loss: 0.1138 - val_accuracy: 0.9749\n",
            "Epoch 19/30\n",
            "544/544 [==============================] - 8s 15ms/step - loss: 0.0218 - accuracy: 0.9932 - val_loss: 0.3139 - val_accuracy: 0.9196\n",
            "Epoch 20/30\n",
            "544/544 [==============================] - 8s 15ms/step - loss: 0.0538 - accuracy: 0.9824 - val_loss: 0.1066 - val_accuracy: 0.9722\n",
            "Epoch 21/30\n",
            "544/544 [==============================] - 8s 14ms/step - loss: 0.0222 - accuracy: 0.9933 - val_loss: 0.1211 - val_accuracy: 0.9830\n",
            "Epoch 22/30\n",
            "544/544 [==============================] - 8s 14ms/step - loss: 0.0240 - accuracy: 0.9926 - val_loss: 0.1373 - val_accuracy: 0.9696\n",
            "Epoch 23/30\n",
            "544/544 [==============================] - 8s 15ms/step - loss: 0.0233 - accuracy: 0.9929 - val_loss: 0.1285 - val_accuracy: 0.9802\n",
            "Epoch 24/30\n",
            "544/544 [==============================] - 8s 15ms/step - loss: 0.0184 - accuracy: 0.9941 - val_loss: 0.1246 - val_accuracy: 0.9767\n",
            "Epoch 25/30\n",
            "544/544 [==============================] - 8s 15ms/step - loss: 0.0191 - accuracy: 0.9940 - val_loss: 0.0839 - val_accuracy: 0.9811\n",
            "Epoch 26/30\n",
            "544/544 [==============================] - 8s 15ms/step - loss: 0.0200 - accuracy: 0.9937 - val_loss: 0.0999 - val_accuracy: 0.9814\n",
            "Epoch 27/30\n",
            "544/544 [==============================] - 8s 15ms/step - loss: 0.0270 - accuracy: 0.9918 - val_loss: 0.0751 - val_accuracy: 0.9815\n",
            "Epoch 28/30\n",
            "544/544 [==============================] - 8s 15ms/step - loss: 0.0260 - accuracy: 0.9921 - val_loss: 0.1080 - val_accuracy: 0.9841\n",
            "Epoch 29/30\n",
            "544/544 [==============================] - 8s 15ms/step - loss: 0.0189 - accuracy: 0.9941 - val_loss: 0.1156 - val_accuracy: 0.9810\n",
            "Epoch 30/30\n",
            "544/544 [==============================] - 8s 14ms/step - loss: 0.0180 - accuracy: 0.9944 - val_loss: 0.1218 - val_accuracy: 0.9809\n"
          ],
          "name": "stdout"
        },
        {
          "output_type": "execute_result",
          "data": {
            "text/plain": [
              "<tensorflow.python.keras.callbacks.History at 0x7f418027cb00>"
            ]
          },
          "metadata": {
            "tags": []
          },
          "execution_count": 31
        }
      ]
    },
    {
      "cell_type": "code",
      "metadata": {
        "id": "tCgwcslPVhVt",
        "colab": {
          "base_uri": "https://localhost:8080/"
        },
        "outputId": "41de4c10-2282-4bcb-bcb5-03b3a5c7a991"
      },
      "source": [
        "# evaluate model\n",
        "accuracy = model.evaluate(X_test_r, y_test, batch_size=batch_size, verbose=0)\n",
        "print(accuracy)"
      ],
      "execution_count": null,
      "outputs": [
        {
          "output_type": "stream",
          "text": [
            "[0.06611747294664383, 0.9843748807907104]\n"
          ],
          "name": "stdout"
        }
      ]
    },
    {
      "cell_type": "markdown",
      "metadata": {
        "id": "N1UGo1sd3-Qo"
      },
      "source": [
        "Save the model"
      ]
    },
    {
      "cell_type": "code",
      "metadata": {
        "id": "O_rq2fiC39qY"
      },
      "source": [
        "model.save('/content/drive/My Drive/CICIDS2017/cicids2017cnn.h5')"
      ],
      "execution_count": null,
      "outputs": []
    },
    {
      "cell_type": "markdown",
      "metadata": {
        "id": "idbRflOkkunA"
      },
      "source": [
        "## Step 6. Calculate Precision, Recall, and F-sore"
      ]
    },
    {
      "cell_type": "markdown",
      "metadata": {
        "id": "WihpW4LbVhVt"
      },
      "source": [
        "Classification accuracy is the total number of correct predictions divided by the total number of predictions made for a dataset. As a performance measure, accuracy is inappropriate for imbalanced classification problems. The main reason is that the overwhelming number of examples from the majority class (or classes) will overwhelm the number of examples in the minority class, meaning that even unskillful models can achieve accuracy scores of 90 percent, or 99 percent, depending on how severe the class imbalance happens to be.\r\n",
        "\r\n",
        "An alternative to using classification accuracy is to use precision and recall metrics."
      ]
    },
    {
      "cell_type": "code",
      "metadata": {
        "id": "Mg6vs3vPtRiv"
      },
      "source": [
        "# demonstration of calculating metrics for a neural network model using sklearn\r\n",
        "from sklearn.metrics import accuracy_score\r\n",
        "from sklearn.metrics import precision_score\r\n",
        "from sklearn.metrics import recall_score\r\n",
        "from sklearn.metrics import f1_score\r\n",
        "from sklearn.metrics import cohen_kappa_score\r\n",
        "from sklearn.metrics import roc_auc_score\r\n",
        "from sklearn.metrics import confusion_matrix"
      ],
      "execution_count": null,
      "outputs": []
    },
    {
      "cell_type": "code",
      "metadata": {
        "id": "MUvtnIroziHC"
      },
      "source": [
        "df_label = df_test['Label']\r\n",
        "ytest = encode_label(df_label.values)"
      ],
      "execution_count": null,
      "outputs": []
    },
    {
      "cell_type": "code",
      "metadata": {
        "colab": {
          "base_uri": "https://localhost:8080/"
        },
        "id": "GMMvAP93tLmz",
        "outputId": "b620ba6f-3398-4648-f321-8688c7557d58"
      },
      "source": [
        "# predict probabilities for test set\r\n",
        "yhat_probs = model.predict(X_test_r, verbose=0)\r\n",
        "\r\n",
        "# predict crisp classes for test set\r\n",
        "yhat_classes = model.predict_classes(X_test_r, verbose=0)\r\n",
        "\r\n",
        "# reduce to 1d array\r\n",
        "yhat_probs = yhat_probs[:, 0]\r\n",
        "#yhat_classes = yhat_classes[:, 0]"
      ],
      "execution_count": null,
      "outputs": [
        {
          "output_type": "stream",
          "text": [
            "/usr/local/lib/python3.6/dist-packages/tensorflow/python/keras/engine/sequential.py:450: UserWarning: `model.predict_classes()` is deprecated and will be removed after 2021-01-01. Please use instead:* `np.argmax(model.predict(x), axis=-1)`,   if your model does multi-class classification   (e.g. if it uses a `softmax` last-layer activation).* `(model.predict(x) > 0.5).astype(\"int32\")`,   if your model does binary classification   (e.g. if it uses a `sigmoid` last-layer activation).\n",
            "  warnings.warn('`model.predict_classes()` is deprecated and '\n"
          ],
          "name": "stderr"
        }
      ]
    },
    {
      "cell_type": "code",
      "metadata": {
        "colab": {
          "base_uri": "https://localhost:8080/"
        },
        "id": "UkH69KHwyGTZ",
        "outputId": "dcaf0c8a-474f-4d0b-fa2a-5b9a2c0cdfb8"
      },
      "source": [
        "print(yhat_probs.shape)\r\n",
        "print(ytest.shape)"
      ],
      "execution_count": null,
      "outputs": [
        {
          "output_type": "stream",
          "text": [
            "(278270,)\n",
            "(278270,)\n"
          ],
          "name": "stdout"
        }
      ]
    },
    {
      "cell_type": "markdown",
      "metadata": {
        "id": "tId99uaYto6f"
      },
      "source": [
        "**Accuracy**"
      ]
    },
    {
      "cell_type": "code",
      "metadata": {
        "colab": {
          "base_uri": "https://localhost:8080/"
        },
        "id": "jVqd5_BAtoMn",
        "outputId": "746a2afb-e4e7-4033-d0eb-4bd88038c4cc"
      },
      "source": [
        "# accuracy: (tp + tn) / (p + n)\r\n",
        "accuracy = accuracy_score(ytest, yhat_classes)\r\n",
        "print('Accuracy: %f' % accuracy)"
      ],
      "execution_count": null,
      "outputs": [
        {
          "output_type": "stream",
          "text": [
            "Accuracy: 0.984375\n"
          ],
          "name": "stdout"
        }
      ]
    },
    {
      "cell_type": "markdown",
      "metadata": {
        "id": "CTm8k-rokOeq"
      },
      "source": [
        "**Precision**"
      ]
    },
    {
      "cell_type": "markdown",
      "metadata": {
        "id": "fPV7hHbBpO6C"
      },
      "source": [
        "Precision calculates the accuracy for the minority class. It is calculated as the ratio of correctly predicted positive examples divided by the total number of positive examples that were predicted."
      ]
    },
    {
      "cell_type": "code",
      "metadata": {
        "colab": {
          "base_uri": "https://localhost:8080/"
        },
        "id": "U6mMkUVzn_Hs",
        "outputId": "521247fd-7b9b-4e19-d8d9-6d75774b3e5b"
      },
      "source": [
        "# precision tp / (tp + fp)\r\n",
        "precision = precision_score(ytest, yhat_classes, labels=[1,2], average='micro')\r\n",
        "# labels is a list of all possible class labels\r\n",
        "print('Precision: %f' % precision)"
      ],
      "execution_count": null,
      "outputs": [
        {
          "output_type": "stream",
          "text": [
            "Precision: 0.997210\n"
          ],
          "name": "stdout"
        }
      ]
    },
    {
      "cell_type": "markdown",
      "metadata": {
        "id": "YknKgTY4iyBK"
      },
      "source": [
        "**Recall**\r\n",
        "\r\n",
        "Recall is the ratio of true positives to the ground-truth positives in the sample. Unlike Precision, Recall also considers the number of positive (minority) cases that were not classified as such."
      ]
    },
    {
      "cell_type": "code",
      "metadata": {
        "colab": {
          "base_uri": "https://localhost:8080/"
        },
        "id": "C11PO0DEjRR6",
        "outputId": "6ef0ae08-ddcf-48e6-e88d-d903665f2739"
      },
      "source": [
        "# recall: tp / (tp + fn)\r\n",
        "recall = recall_score(ytest, yhat_classes, average='weighted')\r\n",
        "print('Recall: %f' % recall)"
      ],
      "execution_count": null,
      "outputs": [
        {
          "output_type": "stream",
          "text": [
            "Recall: 0.984375\n"
          ],
          "name": "stdout"
        }
      ]
    },
    {
      "cell_type": "markdown",
      "metadata": {
        "id": "X7FcTR0endeX"
      },
      "source": [
        "**F-Score**\r\n",
        "\r\n",
        "Precision is appropriate when we are more concerned with minimizing false positives, while Recall is appropriate when the number of false negatives is more critica"
      ]
    },
    {
      "cell_type": "code",
      "metadata": {
        "colab": {
          "base_uri": "https://localhost:8080/"
        },
        "id": "PzTvXOpUuUgB",
        "outputId": "31ec61d0-77e7-455e-ed15-0e55753a748e"
      },
      "source": [
        "# f1: 2 tp / (2 tp + fp + fn)\r\n",
        "f1 = f1_score(ytest, yhat_classes, average='weighted')\r\n",
        "print('F1 score: %f' % f1)"
      ],
      "execution_count": null,
      "outputs": [
        {
          "output_type": "stream",
          "text": [
            "F1 score: 0.983610\n"
          ],
          "name": "stdout"
        }
      ]
    },
    {
      "cell_type": "code",
      "metadata": {
        "colab": {
          "base_uri": "https://localhost:8080/"
        },
        "id": "j2rk3q0k1mcj",
        "outputId": "11f710ea-0e59-4ebd-bdec-bc9522021b1e"
      },
      "source": [
        "# kappa\r\n",
        "kappa = cohen_kappa_score(ytest, yhat_classes)\r\n",
        "print('Cohens kappa: %f' % kappa)\r\n",
        "\r\n",
        "# confusion matrix\r\n",
        "matrix = confusion_matrix(ytest, yhat_classes)\r\n",
        "print(matrix)"
      ],
      "execution_count": null,
      "outputs": [
        {
          "output_type": "stream",
          "text": [
            "Cohens kappa: 0.976714\n",
            "[[137918     69     12     26    901     39      4     36      0      0\n",
            "      90      3     37      0      0]\n",
            " [   199    290      0      0      0      0      0      0      0      0\n",
            "       0      0      0      0      0]\n",
            " [   132      0  31873      1      0      0      0      0      0      0\n",
            "       0      0      0      0      0]\n",
            " [    12      0      0   2537     22      1      1      0      0      0\n",
            "       0      0      0      0      0]\n",
            " [  1573      0      1      6  55951      0      0      0      0      0\n",
            "       0      0      0      0      0]\n",
            " [    53      0      0      1      0   1309      8      0      0      0\n",
            "       0      0      3      0      0]\n",
            " [    44      0      0      0      0     13   1391      0      0      0\n",
            "       0      0      1      0      0]\n",
            " [     4      0      0      0      0      0      2   1976      0      0\n",
            "       0      0      1      0      0]\n",
            " [     0      0      0      0      0      0      0      0      2      0\n",
            "       0      0      0      0      0]\n",
            " [     7      0      0      0      0      0      0      0      0      2\n",
            "       0      0      0      0      0]\n",
            " [    26      0      8      0     19      0      0      0      0      0\n",
            "   39648      0      0      0      0]\n",
            " [   755      0      0      0      2      0      0      0      0      0\n",
            "       0    717      0      0      0]\n",
            " [    49      0      0      0      0      0      0      0      0      0\n",
            "       0     19    308      0      0]\n",
            " [     4      0      0      1      0      0      0      0      0      0\n",
            "       0      0      0      0      0]\n",
            " [     9      0      0      1      0      0      0      0      0      0\n",
            "       0      0    153      0      0]]\n"
          ],
          "name": "stdout"
        }
      ]
    },
    {
      "cell_type": "markdown",
      "metadata": {
        "id": "e9ItA5t8Qtn7"
      },
      "source": [
        "## Step 7. Using CNN2D Model\r\n",
        "\r\n",
        "Convert each example as a 9x8 gray image."
      ]
    },
    {
      "cell_type": "markdown",
      "metadata": {
        "id": "AtyvmjYlQ_mx"
      },
      "source": [
        "Each example has 71 features. Add one additional column to have 72 features such that we can have 9x8 gray images."
      ]
    },
    {
      "cell_type": "code",
      "metadata": {
        "id": "nkApShsTRnHK"
      },
      "source": [
        "X_train_enlarge = np.append(X_train, np.zeros([len(X_train),1]),1)\r\n",
        "X_val_enlarge = np.append(X_val, np.zeros([len(X_val),1]),1)\r\n",
        "X_test_enlarge = np.append(X_test, np.zeros([len(X_test),1]),1)"
      ],
      "execution_count": null,
      "outputs": []
    },
    {
      "cell_type": "code",
      "metadata": {
        "id": "-hdG6ulRR1u9"
      },
      "source": [
        "img_row = 9\r\n",
        "img_col = 8\r\n",
        "\r\n",
        "X_train_gray = np.array([x.reshape(img_row, img_col,1) for x in X_train_enlarge])\r\n",
        "train_gray = np.array([x.reshape(img_row, img_col) for x in X_train_enlarge])"
      ],
      "execution_count": null,
      "outputs": []
    },
    {
      "cell_type": "code",
      "metadata": {
        "id": "F44Tnkm3Ywjd"
      },
      "source": [
        "X_test_gray = np.array([x.reshape(img_row, img_col,1) for x in X_test_enlarge])\r\n",
        "test_gray = np.array([x.reshape(img_row, img_col) for x in X_test_enlarge])"
      ],
      "execution_count": null,
      "outputs": []
    },
    {
      "cell_type": "code",
      "metadata": {
        "id": "thymITcuYyNP"
      },
      "source": [
        "X_val_gray = np.array([x.reshape(img_row, img_col,1) for x in X_val_enlarge])\r\n",
        "val_gray =  np.array([x.reshape(img_row, img_col) for x in X_val_enlarge])"
      ],
      "execution_count": null,
      "outputs": []
    },
    {
      "cell_type": "code",
      "metadata": {
        "colab": {
          "base_uri": "https://localhost:8080/"
        },
        "id": "bmwagL4RR8UJ",
        "outputId": "7b2cb67c-cee0-464e-b9f5-98fd48cf3e7e"
      },
      "source": [
        "X_train_gray.shape"
      ],
      "execution_count": null,
      "outputs": [
        {
          "output_type": "execute_result",
          "data": {
            "text/plain": [
              "(556548, 9, 8, 1)"
            ]
          },
          "metadata": {
            "tags": []
          },
          "execution_count": 121
        }
      ]
    },
    {
      "cell_type": "code",
      "metadata": {
        "colab": {
          "base_uri": "https://localhost:8080/"
        },
        "id": "uCZ7X1RdTv0B",
        "outputId": "6b9751d4-64fd-4875-b19e-c85cb3b93e98"
      },
      "source": [
        "X_test_gray.shape"
      ],
      "execution_count": null,
      "outputs": [
        {
          "output_type": "execute_result",
          "data": {
            "text/plain": [
              "(278270, 9, 8, 1)"
            ]
          },
          "metadata": {
            "tags": []
          },
          "execution_count": 122
        }
      ]
    },
    {
      "cell_type": "code",
      "metadata": {
        "colab": {
          "base_uri": "https://localhost:8080/",
          "height": 139
        },
        "id": "0LMrG3lXR84C",
        "outputId": "6a8b470e-0eb4-4a14-c0db-bcff36fe5fe0"
      },
      "source": [
        "n = 40  # how many digits we will display\r\n",
        "plt.figure(figsize=(80, 30))\r\n",
        "for i in range(1,10):\r\n",
        "    # display original\r\n",
        "    ax = plt.subplot(1, n, i + 1)\r\n",
        "    plt.imshow(train_gray[i])\r\n",
        "    plt.gray()\r\n",
        "    ax.get_xaxis().set_visible(False)\r\n",
        "    ax.get_yaxis().set_visible(False)\r\n",
        "plt.show()\r\n",
        "plt.close()"
      ],
      "execution_count": null,
      "outputs": [
        {
          "output_type": "display_data",
          "data": {
            "image/png": "[encoded data removed]",
            "text/plain": [
              "<Figure size 5760x2160 with 9 Axes>"
            ]
          },
          "metadata": {
            "tags": [],
            "needs_background": "light"
          }
        }
      ]
    },
    {
      "cell_type": "code",
      "metadata": {
        "colab": {
          "base_uri": "https://localhost:8080/",
          "height": 139
        },
        "id": "WpRL__rXSAyg",
        "outputId": "16872bb5-81bc-432c-871d-135ff744a207"
      },
      "source": [
        "n = 40  # how many digits we will display\r\n",
        "plt.figure(figsize=(80, 30))\r\n",
        "for i in range(1,10):\r\n",
        "    # display original\r\n",
        "    ax = plt.subplot(1, n, i + 1)\r\n",
        "    plt.imshow(test_gray[i])\r\n",
        "    plt.gray()\r\n",
        "    ax.get_xaxis().set_visible(False)\r\n",
        "    ax.get_yaxis().set_visible(False)\r\n",
        "plt.show()\r\n",
        "plt.close()"
      ],
      "execution_count": null,
      "outputs": [
        {
          "output_type": "display_data",
          "data": {
            "image/png": "[encoded data removed]",
            "text/plain": [
              "<Figure size 5760x2160 with 9 Axes>"
            ]
          },
          "metadata": {
            "tags": [],
            "needs_background": "light"
          }
        }
      ]
    },
    {
      "cell_type": "code",
      "metadata": {
        "colab": {
          "base_uri": "https://localhost:8080/",
          "height": 139
        },
        "id": "lxx02x93rzsQ",
        "outputId": "db1b5f0d-e991-41a6-a504-e6a6f5f61b58"
      },
      "source": [
        "n = 40  # how many digits we will display\r\n",
        "plt.figure(figsize=(80, 30))\r\n",
        "for i in range(1,10):\r\n",
        "    # display original\r\n",
        "    ax = plt.subplot(1, n, i + 1)\r\n",
        "    plt.imshow(val_gray[i])\r\n",
        "    plt.gray()\r\n",
        "    ax.get_xaxis().set_visible(False)\r\n",
        "    ax.get_yaxis().set_visible(False)\r\n",
        "plt.show()\r\n",
        "plt.close()"
      ],
      "execution_count": null,
      "outputs": [
        {
          "output_type": "display_data",
          "data": {
            "image/png": "[encoded data removed]",
            "text/plain": [
              "<Figure size 5760x2160 with 9 Axes>"
            ]
          },
          "metadata": {
            "tags": [],
            "needs_background": "light"
          }
        }
      ]
    },
    {
      "cell_type": "code",
      "metadata": {
        "id": "ugGLvutdSDa3"
      },
      "source": [
        "import tensorflow as tf\r\n",
        "from tensorflow.keras.models import Sequential\r\n",
        "from tensorflow.keras.layers import Conv2D, BatchNormalization, MaxPooling2D, Flatten, Dense, Activation,Dropout\r\n",
        "from tensorflow.keras.constraints import max_norm"
      ],
      "execution_count": null,
      "outputs": []
    },
    {
      "cell_type": "code",
      "metadata": {
        "id": "U1gBaaEpSFfy"
      },
      "source": [
        "batch_size = 1000 # increasing batch size with more gpu added\r\n",
        " \r\n",
        "num_class = 15                   # 15 intrusion classes, including benign traffic class\r\n",
        "epochs = 40"
      ],
      "execution_count": null,
      "outputs": []
    },
    {
      "cell_type": "code",
      "metadata": {
        "colab": {
          "base_uri": "https://localhost:8080/"
        },
        "id": "hkUmpqvASGBT",
        "outputId": "7cee7644-9573-476c-956e-7247931c7438"
      },
      "source": [
        "model2d_g = Sequential()\r\n",
        "model2d_g.add(Conv2D(32, kernel_size=(3, 3), padding='same', activation='relu', input_shape=(9,8,1)))\r\n",
        "model2d_g.add(Conv2D(64, kernel_size=(3,3), padding='same',  activation='relu'))\r\n",
        "model2d_g.add(Flatten())\r\n",
        "model2d_g.add(Dropout(0.2))\r\n",
        "model2d_g.add(Dense(512))\r\n",
        "model2d_g.add(Dense(num_class, activation='softmax'))\r\n",
        " \r\n",
        "model2d_g.summary()"
      ],
      "execution_count": null,
      "outputs": [
        {
          "output_type": "stream",
          "text": [
            "Model: \"sequential_25\"\n",
            "_________________________________________________________________\n",
            "Layer (type)                 Output Shape              Param #   \n",
            "=================================================================\n",
            "conv2d_48 (Conv2D)           (None, 9, 8, 32)          320       \n",
            "_________________________________________________________________\n",
            "conv2d_49 (Conv2D)           (None, 9, 8, 64)          18496     \n",
            "_________________________________________________________________\n",
            "flatten_24 (Flatten)         (None, 4608)              0         \n",
            "_________________________________________________________________\n",
            "dropout_18 (Dropout)         (None, 4608)              0         \n",
            "_________________________________________________________________\n",
            "dense_48 (Dense)             (None, 512)               2359808   \n",
            "_________________________________________________________________\n",
            "dense_49 (Dense)             (None, 15)                7695      \n",
            "=================================================================\n",
            "Total params: 2,386,319\n",
            "Trainable params: 2,386,319\n",
            "Non-trainable params: 0\n",
            "_________________________________________________________________\n"
          ],
          "name": "stdout"
        }
      ]
    },
    {
      "cell_type": "code",
      "metadata": {
        "id": "f9JpvgWCSIJZ"
      },
      "source": [
        "# training\r\n",
        "model2d_g.compile(loss='categorical_crossentropy',\r\n",
        "              optimizer=tf.keras.optimizers.RMSprop(lr=0.001), #,SGD(lr=0.01), #\r\n",
        "              metrics=['accuracy'])"
      ],
      "execution_count": null,
      "outputs": []
    },
    {
      "cell_type": "code",
      "metadata": {
        "colab": {
          "base_uri": "https://localhost:8080/"
        },
        "id": "FwN4-uyN0tj8",
        "outputId": "fd8a049b-9207-4b44-87ee-c54b1ad6aa05"
      },
      "source": [
        "model2d_g.fit(X_train_gray, y_train,\r\n",
        "          batch_size=batch_size,\r\n",
        "          epochs=epochs,\r\n",
        "          verbose=1,\r\n",
        "          validation_data=(X_val_gray, y_val))"
      ],
      "execution_count": null,
      "outputs": [
        {
          "output_type": "stream",
          "text": [
            "Epoch 1/40\n",
            "557/557 [==============================] - 9s 15ms/step - loss: 0.5116 - accuracy: 0.8180 - val_loss: 0.4099 - val_accuracy: 0.8110\n",
            "Epoch 2/40\n",
            "557/557 [==============================] - 8s 15ms/step - loss: 0.1565 - accuracy: 0.9436 - val_loss: 0.7247 - val_accuracy: 0.7966\n",
            "Epoch 3/40\n",
            "557/557 [==============================] - 8s 15ms/step - loss: 0.1091 - accuracy: 0.9633 - val_loss: 0.7172 - val_accuracy: 0.7689\n",
            "Epoch 4/40\n",
            "557/557 [==============================] - 8s 15ms/step - loss: 0.0890 - accuracy: 0.9697 - val_loss: 0.6974 - val_accuracy: 0.7304\n",
            "Epoch 5/40\n",
            "557/557 [==============================] - 8s 14ms/step - loss: 0.0773 - accuracy: 0.9733 - val_loss: 0.8603 - val_accuracy: 0.7299\n",
            "Epoch 6/40\n",
            "557/557 [==============================] - 8s 14ms/step - loss: 0.0688 - accuracy: 0.9765 - val_loss: 0.5598 - val_accuracy: 0.7989\n",
            "Epoch 7/40\n",
            "557/557 [==============================] - 8s 14ms/step - loss: 0.0634 - accuracy: 0.9783 - val_loss: 0.6528 - val_accuracy: 0.7998\n",
            "Epoch 8/40\n",
            "557/557 [==============================] - 8s 14ms/step - loss: 0.0617 - accuracy: 0.9786 - val_loss: 0.5260 - val_accuracy: 0.8449\n",
            "Epoch 9/40\n",
            "557/557 [==============================] - 8s 14ms/step - loss: 0.0602 - accuracy: 0.9792 - val_loss: 0.4886 - val_accuracy: 0.8581\n",
            "Epoch 10/40\n",
            "557/557 [==============================] - 8s 14ms/step - loss: 0.0582 - accuracy: 0.9798 - val_loss: 0.4769 - val_accuracy: 0.8727\n",
            "Epoch 11/40\n",
            "557/557 [==============================] - 8s 14ms/step - loss: 0.0565 - accuracy: 0.9803 - val_loss: 0.3280 - val_accuracy: 0.9128\n",
            "Epoch 12/40\n",
            "557/557 [==============================] - 8s 14ms/step - loss: 0.0551 - accuracy: 0.9808 - val_loss: 0.5444 - val_accuracy: 0.8603\n",
            "Epoch 13/40\n",
            "557/557 [==============================] - 8s 15ms/step - loss: 0.0544 - accuracy: 0.9808 - val_loss: 0.4976 - val_accuracy: 0.8567\n",
            "Epoch 14/40\n",
            "557/557 [==============================] - 8s 14ms/step - loss: 0.0532 - accuracy: 0.9812 - val_loss: 0.4418 - val_accuracy: 0.8641\n",
            "Epoch 15/40\n",
            "557/557 [==============================] - 8s 14ms/step - loss: 0.0526 - accuracy: 0.9814 - val_loss: 0.5937 - val_accuracy: 0.8654\n",
            "Epoch 16/40\n",
            "557/557 [==============================] - 8s 14ms/step - loss: 0.0525 - accuracy: 0.9816 - val_loss: 0.4221 - val_accuracy: 0.8774\n",
            "Epoch 17/40\n",
            "557/557 [==============================] - 8s 14ms/step - loss: 0.0521 - accuracy: 0.9820 - val_loss: 0.2978 - val_accuracy: 0.9418\n",
            "Epoch 18/40\n",
            "557/557 [==============================] - 8s 14ms/step - loss: 0.0521 - accuracy: 0.9818 - val_loss: 0.4772 - val_accuracy: 0.8170\n",
            "Epoch 19/40\n",
            "557/557 [==============================] - 8s 14ms/step - loss: 0.0513 - accuracy: 0.9819 - val_loss: 0.6555 - val_accuracy: 0.8541\n",
            "Epoch 20/40\n",
            "557/557 [==============================] - 8s 14ms/step - loss: 0.0513 - accuracy: 0.9820 - val_loss: 0.3566 - val_accuracy: 0.9005\n",
            "Epoch 21/40\n",
            "557/557 [==============================] - 8s 14ms/step - loss: 0.0514 - accuracy: 0.9819 - val_loss: 0.3171 - val_accuracy: 0.9293\n",
            "Epoch 22/40\n",
            "557/557 [==============================] - 8s 14ms/step - loss: 0.0508 - accuracy: 0.9819 - val_loss: 0.2740 - val_accuracy: 0.9461\n",
            "Epoch 23/40\n",
            "557/557 [==============================] - 8s 14ms/step - loss: 0.0499 - accuracy: 0.9825 - val_loss: 0.3117 - val_accuracy: 0.9397\n",
            "Epoch 24/40\n",
            "557/557 [==============================] - 8s 14ms/step - loss: 0.0498 - accuracy: 0.9823 - val_loss: 0.3218 - val_accuracy: 0.9453\n",
            "Epoch 25/40\n",
            "557/557 [==============================] - 8s 14ms/step - loss: 0.0496 - accuracy: 0.9826 - val_loss: 0.3238 - val_accuracy: 0.9100\n",
            "Epoch 26/40\n",
            "557/557 [==============================] - 8s 14ms/step - loss: 0.0497 - accuracy: 0.9826 - val_loss: 0.3630 - val_accuracy: 0.9008\n",
            "Epoch 27/40\n",
            "557/557 [==============================] - 8s 14ms/step - loss: 0.0493 - accuracy: 0.9826 - val_loss: 0.4331 - val_accuracy: 0.8532\n",
            "Epoch 28/40\n",
            "557/557 [==============================] - 8s 14ms/step - loss: 0.0489 - accuracy: 0.9826 - val_loss: 0.3237 - val_accuracy: 0.9284\n",
            "Epoch 29/40\n",
            "557/557 [==============================] - 8s 14ms/step - loss: 0.0485 - accuracy: 0.9829 - val_loss: 0.3547 - val_accuracy: 0.9180\n",
            "Epoch 30/40\n",
            "557/557 [==============================] - 8s 14ms/step - loss: 0.0478 - accuracy: 0.9831 - val_loss: 0.4317 - val_accuracy: 0.8619\n",
            "Epoch 31/40\n",
            "557/557 [==============================] - 8s 14ms/step - loss: 0.0486 - accuracy: 0.9828 - val_loss: 0.4347 - val_accuracy: 0.8789\n",
            "Epoch 32/40\n",
            "557/557 [==============================] - 8s 14ms/step - loss: 0.0474 - accuracy: 0.9832 - val_loss: 0.3505 - val_accuracy: 0.8670\n",
            "Epoch 33/40\n",
            "557/557 [==============================] - 8s 14ms/step - loss: 0.0479 - accuracy: 0.9832 - val_loss: 0.3482 - val_accuracy: 0.9187\n",
            "Epoch 34/40\n",
            "557/557 [==============================] - 8s 14ms/step - loss: 0.0479 - accuracy: 0.9831 - val_loss: 0.3990 - val_accuracy: 0.8765\n",
            "Epoch 35/40\n",
            "557/557 [==============================] - 8s 14ms/step - loss: 0.0475 - accuracy: 0.9832 - val_loss: 0.3790 - val_accuracy: 0.8947\n",
            "Epoch 36/40\n",
            "557/557 [==============================] - 8s 14ms/step - loss: 0.0465 - accuracy: 0.9837 - val_loss: 0.4595 - val_accuracy: 0.8718\n",
            "Epoch 37/40\n",
            "557/557 [==============================] - 8s 14ms/step - loss: 0.0466 - accuracy: 0.9841 - val_loss: 0.6758 - val_accuracy: 0.8387\n",
            "Epoch 38/40\n",
            "557/557 [==============================] - 8s 14ms/step - loss: 0.0467 - accuracy: 0.9834 - val_loss: 0.4959 - val_accuracy: 0.8618\n",
            "Epoch 39/40\n",
            "557/557 [==============================] - 8s 14ms/step - loss: 0.0462 - accuracy: 0.9838 - val_loss: 0.5915 - val_accuracy: 0.8516\n",
            "Epoch 40/40\n",
            "557/557 [==============================] - 8s 14ms/step - loss: 0.0466 - accuracy: 0.9840 - val_loss: 0.5361 - val_accuracy: 0.8396\n"
          ],
          "name": "stdout"
        },
        {
          "output_type": "execute_result",
          "data": {
            "text/plain": [
              "<tensorflow.python.keras.callbacks.History at 0x7f24d1c95550>"
            ]
          },
          "metadata": {
            "tags": []
          },
          "execution_count": 130
        }
      ]
    },
    {
      "cell_type": "code",
      "metadata": {
        "colab": {
          "base_uri": "https://localhost:8080/"
        },
        "id": "4fjqVlruetSV",
        "outputId": "0653b0d5-e6f2-411b-f67d-595b602714f5"
      },
      "source": [
        "# evaluate model\r\n",
        "accuracy = model2d_g.evaluate(X_test_gray, y_test, batch_size=batch_size, verbose=0)\r\n",
        "print(accuracy)"
      ],
      "execution_count": null,
      "outputs": [
        {
          "output_type": "stream",
          "text": [
            "[0.07864858955144882, 0.9820713400840759]\n"
          ],
          "name": "stdout"
        }
      ]
    },
    {
      "cell_type": "markdown",
      "metadata": {
        "id": "lh9FLb7_WRLH"
      },
      "source": [
        "Convert each example as a 6x4 color image."
      ]
    },
    {
      "cell_type": "code",
      "metadata": {
        "id": "05SJRUI4WjCB"
      },
      "source": [
        "img_row = 6\r\n",
        "img_col = 4\r\n",
        "\r\n",
        "X_train_img = np.array([x.reshape(img_row, img_col, 3) for x in X_train_enlarge])\r\n",
        "X_val_img = np.array([x.reshape(img_row, img_col, 3) for x in X_val_enlarge])\r\n",
        "X_test_img = np.array([x.reshape(img_row, img_col, 3) for x in X_test_enlarge])"
      ],
      "execution_count": null,
      "outputs": []
    },
    {
      "cell_type": "code",
      "metadata": {
        "colab": {
          "base_uri": "https://localhost:8080/",
          "height": 174
        },
        "id": "kOTZhA91Wnrw",
        "outputId": "40be642c-3f31-4e4e-81ed-5d8a90e281a7"
      },
      "source": [
        "#ploting images for data\r\n",
        "%matplotlib inline\r\n",
        "n = 40  # how many digits we will display\r\n",
        "plt.figure(figsize=(80, 30))\r\n",
        "for i in range(6,11):\r\n",
        "    # display original\r\n",
        "    ax = plt.subplot(1, n, i + 1)\r\n",
        "    plt.imshow(X_train_img[i])\r\n",
        "    plt.gray()\r\n",
        "    ax.get_xaxis().set_visible(False)\r\n",
        "    ax.get_yaxis().set_visible(False)\r\n",
        "plt.show()\r\n",
        "plt.close()"
      ],
      "execution_count": null,
      "outputs": [
        {
          "output_type": "display_data",
          "data": {
            "image/png": "[encoded data removed]",
            "text/plain": [
              "<Figure size 5760x2160 with 5 Axes>"
            ]
          },
          "metadata": {
            "tags": [],
            "needs_background": "light"
          }
        }
      ]
    },
    {
      "cell_type": "code",
      "metadata": {
        "colab": {
          "base_uri": "https://localhost:8080/",
          "height": 174
        },
        "id": "N-0c21LeWqL-",
        "outputId": "5f55016b-d2c7-4e7e-e799-34d47d5547b3"
      },
      "source": [
        "n = 40  # how many digits we will display\r\n",
        "plt.figure(figsize=(80, 30))\r\n",
        "for i in range(6,11):\r\n",
        "    # display original\r\n",
        "    ax = plt.subplot(1, n, i + 1)\r\n",
        "    plt.imshow(X_test_img[i])\r\n",
        "    plt.gray()\r\n",
        "    ax.get_xaxis().set_visible(False)\r\n",
        "    ax.get_yaxis().set_visible(False)\r\n",
        "plt.show()\r\n",
        "plt.close()"
      ],
      "execution_count": null,
      "outputs": [
        {
          "output_type": "display_data",
          "data": {
            "image/png": "[encoded data removed]",
            "text/plain": [
              "<Figure size 5760x2160 with 5 Axes>"
            ]
          },
          "metadata": {
            "tags": [],
            "needs_background": "light"
          }
        }
      ]
    },
    {
      "cell_type": "code",
      "metadata": {
        "colab": {
          "base_uri": "https://localhost:8080/"
        },
        "id": "fwGv07d4WwWY",
        "outputId": "532b0ea1-b60a-4357-c58b-8dc0ed6d286e"
      },
      "source": [
        "model2d = Sequential()\r\n",
        "model2d.add(Conv2D(32, kernel_size=(1, 1), padding='same', activation='relu', input_shape=(6,4,3)))\r\n",
        "model2d.add(Conv2D(64, kernel_size=(1, 1), padding='same', activation='relu'))\r\n",
        "model2d.add(Flatten()) \r\n",
        "model2d.add(Dropout(0.1))\r\n",
        "model2d.add(Dense(512))\r\n",
        "model2d.add(Dense(num_class, activation='softmax'))\r\n",
        " \r\n",
        "model2d.summary()"
      ],
      "execution_count": null,
      "outputs": [
        {
          "output_type": "stream",
          "text": [
            "Model: \"sequential_26\"\n",
            "_________________________________________________________________\n",
            "Layer (type)                 Output Shape              Param #   \n",
            "=================================================================\n",
            "conv2d_50 (Conv2D)           (None, 6, 4, 32)          128       \n",
            "_________________________________________________________________\n",
            "conv2d_51 (Conv2D)           (None, 6, 4, 64)          2112      \n",
            "_________________________________________________________________\n",
            "flatten_25 (Flatten)         (None, 1536)              0         \n",
            "_________________________________________________________________\n",
            "dropout_19 (Dropout)         (None, 1536)              0         \n",
            "_________________________________________________________________\n",
            "dense_50 (Dense)             (None, 512)               786944    \n",
            "_________________________________________________________________\n",
            "dense_51 (Dense)             (None, 15)                7695      \n",
            "=================================================================\n",
            "Total params: 796,879\n",
            "Trainable params: 796,879\n",
            "Non-trainable params: 0\n",
            "_________________________________________________________________\n"
          ],
          "name": "stdout"
        }
      ]
    },
    {
      "cell_type": "code",
      "metadata": {
        "colab": {
          "base_uri": "https://localhost:8080/"
        },
        "id": "rWzzbIhaW0H1",
        "outputId": "0cdcaeea-84a6-4861-ddad-56d531503bcf"
      },
      "source": [
        "# training\r\n",
        "model2d.compile(loss='categorical_crossentropy',\r\n",
        "              optimizer=tf.keras.optimizers.RMSprop(lr=0.01), #,SGD(lr=0.01), #\r\n",
        "              metrics=['accuracy'])\r\n",
        "model2d.fit(X_train_img, y_train,\r\n",
        "          batch_size=batch_size,\r\n",
        "          epochs=epochs,\r\n",
        "          verbose=1,\r\n",
        "          validation_data=(X_val_img, y_val))"
      ],
      "execution_count": null,
      "outputs": [
        {
          "output_type": "stream",
          "text": [
            "Epoch 1/40\n",
            "557/557 [==============================] - 4s 6ms/step - loss: 0.7221 - accuracy: 0.7703 - val_loss: 0.2294 - val_accuracy: 0.9005\n",
            "Epoch 2/40\n",
            "557/557 [==============================] - 3s 6ms/step - loss: 0.2083 - accuracy: 0.9291 - val_loss: 0.2261 - val_accuracy: 0.8936\n",
            "Epoch 3/40\n",
            "557/557 [==============================] - 3s 6ms/step - loss: 0.1720 - accuracy: 0.9440 - val_loss: 0.1358 - val_accuracy: 0.9522\n",
            "Epoch 4/40\n",
            "557/557 [==============================] - 3s 6ms/step - loss: 0.1463 - accuracy: 0.9507 - val_loss: 0.1972 - val_accuracy: 0.9365\n",
            "Epoch 5/40\n",
            "557/557 [==============================] - 3s 6ms/step - loss: 0.1388 - accuracy: 0.9526 - val_loss: 0.1799 - val_accuracy: 0.9016\n",
            "Epoch 6/40\n",
            "557/557 [==============================] - 3s 6ms/step - loss: 0.1359 - accuracy: 0.9545 - val_loss: 0.2031 - val_accuracy: 0.9002\n",
            "Epoch 7/40\n",
            "557/557 [==============================] - 3s 6ms/step - loss: 0.1221 - accuracy: 0.9585 - val_loss: 0.3816 - val_accuracy: 0.8337\n",
            "Epoch 8/40\n",
            "557/557 [==============================] - 3s 6ms/step - loss: 0.1335 - accuracy: 0.9551 - val_loss: 0.3129 - val_accuracy: 0.8920\n",
            "Epoch 9/40\n",
            "557/557 [==============================] - 3s 6ms/step - loss: 0.1196 - accuracy: 0.9589 - val_loss: 0.2263 - val_accuracy: 0.9029\n",
            "Epoch 10/40\n",
            "557/557 [==============================] - 3s 6ms/step - loss: 0.1158 - accuracy: 0.9600 - val_loss: 0.1915 - val_accuracy: 0.9525\n",
            "Epoch 11/40\n",
            "557/557 [==============================] - 3s 6ms/step - loss: 0.1145 - accuracy: 0.9608 - val_loss: 0.1831 - val_accuracy: 0.9053\n",
            "Epoch 12/40\n",
            "557/557 [==============================] - 3s 6ms/step - loss: 0.1146 - accuracy: 0.9605 - val_loss: 0.1924 - val_accuracy: 0.9552\n",
            "Epoch 13/40\n",
            "557/557 [==============================] - 3s 6ms/step - loss: 0.1135 - accuracy: 0.9608 - val_loss: 0.1909 - val_accuracy: 0.9102\n",
            "Epoch 14/40\n",
            "557/557 [==============================] - 3s 6ms/step - loss: 0.1150 - accuracy: 0.9601 - val_loss: 0.1446 - val_accuracy: 0.9620\n",
            "Epoch 15/40\n",
            "557/557 [==============================] - 3s 6ms/step - loss: 0.1150 - accuracy: 0.9609 - val_loss: 0.2011 - val_accuracy: 0.9571\n",
            "Epoch 16/40\n",
            "557/557 [==============================] - 4s 6ms/step - loss: 0.1066 - accuracy: 0.9629 - val_loss: 0.2417 - val_accuracy: 0.9012\n",
            "Epoch 17/40\n",
            "557/557 [==============================] - 3s 6ms/step - loss: 0.1078 - accuracy: 0.9628 - val_loss: 0.2093 - val_accuracy: 0.9573\n",
            "Epoch 18/40\n",
            "557/557 [==============================] - 3s 6ms/step - loss: 0.1064 - accuracy: 0.9633 - val_loss: 0.2037 - val_accuracy: 0.9541\n",
            "Epoch 19/40\n",
            "557/557 [==============================] - 3s 6ms/step - loss: 0.1062 - accuracy: 0.9632 - val_loss: 0.2125 - val_accuracy: 0.9458\n",
            "Epoch 20/40\n",
            "557/557 [==============================] - 3s 6ms/step - loss: 0.1062 - accuracy: 0.9628 - val_loss: 0.2022 - val_accuracy: 0.9307\n",
            "Epoch 21/40\n",
            "557/557 [==============================] - 3s 6ms/step - loss: 0.1065 - accuracy: 0.9630 - val_loss: 0.2184 - val_accuracy: 0.9411\n",
            "Epoch 22/40\n",
            "557/557 [==============================] - 3s 6ms/step - loss: 0.1062 - accuracy: 0.9629 - val_loss: 0.1883 - val_accuracy: 0.9507\n",
            "Epoch 23/40\n",
            "557/557 [==============================] - 3s 6ms/step - loss: 0.1034 - accuracy: 0.9642 - val_loss: 0.2372 - val_accuracy: 0.9498\n",
            "Epoch 24/40\n",
            "557/557 [==============================] - 3s 6ms/step - loss: 0.1021 - accuracy: 0.9640 - val_loss: 0.2798 - val_accuracy: 0.9161\n",
            "Epoch 25/40\n",
            "557/557 [==============================] - 3s 6ms/step - loss: 0.1050 - accuracy: 0.9626 - val_loss: 0.1621 - val_accuracy: 0.9558\n",
            "Epoch 26/40\n",
            "557/557 [==============================] - 3s 6ms/step - loss: 0.1035 - accuracy: 0.9626 - val_loss: 0.2638 - val_accuracy: 0.9086\n",
            "Epoch 27/40\n",
            "557/557 [==============================] - 3s 6ms/step - loss: 0.1024 - accuracy: 0.9638 - val_loss: 0.3195 - val_accuracy: 0.8894\n",
            "Epoch 28/40\n",
            "557/557 [==============================] - 3s 6ms/step - loss: 0.1013 - accuracy: 0.9638 - val_loss: 0.4991 - val_accuracy: 0.8443\n",
            "Epoch 29/40\n",
            "557/557 [==============================] - 3s 6ms/step - loss: 0.1051 - accuracy: 0.9628 - val_loss: 0.2088 - val_accuracy: 0.9427\n",
            "Epoch 30/40\n",
            "557/557 [==============================] - 3s 6ms/step - loss: 0.1014 - accuracy: 0.9637 - val_loss: 0.3551 - val_accuracy: 0.9002\n",
            "Epoch 31/40\n",
            "557/557 [==============================] - 3s 6ms/step - loss: 0.0995 - accuracy: 0.9647 - val_loss: 0.1928 - val_accuracy: 0.9502\n",
            "Epoch 32/40\n",
            "557/557 [==============================] - 4s 6ms/step - loss: 0.1024 - accuracy: 0.9633 - val_loss: 0.1884 - val_accuracy: 0.9600\n",
            "Epoch 33/40\n",
            "557/557 [==============================] - 3s 6ms/step - loss: 0.1034 - accuracy: 0.9636 - val_loss: 0.9633 - val_accuracy: 0.8069\n",
            "Epoch 34/40\n",
            "557/557 [==============================] - 4s 6ms/step - loss: 0.1034 - accuracy: 0.9627 - val_loss: 0.3138 - val_accuracy: 0.9098\n",
            "Epoch 35/40\n",
            "557/557 [==============================] - 3s 6ms/step - loss: 0.1019 - accuracy: 0.9635 - val_loss: 0.2654 - val_accuracy: 0.9491\n",
            "Epoch 36/40\n",
            "557/557 [==============================] - 3s 6ms/step - loss: 0.1013 - accuracy: 0.9637 - val_loss: 0.3124 - val_accuracy: 0.9317\n",
            "Epoch 37/40\n",
            "557/557 [==============================] - 3s 6ms/step - loss: 0.1036 - accuracy: 0.9631 - val_loss: 0.5440 - val_accuracy: 0.8569\n",
            "Epoch 38/40\n",
            "557/557 [==============================] - 3s 6ms/step - loss: 0.1020 - accuracy: 0.9638 - val_loss: 0.2144 - val_accuracy: 0.9382\n",
            "Epoch 39/40\n",
            "557/557 [==============================] - 3s 6ms/step - loss: 0.1009 - accuracy: 0.9638 - val_loss: 0.2267 - val_accuracy: 0.9526\n",
            "Epoch 40/40\n",
            "557/557 [==============================] - 3s 6ms/step - loss: 0.1006 - accuracy: 0.9643 - val_loss: 0.2988 - val_accuracy: 0.9417\n"
          ],
          "name": "stdout"
        },
        {
          "output_type": "execute_result",
          "data": {
            "text/plain": [
              "<tensorflow.python.keras.callbacks.History at 0x7f24d28605c0>"
            ]
          },
          "metadata": {
            "tags": []
          },
          "execution_count": 136
        }
      ]
    },
    {
      "cell_type": "code",
      "metadata": {
        "colab": {
          "base_uri": "https://localhost:8080/"
        },
        "id": "mMPHxj0-f-oe",
        "outputId": "953d384c-a673-4237-8706-c4518f3ec911"
      },
      "source": [
        "# evaluate model\r\n",
        "accuracy = model2d.evaluate(X_test_img, y_test, batch_size=batch_size, verbose=0)\r\n",
        "print(accuracy)"
      ],
      "execution_count": null,
      "outputs": [
        {
          "output_type": "stream",
          "text": [
            "[0.14182227849960327, 0.9685341715812683]\n"
          ],
          "name": "stdout"
        }
      ]
    },
    {
      "cell_type": "markdown",
      "metadata": {
        "id": "DcQRpxhJ--MV"
      },
      "source": [
        "## Step 8. DNN Model "
      ]
    },
    {
      "cell_type": "code",
      "metadata": {
        "id": "M3elN8zR_Q5V"
      },
      "source": [
        "model_dnn = Sequential()\r\n",
        "\r\n",
        "# input layer\r\n",
        "model_dnn.add(Dense(128,  activation='relu', input_shape = (71,)))\r\n",
        "model_dnn.add(Dropout(0.1))\r\n",
        "\r\n",
        "# hidden layer\r\n",
        "model_dnn.add(Dense(256, activation='relu'))\r\n",
        "model_dnn.add(Dropout(0.1))\r\n",
        "\r\n",
        "# hidden layer\r\n",
        "model_dnn.add(Dense(64, activation='relu'))\r\n",
        "model_dnn.add(Dropout(0.1))\r\n",
        "\r\n",
        "model_dnn.add(Flatten()) \r\n",
        "model_dnn.add(Dense(num_class))\r\n",
        "model_dnn.add(Activation('softmax'))\r\n",
        "\r\n",
        "\r\n",
        "model_dnn.summary()"
      ],
      "execution_count": null,
      "outputs": []
    },
    {
      "cell_type": "code",
      "metadata": {
        "id": "-hmKpwUxDd4c"
      },
      "source": [
        "learning_rates = 1e-4\r\n",
        "optim = tf.keras.optimizers.Adam(lr=learning_rates, beta_1=0.9, beta_2=0.999, epsilon=1e-8)\r\n",
        "model_dnn.compile(loss='categorical_crossentropy', optimizer=optim, metrics=['accuracy'])"
      ],
      "execution_count": null,
      "outputs": []
    },
    {
      "cell_type": "code",
      "metadata": {
        "id": "uvaZXBJEDhb6"
      },
      "source": [
        "# fit network\r\n",
        "model_dnn.fit(X_train, y_train, epochs=100, batch_size=batch_size, validation_data=(X_val, y_val), verbose=1)"
      ],
      "execution_count": null,
      "outputs": []
    },
    {
      "cell_type": "code",
      "metadata": {
        "id": "WOntIk8XEjAj"
      },
      "source": [
        "# evaluate model\r\n",
        "accuracy = model.evaluate(X_test_r, y_test, batch_size=batch_size, verbose=1)"
      ],
      "execution_count": null,
      "outputs": []
    },
    {
      "cell_type": "markdown",
      "metadata": {
        "id": "SNsRIsuJHOi1"
      },
      "source": [
        "## Step 9. PCA Modol"
      ]
    },
    {
      "cell_type": "markdown",
      "metadata": {
        "id": "ePuR0Oihx3lf"
      },
      "source": [
        "Perform basic exploratory analysis"
      ]
    },
    {
      "cell_type": "code",
      "metadata": {
        "colab": {
          "base_uri": "https://localhost:8080/",
          "height": 434
        },
        "id": "Sic8FPx8v5Pi",
        "outputId": "46281320-8161-43b8-c962-d7a4721c8d8b"
      },
      "source": [
        "df_train.head()"
      ],
      "execution_count": 15,
      "outputs": [
        {
          "output_type": "execute_result",
          "data": {
            "text/html": [
              "<div>\n",
              "<style scoped>\n",
              "    .dataframe tbody tr th:only-of-type {\n",
              "        vertical-align: middle;\n",
              "    }\n",
              "\n",
              "    .dataframe tbody tr th {\n",
              "        vertical-align: top;\n",
              "    }\n",
              "\n",
              "    .dataframe thead th {\n",
              "        text-align: right;\n",
              "    }\n",
              "</style>\n",
              "<table border=\"1\" class=\"dataframe\">\n",
              "  <thead>\n",
              "    <tr style=\"text-align: right;\">\n",
              "      <th></th>\n",
              "      <th></th>\n",
              "      <th></th>\n",
              "      <th></th>\n",
              "      <th></th>\n",
              "      <th></th>\n",
              "      <th></th>\n",
              "      <th></th>\n",
              "      <th></th>\n",
              "      <th></th>\n",
              "      <th></th>\n",
              "      <th></th>\n",
              "      <th></th>\n",
              "      <th></th>\n",
              "      <th>Source Port</th>\n",
              "      <th>Destination Port</th>\n",
              "      <th>Protocol</th>\n",
              "      <th>Flow Duration</th>\n",
              "      <th>Total Fwd Packets</th>\n",
              "      <th>Total Backward Packets</th>\n",
              "      <th>Total Length of Fwd Packets</th>\n",
              "      <th>Total Length of Bwd Packets</th>\n",
              "      <th>Fwd Packet Length Max</th>\n",
              "      <th>Fwd Packet Length Min</th>\n",
              "      <th>Fwd Packet Length Mean</th>\n",
              "      <th>Fwd Packet Length Std</th>\n",
              "      <th>Bwd Packet Length Max</th>\n",
              "      <th>Bwd Packet Length Min</th>\n",
              "      <th>Bwd Packet Length Mean</th>\n",
              "      <th>Bwd Packet Length Std</th>\n",
              "      <th>Flow Bytes/s</th>\n",
              "      <th>Flow Packets/s</th>\n",
              "      <th>Flow IAT Mean</th>\n",
              "      <th>Flow IAT Std</th>\n",
              "      <th>Flow IAT Max</th>\n",
              "      <th>Flow IAT Min</th>\n",
              "      <th>Fwd IAT Total</th>\n",
              "      <th>Fwd IAT Mean</th>\n",
              "      <th>Fwd IAT Std</th>\n",
              "      <th>Fwd IAT Max</th>\n",
              "      <th>Fwd IAT Min</th>\n",
              "      <th>Bwd IAT Total</th>\n",
              "      <th>Bwd IAT Mean</th>\n",
              "      <th>Bwd IAT Std</th>\n",
              "      <th>Bwd IAT Max</th>\n",
              "      <th>Bwd IAT Min</th>\n",
              "      <th>Fwd PSH Flags</th>\n",
              "      <th>Fwd URG Flags</th>\n",
              "      <th>Fwd Header Length</th>\n",
              "      <th>Bwd Header Length</th>\n",
              "      <th>Fwd Packets/s</th>\n",
              "      <th>Bwd Packets/s</th>\n",
              "      <th>Min Packet Length</th>\n",
              "      <th>Max Packet Length</th>\n",
              "      <th>Packet Length Mean</th>\n",
              "      <th>Packet Length Std</th>\n",
              "      <th>Packet Length Variance</th>\n",
              "      <th>FIN Flag Count</th>\n",
              "      <th>SYN Flag Count</th>\n",
              "      <th>RST Flag Count</th>\n",
              "      <th>PSH Flag Count</th>\n",
              "      <th>ACK Flag Count</th>\n",
              "      <th>URG Flag Count</th>\n",
              "      <th>CWE Flag Count</th>\n",
              "      <th>ECE Flag Count</th>\n",
              "      <th>Down/Up Ratio</th>\n",
              "      <th>Average Packet Size</th>\n",
              "      <th>Avg Fwd Segment Size</th>\n",
              "      <th>Avg Bwd Segment Size</th>\n",
              "      <th>Subflow Fwd Packets</th>\n",
              "      <th>Subflow Fwd Bytes</th>\n",
              "      <th>Subflow Bwd Packets</th>\n",
              "      <th>Subflow Bwd Bytes</th>\n",
              "      <th>Init_Win_bytes_forward</th>\n",
              "      <th>Init_Win_bytes_backward</th>\n",
              "      <th>act_data_pkt_fwd</th>\n",
              "      <th>min_seg_size_forward</th>\n",
              "      <th>Active Mean</th>\n",
              "      <th>Active Std</th>\n",
              "      <th>Active Max</th>\n",
              "      <th>Active Min</th>\n",
              "      <th>Idle Mean</th>\n",
              "      <th>Idle Std</th>\n",
              "      <th>Idle Max</th>\n",
              "      <th>Idle Min</th>\n",
              "      <th>Label</th>\n",
              "    </tr>\n",
              "  </thead>\n",
              "  <tbody>\n",
              "    <tr>\n",
              "      <th>5141</th>\n",
              "      <th>172.16.0.1-192.168.10.50-50294-80-6</th>\n",
              "      <th>172.16.0.1</th>\n",
              "      <th>50294.0</th>\n",
              "      <th>192.168.10.50</th>\n",
              "      <th>80.0</th>\n",
              "      <th>6.0</th>\n",
              "      <th>5/7/2017 10:33</th>\n",
              "      <th>63101744.0</th>\n",
              "      <th>7.0</th>\n",
              "      <th>0.0</th>\n",
              "      <th>0.0</th>\n",
              "      <th>0.0</th>\n",
              "      <th>0.0</th>\n",
              "      <td>0.0</td>\n",
              "      <td>0.000000</td>\n",
              "      <td>0.000000</td>\n",
              "      <td>0.0</td>\n",
              "      <td>0.0</td>\n",
              "      <td>0.0</td>\n",
              "      <td>0.0</td>\n",
              "      <td>0.000000e+00</td>\n",
              "      <td>0.110932</td>\n",
              "      <td>10500000.0</td>\n",
              "      <td>1.190000e+07</td>\n",
              "      <td>32100000.0</td>\n",
              "      <td>998158.0</td>\n",
              "      <td>63100000.0</td>\n",
              "      <td>1.050000e+07</td>\n",
              "      <td>1.190000e+07</td>\n",
              "      <td>32100000.0</td>\n",
              "      <td>998158.0</td>\n",
              "      <td>0.0</td>\n",
              "      <td>0.0</td>\n",
              "      <td>0.00000</td>\n",
              "      <td>0.0</td>\n",
              "      <td>0.0</td>\n",
              "      <td>0.0</td>\n",
              "      <td>0.0</td>\n",
              "      <td>0.0</td>\n",
              "      <td>0.0</td>\n",
              "      <td>280.0</td>\n",
              "      <td>0.0</td>\n",
              "      <td>0.110932</td>\n",
              "      <td>0.000000</td>\n",
              "      <td>0.0</td>\n",
              "      <td>0.0</td>\n",
              "      <td>0.000000</td>\n",
              "      <td>0.000000</td>\n",
              "      <td>0.000000</td>\n",
              "      <td>0.0</td>\n",
              "      <td>0.0</td>\n",
              "      <td>0.0</td>\n",
              "      <td>1.0</td>\n",
              "      <td>0.0</td>\n",
              "      <td>0.0</td>\n",
              "      <td>0.0</td>\n",
              "      <td>0.0</td>\n",
              "      <td>0.0</td>\n",
              "      <td>0.000000</td>\n",
              "      <td>0.000000</td>\n",
              "      <td>0.0</td>\n",
              "      <td>280.0</td>\n",
              "      <td>0.0</td>\n",
              "      <td>0.0</td>\n",
              "      <td>0.0</td>\n",
              "      <td>0.0</td>\n",
              "      <td>0.0</td>\n",
              "      <td>0.0</td>\n",
              "      <td>7.0</td>\n",
              "      <td>0.0</td>\n",
              "      <td>0.0</td>\n",
              "      <td>0.0</td>\n",
              "      <td>29200.0</td>\n",
              "      <td>-1.0</td>\n",
              "      <td>0.0</td>\n",
              "      <td>40.0</td>\n",
              "      <td>7006133.0</td>\n",
              "      <td>0.0</td>\n",
              "      <td>7006133.0</td>\n",
              "      <td>7006133.0</td>\n",
              "      <td>18700000.0</td>\n",
              "      <td>12200000.0</td>\n",
              "      <td>32100000.0</td>\n",
              "      <td>8015895.0</td>\n",
              "      <td>DoS Slowhttptest</td>\n",
              "    </tr>\n",
              "    <tr>\n",
              "      <th>40963</th>\n",
              "      <th>172.16.0.1-192.168.10.50-37796-1199-6</th>\n",
              "      <th>172.16.0.1</th>\n",
              "      <th>37796.0</th>\n",
              "      <th>192.168.10.50</th>\n",
              "      <th>1199.0</th>\n",
              "      <th>6.0</th>\n",
              "      <th>7/7/2017 2:52</th>\n",
              "      <th>62.0</th>\n",
              "      <th>1.0</th>\n",
              "      <th>1.0</th>\n",
              "      <th>2.0</th>\n",
              "      <th>6.0</th>\n",
              "      <th>2.0</th>\n",
              "      <td>2.0</td>\n",
              "      <td>2.000000</td>\n",
              "      <td>0.000000</td>\n",
              "      <td>6.0</td>\n",
              "      <td>6.0</td>\n",
              "      <td>6.0</td>\n",
              "      <td>0.0</td>\n",
              "      <td>1.290323e+05</td>\n",
              "      <td>32258.064520</td>\n",
              "      <td>62.0</td>\n",
              "      <td>0.000000e+00</td>\n",
              "      <td>62.0</td>\n",
              "      <td>62.0</td>\n",
              "      <td>0.0</td>\n",
              "      <td>0.000000e+00</td>\n",
              "      <td>0.000000e+00</td>\n",
              "      <td>0.0</td>\n",
              "      <td>0.0</td>\n",
              "      <td>0.0</td>\n",
              "      <td>0.0</td>\n",
              "      <td>0.00000</td>\n",
              "      <td>0.0</td>\n",
              "      <td>0.0</td>\n",
              "      <td>0.0</td>\n",
              "      <td>0.0</td>\n",
              "      <td>0.0</td>\n",
              "      <td>0.0</td>\n",
              "      <td>24.0</td>\n",
              "      <td>20.0</td>\n",
              "      <td>16129.032260</td>\n",
              "      <td>16129.032260</td>\n",
              "      <td>2.0</td>\n",
              "      <td>6.0</td>\n",
              "      <td>3.333333</td>\n",
              "      <td>2.309401</td>\n",
              "      <td>5.333333</td>\n",
              "      <td>0.0</td>\n",
              "      <td>0.0</td>\n",
              "      <td>0.0</td>\n",
              "      <td>1.0</td>\n",
              "      <td>0.0</td>\n",
              "      <td>0.0</td>\n",
              "      <td>0.0</td>\n",
              "      <td>0.0</td>\n",
              "      <td>1.0</td>\n",
              "      <td>5.000000</td>\n",
              "      <td>2.000000</td>\n",
              "      <td>6.0</td>\n",
              "      <td>24.0</td>\n",
              "      <td>0.0</td>\n",
              "      <td>0.0</td>\n",
              "      <td>0.0</td>\n",
              "      <td>0.0</td>\n",
              "      <td>0.0</td>\n",
              "      <td>0.0</td>\n",
              "      <td>1.0</td>\n",
              "      <td>2.0</td>\n",
              "      <td>1.0</td>\n",
              "      <td>6.0</td>\n",
              "      <td>1024.0</td>\n",
              "      <td>0.0</td>\n",
              "      <td>0.0</td>\n",
              "      <td>24.0</td>\n",
              "      <td>0.0</td>\n",
              "      <td>0.0</td>\n",
              "      <td>0.0</td>\n",
              "      <td>0.0</td>\n",
              "      <td>0.0</td>\n",
              "      <td>0.0</td>\n",
              "      <td>0.0</td>\n",
              "      <td>0.0</td>\n",
              "      <td>PortScan</td>\n",
              "    </tr>\n",
              "    <tr>\n",
              "      <th>27718</th>\n",
              "      <th>172.217.6.200-192.168.10.12-443-42634-6</th>\n",
              "      <th>172.217.6.200</th>\n",
              "      <th>443.0</th>\n",
              "      <th>192.168.10.12</th>\n",
              "      <th>42634.0</th>\n",
              "      <th>6.0</th>\n",
              "      <th>03/07/2017 09:49:12</th>\n",
              "      <th>3.0</th>\n",
              "      <th>2.0</th>\n",
              "      <th>0.0</th>\n",
              "      <th>0.0</th>\n",
              "      <th>0.0</th>\n",
              "      <th>0.0</th>\n",
              "      <td>0.0</td>\n",
              "      <td>0.000000</td>\n",
              "      <td>0.000000</td>\n",
              "      <td>0.0</td>\n",
              "      <td>0.0</td>\n",
              "      <td>0.0</td>\n",
              "      <td>0.0</td>\n",
              "      <td>0.000000e+00</td>\n",
              "      <td>666666.666667</td>\n",
              "      <td>3.0</td>\n",
              "      <td>0.000000e+00</td>\n",
              "      <td>3.0</td>\n",
              "      <td>3.0</td>\n",
              "      <td>3.0</td>\n",
              "      <td>3.000000e+00</td>\n",
              "      <td>0.000000e+00</td>\n",
              "      <td>3.0</td>\n",
              "      <td>3.0</td>\n",
              "      <td>0.0</td>\n",
              "      <td>0.0</td>\n",
              "      <td>0.00000</td>\n",
              "      <td>0.0</td>\n",
              "      <td>0.0</td>\n",
              "      <td>0.0</td>\n",
              "      <td>0.0</td>\n",
              "      <td>0.0</td>\n",
              "      <td>0.0</td>\n",
              "      <td>64.0</td>\n",
              "      <td>0.0</td>\n",
              "      <td>666666.666667</td>\n",
              "      <td>0.000000</td>\n",
              "      <td>0.0</td>\n",
              "      <td>0.0</td>\n",
              "      <td>0.000000</td>\n",
              "      <td>0.000000</td>\n",
              "      <td>0.000000</td>\n",
              "      <td>0.0</td>\n",
              "      <td>0.0</td>\n",
              "      <td>0.0</td>\n",
              "      <td>0.0</td>\n",
              "      <td>1.0</td>\n",
              "      <td>0.0</td>\n",
              "      <td>0.0</td>\n",
              "      <td>0.0</td>\n",
              "      <td>0.0</td>\n",
              "      <td>0.000000</td>\n",
              "      <td>0.000000</td>\n",
              "      <td>0.0</td>\n",
              "      <td>64.0</td>\n",
              "      <td>0.0</td>\n",
              "      <td>0.0</td>\n",
              "      <td>0.0</td>\n",
              "      <td>0.0</td>\n",
              "      <td>0.0</td>\n",
              "      <td>0.0</td>\n",
              "      <td>2.0</td>\n",
              "      <td>0.0</td>\n",
              "      <td>0.0</td>\n",
              "      <td>0.0</td>\n",
              "      <td>357.0</td>\n",
              "      <td>-1.0</td>\n",
              "      <td>0.0</td>\n",
              "      <td>32.0</td>\n",
              "      <td>0.0</td>\n",
              "      <td>0.0</td>\n",
              "      <td>0.0</td>\n",
              "      <td>0.0</td>\n",
              "      <td>0.0</td>\n",
              "      <td>0.0</td>\n",
              "      <td>0.0</td>\n",
              "      <td>0.0</td>\n",
              "      <td>BENIGN</td>\n",
              "    </tr>\n",
              "    <tr>\n",
              "      <th>106492</th>\n",
              "      <th>192.168.10.8-23.208.79.206-52235-443-6</th>\n",
              "      <th>192.168.10.8</th>\n",
              "      <th>52235.0</th>\n",
              "      <th>23.208.79.206</th>\n",
              "      <th>443.0</th>\n",
              "      <th>6.0</th>\n",
              "      <th>4/7/2017 11:46</th>\n",
              "      <th>5007496.0</th>\n",
              "      <th>7.0</th>\n",
              "      <th>4.0</th>\n",
              "      <th>1679.0</th>\n",
              "      <th>152.0</th>\n",
              "      <th>1080.0</th>\n",
              "      <td>0.0</td>\n",
              "      <td>239.857143</td>\n",
              "      <td>415.237052</td>\n",
              "      <td>152.0</td>\n",
              "      <td>0.0</td>\n",
              "      <td>38.0</td>\n",
              "      <td>76.0</td>\n",
              "      <td>3.656518e+02</td>\n",
              "      <td>2.196707</td>\n",
              "      <td>500749.6</td>\n",
              "      <td>1.543257e+06</td>\n",
              "      <td>4892570.0</td>\n",
              "      <td>3.0</td>\n",
              "      <td>5007496.0</td>\n",
              "      <td>8.345827e+05</td>\n",
              "      <td>2.018795e+06</td>\n",
              "      <td>4955369.0</td>\n",
              "      <td>3.0</td>\n",
              "      <td>87090.0</td>\n",
              "      <td>29030.0</td>\n",
              "      <td>31709.63089</td>\n",
              "      <td>63179.0</td>\n",
              "      <td>515.0</td>\n",
              "      <td>0.0</td>\n",
              "      <td>0.0</td>\n",
              "      <td>0.0</td>\n",
              "      <td>0.0</td>\n",
              "      <td>152.0</td>\n",
              "      <td>92.0</td>\n",
              "      <td>1.397904</td>\n",
              "      <td>0.798802</td>\n",
              "      <td>0.0</td>\n",
              "      <td>1080.0</td>\n",
              "      <td>152.583333</td>\n",
              "      <td>327.660428</td>\n",
              "      <td>107361.356100</td>\n",
              "      <td>0.0</td>\n",
              "      <td>0.0</td>\n",
              "      <td>0.0</td>\n",
              "      <td>1.0</td>\n",
              "      <td>0.0</td>\n",
              "      <td>0.0</td>\n",
              "      <td>0.0</td>\n",
              "      <td>0.0</td>\n",
              "      <td>0.0</td>\n",
              "      <td>166.454545</td>\n",
              "      <td>239.857143</td>\n",
              "      <td>38.0</td>\n",
              "      <td>152.0</td>\n",
              "      <td>0.0</td>\n",
              "      <td>0.0</td>\n",
              "      <td>0.0</td>\n",
              "      <td>0.0</td>\n",
              "      <td>0.0</td>\n",
              "      <td>0.0</td>\n",
              "      <td>7.0</td>\n",
              "      <td>1679.0</td>\n",
              "      <td>4.0</td>\n",
              "      <td>152.0</td>\n",
              "      <td>8192.0</td>\n",
              "      <td>946.0</td>\n",
              "      <td>4.0</td>\n",
              "      <td>20.0</td>\n",
              "      <td>0.0</td>\n",
              "      <td>0.0</td>\n",
              "      <td>0.0</td>\n",
              "      <td>0.0</td>\n",
              "      <td>0.0</td>\n",
              "      <td>0.0</td>\n",
              "      <td>0.0</td>\n",
              "      <td>0.0</td>\n",
              "      <td>BENIGN</td>\n",
              "    </tr>\n",
              "    <tr>\n",
              "      <th>63559</th>\n",
              "      <th>192.168.10.14-52.84.30.203-59835-80-6</th>\n",
              "      <th>52.84.30.203</th>\n",
              "      <th>80.0</th>\n",
              "      <th>192.168.10.14</th>\n",
              "      <th>59835.0</th>\n",
              "      <th>6.0</th>\n",
              "      <th>6/7/2017 10:04</th>\n",
              "      <th>4.0</th>\n",
              "      <th>1.0</th>\n",
              "      <th>1.0</th>\n",
              "      <th>6.0</th>\n",
              "      <th>6.0</th>\n",
              "      <th>6.0</th>\n",
              "      <td>6.0</td>\n",
              "      <td>6.000000</td>\n",
              "      <td>0.000000</td>\n",
              "      <td>6.0</td>\n",
              "      <td>6.0</td>\n",
              "      <td>6.0</td>\n",
              "      <td>0.0</td>\n",
              "      <td>3.000000e+06</td>\n",
              "      <td>500000.000000</td>\n",
              "      <td>4.0</td>\n",
              "      <td>0.000000e+00</td>\n",
              "      <td>4.0</td>\n",
              "      <td>4.0</td>\n",
              "      <td>0.0</td>\n",
              "      <td>0.000000e+00</td>\n",
              "      <td>0.000000e+00</td>\n",
              "      <td>0.0</td>\n",
              "      <td>0.0</td>\n",
              "      <td>0.0</td>\n",
              "      <td>0.0</td>\n",
              "      <td>0.00000</td>\n",
              "      <td>0.0</td>\n",
              "      <td>0.0</td>\n",
              "      <td>0.0</td>\n",
              "      <td>0.0</td>\n",
              "      <td>0.0</td>\n",
              "      <td>0.0</td>\n",
              "      <td>20.0</td>\n",
              "      <td>20.0</td>\n",
              "      <td>250000.000000</td>\n",
              "      <td>250000.000000</td>\n",
              "      <td>6.0</td>\n",
              "      <td>6.0</td>\n",
              "      <td>6.000000</td>\n",
              "      <td>0.000000</td>\n",
              "      <td>0.000000</td>\n",
              "      <td>0.0</td>\n",
              "      <td>0.0</td>\n",
              "      <td>0.0</td>\n",
              "      <td>0.0</td>\n",
              "      <td>1.0</td>\n",
              "      <td>1.0</td>\n",
              "      <td>0.0</td>\n",
              "      <td>0.0</td>\n",
              "      <td>1.0</td>\n",
              "      <td>9.000000</td>\n",
              "      <td>6.000000</td>\n",
              "      <td>6.0</td>\n",
              "      <td>20.0</td>\n",
              "      <td>0.0</td>\n",
              "      <td>0.0</td>\n",
              "      <td>0.0</td>\n",
              "      <td>0.0</td>\n",
              "      <td>0.0</td>\n",
              "      <td>0.0</td>\n",
              "      <td>1.0</td>\n",
              "      <td>6.0</td>\n",
              "      <td>1.0</td>\n",
              "      <td>6.0</td>\n",
              "      <td>115.0</td>\n",
              "      <td>256.0</td>\n",
              "      <td>0.0</td>\n",
              "      <td>20.0</td>\n",
              "      <td>0.0</td>\n",
              "      <td>0.0</td>\n",
              "      <td>0.0</td>\n",
              "      <td>0.0</td>\n",
              "      <td>0.0</td>\n",
              "      <td>0.0</td>\n",
              "      <td>0.0</td>\n",
              "      <td>0.0</td>\n",
              "      <td>BENIGN</td>\n",
              "    </tr>\n",
              "  </tbody>\n",
              "</table>\n",
              "</div>"
            ],
            "text/plain": [
              "                                                                                                                                                           Source Port  ...             Label\n",
              "5141   172.16.0.1-192.168.10.50-50294-80-6     172.16.0.1    50294.0 192.168.10.50 80.0    6.0 5/7/2017 10:33      63101744.0 7.0 0.0 0.0    0.0   0.0             0.0  ...  DoS Slowhttptest\n",
              "40963  172.16.0.1-192.168.10.50-37796-1199-6   172.16.0.1    37796.0 192.168.10.50 1199.0  6.0 7/7/2017 2:52       62.0       1.0 1.0 2.0    6.0   2.0             2.0  ...          PortScan\n",
              "27718  172.217.6.200-192.168.10.12-443-42634-6 172.217.6.200 443.0   192.168.10.12 42634.0 6.0 03/07/2017 09:49:12 3.0        2.0 0.0 0.0    0.0   0.0             0.0  ...            BENIGN\n",
              "106492 192.168.10.8-23.208.79.206-52235-443-6  192.168.10.8  52235.0 23.208.79.206 443.0   6.0 4/7/2017 11:46      5007496.0  7.0 4.0 1679.0 152.0 1080.0          0.0  ...            BENIGN\n",
              "63559  192.168.10.14-52.84.30.203-59835-80-6   52.84.30.203  80.0    192.168.10.14 59835.0 6.0 6/7/2017 10:04      4.0        1.0 1.0 6.0    6.0   6.0             6.0  ...            BENIGN\n",
              "\n",
              "[5 rows x 72 columns]"
            ]
          },
          "metadata": {
            "tags": []
          },
          "execution_count": 15
        }
      ]
    },
    {
      "cell_type": "code",
      "metadata": {
        "id": "jspKpdY9yjOs"
      },
      "source": [
        "import matplotlib.pyplot as plt\r\n",
        "from matplotlib.figure import Figure"
      ],
      "execution_count": 24,
      "outputs": []
    },
    {
      "cell_type": "code",
      "metadata": {
        "colab": {
          "base_uri": "https://localhost:8080/",
          "height": 784
        },
        "id": "MWMSpBF12qrb",
        "outputId": "8fd6184b-2d43-4474-f5e1-e511ed264714"
      },
      "source": [
        "correlation = df_train.corr()\r\n",
        "fig = plt.figure(figsize=(18,12))\r\n",
        "ax = plt.subplot(1,1,1)\r\n",
        "sns.heatmap(correlation,ax= ax, cmap='coolwarm')\r\n",
        "\r\n",
        "plt.title('Correlation between different fearures')"
      ],
      "execution_count": 25,
      "outputs": [
        {
          "output_type": "execute_result",
          "data": {
            "text/plain": [
              "Text(0.5, 1.0, 'Correlation between different fearures')"
            ]
          },
          "metadata": {
            "tags": []
          },
          "execution_count": 25
        },
        {
          "output_type": "display_data",
          "data": {
            "image/png": "[encoded data removed]",
            "text/plain": [
              "<Figure size 1296x864 with 2 Axes>"
            ]
          },
          "metadata": {
            "tags": [],
            "needs_background": "light"
          }
        }
      ]
    },
    {
      "cell_type": "code",
      "metadata": {
        "id": "WwWXlF0f3pVz"
      },
      "source": [
        "X_pca = df_train.drop('Label',axis=1)\r\n",
        "y_pca = df_train['Label']"
      ],
      "execution_count": 28,
      "outputs": []
    },
    {
      "cell_type": "code",
      "metadata": {
        "id": "R_mCucof4YRM"
      },
      "source": [
        "X_pca = scaler.fit_transform(X_pca)"
      ],
      "execution_count": 29,
      "outputs": []
    },
    {
      "cell_type": "code",
      "metadata": {
        "id": "fYjyAoS04dFp"
      },
      "source": [
        "dfx = pd.DataFrame(data=X_pca,columns=df_train.columns[1:])"
      ],
      "execution_count": 30,
      "outputs": []
    },
    {
      "cell_type": "code",
      "metadata": {
        "colab": {
          "base_uri": "https://localhost:8080/",
          "height": 583
        },
        "id": "MWOD4uAx4hNK",
        "outputId": "61edf8d1-0ff5-4ab1-acb5-eadd6e93234d"
      },
      "source": [
        "dfx.head(10)"
      ],
      "execution_count": 31,
      "outputs": [
        {
          "output_type": "execute_result",
          "data": {
            "text/html": [
              "<div>\n",
              "<style scoped>\n",
              "    .dataframe tbody tr th:only-of-type {\n",
              "        vertical-align: middle;\n",
              "    }\n",
              "\n",
              "    .dataframe tbody tr th {\n",
              "        vertical-align: top;\n",
              "    }\n",
              "\n",
              "    .dataframe thead th {\n",
              "        text-align: right;\n",
              "    }\n",
              "</style>\n",
              "<table border=\"1\" class=\"dataframe\">\n",
              "  <thead>\n",
              "    <tr style=\"text-align: right;\">\n",
              "      <th></th>\n",
              "      <th>Destination Port</th>\n",
              "      <th>Protocol</th>\n",
              "      <th>Flow Duration</th>\n",
              "      <th>Total Fwd Packets</th>\n",
              "      <th>Total Backward Packets</th>\n",
              "      <th>Total Length of Fwd Packets</th>\n",
              "      <th>Total Length of Bwd Packets</th>\n",
              "      <th>Fwd Packet Length Max</th>\n",
              "      <th>Fwd Packet Length Min</th>\n",
              "      <th>Fwd Packet Length Mean</th>\n",
              "      <th>Fwd Packet Length Std</th>\n",
              "      <th>Bwd Packet Length Max</th>\n",
              "      <th>Bwd Packet Length Min</th>\n",
              "      <th>Bwd Packet Length Mean</th>\n",
              "      <th>Bwd Packet Length Std</th>\n",
              "      <th>Flow Bytes/s</th>\n",
              "      <th>Flow Packets/s</th>\n",
              "      <th>Flow IAT Mean</th>\n",
              "      <th>Flow IAT Std</th>\n",
              "      <th>Flow IAT Max</th>\n",
              "      <th>Flow IAT Min</th>\n",
              "      <th>Fwd IAT Total</th>\n",
              "      <th>Fwd IAT Mean</th>\n",
              "      <th>Fwd IAT Std</th>\n",
              "      <th>Fwd IAT Max</th>\n",
              "      <th>Fwd IAT Min</th>\n",
              "      <th>Bwd IAT Total</th>\n",
              "      <th>Bwd IAT Mean</th>\n",
              "      <th>Bwd IAT Std</th>\n",
              "      <th>Bwd IAT Max</th>\n",
              "      <th>Bwd IAT Min</th>\n",
              "      <th>Fwd PSH Flags</th>\n",
              "      <th>Fwd URG Flags</th>\n",
              "      <th>Fwd Header Length</th>\n",
              "      <th>Bwd Header Length</th>\n",
              "      <th>Fwd Packets/s</th>\n",
              "      <th>Bwd Packets/s</th>\n",
              "      <th>Min Packet Length</th>\n",
              "      <th>Max Packet Length</th>\n",
              "      <th>Packet Length Mean</th>\n",
              "      <th>Packet Length Std</th>\n",
              "      <th>Packet Length Variance</th>\n",
              "      <th>FIN Flag Count</th>\n",
              "      <th>SYN Flag Count</th>\n",
              "      <th>RST Flag Count</th>\n",
              "      <th>PSH Flag Count</th>\n",
              "      <th>ACK Flag Count</th>\n",
              "      <th>URG Flag Count</th>\n",
              "      <th>CWE Flag Count</th>\n",
              "      <th>ECE Flag Count</th>\n",
              "      <th>Down/Up Ratio</th>\n",
              "      <th>Average Packet Size</th>\n",
              "      <th>Avg Fwd Segment Size</th>\n",
              "      <th>Avg Bwd Segment Size</th>\n",
              "      <th>Subflow Fwd Packets</th>\n",
              "      <th>Subflow Fwd Bytes</th>\n",
              "      <th>Subflow Bwd Packets</th>\n",
              "      <th>Subflow Bwd Bytes</th>\n",
              "      <th>Init_Win_bytes_forward</th>\n",
              "      <th>Init_Win_bytes_backward</th>\n",
              "      <th>act_data_pkt_fwd</th>\n",
              "      <th>min_seg_size_forward</th>\n",
              "      <th>Active Mean</th>\n",
              "      <th>Active Std</th>\n",
              "      <th>Active Max</th>\n",
              "      <th>Active Min</th>\n",
              "      <th>Idle Mean</th>\n",
              "      <th>Idle Std</th>\n",
              "      <th>Idle Max</th>\n",
              "      <th>Idle Min</th>\n",
              "      <th>Label</th>\n",
              "    </tr>\n",
              "  </thead>\n",
              "  <tbody>\n",
              "    <tr>\n",
              "      <th>0</th>\n",
              "      <td>0.000000</td>\n",
              "      <td>0.000000</td>\n",
              "      <td>0.000000</td>\n",
              "      <td>0.000000</td>\n",
              "      <td>0.000000</td>\n",
              "      <td>0.000000</td>\n",
              "      <td>0.000000</td>\n",
              "      <td>0.005761</td>\n",
              "      <td>0.400000</td>\n",
              "      <td>8.750002e-02</td>\n",
              "      <td>1.406619e-01</td>\n",
              "      <td>2.675000e-01</td>\n",
              "      <td>8.318091e-03</td>\n",
              "      <td>5.258333e-01</td>\n",
              "      <td>8.750000e-02</td>\n",
              "      <td>0.142686</td>\n",
              "      <td>2.675000e-01</td>\n",
              "      <td>8.317992e-03</td>\n",
              "      <td>0.000000e+00</td>\n",
              "      <td>0.000000e+00</td>\n",
              "      <td>0.000000</td>\n",
              "      <td>0.000000e+00</td>\n",
              "      <td>0.000000e+00</td>\n",
              "      <td>0.0</td>\n",
              "      <td>0.0</td>\n",
              "      <td>0.0</td>\n",
              "      <td>0.0</td>\n",
              "      <td>0.998038</td>\n",
              "      <td>0.968973</td>\n",
              "      <td>3.697732e-08</td>\n",
              "      <td>0.000000e+00</td>\n",
              "      <td>0.000000</td>\n",
              "      <td>0.000000</td>\n",
              "      <td>0.000000</td>\n",
              "      <td>0.000000</td>\n",
              "      <td>0.000000e+00</td>\n",
              "      <td>0.0</td>\n",
              "      <td>0.0</td>\n",
              "      <td>0.0</td>\n",
              "      <td>1.0</td>\n",
              "      <td>0.0</td>\n",
              "      <td>0.0</td>\n",
              "      <td>0.0</td>\n",
              "      <td>0.0</td>\n",
              "      <td>0.000000</td>\n",
              "      <td>0.000000</td>\n",
              "      <td>0.000000</td>\n",
              "      <td>0.000000</td>\n",
              "      <td>0.998038</td>\n",
              "      <td>0.0</td>\n",
              "      <td>0.0</td>\n",
              "      <td>0.0</td>\n",
              "      <td>0.0</td>\n",
              "      <td>0.0</td>\n",
              "      <td>0.0</td>\n",
              "      <td>0.000030</td>\n",
              "      <td>0.000000e+00</td>\n",
              "      <td>0.000000</td>\n",
              "      <td>0.000000e+00</td>\n",
              "      <td>0.445572</td>\n",
              "      <td>0.000000</td>\n",
              "      <td>0.000000</td>\n",
              "      <td>1.0</td>\n",
              "      <td>6.369212e-02</td>\n",
              "      <td>0.0</td>\n",
              "      <td>6.369212e-02</td>\n",
              "      <td>6.369212e-02</td>\n",
              "      <td>0.155833</td>\n",
              "      <td>0.164199</td>\n",
              "      <td>0.267500</td>\n",
              "      <td>0.066799</td>\n",
              "    </tr>\n",
              "    <tr>\n",
              "      <th>1</th>\n",
              "      <td>0.000860</td>\n",
              "      <td>0.000337</td>\n",
              "      <td>0.000000</td>\n",
              "      <td>0.000307</td>\n",
              "      <td>0.003026</td>\n",
              "      <td>0.001034</td>\n",
              "      <td>0.000000</td>\n",
              "      <td>0.005823</td>\n",
              "      <td>0.406452</td>\n",
              "      <td>5.333333e-07</td>\n",
              "      <td>0.000000e+00</td>\n",
              "      <td>5.333333e-07</td>\n",
              "      <td>6.249999e-07</td>\n",
              "      <td>0.000000e+00</td>\n",
              "      <td>0.000000e+00</td>\n",
              "      <td>0.000000</td>\n",
              "      <td>0.000000e+00</td>\n",
              "      <td>8.333333e-09</td>\n",
              "      <td>0.000000e+00</td>\n",
              "      <td>0.000000e+00</td>\n",
              "      <td>0.000000</td>\n",
              "      <td>0.000000e+00</td>\n",
              "      <td>0.000000e+00</td>\n",
              "      <td>0.0</td>\n",
              "      <td>0.0</td>\n",
              "      <td>0.0</td>\n",
              "      <td>0.0</td>\n",
              "      <td>0.998038</td>\n",
              "      <td>0.968973</td>\n",
              "      <td>5.376344e-03</td>\n",
              "      <td>8.064516e-03</td>\n",
              "      <td>0.001381</td>\n",
              "      <td>0.000242</td>\n",
              "      <td>0.001142</td>\n",
              "      <td>0.000488</td>\n",
              "      <td>2.380952e-07</td>\n",
              "      <td>0.0</td>\n",
              "      <td>0.0</td>\n",
              "      <td>0.0</td>\n",
              "      <td>1.0</td>\n",
              "      <td>0.0</td>\n",
              "      <td>0.0</td>\n",
              "      <td>0.0</td>\n",
              "      <td>0.0</td>\n",
              "      <td>0.011111</td>\n",
              "      <td>0.001498</td>\n",
              "      <td>0.000337</td>\n",
              "      <td>0.001034</td>\n",
              "      <td>0.998038</td>\n",
              "      <td>0.0</td>\n",
              "      <td>0.0</td>\n",
              "      <td>0.0</td>\n",
              "      <td>0.0</td>\n",
              "      <td>0.0</td>\n",
              "      <td>0.0</td>\n",
              "      <td>0.000000</td>\n",
              "      <td>6.978099e-07</td>\n",
              "      <td>0.000004</td>\n",
              "      <td>9.568759e-09</td>\n",
              "      <td>0.015640</td>\n",
              "      <td>0.000015</td>\n",
              "      <td>0.000000</td>\n",
              "      <td>1.0</td>\n",
              "      <td>0.000000e+00</td>\n",
              "      <td>0.0</td>\n",
              "      <td>0.000000e+00</td>\n",
              "      <td>0.000000e+00</td>\n",
              "      <td>0.000000</td>\n",
              "      <td>0.000000</td>\n",
              "      <td>0.000000</td>\n",
              "      <td>0.000000</td>\n",
              "    </tr>\n",
              "    <tr>\n",
              "      <th>2</th>\n",
              "      <td>0.000000</td>\n",
              "      <td>0.000000</td>\n",
              "      <td>0.000000</td>\n",
              "      <td>0.000000</td>\n",
              "      <td>0.000000</td>\n",
              "      <td>0.000000</td>\n",
              "      <td>0.000000</td>\n",
              "      <td>0.005761</td>\n",
              "      <td>0.533333</td>\n",
              "      <td>4.166667e-08</td>\n",
              "      <td>0.000000e+00</td>\n",
              "      <td>4.166667e-08</td>\n",
              "      <td>1.333333e-07</td>\n",
              "      <td>2.500000e-08</td>\n",
              "      <td>2.500000e-08</td>\n",
              "      <td>0.000000</td>\n",
              "      <td>2.500000e-08</td>\n",
              "      <td>3.333333e-08</td>\n",
              "      <td>0.000000e+00</td>\n",
              "      <td>0.000000e+00</td>\n",
              "      <td>0.000000</td>\n",
              "      <td>0.000000e+00</td>\n",
              "      <td>0.000000e+00</td>\n",
              "      <td>0.0</td>\n",
              "      <td>0.0</td>\n",
              "      <td>0.0</td>\n",
              "      <td>0.0</td>\n",
              "      <td>0.998038</td>\n",
              "      <td>0.968973</td>\n",
              "      <td>2.222222e-01</td>\n",
              "      <td>0.000000e+00</td>\n",
              "      <td>0.000000</td>\n",
              "      <td>0.000000</td>\n",
              "      <td>0.000000</td>\n",
              "      <td>0.000000</td>\n",
              "      <td>0.000000e+00</td>\n",
              "      <td>0.0</td>\n",
              "      <td>0.0</td>\n",
              "      <td>0.0</td>\n",
              "      <td>0.0</td>\n",
              "      <td>1.0</td>\n",
              "      <td>0.0</td>\n",
              "      <td>0.0</td>\n",
              "      <td>0.0</td>\n",
              "      <td>0.000000</td>\n",
              "      <td>0.000000</td>\n",
              "      <td>0.000000</td>\n",
              "      <td>0.000000</td>\n",
              "      <td>0.998038</td>\n",
              "      <td>0.0</td>\n",
              "      <td>0.0</td>\n",
              "      <td>0.0</td>\n",
              "      <td>0.0</td>\n",
              "      <td>0.0</td>\n",
              "      <td>0.0</td>\n",
              "      <td>0.000005</td>\n",
              "      <td>0.000000e+00</td>\n",
              "      <td>0.000000</td>\n",
              "      <td>0.000000e+00</td>\n",
              "      <td>0.005463</td>\n",
              "      <td>0.000000</td>\n",
              "      <td>0.000000</td>\n",
              "      <td>1.0</td>\n",
              "      <td>0.000000e+00</td>\n",
              "      <td>0.0</td>\n",
              "      <td>0.000000e+00</td>\n",
              "      <td>0.000000e+00</td>\n",
              "      <td>0.000000</td>\n",
              "      <td>0.000000</td>\n",
              "      <td>0.000000</td>\n",
              "      <td>0.000000</td>\n",
              "    </tr>\n",
              "    <tr>\n",
              "      <th>3</th>\n",
              "      <td>0.000000</td>\n",
              "      <td>0.040374</td>\n",
              "      <td>0.058274</td>\n",
              "      <td>0.007783</td>\n",
              "      <td>0.000000</td>\n",
              "      <td>0.006551</td>\n",
              "      <td>0.009274</td>\n",
              "      <td>0.005761</td>\n",
              "      <td>0.400000</td>\n",
              "      <td>4.172930e-03</td>\n",
              "      <td>1.824181e-02</td>\n",
              "      <td>4.077143e-02</td>\n",
              "      <td>1.333333e-07</td>\n",
              "      <td>4.172913e-02</td>\n",
              "      <td>6.954856e-03</td>\n",
              "      <td>0.024206</td>\n",
              "      <td>4.129474e-02</td>\n",
              "      <td>3.333333e-08</td>\n",
              "      <td>7.257500e-04</td>\n",
              "      <td>2.419167e-04</td>\n",
              "      <td>0.000382</td>\n",
              "      <td>5.264917e-04</td>\n",
              "      <td>4.291667e-06</td>\n",
              "      <td>0.0</td>\n",
              "      <td>0.0</td>\n",
              "      <td>0.0</td>\n",
              "      <td>0.0</td>\n",
              "      <td>0.998038</td>\n",
              "      <td>0.968974</td>\n",
              "      <td>4.659681e-07</td>\n",
              "      <td>3.994012e-07</td>\n",
              "      <td>0.000000</td>\n",
              "      <td>0.043513</td>\n",
              "      <td>0.052255</td>\n",
              "      <td>0.069251</td>\n",
              "      <td>4.792918e-03</td>\n",
              "      <td>0.0</td>\n",
              "      <td>0.0</td>\n",
              "      <td>0.0</td>\n",
              "      <td>1.0</td>\n",
              "      <td>0.0</td>\n",
              "      <td>0.0</td>\n",
              "      <td>0.0</td>\n",
              "      <td>0.0</td>\n",
              "      <td>0.000000</td>\n",
              "      <td>0.049879</td>\n",
              "      <td>0.040374</td>\n",
              "      <td>0.006551</td>\n",
              "      <td>0.998038</td>\n",
              "      <td>0.0</td>\n",
              "      <td>0.0</td>\n",
              "      <td>0.0</td>\n",
              "      <td>0.0</td>\n",
              "      <td>0.0</td>\n",
              "      <td>0.0</td>\n",
              "      <td>0.000030</td>\n",
              "      <td>5.858114e-04</td>\n",
              "      <td>0.000015</td>\n",
              "      <td>2.424086e-07</td>\n",
              "      <td>0.125015</td>\n",
              "      <td>0.014450</td>\n",
              "      <td>0.000021</td>\n",
              "      <td>1.0</td>\n",
              "      <td>0.000000e+00</td>\n",
              "      <td>0.0</td>\n",
              "      <td>0.000000e+00</td>\n",
              "      <td>0.000000e+00</td>\n",
              "      <td>0.000000</td>\n",
              "      <td>0.000000</td>\n",
              "      <td>0.000000</td>\n",
              "      <td>0.000000</td>\n",
              "    </tr>\n",
              "    <tr>\n",
              "      <th>4</th>\n",
              "      <td>0.002581</td>\n",
              "      <td>0.001010</td>\n",
              "      <td>0.000000</td>\n",
              "      <td>0.000307</td>\n",
              "      <td>0.003026</td>\n",
              "      <td>0.001034</td>\n",
              "      <td>0.000000</td>\n",
              "      <td>0.007201</td>\n",
              "      <td>0.500000</td>\n",
              "      <td>5.000000e-08</td>\n",
              "      <td>0.000000e+00</td>\n",
              "      <td>5.000000e-08</td>\n",
              "      <td>1.416667e-07</td>\n",
              "      <td>0.000000e+00</td>\n",
              "      <td>0.000000e+00</td>\n",
              "      <td>0.000000</td>\n",
              "      <td>0.000000e+00</td>\n",
              "      <td>8.333333e-09</td>\n",
              "      <td>0.000000e+00</td>\n",
              "      <td>0.000000e+00</td>\n",
              "      <td>0.000000</td>\n",
              "      <td>0.000000e+00</td>\n",
              "      <td>0.000000e+00</td>\n",
              "      <td>0.0</td>\n",
              "      <td>0.0</td>\n",
              "      <td>0.0</td>\n",
              "      <td>0.0</td>\n",
              "      <td>0.998038</td>\n",
              "      <td>0.968973</td>\n",
              "      <td>8.333333e-02</td>\n",
              "      <td>1.250000e-01</td>\n",
              "      <td>0.004144</td>\n",
              "      <td>0.000242</td>\n",
              "      <td>0.002055</td>\n",
              "      <td>0.000000</td>\n",
              "      <td>0.000000e+00</td>\n",
              "      <td>0.0</td>\n",
              "      <td>0.0</td>\n",
              "      <td>0.0</td>\n",
              "      <td>0.0</td>\n",
              "      <td>1.0</td>\n",
              "      <td>1.0</td>\n",
              "      <td>0.0</td>\n",
              "      <td>0.0</td>\n",
              "      <td>0.011111</td>\n",
              "      <td>0.002697</td>\n",
              "      <td>0.001010</td>\n",
              "      <td>0.001034</td>\n",
              "      <td>0.998038</td>\n",
              "      <td>0.0</td>\n",
              "      <td>0.0</td>\n",
              "      <td>0.0</td>\n",
              "      <td>0.0</td>\n",
              "      <td>0.0</td>\n",
              "      <td>0.0</td>\n",
              "      <td>0.000000</td>\n",
              "      <td>2.093430e-06</td>\n",
              "      <td>0.000004</td>\n",
              "      <td>9.568759e-09</td>\n",
              "      <td>0.001770</td>\n",
              "      <td>0.003922</td>\n",
              "      <td>0.000000</td>\n",
              "      <td>1.0</td>\n",
              "      <td>0.000000e+00</td>\n",
              "      <td>0.0</td>\n",
              "      <td>0.000000e+00</td>\n",
              "      <td>0.000000e+00</td>\n",
              "      <td>0.000000</td>\n",
              "      <td>0.000000</td>\n",
              "      <td>0.000000</td>\n",
              "      <td>0.000000</td>\n",
              "    </tr>\n",
              "    <tr>\n",
              "      <th>5</th>\n",
              "      <td>0.000000</td>\n",
              "      <td>0.000000</td>\n",
              "      <td>0.000000</td>\n",
              "      <td>0.000307</td>\n",
              "      <td>0.003026</td>\n",
              "      <td>0.001034</td>\n",
              "      <td>0.000000</td>\n",
              "      <td>0.005921</td>\n",
              "      <td>0.422222</td>\n",
              "      <td>1.666667e-07</td>\n",
              "      <td>0.000000e+00</td>\n",
              "      <td>1.666667e-07</td>\n",
              "      <td>2.583333e-07</td>\n",
              "      <td>0.000000e+00</td>\n",
              "      <td>0.000000e+00</td>\n",
              "      <td>0.000000</td>\n",
              "      <td>0.000000e+00</td>\n",
              "      <td>8.333333e-09</td>\n",
              "      <td>0.000000e+00</td>\n",
              "      <td>0.000000e+00</td>\n",
              "      <td>0.000000</td>\n",
              "      <td>0.000000e+00</td>\n",
              "      <td>0.000000e+00</td>\n",
              "      <td>0.0</td>\n",
              "      <td>0.0</td>\n",
              "      <td>0.0</td>\n",
              "      <td>0.0</td>\n",
              "      <td>0.998038</td>\n",
              "      <td>0.968973</td>\n",
              "      <td>1.851852e-02</td>\n",
              "      <td>2.777778e-02</td>\n",
              "      <td>0.000000</td>\n",
              "      <td>0.000242</td>\n",
              "      <td>0.000685</td>\n",
              "      <td>0.000732</td>\n",
              "      <td>5.357143e-07</td>\n",
              "      <td>0.0</td>\n",
              "      <td>0.0</td>\n",
              "      <td>0.0</td>\n",
              "      <td>1.0</td>\n",
              "      <td>0.0</td>\n",
              "      <td>0.0</td>\n",
              "      <td>0.0</td>\n",
              "      <td>0.0</td>\n",
              "      <td>0.011111</td>\n",
              "      <td>0.000899</td>\n",
              "      <td>0.000000</td>\n",
              "      <td>0.001034</td>\n",
              "      <td>0.998038</td>\n",
              "      <td>0.0</td>\n",
              "      <td>0.0</td>\n",
              "      <td>0.0</td>\n",
              "      <td>0.0</td>\n",
              "      <td>0.0</td>\n",
              "      <td>0.0</td>\n",
              "      <td>0.000000</td>\n",
              "      <td>0.000000e+00</td>\n",
              "      <td>0.000004</td>\n",
              "      <td>9.568759e-09</td>\n",
              "      <td>0.445572</td>\n",
              "      <td>0.000015</td>\n",
              "      <td>0.000000</td>\n",
              "      <td>1.0</td>\n",
              "      <td>0.000000e+00</td>\n",
              "      <td>0.0</td>\n",
              "      <td>0.000000e+00</td>\n",
              "      <td>0.000000e+00</td>\n",
              "      <td>0.000000</td>\n",
              "      <td>0.000000</td>\n",
              "      <td>0.000000</td>\n",
              "      <td>0.000000</td>\n",
              "    </tr>\n",
              "    <tr>\n",
              "      <th>6</th>\n",
              "      <td>0.000000</td>\n",
              "      <td>0.000000</td>\n",
              "      <td>0.000000</td>\n",
              "      <td>0.000000</td>\n",
              "      <td>0.000000</td>\n",
              "      <td>0.000000</td>\n",
              "      <td>0.000000</td>\n",
              "      <td>0.005761</td>\n",
              "      <td>0.400411</td>\n",
              "      <td>5.085417e-06</td>\n",
              "      <td>7.870538e-06</td>\n",
              "      <td>1.327500e-05</td>\n",
              "      <td>1.483333e-06</td>\n",
              "      <td>2.027500e-05</td>\n",
              "      <td>5.068750e-06</td>\n",
              "      <td>0.000008</td>\n",
              "      <td>1.325833e-05</td>\n",
              "      <td>1.383333e-06</td>\n",
              "      <td>0.000000e+00</td>\n",
              "      <td>0.000000e+00</td>\n",
              "      <td>0.000000</td>\n",
              "      <td>0.000000e+00</td>\n",
              "      <td>0.000000e+00</td>\n",
              "      <td>0.0</td>\n",
              "      <td>0.0</td>\n",
              "      <td>0.0</td>\n",
              "      <td>0.0</td>\n",
              "      <td>0.998038</td>\n",
              "      <td>0.968973</td>\n",
              "      <td>6.850253e-04</td>\n",
              "      <td>0.000000e+00</td>\n",
              "      <td>0.000000</td>\n",
              "      <td>0.000000</td>\n",
              "      <td>0.000000</td>\n",
              "      <td>0.000000</td>\n",
              "      <td>0.000000e+00</td>\n",
              "      <td>0.0</td>\n",
              "      <td>0.0</td>\n",
              "      <td>0.0</td>\n",
              "      <td>0.0</td>\n",
              "      <td>1.0</td>\n",
              "      <td>0.0</td>\n",
              "      <td>0.0</td>\n",
              "      <td>0.0</td>\n",
              "      <td>0.000000</td>\n",
              "      <td>0.000000</td>\n",
              "      <td>0.000000</td>\n",
              "      <td>0.000000</td>\n",
              "      <td>0.998038</td>\n",
              "      <td>0.0</td>\n",
              "      <td>0.0</td>\n",
              "      <td>0.0</td>\n",
              "      <td>0.0</td>\n",
              "      <td>0.0</td>\n",
              "      <td>0.0</td>\n",
              "      <td>0.000020</td>\n",
              "      <td>0.000000e+00</td>\n",
              "      <td>0.000000</td>\n",
              "      <td>0.000000e+00</td>\n",
              "      <td>0.004196</td>\n",
              "      <td>0.000000</td>\n",
              "      <td>0.000000</td>\n",
              "      <td>1.0</td>\n",
              "      <td>0.000000e+00</td>\n",
              "      <td>0.0</td>\n",
              "      <td>0.000000e+00</td>\n",
              "      <td>0.000000e+00</td>\n",
              "      <td>0.000000</td>\n",
              "      <td>0.000000</td>\n",
              "      <td>0.000000</td>\n",
              "      <td>0.000000</td>\n",
              "    </tr>\n",
              "    <tr>\n",
              "      <th>7</th>\n",
              "      <td>0.000000</td>\n",
              "      <td>0.007719</td>\n",
              "      <td>0.017027</td>\n",
              "      <td>0.296569</td>\n",
              "      <td>0.000000</td>\n",
              "      <td>0.285567</td>\n",
              "      <td>0.258489</td>\n",
              "      <td>0.005761</td>\n",
              "      <td>0.400000</td>\n",
              "      <td>6.302762e-02</td>\n",
              "      <td>3.226950e-01</td>\n",
              "      <td>8.191667e-01</td>\n",
              "      <td>1.166667e-07</td>\n",
              "      <td>8.191667e-01</td>\n",
              "      <td>1.366667e-01</td>\n",
              "      <td>0.480815</td>\n",
              "      <td>8.191667e-01</td>\n",
              "      <td>1.666667e-08</td>\n",
              "      <td>2.565167e-04</td>\n",
              "      <td>4.275278e-05</td>\n",
              "      <td>0.000097</td>\n",
              "      <td>1.524500e-04</td>\n",
              "      <td>4.000000e-07</td>\n",
              "      <td>0.0</td>\n",
              "      <td>0.0</td>\n",
              "      <td>0.0</td>\n",
              "      <td>0.0</td>\n",
              "      <td>0.998038</td>\n",
              "      <td>0.968974</td>\n",
              "      <td>2.373129e-08</td>\n",
              "      <td>3.559694e-08</td>\n",
              "      <td>0.000000</td>\n",
              "      <td>0.233360</td>\n",
              "      <td>0.272055</td>\n",
              "      <td>0.342492</td>\n",
              "      <td>1.172340e-01</td>\n",
              "      <td>0.0</td>\n",
              "      <td>0.0</td>\n",
              "      <td>0.0</td>\n",
              "      <td>0.0</td>\n",
              "      <td>1.0</td>\n",
              "      <td>0.0</td>\n",
              "      <td>0.0</td>\n",
              "      <td>0.0</td>\n",
              "      <td>0.011111</td>\n",
              "      <td>0.255051</td>\n",
              "      <td>0.007719</td>\n",
              "      <td>0.285567</td>\n",
              "      <td>0.998038</td>\n",
              "      <td>0.0</td>\n",
              "      <td>0.0</td>\n",
              "      <td>0.0</td>\n",
              "      <td>0.0</td>\n",
              "      <td>0.0</td>\n",
              "      <td>0.0</td>\n",
              "      <td>0.000030</td>\n",
              "      <td>1.119985e-04</td>\n",
              "      <td>0.000026</td>\n",
              "      <td>1.849163e-05</td>\n",
              "      <td>0.004196</td>\n",
              "      <td>0.003601</td>\n",
              "      <td>0.000005</td>\n",
              "      <td>1.0</td>\n",
              "      <td>4.545455e-08</td>\n",
              "      <td>0.0</td>\n",
              "      <td>4.545455e-08</td>\n",
              "      <td>4.545455e-08</td>\n",
              "      <td>0.819167</td>\n",
              "      <td>0.000000</td>\n",
              "      <td>0.819167</td>\n",
              "      <td>0.819167</td>\n",
              "    </tr>\n",
              "    <tr>\n",
              "      <th>8</th>\n",
              "      <td>0.016774</td>\n",
              "      <td>0.006565</td>\n",
              "      <td>0.000000</td>\n",
              "      <td>0.002816</td>\n",
              "      <td>0.027736</td>\n",
              "      <td>0.009482</td>\n",
              "      <td>0.000000</td>\n",
              "      <td>0.005764</td>\n",
              "      <td>0.400026</td>\n",
              "      <td>8.578055e-05</td>\n",
              "      <td>2.106339e-04</td>\n",
              "      <td>2.572500e-04</td>\n",
              "      <td>1.333333e-07</td>\n",
              "      <td>2.500000e-08</td>\n",
              "      <td>2.500000e-08</td>\n",
              "      <td>0.000000</td>\n",
              "      <td>2.500000e-08</td>\n",
              "      <td>3.333333e-08</td>\n",
              "      <td>3.333333e-08</td>\n",
              "      <td>3.333333e-08</td>\n",
              "      <td>0.000000</td>\n",
              "      <td>3.333333e-08</td>\n",
              "      <td>3.333333e-08</td>\n",
              "      <td>0.0</td>\n",
              "      <td>0.0</td>\n",
              "      <td>0.0</td>\n",
              "      <td>0.0</td>\n",
              "      <td>0.998038</td>\n",
              "      <td>0.968973</td>\n",
              "      <td>2.159244e-05</td>\n",
              "      <td>3.238866e-05</td>\n",
              "      <td>0.026934</td>\n",
              "      <td>0.002216</td>\n",
              "      <td>0.015548</td>\n",
              "      <td>0.001852</td>\n",
              "      <td>3.428571e-06</td>\n",
              "      <td>0.0</td>\n",
              "      <td>0.0</td>\n",
              "      <td>0.0</td>\n",
              "      <td>0.0</td>\n",
              "      <td>0.0</td>\n",
              "      <td>0.0</td>\n",
              "      <td>0.0</td>\n",
              "      <td>0.0</td>\n",
              "      <td>0.011111</td>\n",
              "      <td>0.017006</td>\n",
              "      <td>0.006565</td>\n",
              "      <td>0.009482</td>\n",
              "      <td>0.998038</td>\n",
              "      <td>0.0</td>\n",
              "      <td>0.0</td>\n",
              "      <td>0.0</td>\n",
              "      <td>0.0</td>\n",
              "      <td>0.0</td>\n",
              "      <td>0.0</td>\n",
              "      <td>0.000005</td>\n",
              "      <td>2.721459e-05</td>\n",
              "      <td>0.000007</td>\n",
              "      <td>1.754272e-07</td>\n",
              "      <td>0.000000</td>\n",
              "      <td>0.000000</td>\n",
              "      <td>0.000005</td>\n",
              "      <td>1.0</td>\n",
              "      <td>0.000000e+00</td>\n",
              "      <td>0.0</td>\n",
              "      <td>0.000000e+00</td>\n",
              "      <td>0.000000e+00</td>\n",
              "      <td>0.000000</td>\n",
              "      <td>0.000000</td>\n",
              "      <td>0.000000</td>\n",
              "      <td>0.000000</td>\n",
              "    </tr>\n",
              "    <tr>\n",
              "      <th>9</th>\n",
              "      <td>0.017204</td>\n",
              "      <td>0.006733</td>\n",
              "      <td>0.000000</td>\n",
              "      <td>0.005223</td>\n",
              "      <td>0.051437</td>\n",
              "      <td>0.017585</td>\n",
              "      <td>0.000000</td>\n",
              "      <td>0.006479</td>\n",
              "      <td>0.404211</td>\n",
              "      <td>5.444444e-07</td>\n",
              "      <td>8.189650e-07</td>\n",
              "      <td>1.175000e-06</td>\n",
              "      <td>1.333333e-07</td>\n",
              "      <td>2.500000e-08</td>\n",
              "      <td>2.500000e-08</td>\n",
              "      <td>0.000000</td>\n",
              "      <td>2.500000e-08</td>\n",
              "      <td>3.333333e-08</td>\n",
              "      <td>4.000000e-07</td>\n",
              "      <td>4.000000e-07</td>\n",
              "      <td>0.000000</td>\n",
              "      <td>4.000000e-07</td>\n",
              "      <td>4.000000e-07</td>\n",
              "      <td>0.0</td>\n",
              "      <td>0.0</td>\n",
              "      <td>0.0</td>\n",
              "      <td>0.0</td>\n",
              "      <td>0.998038</td>\n",
              "      <td>0.968973</td>\n",
              "      <td>3.508772e-03</td>\n",
              "      <td>5.263158e-03</td>\n",
              "      <td>0.027624</td>\n",
              "      <td>0.004110</td>\n",
              "      <td>0.022192</td>\n",
              "      <td>0.007177</td>\n",
              "      <td>5.148214e-05</td>\n",
              "      <td>0.0</td>\n",
              "      <td>0.0</td>\n",
              "      <td>0.0</td>\n",
              "      <td>0.0</td>\n",
              "      <td>0.0</td>\n",
              "      <td>0.0</td>\n",
              "      <td>0.0</td>\n",
              "      <td>0.0</td>\n",
              "      <td>0.011111</td>\n",
              "      <td>0.024272</td>\n",
              "      <td>0.006733</td>\n",
              "      <td>0.017585</td>\n",
              "      <td>0.998038</td>\n",
              "      <td>0.0</td>\n",
              "      <td>0.0</td>\n",
              "      <td>0.0</td>\n",
              "      <td>0.0</td>\n",
              "      <td>0.0</td>\n",
              "      <td>0.0</td>\n",
              "      <td>0.000005</td>\n",
              "      <td>2.791240e-05</td>\n",
              "      <td>0.000007</td>\n",
              "      <td>3.253378e-07</td>\n",
              "      <td>0.000000</td>\n",
              "      <td>0.000000</td>\n",
              "      <td>0.000005</td>\n",
              "      <td>1.0</td>\n",
              "      <td>0.000000e+00</td>\n",
              "      <td>0.0</td>\n",
              "      <td>0.000000e+00</td>\n",
              "      <td>0.000000e+00</td>\n",
              "      <td>0.000000</td>\n",
              "      <td>0.000000</td>\n",
              "      <td>0.000000</td>\n",
              "      <td>0.000000</td>\n",
              "    </tr>\n",
              "  </tbody>\n",
              "</table>\n",
              "</div>"
            ],
            "text/plain": [
              "   Destination Port  Protocol  Flow Duration  ...  Idle Max  Idle Min     Label\n",
              "0          0.000000  0.000000       0.000000  ...  0.164199  0.267500  0.066799\n",
              "1          0.000860  0.000337       0.000000  ...  0.000000  0.000000  0.000000\n",
              "2          0.000000  0.000000       0.000000  ...  0.000000  0.000000  0.000000\n",
              "3          0.000000  0.040374       0.058274  ...  0.000000  0.000000  0.000000\n",
              "4          0.002581  0.001010       0.000000  ...  0.000000  0.000000  0.000000\n",
              "5          0.000000  0.000000       0.000000  ...  0.000000  0.000000  0.000000\n",
              "6          0.000000  0.000000       0.000000  ...  0.000000  0.000000  0.000000\n",
              "7          0.000000  0.007719       0.017027  ...  0.000000  0.819167  0.819167\n",
              "8          0.016774  0.006565       0.000000  ...  0.000000  0.000000  0.000000\n",
              "9          0.017204  0.006733       0.000000  ...  0.000000  0.000000  0.000000\n",
              "\n",
              "[10 rows x 71 columns]"
            ]
          },
          "metadata": {
            "tags": []
          },
          "execution_count": 31
        }
      ]
    },
    {
      "cell_type": "code",
      "metadata": {
        "colab": {
          "base_uri": "https://localhost:8080/",
          "height": 339
        },
        "id": "qYQy6-iByYqS",
        "outputId": "2a2451c1-cf8d-4917-a084-1165ca117417"
      },
      "source": [
        "dfx.describe()"
      ],
      "execution_count": 32,
      "outputs": [
        {
          "output_type": "execute_result",
          "data": {
            "text/html": [
              "<div>\n",
              "<style scoped>\n",
              "    .dataframe tbody tr th:only-of-type {\n",
              "        vertical-align: middle;\n",
              "    }\n",
              "\n",
              "    .dataframe tbody tr th {\n",
              "        vertical-align: top;\n",
              "    }\n",
              "\n",
              "    .dataframe thead th {\n",
              "        text-align: right;\n",
              "    }\n",
              "</style>\n",
              "<table border=\"1\" class=\"dataframe\">\n",
              "  <thead>\n",
              "    <tr style=\"text-align: right;\">\n",
              "      <th></th>\n",
              "      <th>Destination Port</th>\n",
              "      <th>Protocol</th>\n",
              "      <th>Flow Duration</th>\n",
              "      <th>Total Fwd Packets</th>\n",
              "      <th>Total Backward Packets</th>\n",
              "      <th>Total Length of Fwd Packets</th>\n",
              "      <th>Total Length of Bwd Packets</th>\n",
              "      <th>Fwd Packet Length Max</th>\n",
              "      <th>Fwd Packet Length Min</th>\n",
              "      <th>Fwd Packet Length Mean</th>\n",
              "      <th>Fwd Packet Length Std</th>\n",
              "      <th>Bwd Packet Length Max</th>\n",
              "      <th>Bwd Packet Length Min</th>\n",
              "      <th>Bwd Packet Length Mean</th>\n",
              "      <th>Bwd Packet Length Std</th>\n",
              "      <th>Flow Bytes/s</th>\n",
              "      <th>Flow Packets/s</th>\n",
              "      <th>Flow IAT Mean</th>\n",
              "      <th>Flow IAT Std</th>\n",
              "      <th>Flow IAT Max</th>\n",
              "      <th>Flow IAT Min</th>\n",
              "      <th>Fwd IAT Total</th>\n",
              "      <th>Fwd IAT Mean</th>\n",
              "      <th>Fwd IAT Std</th>\n",
              "      <th>Fwd IAT Max</th>\n",
              "      <th>Fwd IAT Min</th>\n",
              "      <th>Bwd IAT Total</th>\n",
              "      <th>Bwd IAT Mean</th>\n",
              "      <th>Bwd IAT Std</th>\n",
              "      <th>Bwd IAT Max</th>\n",
              "      <th>Bwd IAT Min</th>\n",
              "      <th>Fwd PSH Flags</th>\n",
              "      <th>Fwd URG Flags</th>\n",
              "      <th>Fwd Header Length</th>\n",
              "      <th>Bwd Header Length</th>\n",
              "      <th>Fwd Packets/s</th>\n",
              "      <th>Bwd Packets/s</th>\n",
              "      <th>Min Packet Length</th>\n",
              "      <th>Max Packet Length</th>\n",
              "      <th>Packet Length Mean</th>\n",
              "      <th>Packet Length Std</th>\n",
              "      <th>Packet Length Variance</th>\n",
              "      <th>FIN Flag Count</th>\n",
              "      <th>SYN Flag Count</th>\n",
              "      <th>RST Flag Count</th>\n",
              "      <th>PSH Flag Count</th>\n",
              "      <th>ACK Flag Count</th>\n",
              "      <th>URG Flag Count</th>\n",
              "      <th>CWE Flag Count</th>\n",
              "      <th>ECE Flag Count</th>\n",
              "      <th>Down/Up Ratio</th>\n",
              "      <th>Average Packet Size</th>\n",
              "      <th>Avg Fwd Segment Size</th>\n",
              "      <th>Avg Bwd Segment Size</th>\n",
              "      <th>Subflow Fwd Packets</th>\n",
              "      <th>Subflow Fwd Bytes</th>\n",
              "      <th>Subflow Bwd Packets</th>\n",
              "      <th>Subflow Bwd Bytes</th>\n",
              "      <th>Init_Win_bytes_forward</th>\n",
              "      <th>Init_Win_bytes_backward</th>\n",
              "      <th>act_data_pkt_fwd</th>\n",
              "      <th>min_seg_size_forward</th>\n",
              "      <th>Active Mean</th>\n",
              "      <th>Active Std</th>\n",
              "      <th>Active Max</th>\n",
              "      <th>Active Min</th>\n",
              "      <th>Idle Mean</th>\n",
              "      <th>Idle Std</th>\n",
              "      <th>Idle Max</th>\n",
              "      <th>Idle Min</th>\n",
              "      <th>Label</th>\n",
              "    </tr>\n",
              "  </thead>\n",
              "  <tbody>\n",
              "    <tr>\n",
              "      <th>count</th>\n",
              "      <td>556548.000000</td>\n",
              "      <td>556548.000000</td>\n",
              "      <td>556548.000000</td>\n",
              "      <td>556548.000000</td>\n",
              "      <td>556548.000000</td>\n",
              "      <td>556548.000000</td>\n",
              "      <td>556548.000000</td>\n",
              "      <td>556548.000000</td>\n",
              "      <td>556548.000000</td>\n",
              "      <td>5.565480e+05</td>\n",
              "      <td>556548.000000</td>\n",
              "      <td>5.565480e+05</td>\n",
              "      <td>5.565480e+05</td>\n",
              "      <td>556548.000000</td>\n",
              "      <td>5.565480e+05</td>\n",
              "      <td>556548.000000</td>\n",
              "      <td>556548.000000</td>\n",
              "      <td>5.565480e+05</td>\n",
              "      <td>5.565480e+05</td>\n",
              "      <td>5.565480e+05</td>\n",
              "      <td>556548.000000</td>\n",
              "      <td>5.565480e+05</td>\n",
              "      <td>5.565480e+05</td>\n",
              "      <td>556548.000000</td>\n",
              "      <td>556548.0</td>\n",
              "      <td>556548.000000</td>\n",
              "      <td>556548.0</td>\n",
              "      <td>556548.000000</td>\n",
              "      <td>556548.000000</td>\n",
              "      <td>5.565480e+05</td>\n",
              "      <td>5.565480e+05</td>\n",
              "      <td>556548.000000</td>\n",
              "      <td>556548.000000</td>\n",
              "      <td>556548.000000</td>\n",
              "      <td>556548.000000</td>\n",
              "      <td>5.565480e+05</td>\n",
              "      <td>556548.000000</td>\n",
              "      <td>556548.000000</td>\n",
              "      <td>556548.000000</td>\n",
              "      <td>556548.000000</td>\n",
              "      <td>556548.000000</td>\n",
              "      <td>556548.000000</td>\n",
              "      <td>556548.000000</td>\n",
              "      <td>556548.000000</td>\n",
              "      <td>556548.000000</td>\n",
              "      <td>556548.000000</td>\n",
              "      <td>556548.000000</td>\n",
              "      <td>556548.000000</td>\n",
              "      <td>556548.000000</td>\n",
              "      <td>556548.0</td>\n",
              "      <td>556548.0</td>\n",
              "      <td>556548.0</td>\n",
              "      <td>556548.0</td>\n",
              "      <td>556548.0</td>\n",
              "      <td>556548.0</td>\n",
              "      <td>556548.000000</td>\n",
              "      <td>5.565480e+05</td>\n",
              "      <td>556548.000000</td>\n",
              "      <td>5.565480e+05</td>\n",
              "      <td>556548.000000</td>\n",
              "      <td>556548.000000</td>\n",
              "      <td>556548.000000</td>\n",
              "      <td>556548.000000</td>\n",
              "      <td>5.565480e+05</td>\n",
              "      <td>556548.000000</td>\n",
              "      <td>5.565480e+05</td>\n",
              "      <td>5.565480e+05</td>\n",
              "      <td>556548.000000</td>\n",
              "      <td>556548.000000</td>\n",
              "      <td>556548.000000</td>\n",
              "      <td>556548.000000</td>\n",
              "    </tr>\n",
              "    <tr>\n",
              "      <th>mean</th>\n",
              "      <td>0.005401</td>\n",
              "      <td>0.007637</td>\n",
              "      <td>0.008393</td>\n",
              "      <td>0.082061</td>\n",
              "      <td>0.013281</td>\n",
              "      <td>0.091317</td>\n",
              "      <td>0.080882</td>\n",
              "      <td>0.006271</td>\n",
              "      <td>0.416054</td>\n",
              "      <td>1.582110e-02</td>\n",
              "      <td>0.058956</td>\n",
              "      <td>1.369179e-01</td>\n",
              "      <td>1.532107e-03</td>\n",
              "      <td>0.166690</td>\n",
              "      <td>3.085272e-02</td>\n",
              "      <td>0.076517</td>\n",
              "      <td>0.135929</td>\n",
              "      <td>6.945659e-03</td>\n",
              "      <td>7.877244e-02</td>\n",
              "      <td>1.528014e-02</td>\n",
              "      <td>0.026972</td>\n",
              "      <td>5.083254e-02</td>\n",
              "      <td>6.051411e-03</td>\n",
              "      <td>0.033627</td>\n",
              "      <td>0.0</td>\n",
              "      <td>0.000056</td>\n",
              "      <td>0.0</td>\n",
              "      <td>0.998035</td>\n",
              "      <td>0.968971</td>\n",
              "      <td>2.412223e-02</td>\n",
              "      <td>3.973047e-03</td>\n",
              "      <td>0.007356</td>\n",
              "      <td>0.066598</td>\n",
              "      <td>0.091877</td>\n",
              "      <td>0.110242</td>\n",
              "      <td>4.716877e-02</td>\n",
              "      <td>0.061905</td>\n",
              "      <td>0.033627</td>\n",
              "      <td>0.000162</td>\n",
              "      <td>0.359261</td>\n",
              "      <td>0.359924</td>\n",
              "      <td>0.062144</td>\n",
              "      <td>0.000056</td>\n",
              "      <td>0.000162</td>\n",
              "      <td>0.007305</td>\n",
              "      <td>0.088824</td>\n",
              "      <td>0.007637</td>\n",
              "      <td>0.091317</td>\n",
              "      <td>0.998035</td>\n",
              "      <td>0.0</td>\n",
              "      <td>0.0</td>\n",
              "      <td>0.0</td>\n",
              "      <td>0.0</td>\n",
              "      <td>0.0</td>\n",
              "      <td>0.0</td>\n",
              "      <td>0.000029</td>\n",
              "      <td>1.411228e-04</td>\n",
              "      <td>0.000025</td>\n",
              "      <td>1.654270e-05</td>\n",
              "      <td>0.109081</td>\n",
              "      <td>0.020661</td>\n",
              "      <td>0.000018</td>\n",
              "      <td>0.999997</td>\n",
              "      <td>8.157713e-04</td>\n",
              "      <td>0.000459</td>\n",
              "      <td>1.264051e-03</td>\n",
              "      <td>6.395897e-04</td>\n",
              "      <td>0.127947</td>\n",
              "      <td>0.011880</td>\n",
              "      <td>0.133545</td>\n",
              "      <td>0.122500</td>\n",
              "    </tr>\n",
              "    <tr>\n",
              "      <th>std</th>\n",
              "      <td>0.023972</td>\n",
              "      <td>0.025478</td>\n",
              "      <td>0.031453</td>\n",
              "      <td>0.142375</td>\n",
              "      <td>0.029291</td>\n",
              "      <td>0.146755</td>\n",
              "      <td>0.149432</td>\n",
              "      <td>0.010977</td>\n",
              "      <td>0.055251</td>\n",
              "      <td>4.147565e-02</td>\n",
              "      <td>0.120777</td>\n",
              "      <td>2.774879e-01</td>\n",
              "      <td>2.738831e-02</td>\n",
              "      <td>0.314806</td>\n",
              "      <td>8.130881e-02</td>\n",
              "      <td>0.163910</td>\n",
              "      <td>0.278035</td>\n",
              "      <td>6.588999e-02</td>\n",
              "      <td>2.333813e-01</td>\n",
              "      <td>6.941998e-02</td>\n",
              "      <td>0.102431</td>\n",
              "      <td>1.767976e-01</td>\n",
              "      <td>6.024664e-02</td>\n",
              "      <td>0.180267</td>\n",
              "      <td>0.0</td>\n",
              "      <td>0.007463</td>\n",
              "      <td>0.0</td>\n",
              "      <td>0.001464</td>\n",
              "      <td>0.001454</td>\n",
              "      <td>9.003157e-02</td>\n",
              "      <td>1.926990e-02</td>\n",
              "      <td>0.015077</td>\n",
              "      <td>0.112956</td>\n",
              "      <td>0.140252</td>\n",
              "      <td>0.187204</td>\n",
              "      <td>1.078500e-01</td>\n",
              "      <td>0.240983</td>\n",
              "      <td>0.180267</td>\n",
              "      <td>0.012716</td>\n",
              "      <td>0.479784</td>\n",
              "      <td>0.479978</td>\n",
              "      <td>0.241417</td>\n",
              "      <td>0.007463</td>\n",
              "      <td>0.012716</td>\n",
              "      <td>0.007252</td>\n",
              "      <td>0.134636</td>\n",
              "      <td>0.025478</td>\n",
              "      <td>0.146755</td>\n",
              "      <td>0.001464</td>\n",
              "      <td>0.0</td>\n",
              "      <td>0.0</td>\n",
              "      <td>0.0</td>\n",
              "      <td>0.0</td>\n",
              "      <td>0.0</td>\n",
              "      <td>0.0</td>\n",
              "      <td>0.002399</td>\n",
              "      <td>2.244618e-03</td>\n",
              "      <td>0.002306</td>\n",
              "      <td>2.532983e-03</td>\n",
              "      <td>0.204332</td>\n",
              "      <td>0.105313</td>\n",
              "      <td>0.002098</td>\n",
              "      <td>0.001389</td>\n",
              "      <td>6.247831e-03</td>\n",
              "      <td>0.005181</td>\n",
              "      <td>8.703029e-03</td>\n",
              "      <td>5.752383e-03</td>\n",
              "      <td>0.270808</td>\n",
              "      <td>0.085267</td>\n",
              "      <td>0.278004</td>\n",
              "      <td>0.268998</td>\n",
              "    </tr>\n",
              "    <tr>\n",
              "      <th>min</th>\n",
              "      <td>0.000000</td>\n",
              "      <td>0.000000</td>\n",
              "      <td>0.000000</td>\n",
              "      <td>0.000000</td>\n",
              "      <td>0.000000</td>\n",
              "      <td>0.000000</td>\n",
              "      <td>0.000000</td>\n",
              "      <td>0.000000</td>\n",
              "      <td>0.000000</td>\n",
              "      <td>0.000000e+00</td>\n",
              "      <td>0.000000</td>\n",
              "      <td>0.000000e+00</td>\n",
              "      <td>0.000000e+00</td>\n",
              "      <td>0.000000</td>\n",
              "      <td>0.000000e+00</td>\n",
              "      <td>0.000000</td>\n",
              "      <td>0.000000</td>\n",
              "      <td>0.000000e+00</td>\n",
              "      <td>0.000000e+00</td>\n",
              "      <td>0.000000e+00</td>\n",
              "      <td>0.000000</td>\n",
              "      <td>0.000000e+00</td>\n",
              "      <td>0.000000e+00</td>\n",
              "      <td>0.000000</td>\n",
              "      <td>0.0</td>\n",
              "      <td>0.000000</td>\n",
              "      <td>0.0</td>\n",
              "      <td>0.000000</td>\n",
              "      <td>0.000000</td>\n",
              "      <td>0.000000e+00</td>\n",
              "      <td>0.000000e+00</td>\n",
              "      <td>0.000000</td>\n",
              "      <td>0.000000</td>\n",
              "      <td>0.000000</td>\n",
              "      <td>0.000000</td>\n",
              "      <td>0.000000e+00</td>\n",
              "      <td>0.000000</td>\n",
              "      <td>0.000000</td>\n",
              "      <td>0.000000</td>\n",
              "      <td>0.000000</td>\n",
              "      <td>0.000000</td>\n",
              "      <td>0.000000</td>\n",
              "      <td>0.000000</td>\n",
              "      <td>0.000000</td>\n",
              "      <td>0.000000</td>\n",
              "      <td>0.000000</td>\n",
              "      <td>0.000000</td>\n",
              "      <td>0.000000</td>\n",
              "      <td>0.000000</td>\n",
              "      <td>0.0</td>\n",
              "      <td>0.0</td>\n",
              "      <td>0.0</td>\n",
              "      <td>0.0</td>\n",
              "      <td>0.0</td>\n",
              "      <td>0.0</td>\n",
              "      <td>0.000000</td>\n",
              "      <td>0.000000e+00</td>\n",
              "      <td>0.000000</td>\n",
              "      <td>0.000000e+00</td>\n",
              "      <td>0.000000</td>\n",
              "      <td>0.000000</td>\n",
              "      <td>0.000000</td>\n",
              "      <td>0.000000</td>\n",
              "      <td>0.000000e+00</td>\n",
              "      <td>0.000000</td>\n",
              "      <td>0.000000e+00</td>\n",
              "      <td>0.000000e+00</td>\n",
              "      <td>0.000000</td>\n",
              "      <td>0.000000</td>\n",
              "      <td>0.000000</td>\n",
              "      <td>0.000000</td>\n",
              "    </tr>\n",
              "    <tr>\n",
              "      <th>25%</th>\n",
              "      <td>0.000000</td>\n",
              "      <td>0.000337</td>\n",
              "      <td>0.000000</td>\n",
              "      <td>0.000000</td>\n",
              "      <td>0.000000</td>\n",
              "      <td>0.000000</td>\n",
              "      <td>0.000000</td>\n",
              "      <td>0.005761</td>\n",
              "      <td>0.400000</td>\n",
              "      <td>5.055555e-07</td>\n",
              "      <td>0.000000</td>\n",
              "      <td>6.166667e-07</td>\n",
              "      <td>1.333333e-07</td>\n",
              "      <td>0.000000</td>\n",
              "      <td>0.000000e+00</td>\n",
              "      <td>0.000000</td>\n",
              "      <td>0.000000</td>\n",
              "      <td>8.333333e-09</td>\n",
              "      <td>0.000000e+00</td>\n",
              "      <td>0.000000e+00</td>\n",
              "      <td>0.000000</td>\n",
              "      <td>0.000000e+00</td>\n",
              "      <td>0.000000e+00</td>\n",
              "      <td>0.000000</td>\n",
              "      <td>0.0</td>\n",
              "      <td>0.000000</td>\n",
              "      <td>0.0</td>\n",
              "      <td>0.998038</td>\n",
              "      <td>0.968973</td>\n",
              "      <td>2.068388e-07</td>\n",
              "      <td>3.039856e-08</td>\n",
              "      <td>0.000000</td>\n",
              "      <td>0.000242</td>\n",
              "      <td>0.001142</td>\n",
              "      <td>0.000479</td>\n",
              "      <td>2.295918e-07</td>\n",
              "      <td>0.000000</td>\n",
              "      <td>0.000000</td>\n",
              "      <td>0.000000</td>\n",
              "      <td>0.000000</td>\n",
              "      <td>0.000000</td>\n",
              "      <td>0.000000</td>\n",
              "      <td>0.000000</td>\n",
              "      <td>0.000000</td>\n",
              "      <td>0.000000</td>\n",
              "      <td>0.001498</td>\n",
              "      <td>0.000337</td>\n",
              "      <td>0.000000</td>\n",
              "      <td>0.998038</td>\n",
              "      <td>0.0</td>\n",
              "      <td>0.0</td>\n",
              "      <td>0.0</td>\n",
              "      <td>0.0</td>\n",
              "      <td>0.0</td>\n",
              "      <td>0.0</td>\n",
              "      <td>0.000000</td>\n",
              "      <td>6.978099e-07</td>\n",
              "      <td>0.000004</td>\n",
              "      <td>0.000000e+00</td>\n",
              "      <td>0.000015</td>\n",
              "      <td>0.000000</td>\n",
              "      <td>0.000000</td>\n",
              "      <td>1.000000</td>\n",
              "      <td>0.000000e+00</td>\n",
              "      <td>0.000000</td>\n",
              "      <td>0.000000e+00</td>\n",
              "      <td>0.000000e+00</td>\n",
              "      <td>0.000000</td>\n",
              "      <td>0.000000</td>\n",
              "      <td>0.000000</td>\n",
              "      <td>0.000000</td>\n",
              "    </tr>\n",
              "    <tr>\n",
              "      <th>50%</th>\n",
              "      <td>0.000000</td>\n",
              "      <td>0.003114</td>\n",
              "      <td>0.000000</td>\n",
              "      <td>0.003431</td>\n",
              "      <td>0.000000</td>\n",
              "      <td>0.010516</td>\n",
              "      <td>0.000000</td>\n",
              "      <td>0.005762</td>\n",
              "      <td>0.400017</td>\n",
              "      <td>1.285244e-04</td>\n",
              "      <td>0.000085</td>\n",
              "      <td>2.757875e-04</td>\n",
              "      <td>1.416667e-07</td>\n",
              "      <td>0.000001</td>\n",
              "      <td>9.833333e-07</td>\n",
              "      <td>0.000000</td>\n",
              "      <td>0.000001</td>\n",
              "      <td>3.333333e-08</td>\n",
              "      <td>2.500000e-08</td>\n",
              "      <td>2.500000e-08</td>\n",
              "      <td>0.000000</td>\n",
              "      <td>2.500000e-08</td>\n",
              "      <td>8.333333e-09</td>\n",
              "      <td>0.000000</td>\n",
              "      <td>0.0</td>\n",
              "      <td>0.000000</td>\n",
              "      <td>0.0</td>\n",
              "      <td>0.998038</td>\n",
              "      <td>0.968973</td>\n",
              "      <td>1.442762e-05</td>\n",
              "      <td>4.136628e-06</td>\n",
              "      <td>0.000000</td>\n",
              "      <td>0.003102</td>\n",
              "      <td>0.018151</td>\n",
              "      <td>0.004515</td>\n",
              "      <td>2.037054e-05</td>\n",
              "      <td>0.000000</td>\n",
              "      <td>0.000000</td>\n",
              "      <td>0.000000</td>\n",
              "      <td>0.000000</td>\n",
              "      <td>0.000000</td>\n",
              "      <td>0.000000</td>\n",
              "      <td>0.000000</td>\n",
              "      <td>0.000000</td>\n",
              "      <td>0.011111</td>\n",
              "      <td>0.020302</td>\n",
              "      <td>0.003114</td>\n",
              "      <td>0.010516</td>\n",
              "      <td>0.998038</td>\n",
              "      <td>0.0</td>\n",
              "      <td>0.0</td>\n",
              "      <td>0.0</td>\n",
              "      <td>0.0</td>\n",
              "      <td>0.0</td>\n",
              "      <td>0.0</td>\n",
              "      <td>0.000005</td>\n",
              "      <td>1.639853e-05</td>\n",
              "      <td>0.000007</td>\n",
              "      <td>1.786168e-07</td>\n",
              "      <td>0.003922</td>\n",
              "      <td>0.000015</td>\n",
              "      <td>0.000005</td>\n",
              "      <td>1.000000</td>\n",
              "      <td>0.000000e+00</td>\n",
              "      <td>0.000000</td>\n",
              "      <td>0.000000e+00</td>\n",
              "      <td>0.000000e+00</td>\n",
              "      <td>0.000000</td>\n",
              "      <td>0.000000</td>\n",
              "      <td>0.000000</td>\n",
              "      <td>0.000000</td>\n",
              "    </tr>\n",
              "    <tr>\n",
              "      <th>75%</th>\n",
              "      <td>0.002581</td>\n",
              "      <td>0.008122</td>\n",
              "      <td>0.010946</td>\n",
              "      <td>0.090630</td>\n",
              "      <td>0.003026</td>\n",
              "      <td>0.112094</td>\n",
              "      <td>0.087727</td>\n",
              "      <td>0.005825</td>\n",
              "      <td>0.405714</td>\n",
              "      <td>1.195140e-02</td>\n",
              "      <td>0.032487</td>\n",
              "      <td>5.461575e-02</td>\n",
              "      <td>5.499999e-07</td>\n",
              "      <td>0.055764</td>\n",
              "      <td>1.398275e-02</td>\n",
              "      <td>0.029126</td>\n",
              "      <td>0.050318</td>\n",
              "      <td>4.083333e-07</td>\n",
              "      <td>1.240300e-03</td>\n",
              "      <td>2.491454e-04</td>\n",
              "      <td>0.000653</td>\n",
              "      <td>1.118158e-03</td>\n",
              "      <td>3.833333e-07</td>\n",
              "      <td>0.000000</td>\n",
              "      <td>0.0</td>\n",
              "      <td>0.000000</td>\n",
              "      <td>0.0</td>\n",
              "      <td>0.998038</td>\n",
              "      <td>0.968974</td>\n",
              "      <td>4.901961e-03</td>\n",
              "      <td>4.504505e-03</td>\n",
              "      <td>0.004144</td>\n",
              "      <td>0.090693</td>\n",
              "      <td>0.126233</td>\n",
              "      <td>0.139205</td>\n",
              "      <td>1.936710e-02</td>\n",
              "      <td>0.000000</td>\n",
              "      <td>0.000000</td>\n",
              "      <td>0.000000</td>\n",
              "      <td>1.000000</td>\n",
              "      <td>1.000000</td>\n",
              "      <td>0.000000</td>\n",
              "      <td>0.000000</td>\n",
              "      <td>0.000000</td>\n",
              "      <td>0.011111</td>\n",
              "      <td>0.118844</td>\n",
              "      <td>0.008122</td>\n",
              "      <td>0.112094</td>\n",
              "      <td>0.998038</td>\n",
              "      <td>0.0</td>\n",
              "      <td>0.0</td>\n",
              "      <td>0.0</td>\n",
              "      <td>0.0</td>\n",
              "      <td>0.0</td>\n",
              "      <td>0.0</td>\n",
              "      <td>0.000025</td>\n",
              "      <td>1.095562e-04</td>\n",
              "      <td>0.000019</td>\n",
              "      <td>9.512941e-06</td>\n",
              "      <td>0.125015</td>\n",
              "      <td>0.003601</td>\n",
              "      <td>0.000011</td>\n",
              "      <td>1.000000</td>\n",
              "      <td>3.636364e-08</td>\n",
              "      <td>0.000000</td>\n",
              "      <td>3.636364e-08</td>\n",
              "      <td>3.636364e-08</td>\n",
              "      <td>0.050272</td>\n",
              "      <td>0.000000</td>\n",
              "      <td>0.050281</td>\n",
              "      <td>0.046649</td>\n",
              "    </tr>\n",
              "    <tr>\n",
              "      <th>max</th>\n",
              "      <td>1.000000</td>\n",
              "      <td>1.000000</td>\n",
              "      <td>1.000000</td>\n",
              "      <td>1.000000</td>\n",
              "      <td>1.000000</td>\n",
              "      <td>1.000000</td>\n",
              "      <td>1.000000</td>\n",
              "      <td>1.000000</td>\n",
              "      <td>1.000000</td>\n",
              "      <td>1.000000e+00</td>\n",
              "      <td>1.000000</td>\n",
              "      <td>1.000000e+00</td>\n",
              "      <td>1.000000e+00</td>\n",
              "      <td>1.000000</td>\n",
              "      <td>1.000000e+00</td>\n",
              "      <td>1.000000</td>\n",
              "      <td>1.000000</td>\n",
              "      <td>1.000000e+00</td>\n",
              "      <td>1.000000e+00</td>\n",
              "      <td>1.000000e+00</td>\n",
              "      <td>1.000000</td>\n",
              "      <td>1.000000e+00</td>\n",
              "      <td>1.000000e+00</td>\n",
              "      <td>1.000000</td>\n",
              "      <td>0.0</td>\n",
              "      <td>1.000000</td>\n",
              "      <td>0.0</td>\n",
              "      <td>1.000000</td>\n",
              "      <td>1.000000</td>\n",
              "      <td>1.000000e+00</td>\n",
              "      <td>1.000000e+00</td>\n",
              "      <td>1.000000</td>\n",
              "      <td>1.000000</td>\n",
              "      <td>1.000000</td>\n",
              "      <td>1.000000</td>\n",
              "      <td>1.000000e+00</td>\n",
              "      <td>1.000000</td>\n",
              "      <td>1.000000</td>\n",
              "      <td>1.000000</td>\n",
              "      <td>1.000000</td>\n",
              "      <td>1.000000</td>\n",
              "      <td>1.000000</td>\n",
              "      <td>1.000000</td>\n",
              "      <td>1.000000</td>\n",
              "      <td>1.000000</td>\n",
              "      <td>1.000000</td>\n",
              "      <td>1.000000</td>\n",
              "      <td>1.000000</td>\n",
              "      <td>1.000000</td>\n",
              "      <td>0.0</td>\n",
              "      <td>0.0</td>\n",
              "      <td>0.0</td>\n",
              "      <td>0.0</td>\n",
              "      <td>0.0</td>\n",
              "      <td>0.0</td>\n",
              "      <td>1.000000</td>\n",
              "      <td>1.000000e+00</td>\n",
              "      <td>1.000000</td>\n",
              "      <td>1.000000e+00</td>\n",
              "      <td>1.000000</td>\n",
              "      <td>1.000000</td>\n",
              "      <td>1.000000</td>\n",
              "      <td>1.000000</td>\n",
              "      <td>1.000000e+00</td>\n",
              "      <td>1.000000</td>\n",
              "      <td>1.000000e+00</td>\n",
              "      <td>1.000000e+00</td>\n",
              "      <td>1.000000</td>\n",
              "      <td>1.000000</td>\n",
              "      <td>1.000000</td>\n",
              "      <td>1.000000</td>\n",
              "    </tr>\n",
              "  </tbody>\n",
              "</table>\n",
              "</div>"
            ],
            "text/plain": [
              "       Destination Port       Protocol  ...       Idle Min          Label\n",
              "count     556548.000000  556548.000000  ...  556548.000000  556548.000000\n",
              "mean           0.005401       0.007637  ...       0.133545       0.122500\n",
              "std            0.023972       0.025478  ...       0.278004       0.268998\n",
              "min            0.000000       0.000000  ...       0.000000       0.000000\n",
              "25%            0.000000       0.000337  ...       0.000000       0.000000\n",
              "50%            0.000000       0.003114  ...       0.000000       0.000000\n",
              "75%            0.002581       0.008122  ...       0.050281       0.046649\n",
              "max            1.000000       1.000000  ...       1.000000       1.000000\n",
              "\n",
              "[8 rows x 71 columns]"
            ]
          },
          "metadata": {
            "tags": []
          },
          "execution_count": 32
        }
      ]
    },
    {
      "cell_type": "markdown",
      "metadata": {
        "id": "V9VbPd6a4tVu"
      },
      "source": [
        "PCA class import and analysis"
      ]
    },
    {
      "cell_type": "code",
      "metadata": {
        "id": "gfTepL4X4uGA"
      },
      "source": [
        "from sklearn.decomposition import PCA"
      ],
      "execution_count": 33,
      "outputs": []
    },
    {
      "cell_type": "code",
      "metadata": {
        "id": "m_3g0SLc4xbM"
      },
      "source": [
        "pca = PCA(n_components=None)"
      ],
      "execution_count": 34,
      "outputs": []
    },
    {
      "cell_type": "code",
      "metadata": {
        "id": "CB9s9QiD46bH"
      },
      "source": [
        "dfx_pca = pca.fit(dfx)"
      ],
      "execution_count": 35,
      "outputs": []
    },
    {
      "cell_type": "code",
      "metadata": {
        "colab": {
          "base_uri": "https://localhost:8080/",
          "height": 279
        },
        "id": "LGbTQEQc5BJX",
        "outputId": "ff058148-e6b2-4595-f3ed-2df8bb4caa79"
      },
      "source": [
        "plt.plot(np.cumsum(pca.explained_variance_ratio_))\r\n",
        "plt.xlabel('number of components')\r\n",
        "plt.ylabel('cumulative explained variance');\r\n"
      ],
      "execution_count": 36,
      "outputs": [
        {
          "output_type": "display_data",
          "data": {
            "image/png": "[encoded data removed]",
            "text/plain": [
              "<Figure size 432x288 with 1 Axes>"
            ]
          },
          "metadata": {
            "tags": [],
            "needs_background": "light"
          }
        }
      ]
    },
    {
      "cell_type": "code",
      "metadata": {
        "colab": {
          "base_uri": "https://localhost:8080/",
          "height": 387
        },
        "id": "crObczy25gXl",
        "outputId": "ee9b2838-0872-4c2b-c7ae-e7e401211df3"
      },
      "source": [
        "plt.figure(figsize=(24,5))\r\n",
        "plt.scatter(x=[i+1 for i in range(len(dfx_pca.explained_variance_ratio_))],\r\n",
        "            y=dfx_pca.explained_variance_ratio_,\r\n",
        "           s=200, alpha=0.75,c='orange',edgecolor='k')\r\n",
        "plt.grid(True)\r\n",
        "plt.title(\"Explained variance ratio of the \\nfitted principal component vector\\n\",fontsize=25)\r\n",
        "plt.xlabel(\"Principal components\",fontsize=15)\r\n",
        "plt.xticks([i+1 for i in range(len(dfx_pca.explained_variance_ratio_))],fontsize=15)\r\n",
        "plt.yticks(fontsize=15)\r\n",
        "plt.ylabel(\"Explained variance ratio\",fontsize=15)\r\n",
        "plt.show()"
      ],
      "execution_count": 39,
      "outputs": [
        {
          "output_type": "display_data",
          "data": {
            "image/png": "[encoded data removed]",
            "text/plain": [
              "<Figure size 1728x360 with 1 Axes>"
            ]
          },
          "metadata": {
            "tags": [],
            "needs_background": "light"
          }
        }
      ]
    },
    {
      "cell_type": "markdown",
      "metadata": {
        "id": "3WOKR09d544q"
      },
      "source": [
        "The above two plots means that the $1^{st}$ principal component explains about 42% of the total variance in the data and the $2^{nd}$ component explians further 24%. Therefore, if we just consider first two components, they together explain 66% of the total variance. Using the first 10 features should give very hight detection rate."
      ]
    },
    {
      "cell_type": "markdown",
      "metadata": {
        "id": "hAzzKhqS6gTd"
      },
      "source": [
        "### Showing better class separation using principal components"
      ]
    },
    {
      "cell_type": "markdown",
      "metadata": {
        "id": "AMscfJJo6mGK"
      },
      "source": [
        "Transform the scaled data set using the fitted PCA object"
      ]
    },
    {
      "cell_type": "code",
      "metadata": {
        "id": "b1mfgIsi6hL9"
      },
      "source": [
        "dfx_trans = pca.transform(dfx)"
      ],
      "execution_count": 40,
      "outputs": []
    },
    {
      "cell_type": "markdown",
      "metadata": {
        "id": "WH266RmS6rhA"
      },
      "source": [
        "\r\n",
        "Put it in a data frame"
      ]
    },
    {
      "cell_type": "code",
      "metadata": {
        "colab": {
          "base_uri": "https://localhost:8080/",
          "height": 533
        },
        "id": "fpjgTHbl6t6i",
        "outputId": "e8a9356a-3e6f-40dd-f988-9279273bf4a6"
      },
      "source": [
        "dfx_trans = pd.DataFrame(data=dfx_trans)\r\n",
        "dfx_trans.head(10)"
      ],
      "execution_count": 41,
      "outputs": [
        {
          "output_type": "execute_result",
          "data": {
            "text/html": [
              "<div>\n",
              "<style scoped>\n",
              "    .dataframe tbody tr th:only-of-type {\n",
              "        vertical-align: middle;\n",
              "    }\n",
              "\n",
              "    .dataframe tbody tr th {\n",
              "        vertical-align: top;\n",
              "    }\n",
              "\n",
              "    .dataframe thead th {\n",
              "        text-align: right;\n",
              "    }\n",
              "</style>\n",
              "<table border=\"1\" class=\"dataframe\">\n",
              "  <thead>\n",
              "    <tr style=\"text-align: right;\">\n",
              "      <th></th>\n",
              "      <th>0</th>\n",
              "      <th>1</th>\n",
              "      <th>2</th>\n",
              "      <th>3</th>\n",
              "      <th>4</th>\n",
              "      <th>5</th>\n",
              "      <th>6</th>\n",
              "      <th>7</th>\n",
              "      <th>8</th>\n",
              "      <th>9</th>\n",
              "      <th>10</th>\n",
              "      <th>11</th>\n",
              "      <th>12</th>\n",
              "      <th>13</th>\n",
              "      <th>14</th>\n",
              "      <th>15</th>\n",
              "      <th>16</th>\n",
              "      <th>17</th>\n",
              "      <th>18</th>\n",
              "      <th>19</th>\n",
              "      <th>20</th>\n",
              "      <th>21</th>\n",
              "      <th>22</th>\n",
              "      <th>23</th>\n",
              "      <th>24</th>\n",
              "      <th>25</th>\n",
              "      <th>26</th>\n",
              "      <th>27</th>\n",
              "      <th>28</th>\n",
              "      <th>29</th>\n",
              "      <th>30</th>\n",
              "      <th>31</th>\n",
              "      <th>32</th>\n",
              "      <th>33</th>\n",
              "      <th>34</th>\n",
              "      <th>35</th>\n",
              "      <th>36</th>\n",
              "      <th>37</th>\n",
              "      <th>38</th>\n",
              "      <th>39</th>\n",
              "      <th>40</th>\n",
              "      <th>41</th>\n",
              "      <th>42</th>\n",
              "      <th>43</th>\n",
              "      <th>44</th>\n",
              "      <th>45</th>\n",
              "      <th>46</th>\n",
              "      <th>47</th>\n",
              "      <th>48</th>\n",
              "      <th>49</th>\n",
              "      <th>50</th>\n",
              "      <th>51</th>\n",
              "      <th>52</th>\n",
              "      <th>53</th>\n",
              "      <th>54</th>\n",
              "      <th>55</th>\n",
              "      <th>56</th>\n",
              "      <th>57</th>\n",
              "      <th>58</th>\n",
              "      <th>59</th>\n",
              "      <th>60</th>\n",
              "      <th>61</th>\n",
              "      <th>62</th>\n",
              "      <th>63</th>\n",
              "      <th>64</th>\n",
              "      <th>65</th>\n",
              "      <th>66</th>\n",
              "      <th>67</th>\n",
              "      <th>68</th>\n",
              "      <th>69</th>\n",
              "      <th>70</th>\n",
              "    </tr>\n",
              "  </thead>\n",
              "  <tbody>\n",
              "    <tr>\n",
              "      <th>0</th>\n",
              "      <td>-0.095156</td>\n",
              "      <td>0.664727</td>\n",
              "      <td>0.097788</td>\n",
              "      <td>0.469011</td>\n",
              "      <td>-0.274898</td>\n",
              "      <td>-0.195548</td>\n",
              "      <td>0.129264</td>\n",
              "      <td>-0.079400</td>\n",
              "      <td>0.117194</td>\n",
              "      <td>-0.206700</td>\n",
              "      <td>0.249597</td>\n",
              "      <td>-0.058098</td>\n",
              "      <td>0.054795</td>\n",
              "      <td>0.033890</td>\n",
              "      <td>-0.024770</td>\n",
              "      <td>0.045114</td>\n",
              "      <td>0.023405</td>\n",
              "      <td>0.060974</td>\n",
              "      <td>-0.052816</td>\n",
              "      <td>-0.000568</td>\n",
              "      <td>0.037681</td>\n",
              "      <td>0.021733</td>\n",
              "      <td>0.003554</td>\n",
              "      <td>-0.028235</td>\n",
              "      <td>-0.050118</td>\n",
              "      <td>-0.034254</td>\n",
              "      <td>0.054225</td>\n",
              "      <td>0.122226</td>\n",
              "      <td>0.013727</td>\n",
              "      <td>-0.000427</td>\n",
              "      <td>0.002165</td>\n",
              "      <td>0.013844</td>\n",
              "      <td>-0.007412</td>\n",
              "      <td>-0.019688</td>\n",
              "      <td>0.007994</td>\n",
              "      <td>-0.016039</td>\n",
              "      <td>-0.023171</td>\n",
              "      <td>0.000124</td>\n",
              "      <td>-0.008058</td>\n",
              "      <td>0.001487</td>\n",
              "      <td>-0.013462</td>\n",
              "      <td>-0.006928</td>\n",
              "      <td>-0.005753</td>\n",
              "      <td>-0.000138</td>\n",
              "      <td>0.000536</td>\n",
              "      <td>0.000442</td>\n",
              "      <td>-0.000066</td>\n",
              "      <td>-0.004424</td>\n",
              "      <td>0.000949</td>\n",
              "      <td>4.308142e-03</td>\n",
              "      <td>-0.001622</td>\n",
              "      <td>-1.259158e-05</td>\n",
              "      <td>0.002177</td>\n",
              "      <td>3.876767e-05</td>\n",
              "      <td>-5.936133e-04</td>\n",
              "      <td>7.679856e-07</td>\n",
              "      <td>-1.293447e-05</td>\n",
              "      <td>1.970203e-15</td>\n",
              "      <td>3.891966e-17</td>\n",
              "      <td>1.726104e-17</td>\n",
              "      <td>-2.511318e-17</td>\n",
              "      <td>2.334794e-17</td>\n",
              "      <td>-1.417808e-16</td>\n",
              "      <td>-3.440081e-18</td>\n",
              "      <td>-1.064370e-17</td>\n",
              "      <td>8.747514e-19</td>\n",
              "      <td>-4.372389e-17</td>\n",
              "      <td>2.194897e-17</td>\n",
              "      <td>2.461635e-17</td>\n",
              "      <td>1.127823e-18</td>\n",
              "      <td>6.253272e-17</td>\n",
              "    </tr>\n",
              "    <tr>\n",
              "      <th>1</th>\n",
              "      <td>-0.645994</td>\n",
              "      <td>0.450095</td>\n",
              "      <td>0.050469</td>\n",
              "      <td>0.151210</td>\n",
              "      <td>-0.108255</td>\n",
              "      <td>-0.084455</td>\n",
              "      <td>0.055631</td>\n",
              "      <td>-0.075773</td>\n",
              "      <td>-0.288376</td>\n",
              "      <td>-0.007317</td>\n",
              "      <td>0.023899</td>\n",
              "      <td>-0.023022</td>\n",
              "      <td>-0.018042</td>\n",
              "      <td>-0.024695</td>\n",
              "      <td>-0.022278</td>\n",
              "      <td>-0.001592</td>\n",
              "      <td>0.001973</td>\n",
              "      <td>-0.003486</td>\n",
              "      <td>-0.001394</td>\n",
              "      <td>0.001929</td>\n",
              "      <td>-0.000463</td>\n",
              "      <td>-0.000062</td>\n",
              "      <td>0.000819</td>\n",
              "      <td>-0.002247</td>\n",
              "      <td>0.003955</td>\n",
              "      <td>-0.000327</td>\n",
              "      <td>-0.000402</td>\n",
              "      <td>0.000035</td>\n",
              "      <td>-0.002139</td>\n",
              "      <td>0.000059</td>\n",
              "      <td>0.002708</td>\n",
              "      <td>-0.002324</td>\n",
              "      <td>0.001185</td>\n",
              "      <td>0.000317</td>\n",
              "      <td>-0.001053</td>\n",
              "      <td>0.001098</td>\n",
              "      <td>-0.000242</td>\n",
              "      <td>0.001582</td>\n",
              "      <td>0.000791</td>\n",
              "      <td>-0.000173</td>\n",
              "      <td>0.000261</td>\n",
              "      <td>0.000050</td>\n",
              "      <td>-0.000396</td>\n",
              "      <td>0.000003</td>\n",
              "      <td>0.000043</td>\n",
              "      <td>-0.000023</td>\n",
              "      <td>-0.000028</td>\n",
              "      <td>-0.000005</td>\n",
              "      <td>0.000001</td>\n",
              "      <td>-3.156381e-07</td>\n",
              "      <td>-0.000045</td>\n",
              "      <td>-2.544763e-08</td>\n",
              "      <td>0.000001</td>\n",
              "      <td>9.928819e-07</td>\n",
              "      <td>7.334710e-06</td>\n",
              "      <td>2.659675e-07</td>\n",
              "      <td>-2.215707e-06</td>\n",
              "      <td>-2.736859e-15</td>\n",
              "      <td>2.497088e-17</td>\n",
              "      <td>-2.122664e-17</td>\n",
              "      <td>-5.469492e-17</td>\n",
              "      <td>-4.654579e-17</td>\n",
              "      <td>-1.949870e-16</td>\n",
              "      <td>1.979465e-17</td>\n",
              "      <td>-2.618159e-18</td>\n",
              "      <td>4.054071e-18</td>\n",
              "      <td>-1.218186e-17</td>\n",
              "      <td>7.673252e-19</td>\n",
              "      <td>1.933709e-17</td>\n",
              "      <td>1.649726e-18</td>\n",
              "      <td>1.480603e-17</td>\n",
              "    </tr>\n",
              "    <tr>\n",
              "      <th>2</th>\n",
              "      <td>-0.159507</td>\n",
              "      <td>-0.801662</td>\n",
              "      <td>0.092926</td>\n",
              "      <td>0.028379</td>\n",
              "      <td>-0.038332</td>\n",
              "      <td>-0.025742</td>\n",
              "      <td>-0.330583</td>\n",
              "      <td>-0.012501</td>\n",
              "      <td>-0.061069</td>\n",
              "      <td>0.077176</td>\n",
              "      <td>-0.013670</td>\n",
              "      <td>-0.028986</td>\n",
              "      <td>0.016374</td>\n",
              "      <td>0.114091</td>\n",
              "      <td>0.003156</td>\n",
              "      <td>-0.001289</td>\n",
              "      <td>0.003967</td>\n",
              "      <td>0.002122</td>\n",
              "      <td>0.000754</td>\n",
              "      <td>-0.001848</td>\n",
              "      <td>0.002252</td>\n",
              "      <td>-0.000572</td>\n",
              "      <td>-0.000924</td>\n",
              "      <td>-0.006769</td>\n",
              "      <td>0.002925</td>\n",
              "      <td>-0.000043</td>\n",
              "      <td>-0.001141</td>\n",
              "      <td>0.001497</td>\n",
              "      <td>-0.001946</td>\n",
              "      <td>0.000569</td>\n",
              "      <td>-0.001958</td>\n",
              "      <td>-0.001467</td>\n",
              "      <td>-0.000564</td>\n",
              "      <td>0.001370</td>\n",
              "      <td>-0.000459</td>\n",
              "      <td>0.000696</td>\n",
              "      <td>-0.000556</td>\n",
              "      <td>-0.000824</td>\n",
              "      <td>-0.000672</td>\n",
              "      <td>0.000112</td>\n",
              "      <td>-0.000119</td>\n",
              "      <td>0.000195</td>\n",
              "      <td>-0.000078</td>\n",
              "      <td>-0.000008</td>\n",
              "      <td>-0.000093</td>\n",
              "      <td>0.000011</td>\n",
              "      <td>-0.000018</td>\n",
              "      <td>-0.000105</td>\n",
              "      <td>0.000033</td>\n",
              "      <td>2.446211e-05</td>\n",
              "      <td>-0.000016</td>\n",
              "      <td>4.060178e-06</td>\n",
              "      <td>-0.000001</td>\n",
              "      <td>8.389281e-07</td>\n",
              "      <td>-8.767417e-07</td>\n",
              "      <td>-1.590482e-06</td>\n",
              "      <td>-2.056437e-06</td>\n",
              "      <td>-7.137926e-16</td>\n",
              "      <td>7.927990e-17</td>\n",
              "      <td>6.059768e-17</td>\n",
              "      <td>-2.257305e-17</td>\n",
              "      <td>-7.689561e-17</td>\n",
              "      <td>1.743907e-16</td>\n",
              "      <td>1.132814e-17</td>\n",
              "      <td>1.574579e-17</td>\n",
              "      <td>-7.074719e-18</td>\n",
              "      <td>2.361855e-17</td>\n",
              "      <td>9.732725e-19</td>\n",
              "      <td>-2.930078e-17</td>\n",
              "      <td>-1.081186e-18</td>\n",
              "      <td>-8.555343e-17</td>\n",
              "    </tr>\n",
              "    <tr>\n",
              "      <th>3</th>\n",
              "      <td>-0.576326</td>\n",
              "      <td>0.505473</td>\n",
              "      <td>0.104462</td>\n",
              "      <td>0.145619</td>\n",
              "      <td>-0.090991</td>\n",
              "      <td>-0.067814</td>\n",
              "      <td>0.053936</td>\n",
              "      <td>-0.078472</td>\n",
              "      <td>-0.177577</td>\n",
              "      <td>-0.013632</td>\n",
              "      <td>0.033840</td>\n",
              "      <td>-0.014352</td>\n",
              "      <td>-0.026713</td>\n",
              "      <td>-0.016988</td>\n",
              "      <td>0.028498</td>\n",
              "      <td>0.083098</td>\n",
              "      <td>-0.012998</td>\n",
              "      <td>0.008017</td>\n",
              "      <td>0.024594</td>\n",
              "      <td>-0.027867</td>\n",
              "      <td>0.025977</td>\n",
              "      <td>0.004395</td>\n",
              "      <td>0.001102</td>\n",
              "      <td>-0.004066</td>\n",
              "      <td>0.000150</td>\n",
              "      <td>-0.006480</td>\n",
              "      <td>-0.007202</td>\n",
              "      <td>-0.005387</td>\n",
              "      <td>0.005746</td>\n",
              "      <td>0.000946</td>\n",
              "      <td>-0.005618</td>\n",
              "      <td>-0.003186</td>\n",
              "      <td>-0.004149</td>\n",
              "      <td>-0.001257</td>\n",
              "      <td>0.007187</td>\n",
              "      <td>-0.003093</td>\n",
              "      <td>0.001145</td>\n",
              "      <td>-0.005653</td>\n",
              "      <td>0.000715</td>\n",
              "      <td>0.000176</td>\n",
              "      <td>0.000696</td>\n",
              "      <td>0.003941</td>\n",
              "      <td>-0.001524</td>\n",
              "      <td>-0.000024</td>\n",
              "      <td>0.000537</td>\n",
              "      <td>-0.000378</td>\n",
              "      <td>0.000017</td>\n",
              "      <td>0.000064</td>\n",
              "      <td>-0.000012</td>\n",
              "      <td>-3.141683e-05</td>\n",
              "      <td>-0.000027</td>\n",
              "      <td>-1.753731e-05</td>\n",
              "      <td>-0.000286</td>\n",
              "      <td>-1.468086e-05</td>\n",
              "      <td>-2.054745e-05</td>\n",
              "      <td>-4.301230e-07</td>\n",
              "      <td>5.800489e-06</td>\n",
              "      <td>5.219556e-15</td>\n",
              "      <td>1.631856e-17</td>\n",
              "      <td>-2.670536e-17</td>\n",
              "      <td>-3.929467e-17</td>\n",
              "      <td>-2.602768e-17</td>\n",
              "      <td>-1.984960e-16</td>\n",
              "      <td>7.391299e-18</td>\n",
              "      <td>-4.087365e-18</td>\n",
              "      <td>3.462406e-18</td>\n",
              "      <td>-1.435727e-17</td>\n",
              "      <td>-2.940798e-18</td>\n",
              "      <td>1.917311e-17</td>\n",
              "      <td>2.117557e-18</td>\n",
              "      <td>1.426243e-16</td>\n",
              "    </tr>\n",
              "    <tr>\n",
              "      <th>4</th>\n",
              "      <td>-0.167499</td>\n",
              "      <td>-0.952517</td>\n",
              "      <td>0.164458</td>\n",
              "      <td>0.167295</td>\n",
              "      <td>-0.084639</td>\n",
              "      <td>0.729470</td>\n",
              "      <td>0.285573</td>\n",
              "      <td>-0.004181</td>\n",
              "      <td>-0.066513</td>\n",
              "      <td>-0.009234</td>\n",
              "      <td>-0.015874</td>\n",
              "      <td>-0.130429</td>\n",
              "      <td>0.062856</td>\n",
              "      <td>0.093742</td>\n",
              "      <td>-0.011723</td>\n",
              "      <td>-0.027108</td>\n",
              "      <td>-0.008933</td>\n",
              "      <td>0.004549</td>\n",
              "      <td>-0.007271</td>\n",
              "      <td>0.015118</td>\n",
              "      <td>-0.003010</td>\n",
              "      <td>0.008564</td>\n",
              "      <td>-0.005336</td>\n",
              "      <td>0.110738</td>\n",
              "      <td>-0.028012</td>\n",
              "      <td>-0.000207</td>\n",
              "      <td>0.000991</td>\n",
              "      <td>0.001593</td>\n",
              "      <td>0.002628</td>\n",
              "      <td>-0.000528</td>\n",
              "      <td>-0.003629</td>\n",
              "      <td>0.002641</td>\n",
              "      <td>0.003167</td>\n",
              "      <td>-0.001367</td>\n",
              "      <td>0.000764</td>\n",
              "      <td>-0.002761</td>\n",
              "      <td>0.001381</td>\n",
              "      <td>-0.005688</td>\n",
              "      <td>-0.002596</td>\n",
              "      <td>0.000420</td>\n",
              "      <td>0.000035</td>\n",
              "      <td>0.000451</td>\n",
              "      <td>-0.000182</td>\n",
              "      <td>-0.000011</td>\n",
              "      <td>0.000371</td>\n",
              "      <td>0.000069</td>\n",
              "      <td>0.000296</td>\n",
              "      <td>-0.000226</td>\n",
              "      <td>0.000083</td>\n",
              "      <td>-7.387700e-05</td>\n",
              "      <td>0.000060</td>\n",
              "      <td>1.001567e-05</td>\n",
              "      <td>-0.000038</td>\n",
              "      <td>-1.247422e-06</td>\n",
              "      <td>1.275383e-05</td>\n",
              "      <td>-3.705704e-07</td>\n",
              "      <td>7.882997e-07</td>\n",
              "      <td>-1.008273e-15</td>\n",
              "      <td>7.253878e-17</td>\n",
              "      <td>3.738838e-17</td>\n",
              "      <td>-1.264763e-17</td>\n",
              "      <td>-3.588810e-17</td>\n",
              "      <td>1.546785e-16</td>\n",
              "      <td>4.659910e-17</td>\n",
              "      <td>2.915851e-17</td>\n",
              "      <td>8.355731e-19</td>\n",
              "      <td>3.265762e-17</td>\n",
              "      <td>1.007676e-17</td>\n",
              "      <td>-3.113206e-17</td>\n",
              "      <td>-1.226630e-17</td>\n",
              "      <td>-1.153850e-16</td>\n",
              "    </tr>\n",
              "    <tr>\n",
              "      <th>5</th>\n",
              "      <td>-0.675584</td>\n",
              "      <td>0.512404</td>\n",
              "      <td>0.117246</td>\n",
              "      <td>0.253053</td>\n",
              "      <td>-0.116123</td>\n",
              "      <td>-0.069993</td>\n",
              "      <td>0.018445</td>\n",
              "      <td>-0.184939</td>\n",
              "      <td>0.098181</td>\n",
              "      <td>0.011289</td>\n",
              "      <td>0.014921</td>\n",
              "      <td>-0.045406</td>\n",
              "      <td>-0.008105</td>\n",
              "      <td>0.009883</td>\n",
              "      <td>-0.032978</td>\n",
              "      <td>0.000447</td>\n",
              "      <td>-0.006398</td>\n",
              "      <td>-0.001477</td>\n",
              "      <td>-0.011001</td>\n",
              "      <td>0.009311</td>\n",
              "      <td>-0.007950</td>\n",
              "      <td>0.004982</td>\n",
              "      <td>-0.002104</td>\n",
              "      <td>0.017458</td>\n",
              "      <td>0.000008</td>\n",
              "      <td>0.000186</td>\n",
              "      <td>-0.000240</td>\n",
              "      <td>-0.000586</td>\n",
              "      <td>-0.002284</td>\n",
              "      <td>-0.000485</td>\n",
              "      <td>0.000434</td>\n",
              "      <td>-0.002164</td>\n",
              "      <td>-0.000424</td>\n",
              "      <td>0.000563</td>\n",
              "      <td>-0.000880</td>\n",
              "      <td>0.000578</td>\n",
              "      <td>-0.000086</td>\n",
              "      <td>0.002273</td>\n",
              "      <td>0.002370</td>\n",
              "      <td>-0.000436</td>\n",
              "      <td>0.000357</td>\n",
              "      <td>0.000478</td>\n",
              "      <td>-0.000239</td>\n",
              "      <td>0.000004</td>\n",
              "      <td>-0.000447</td>\n",
              "      <td>-0.000006</td>\n",
              "      <td>0.000028</td>\n",
              "      <td>0.000104</td>\n",
              "      <td>-0.000038</td>\n",
              "      <td>3.602072e-05</td>\n",
              "      <td>-0.000044</td>\n",
              "      <td>-5.325964e-06</td>\n",
              "      <td>-0.000089</td>\n",
              "      <td>3.647057e-06</td>\n",
              "      <td>-3.947261e-06</td>\n",
              "      <td>1.179487e-07</td>\n",
              "      <td>-2.979276e-06</td>\n",
              "      <td>1.855889e-15</td>\n",
              "      <td>1.469566e-17</td>\n",
              "      <td>-1.187322e-18</td>\n",
              "      <td>-6.513710e-17</td>\n",
              "      <td>-3.947872e-17</td>\n",
              "      <td>-2.086573e-16</td>\n",
              "      <td>2.199507e-17</td>\n",
              "      <td>4.651690e-18</td>\n",
              "      <td>4.036133e-18</td>\n",
              "      <td>-1.909927e-17</td>\n",
              "      <td>-4.113316e-18</td>\n",
              "      <td>2.503250e-17</td>\n",
              "      <td>9.618685e-19</td>\n",
              "      <td>9.712925e-17</td>\n",
              "    </tr>\n",
              "    <tr>\n",
              "      <th>6</th>\n",
              "      <td>-0.156739</td>\n",
              "      <td>-0.788852</td>\n",
              "      <td>0.090186</td>\n",
              "      <td>0.021954</td>\n",
              "      <td>-0.053007</td>\n",
              "      <td>-0.016877</td>\n",
              "      <td>-0.282762</td>\n",
              "      <td>0.005407</td>\n",
              "      <td>-0.040409</td>\n",
              "      <td>0.056590</td>\n",
              "      <td>-0.006521</td>\n",
              "      <td>0.006911</td>\n",
              "      <td>-0.040367</td>\n",
              "      <td>-0.126946</td>\n",
              "      <td>0.001608</td>\n",
              "      <td>-0.000097</td>\n",
              "      <td>0.001264</td>\n",
              "      <td>-0.000418</td>\n",
              "      <td>-0.001784</td>\n",
              "      <td>-0.001001</td>\n",
              "      <td>0.001251</td>\n",
              "      <td>-0.000316</td>\n",
              "      <td>-0.003261</td>\n",
              "      <td>-0.000189</td>\n",
              "      <td>-0.001472</td>\n",
              "      <td>0.000461</td>\n",
              "      <td>-0.000695</td>\n",
              "      <td>0.000986</td>\n",
              "      <td>0.000194</td>\n",
              "      <td>0.001154</td>\n",
              "      <td>0.001202</td>\n",
              "      <td>-0.003596</td>\n",
              "      <td>-0.000491</td>\n",
              "      <td>0.002570</td>\n",
              "      <td>-0.000097</td>\n",
              "      <td>0.000860</td>\n",
              "      <td>-0.000796</td>\n",
              "      <td>-0.002296</td>\n",
              "      <td>-0.000629</td>\n",
              "      <td>0.000044</td>\n",
              "      <td>-0.000313</td>\n",
              "      <td>0.000339</td>\n",
              "      <td>-0.000245</td>\n",
              "      <td>-0.000005</td>\n",
              "      <td>0.000151</td>\n",
              "      <td>-0.000048</td>\n",
              "      <td>-0.000073</td>\n",
              "      <td>-0.000136</td>\n",
              "      <td>0.000044</td>\n",
              "      <td>2.083410e-05</td>\n",
              "      <td>-0.000013</td>\n",
              "      <td>6.457398e-06</td>\n",
              "      <td>0.000006</td>\n",
              "      <td>-7.681685e-07</td>\n",
              "      <td>-4.577233e-06</td>\n",
              "      <td>9.905484e-07</td>\n",
              "      <td>8.334915e-06</td>\n",
              "      <td>-6.477960e-16</td>\n",
              "      <td>5.789535e-17</td>\n",
              "      <td>5.127422e-17</td>\n",
              "      <td>-2.935471e-17</td>\n",
              "      <td>-7.370360e-17</td>\n",
              "      <td>1.687492e-16</td>\n",
              "      <td>4.562689e-18</td>\n",
              "      <td>-3.506607e-18</td>\n",
              "      <td>-6.520901e-18</td>\n",
              "      <td>1.532073e-17</td>\n",
              "      <td>8.522259e-18</td>\n",
              "      <td>-2.357102e-17</td>\n",
              "      <td>-1.822020e-20</td>\n",
              "      <td>-1.101051e-16</td>\n",
              "    </tr>\n",
              "    <tr>\n",
              "      <th>7</th>\n",
              "      <td>1.876922</td>\n",
              "      <td>-0.137067</td>\n",
              "      <td>0.386276</td>\n",
              "      <td>0.010621</td>\n",
              "      <td>-0.307644</td>\n",
              "      <td>-0.275345</td>\n",
              "      <td>0.155894</td>\n",
              "      <td>-0.068243</td>\n",
              "      <td>-0.023334</td>\n",
              "      <td>-0.068323</td>\n",
              "      <td>-0.089972</td>\n",
              "      <td>-0.002169</td>\n",
              "      <td>0.014513</td>\n",
              "      <td>0.010243</td>\n",
              "      <td>0.007855</td>\n",
              "      <td>0.028062</td>\n",
              "      <td>-0.019309</td>\n",
              "      <td>0.009062</td>\n",
              "      <td>0.001775</td>\n",
              "      <td>0.004402</td>\n",
              "      <td>0.002933</td>\n",
              "      <td>-0.020538</td>\n",
              "      <td>-0.043587</td>\n",
              "      <td>0.000740</td>\n",
              "      <td>0.005205</td>\n",
              "      <td>-0.010374</td>\n",
              "      <td>0.021155</td>\n",
              "      <td>-0.008446</td>\n",
              "      <td>-0.002706</td>\n",
              "      <td>0.000302</td>\n",
              "      <td>-0.008365</td>\n",
              "      <td>-0.004496</td>\n",
              "      <td>-0.003136</td>\n",
              "      <td>0.008124</td>\n",
              "      <td>0.005248</td>\n",
              "      <td>0.006032</td>\n",
              "      <td>-0.002310</td>\n",
              "      <td>0.003857</td>\n",
              "      <td>0.000921</td>\n",
              "      <td>0.000065</td>\n",
              "      <td>0.000015</td>\n",
              "      <td>-0.000145</td>\n",
              "      <td>-0.000888</td>\n",
              "      <td>0.000007</td>\n",
              "      <td>0.000662</td>\n",
              "      <td>-0.000112</td>\n",
              "      <td>-0.000002</td>\n",
              "      <td>0.000527</td>\n",
              "      <td>-0.000202</td>\n",
              "      <td>1.797590e-04</td>\n",
              "      <td>-0.000072</td>\n",
              "      <td>-5.302584e-06</td>\n",
              "      <td>0.001401</td>\n",
              "      <td>7.457218e-06</td>\n",
              "      <td>-1.790150e-05</td>\n",
              "      <td>4.358302e-07</td>\n",
              "      <td>4.719755e-06</td>\n",
              "      <td>-2.618254e-15</td>\n",
              "      <td>7.217538e-17</td>\n",
              "      <td>-5.123740e-17</td>\n",
              "      <td>2.094279e-16</td>\n",
              "      <td>1.337336e-16</td>\n",
              "      <td>2.794483e-16</td>\n",
              "      <td>-6.342928e-17</td>\n",
              "      <td>7.157257e-18</td>\n",
              "      <td>-5.264763e-18</td>\n",
              "      <td>-1.821759e-17</td>\n",
              "      <td>2.118691e-18</td>\n",
              "      <td>-2.408456e-17</td>\n",
              "      <td>1.915712e-17</td>\n",
              "      <td>1.559871e-16</td>\n",
              "    </tr>\n",
              "    <tr>\n",
              "      <th>8</th>\n",
              "      <td>-0.386683</td>\n",
              "      <td>-0.159857</td>\n",
              "      <td>-0.425810</td>\n",
              "      <td>-0.264354</td>\n",
              "      <td>-0.067378</td>\n",
              "      <td>-0.116245</td>\n",
              "      <td>0.104618</td>\n",
              "      <td>0.106385</td>\n",
              "      <td>0.059603</td>\n",
              "      <td>-0.021439</td>\n",
              "      <td>-0.016768</td>\n",
              "      <td>-0.004283</td>\n",
              "      <td>-0.022753</td>\n",
              "      <td>0.007402</td>\n",
              "      <td>-0.013104</td>\n",
              "      <td>0.005660</td>\n",
              "      <td>0.002209</td>\n",
              "      <td>-0.001307</td>\n",
              "      <td>-0.000336</td>\n",
              "      <td>-0.003884</td>\n",
              "      <td>-0.002248</td>\n",
              "      <td>-0.001812</td>\n",
              "      <td>-0.012336</td>\n",
              "      <td>-0.007159</td>\n",
              "      <td>-0.019001</td>\n",
              "      <td>0.008020</td>\n",
              "      <td>-0.012654</td>\n",
              "      <td>-0.000759</td>\n",
              "      <td>-0.002692</td>\n",
              "      <td>-0.000747</td>\n",
              "      <td>0.000613</td>\n",
              "      <td>0.000884</td>\n",
              "      <td>0.000815</td>\n",
              "      <td>-0.000304</td>\n",
              "      <td>0.000140</td>\n",
              "      <td>0.000214</td>\n",
              "      <td>-0.000155</td>\n",
              "      <td>0.001248</td>\n",
              "      <td>0.000188</td>\n",
              "      <td>-0.000030</td>\n",
              "      <td>-0.000135</td>\n",
              "      <td>-0.000497</td>\n",
              "      <td>0.000002</td>\n",
              "      <td>-0.000040</td>\n",
              "      <td>0.000621</td>\n",
              "      <td>-0.000117</td>\n",
              "      <td>0.000024</td>\n",
              "      <td>0.000046</td>\n",
              "      <td>-0.000027</td>\n",
              "      <td>-3.102180e-06</td>\n",
              "      <td>0.000021</td>\n",
              "      <td>-5.315189e-06</td>\n",
              "      <td>0.000002</td>\n",
              "      <td>7.469533e-07</td>\n",
              "      <td>-1.783823e-05</td>\n",
              "      <td>-1.921893e-06</td>\n",
              "      <td>-1.023469e-06</td>\n",
              "      <td>-1.335292e-15</td>\n",
              "      <td>4.670842e-17</td>\n",
              "      <td>9.301615e-17</td>\n",
              "      <td>-7.795308e-17</td>\n",
              "      <td>8.824652e-18</td>\n",
              "      <td>-3.365666e-17</td>\n",
              "      <td>3.516044e-17</td>\n",
              "      <td>5.657427e-19</td>\n",
              "      <td>-2.701140e-18</td>\n",
              "      <td>1.327375e-17</td>\n",
              "      <td>-1.658935e-19</td>\n",
              "      <td>-1.152179e-18</td>\n",
              "      <td>-9.601542e-18</td>\n",
              "      <td>-8.626472e-17</td>\n",
              "    </tr>\n",
              "    <tr>\n",
              "      <th>9</th>\n",
              "      <td>-0.382584</td>\n",
              "      <td>-0.156259</td>\n",
              "      <td>-0.420403</td>\n",
              "      <td>-0.273421</td>\n",
              "      <td>-0.062790</td>\n",
              "      <td>-0.114311</td>\n",
              "      <td>0.104131</td>\n",
              "      <td>0.109434</td>\n",
              "      <td>0.061448</td>\n",
              "      <td>-0.020292</td>\n",
              "      <td>-0.018307</td>\n",
              "      <td>-0.004834</td>\n",
              "      <td>-0.021574</td>\n",
              "      <td>0.012776</td>\n",
              "      <td>-0.005037</td>\n",
              "      <td>0.001585</td>\n",
              "      <td>0.003047</td>\n",
              "      <td>-0.001306</td>\n",
              "      <td>-0.000641</td>\n",
              "      <td>-0.001773</td>\n",
              "      <td>-0.001275</td>\n",
              "      <td>-0.000165</td>\n",
              "      <td>-0.002233</td>\n",
              "      <td>0.002964</td>\n",
              "      <td>-0.004285</td>\n",
              "      <td>0.001532</td>\n",
              "      <td>-0.002371</td>\n",
              "      <td>-0.000323</td>\n",
              "      <td>-0.000281</td>\n",
              "      <td>-0.000274</td>\n",
              "      <td>0.000006</td>\n",
              "      <td>0.000188</td>\n",
              "      <td>-0.001416</td>\n",
              "      <td>0.000236</td>\n",
              "      <td>-0.000675</td>\n",
              "      <td>0.000048</td>\n",
              "      <td>-0.000026</td>\n",
              "      <td>0.000791</td>\n",
              "      <td>-0.000013</td>\n",
              "      <td>0.000020</td>\n",
              "      <td>-0.000130</td>\n",
              "      <td>-0.000272</td>\n",
              "      <td>-0.000008</td>\n",
              "      <td>-0.000022</td>\n",
              "      <td>0.000826</td>\n",
              "      <td>-0.000148</td>\n",
              "      <td>0.000027</td>\n",
              "      <td>0.000046</td>\n",
              "      <td>-0.000021</td>\n",
              "      <td>-1.747777e-05</td>\n",
              "      <td>0.000022</td>\n",
              "      <td>-5.903097e-06</td>\n",
              "      <td>-0.000014</td>\n",
              "      <td>5.399795e-07</td>\n",
              "      <td>-1.225175e-05</td>\n",
              "      <td>-1.225601e-06</td>\n",
              "      <td>-2.234538e-08</td>\n",
              "      <td>-1.392347e-15</td>\n",
              "      <td>4.085927e-17</td>\n",
              "      <td>9.600514e-17</td>\n",
              "      <td>-7.374651e-17</td>\n",
              "      <td>1.028462e-17</td>\n",
              "      <td>-3.752195e-17</td>\n",
              "      <td>3.786223e-17</td>\n",
              "      <td>5.355811e-19</td>\n",
              "      <td>-3.018804e-18</td>\n",
              "      <td>1.208797e-17</td>\n",
              "      <td>-3.053144e-18</td>\n",
              "      <td>-3.822890e-19</td>\n",
              "      <td>-6.654768e-18</td>\n",
              "      <td>-4.345239e-17</td>\n",
              "    </tr>\n",
              "  </tbody>\n",
              "</table>\n",
              "</div>"
            ],
            "text/plain": [
              "         0         1         2   ...            68            69            70\n",
              "0 -0.095156  0.664727  0.097788  ...  2.461635e-17  1.127823e-18  6.253272e-17\n",
              "1 -0.645994  0.450095  0.050469  ...  1.933709e-17  1.649726e-18  1.480603e-17\n",
              "2 -0.159507 -0.801662  0.092926  ... -2.930078e-17 -1.081186e-18 -8.555343e-17\n",
              "3 -0.576326  0.505473  0.104462  ...  1.917311e-17  2.117557e-18  1.426243e-16\n",
              "4 -0.167499 -0.952517  0.164458  ... -3.113206e-17 -1.226630e-17 -1.153850e-16\n",
              "5 -0.675584  0.512404  0.117246  ...  2.503250e-17  9.618685e-19  9.712925e-17\n",
              "6 -0.156739 -0.788852  0.090186  ... -2.357102e-17 -1.822020e-20 -1.101051e-16\n",
              "7  1.876922 -0.137067  0.386276  ... -2.408456e-17  1.915712e-17  1.559871e-16\n",
              "8 -0.386683 -0.159857 -0.425810  ... -1.152179e-18 -9.601542e-18 -8.626472e-17\n",
              "9 -0.382584 -0.156259 -0.420403  ... -3.822890e-19 -6.654768e-18 -4.345239e-17\n",
              "\n",
              "[10 rows x 71 columns]"
            ]
          },
          "metadata": {
            "tags": []
          },
          "execution_count": 41
        }
      ]
    },
    {
      "cell_type": "markdown",
      "metadata": {
        "id": "rQkT9iTi6ybb"
      },
      "source": [
        "Plot the first two columns of this transformed data set with the color set to original ground truth class label"
      ]
    },
    {
      "cell_type": "code",
      "metadata": {
        "colab": {
          "base_uri": "https://localhost:8080/",
          "height": 1000
        },
        "id": "2K4sofUK6y7Z",
        "outputId": "fe1c6d45-8c7d-443e-9e21-5c5be773c316"
      },
      "source": [
        "plt.figure(figsize=(10,6))\r\n",
        "plt.scatter(dfx_trans[0],dfx_trans[1],c=df_train['Label'],edgecolors='k',alpha=0.75,s=150)\r\n",
        "plt.grid(True)\r\n",
        "plt.title(\"Class separation using first two principal components\\n\",fontsize=20)\r\n",
        "plt.xlabel(\"Principal component-1\",fontsize=15)\r\n",
        "plt.ylabel(\"Principal component-2\",fontsize=15)\r\n",
        "plt.show()"
      ],
      "execution_count": 47,
      "outputs": [
        {
          "output_type": "error",
          "ename": "ValueError",
          "evalue": "ignored",
          "traceback": [
            "\u001b[0;31m---------------------------------------------------------------------------\u001b[0m",
            "\u001b[0;31mValueError\u001b[0m                                Traceback (most recent call last)",
            "\u001b[0;32m/usr/local/lib/python3.6/dist-packages/matplotlib/axes/_axes.py\u001b[0m in \u001b[0;36m_parse_scatter_color_args\u001b[0;34m(c, edgecolors, kwargs, xsize, get_next_color_func)\u001b[0m\n\u001b[1;32m   4238\u001b[0m             \u001b[0;32mtry\u001b[0m\u001b[0;34m:\u001b[0m  \u001b[0;31m# Is 'c' acceptable as PathCollection facecolors?\u001b[0m\u001b[0;34m\u001b[0m\u001b[0;34m\u001b[0m\u001b[0m\n\u001b[0;32m-> 4239\u001b[0;31m                 \u001b[0mcolors\u001b[0m \u001b[0;34m=\u001b[0m \u001b[0mmcolors\u001b[0m\u001b[0;34m.\u001b[0m\u001b[0mto_rgba_array\u001b[0m\u001b[0;34m(\u001b[0m\u001b[0mc\u001b[0m\u001b[0;34m)\u001b[0m\u001b[0;34m\u001b[0m\u001b[0;34m\u001b[0m\u001b[0m\n\u001b[0m\u001b[1;32m   4240\u001b[0m             \u001b[0;32mexcept\u001b[0m \u001b[0mValueError\u001b[0m\u001b[0;34m:\u001b[0m\u001b[0;34m\u001b[0m\u001b[0;34m\u001b[0m\u001b[0m\n",
            "\u001b[0;32m/usr/local/lib/python3.6/dist-packages/matplotlib/colors.py\u001b[0m in \u001b[0;36mto_rgba_array\u001b[0;34m(c, alpha)\u001b[0m\n\u001b[1;32m    339\u001b[0m     \u001b[0;32melse\u001b[0m\u001b[0;34m:\u001b[0m\u001b[0;34m\u001b[0m\u001b[0;34m\u001b[0m\u001b[0m\n\u001b[0;32m--> 340\u001b[0;31m         \u001b[0;32mreturn\u001b[0m \u001b[0mnp\u001b[0m\u001b[0;34m.\u001b[0m\u001b[0marray\u001b[0m\u001b[0;34m(\u001b[0m\u001b[0;34m[\u001b[0m\u001b[0mto_rgba\u001b[0m\u001b[0;34m(\u001b[0m\u001b[0mcc\u001b[0m\u001b[0;34m,\u001b[0m \u001b[0malpha\u001b[0m\u001b[0;34m)\u001b[0m \u001b[0;32mfor\u001b[0m \u001b[0mcc\u001b[0m \u001b[0;32min\u001b[0m \u001b[0mc\u001b[0m\u001b[0;34m]\u001b[0m\u001b[0;34m)\u001b[0m\u001b[0;34m\u001b[0m\u001b[0;34m\u001b[0m\u001b[0m\n\u001b[0m\u001b[1;32m    341\u001b[0m \u001b[0;34m\u001b[0m\u001b[0m\n",
            "\u001b[0;32m/usr/local/lib/python3.6/dist-packages/matplotlib/colors.py\u001b[0m in \u001b[0;36m<listcomp>\u001b[0;34m(.0)\u001b[0m\n\u001b[1;32m    339\u001b[0m     \u001b[0;32melse\u001b[0m\u001b[0;34m:\u001b[0m\u001b[0;34m\u001b[0m\u001b[0;34m\u001b[0m\u001b[0m\n\u001b[0;32m--> 340\u001b[0;31m         \u001b[0;32mreturn\u001b[0m \u001b[0mnp\u001b[0m\u001b[0;34m.\u001b[0m\u001b[0marray\u001b[0m\u001b[0;34m(\u001b[0m\u001b[0;34m[\u001b[0m\u001b[0mto_rgba\u001b[0m\u001b[0;34m(\u001b[0m\u001b[0mcc\u001b[0m\u001b[0;34m,\u001b[0m \u001b[0malpha\u001b[0m\u001b[0;34m)\u001b[0m \u001b[0;32mfor\u001b[0m \u001b[0mcc\u001b[0m \u001b[0;32min\u001b[0m \u001b[0mc\u001b[0m\u001b[0;34m]\u001b[0m\u001b[0;34m)\u001b[0m\u001b[0;34m\u001b[0m\u001b[0;34m\u001b[0m\u001b[0m\n\u001b[0m\u001b[1;32m    341\u001b[0m \u001b[0;34m\u001b[0m\u001b[0m\n",
            "\u001b[0;32m/usr/local/lib/python3.6/dist-packages/matplotlib/colors.py\u001b[0m in \u001b[0;36mto_rgba\u001b[0;34m(c, alpha)\u001b[0m\n\u001b[1;32m    184\u001b[0m     \u001b[0;32mif\u001b[0m \u001b[0mrgba\u001b[0m \u001b[0;32mis\u001b[0m \u001b[0;32mNone\u001b[0m\u001b[0;34m:\u001b[0m  \u001b[0;31m# Suppress exception chaining of cache lookup failure.\u001b[0m\u001b[0;34m\u001b[0m\u001b[0;34m\u001b[0m\u001b[0m\n\u001b[0;32m--> 185\u001b[0;31m         \u001b[0mrgba\u001b[0m \u001b[0;34m=\u001b[0m \u001b[0m_to_rgba_no_colorcycle\u001b[0m\u001b[0;34m(\u001b[0m\u001b[0mc\u001b[0m\u001b[0;34m,\u001b[0m \u001b[0malpha\u001b[0m\u001b[0;34m)\u001b[0m\u001b[0;34m\u001b[0m\u001b[0;34m\u001b[0m\u001b[0m\n\u001b[0m\u001b[1;32m    186\u001b[0m         \u001b[0;32mtry\u001b[0m\u001b[0;34m:\u001b[0m\u001b[0;34m\u001b[0m\u001b[0;34m\u001b[0m\u001b[0m\n",
            "\u001b[0;32m/usr/local/lib/python3.6/dist-packages/matplotlib/colors.py\u001b[0m in \u001b[0;36m_to_rgba_no_colorcycle\u001b[0;34m(c, alpha)\u001b[0m\n\u001b[1;32m    260\u001b[0m             \u001b[0;32mreturn\u001b[0m \u001b[0mc\u001b[0m\u001b[0;34m,\u001b[0m \u001b[0mc\u001b[0m\u001b[0;34m,\u001b[0m \u001b[0mc\u001b[0m\u001b[0;34m,\u001b[0m \u001b[0malpha\u001b[0m \u001b[0;32mif\u001b[0m \u001b[0malpha\u001b[0m \u001b[0;32mis\u001b[0m \u001b[0;32mnot\u001b[0m \u001b[0;32mNone\u001b[0m \u001b[0;32melse\u001b[0m \u001b[0;36m1.\u001b[0m\u001b[0;34m\u001b[0m\u001b[0;34m\u001b[0m\u001b[0m\n\u001b[0;32m--> 261\u001b[0;31m         \u001b[0;32mraise\u001b[0m \u001b[0mValueError\u001b[0m\u001b[0;34m(\u001b[0m\u001b[0;34mf\"Invalid RGBA argument: {orig_c!r}\"\u001b[0m\u001b[0;34m)\u001b[0m\u001b[0;34m\u001b[0m\u001b[0;34m\u001b[0m\u001b[0m\n\u001b[0m\u001b[1;32m    262\u001b[0m     \u001b[0;31m# tuple color.\u001b[0m\u001b[0;34m\u001b[0m\u001b[0;34m\u001b[0m\u001b[0;34m\u001b[0m\u001b[0m\n",
            "\u001b[0;31mValueError\u001b[0m: Invalid RGBA argument: 'DoS Slowhttptest'",
            "\nDuring handling of the above exception, another exception occurred:\n",
            "\u001b[0;31mValueError\u001b[0m                                Traceback (most recent call last)",
            "\u001b[0;32m<ipython-input-47-dabd47786214>\u001b[0m in \u001b[0;36m<module>\u001b[0;34m()\u001b[0m\n\u001b[1;32m      1\u001b[0m \u001b[0mplt\u001b[0m\u001b[0;34m.\u001b[0m\u001b[0mfigure\u001b[0m\u001b[0;34m(\u001b[0m\u001b[0mfigsize\u001b[0m\u001b[0;34m=\u001b[0m\u001b[0;34m(\u001b[0m\u001b[0;36m10\u001b[0m\u001b[0;34m,\u001b[0m\u001b[0;36m6\u001b[0m\u001b[0;34m)\u001b[0m\u001b[0;34m)\u001b[0m\u001b[0;34m\u001b[0m\u001b[0;34m\u001b[0m\u001b[0m\n\u001b[0;32m----> 2\u001b[0;31m \u001b[0mplt\u001b[0m\u001b[0;34m.\u001b[0m\u001b[0mscatter\u001b[0m\u001b[0;34m(\u001b[0m\u001b[0mdfx_trans\u001b[0m\u001b[0;34m[\u001b[0m\u001b[0;36m0\u001b[0m\u001b[0;34m]\u001b[0m\u001b[0;34m,\u001b[0m\u001b[0mdfx_trans\u001b[0m\u001b[0;34m[\u001b[0m\u001b[0;36m1\u001b[0m\u001b[0;34m]\u001b[0m\u001b[0;34m,\u001b[0m\u001b[0mc\u001b[0m\u001b[0;34m=\u001b[0m\u001b[0mdf_train\u001b[0m\u001b[0;34m[\u001b[0m\u001b[0;34m'Label'\u001b[0m\u001b[0;34m]\u001b[0m\u001b[0;34m,\u001b[0m\u001b[0medgecolors\u001b[0m\u001b[0;34m=\u001b[0m\u001b[0;34m'k'\u001b[0m\u001b[0;34m,\u001b[0m\u001b[0malpha\u001b[0m\u001b[0;34m=\u001b[0m\u001b[0;36m0.75\u001b[0m\u001b[0;34m,\u001b[0m\u001b[0ms\u001b[0m\u001b[0;34m=\u001b[0m\u001b[0;36m150\u001b[0m\u001b[0;34m)\u001b[0m\u001b[0;34m\u001b[0m\u001b[0;34m\u001b[0m\u001b[0m\n\u001b[0m\u001b[1;32m      3\u001b[0m \u001b[0mplt\u001b[0m\u001b[0;34m.\u001b[0m\u001b[0mgrid\u001b[0m\u001b[0;34m(\u001b[0m\u001b[0;32mTrue\u001b[0m\u001b[0;34m)\u001b[0m\u001b[0;34m\u001b[0m\u001b[0;34m\u001b[0m\u001b[0m\n\u001b[1;32m      4\u001b[0m \u001b[0mplt\u001b[0m\u001b[0;34m.\u001b[0m\u001b[0mtitle\u001b[0m\u001b[0;34m(\u001b[0m\u001b[0;34m\"Class separation using first two principal components\\n\"\u001b[0m\u001b[0;34m,\u001b[0m\u001b[0mfontsize\u001b[0m\u001b[0;34m=\u001b[0m\u001b[0;36m20\u001b[0m\u001b[0;34m)\u001b[0m\u001b[0;34m\u001b[0m\u001b[0;34m\u001b[0m\u001b[0m\n\u001b[1;32m      5\u001b[0m \u001b[0mplt\u001b[0m\u001b[0;34m.\u001b[0m\u001b[0mxlabel\u001b[0m\u001b[0;34m(\u001b[0m\u001b[0;34m\"Principal component-1\"\u001b[0m\u001b[0;34m,\u001b[0m\u001b[0mfontsize\u001b[0m\u001b[0;34m=\u001b[0m\u001b[0;36m15\u001b[0m\u001b[0;34m)\u001b[0m\u001b[0;34m\u001b[0m\u001b[0;34m\u001b[0m\u001b[0m\n",
            "\u001b[0;32m/usr/local/lib/python3.6/dist-packages/matplotlib/pyplot.py\u001b[0m in \u001b[0;36mscatter\u001b[0;34m(x, y, s, c, marker, cmap, norm, vmin, vmax, alpha, linewidths, verts, edgecolors, plotnonfinite, data, **kwargs)\u001b[0m\n\u001b[1;32m   2814\u001b[0m         \u001b[0mverts\u001b[0m\u001b[0;34m=\u001b[0m\u001b[0mverts\u001b[0m\u001b[0;34m,\u001b[0m \u001b[0medgecolors\u001b[0m\u001b[0;34m=\u001b[0m\u001b[0medgecolors\u001b[0m\u001b[0;34m,\u001b[0m\u001b[0;34m\u001b[0m\u001b[0;34m\u001b[0m\u001b[0m\n\u001b[1;32m   2815\u001b[0m         plotnonfinite=plotnonfinite, **({\"data\": data} if data is not\n\u001b[0;32m-> 2816\u001b[0;31m         None else {}), **kwargs)\n\u001b[0m\u001b[1;32m   2817\u001b[0m     \u001b[0msci\u001b[0m\u001b[0;34m(\u001b[0m\u001b[0m__ret\u001b[0m\u001b[0;34m)\u001b[0m\u001b[0;34m\u001b[0m\u001b[0;34m\u001b[0m\u001b[0m\n\u001b[1;32m   2818\u001b[0m     \u001b[0;32mreturn\u001b[0m \u001b[0m__ret\u001b[0m\u001b[0;34m\u001b[0m\u001b[0;34m\u001b[0m\u001b[0m\n",
            "\u001b[0;32m/usr/local/lib/python3.6/dist-packages/matplotlib/__init__.py\u001b[0m in \u001b[0;36minner\u001b[0;34m(ax, data, *args, **kwargs)\u001b[0m\n\u001b[1;32m   1563\u001b[0m     \u001b[0;32mdef\u001b[0m \u001b[0minner\u001b[0m\u001b[0;34m(\u001b[0m\u001b[0max\u001b[0m\u001b[0;34m,\u001b[0m \u001b[0;34m*\u001b[0m\u001b[0margs\u001b[0m\u001b[0;34m,\u001b[0m \u001b[0mdata\u001b[0m\u001b[0;34m=\u001b[0m\u001b[0;32mNone\u001b[0m\u001b[0;34m,\u001b[0m \u001b[0;34m**\u001b[0m\u001b[0mkwargs\u001b[0m\u001b[0;34m)\u001b[0m\u001b[0;34m:\u001b[0m\u001b[0;34m\u001b[0m\u001b[0;34m\u001b[0m\u001b[0m\n\u001b[1;32m   1564\u001b[0m         \u001b[0;32mif\u001b[0m \u001b[0mdata\u001b[0m \u001b[0;32mis\u001b[0m \u001b[0;32mNone\u001b[0m\u001b[0;34m:\u001b[0m\u001b[0;34m\u001b[0m\u001b[0;34m\u001b[0m\u001b[0m\n\u001b[0;32m-> 1565\u001b[0;31m             \u001b[0;32mreturn\u001b[0m \u001b[0mfunc\u001b[0m\u001b[0;34m(\u001b[0m\u001b[0max\u001b[0m\u001b[0;34m,\u001b[0m \u001b[0;34m*\u001b[0m\u001b[0mmap\u001b[0m\u001b[0;34m(\u001b[0m\u001b[0msanitize_sequence\u001b[0m\u001b[0;34m,\u001b[0m \u001b[0margs\u001b[0m\u001b[0;34m)\u001b[0m\u001b[0;34m,\u001b[0m \u001b[0;34m**\u001b[0m\u001b[0mkwargs\u001b[0m\u001b[0;34m)\u001b[0m\u001b[0;34m\u001b[0m\u001b[0;34m\u001b[0m\u001b[0m\n\u001b[0m\u001b[1;32m   1566\u001b[0m \u001b[0;34m\u001b[0m\u001b[0m\n\u001b[1;32m   1567\u001b[0m         \u001b[0mbound\u001b[0m \u001b[0;34m=\u001b[0m \u001b[0mnew_sig\u001b[0m\u001b[0;34m.\u001b[0m\u001b[0mbind\u001b[0m\u001b[0;34m(\u001b[0m\u001b[0max\u001b[0m\u001b[0;34m,\u001b[0m \u001b[0;34m*\u001b[0m\u001b[0margs\u001b[0m\u001b[0;34m,\u001b[0m \u001b[0;34m**\u001b[0m\u001b[0mkwargs\u001b[0m\u001b[0;34m)\u001b[0m\u001b[0;34m\u001b[0m\u001b[0;34m\u001b[0m\u001b[0m\n",
            "\u001b[0;32m/usr/local/lib/python3.6/dist-packages/matplotlib/cbook/deprecation.py\u001b[0m in \u001b[0;36mwrapper\u001b[0;34m(*args, **kwargs)\u001b[0m\n\u001b[1;32m    356\u001b[0m                 \u001b[0;34mf\"%(removal)s.  If any parameter follows {name!r}, they \"\u001b[0m\u001b[0;34m\u001b[0m\u001b[0;34m\u001b[0m\u001b[0m\n\u001b[1;32m    357\u001b[0m                 f\"should be pass as keyword, not positionally.\")\n\u001b[0;32m--> 358\u001b[0;31m         \u001b[0;32mreturn\u001b[0m \u001b[0mfunc\u001b[0m\u001b[0;34m(\u001b[0m\u001b[0;34m*\u001b[0m\u001b[0margs\u001b[0m\u001b[0;34m,\u001b[0m \u001b[0;34m**\u001b[0m\u001b[0mkwargs\u001b[0m\u001b[0;34m)\u001b[0m\u001b[0;34m\u001b[0m\u001b[0;34m\u001b[0m\u001b[0m\n\u001b[0m\u001b[1;32m    359\u001b[0m \u001b[0;34m\u001b[0m\u001b[0m\n\u001b[1;32m    360\u001b[0m     \u001b[0;32mreturn\u001b[0m \u001b[0mwrapper\u001b[0m\u001b[0;34m\u001b[0m\u001b[0;34m\u001b[0m\u001b[0m\n",
            "\u001b[0;32m/usr/local/lib/python3.6/dist-packages/matplotlib/axes/_axes.py\u001b[0m in \u001b[0;36mscatter\u001b[0;34m(self, x, y, s, c, marker, cmap, norm, vmin, vmax, alpha, linewidths, verts, edgecolors, plotnonfinite, **kwargs)\u001b[0m\n\u001b[1;32m   4401\u001b[0m             self._parse_scatter_color_args(\n\u001b[1;32m   4402\u001b[0m                 \u001b[0mc\u001b[0m\u001b[0;34m,\u001b[0m \u001b[0medgecolors\u001b[0m\u001b[0;34m,\u001b[0m \u001b[0mkwargs\u001b[0m\u001b[0;34m,\u001b[0m \u001b[0mx\u001b[0m\u001b[0;34m.\u001b[0m\u001b[0msize\u001b[0m\u001b[0;34m,\u001b[0m\u001b[0;34m\u001b[0m\u001b[0;34m\u001b[0m\u001b[0m\n\u001b[0;32m-> 4403\u001b[0;31m                 get_next_color_func=self._get_patches_for_fill.get_next_color)\n\u001b[0m\u001b[1;32m   4404\u001b[0m \u001b[0;34m\u001b[0m\u001b[0m\n\u001b[1;32m   4405\u001b[0m         \u001b[0;32mif\u001b[0m \u001b[0mplotnonfinite\u001b[0m \u001b[0;32mand\u001b[0m \u001b[0mcolors\u001b[0m \u001b[0;32mis\u001b[0m \u001b[0;32mNone\u001b[0m\u001b[0;34m:\u001b[0m\u001b[0;34m\u001b[0m\u001b[0;34m\u001b[0m\u001b[0m\n",
            "\u001b[0;32m/usr/local/lib/python3.6/dist-packages/matplotlib/axes/_axes.py\u001b[0m in \u001b[0;36m_parse_scatter_color_args\u001b[0;34m(c, edgecolors, kwargs, xsize, get_next_color_func)\u001b[0m\n\u001b[1;32m   4244\u001b[0m                 \u001b[0;31m# severe failure => one may appreciate a verbose feedback.\u001b[0m\u001b[0;34m\u001b[0m\u001b[0;34m\u001b[0m\u001b[0;34m\u001b[0m\u001b[0m\n\u001b[1;32m   4245\u001b[0m                 raise ValueError(\n\u001b[0;32m-> 4246\u001b[0;31m                     \u001b[0;34mf\"'c' argument must be a color, a sequence of colors, or \"\u001b[0m\u001b[0;34m\u001b[0m\u001b[0;34m\u001b[0m\u001b[0m\n\u001b[0m\u001b[1;32m   4247\u001b[0m                     f\"a sequence of numbers, not {c}\")\n\u001b[1;32m   4248\u001b[0m             \u001b[0;32melse\u001b[0m\u001b[0;34m:\u001b[0m\u001b[0;34m\u001b[0m\u001b[0;34m\u001b[0m\u001b[0m\n",
            "\u001b[0;31mValueError\u001b[0m: 'c' argument must be a color, a sequence of colors, or a sequence of numbers, not 5141    172.16.0.1-192.168.10.50-50294-80-6      172.16.0.1     50294.0  192.168.10.50   80.0     6.0  5/7/2017 10:33       63101744.0   7.0   0.0  0.0     0.0      0.0       DoS Slowhttptest\n40963   172.16.0.1-192.168.10.50-37796-1199-6    172.16.0.1     37796.0  192.168.10.50   1199.0   6.0  7/7/2017 2:52        62.0         1.0   1.0  2.0     6.0      2.0               PortScan\n27718   172.217.6.200-192.168.10.12-443-42634-6  172.217.6.200  443.0    192.168.10.12   42634.0  6.0  03/07/2017 09:49:12  3.0          2.0   0.0  0.0     0.0      0.0                 BENIGN\n106492  192.168.10.8-23.208.79.206-52235-443-6   192.168.10.8   52235.0  23.208.79.206   443.0    6.0  4/7/2017 11:46       5007496.0    7.0   4.0  1679.0  152.0    1080.0              BENIGN\n63559   192.168.10.14-52.84.30.203-59835-80-6    52.84.30.203   80.0     192.168.10.14   59835.0  6.0  6/7/2017 10:04       4.0          1.0   1.0  6.0     6.0      6.0                 BENIGN\n                                                                                                                                                                                     ...       \n263421  178.255.83.1-192.168.10.5-80-49565-6     192.168.10.5   49565.0  178.255.83.1    80.0     6.0  03/07/2017 03:07:21  97769.0      3.0   4.0  442.0   871.0    436.0               BENIGN\n54038   172.16.0.1-192.168.10.50-64915-2323-6    172.16.0.1     64915.0  192.168.10.50   2323.0   6.0  7/7/2017 2:52        54.0         1.0   1.0  2.0     6.0      2.0               PortScan\n137615  172.16.0.1-192.168.10.50-58696-80-6      172.16.0.1     58696.0  192.168.10.50   80.0     6.0  5/7/2017 10:53       83227363.0   8.0   7.0  332.0   11595.0  326.0             DoS Hulk\n231039  192.168.10.9-54.238.251.149-8679-443-6   192.168.10.9   8679.0   54.238.251.149  443.0    6.0  4/7/2017 4:16        101569626.0  10.0  7.0  190.0   160.0    38.0                BENIGN\n146562  172.16.0.1-192.168.10.51-443-52366-6     192.168.10.51  52366.0  172.16.0.1      443.0    6.0  5/7/2017 1:48        2094423.0    9.0   9.0  2455.0  6722.0   952.0               BENIGN\nName: Label, Length: 556548, dtype: object"
          ]
        },
        {
          "output_type": "display_data",
          "data": {
            "image/png": "[encoded data removed]",
            "text/plain": [
              "<Figure size 720x432 with 1 Axes>"
            ]
          },
          "metadata": {
            "tags": [],
            "needs_background": "light"
          }
        }
      ]
    },
    {
      "cell_type": "markdown",
      "metadata": {
        "id": "x58_6aniLi4M"
      },
      "source": [
        "Print out the first 10 most important features:"
      ]
    },
    {
      "cell_type": "code",
      "metadata": {
        "id": "hto9P5KDMFuE"
      },
      "source": [
        ""
      ],
      "execution_count": null,
      "outputs": []
    },
    {
      "cell_type": "markdown",
      "metadata": {
        "id": "ncE0550YE362"
      },
      "source": [
        "## Step 10. KNN Model"
      ]
    },
    {
      "cell_type": "code",
      "metadata": {
        "id": "2G0bP5WKFAsZ"
      },
      "source": [
        "from sklearn.neighbors import KNeighborsClassifier\r\n",
        "from sklearn.metrics import accuracy_score"
      ],
      "execution_count": null,
      "outputs": []
    },
    {
      "cell_type": "code",
      "metadata": {
        "id": "MOl2hgT0FDl6"
      },
      "source": [
        "features_order = ['Source Port', 'Destination Port',\r\n",
        "                      'Protocol', 'Flow Duration', 'Total Fwd Packets', 'Total Backward Packets', 'Total Length of Fwd Packets',\r\n",
        "                      'Total Length of Bwd Packets', 'Fwd Packet Length Max', 'Fwd Packet Length Min', 'Fwd Packet Length Mean',\r\n",
        "                      'Fwd Packet Length Std', 'Bwd Packet Length Max', 'Bwd Packet Length Min', 'Bwd Packet Length Mean', 'Bwd Packet Length Std',\r\n",
        "                      'Flow Bytes/s', 'Flow Packets/s', 'Flow IAT Mean', 'Flow IAT Std', 'Flow IAT Max', 'Flow IAT Min', 'Fwd IAT Total',\r\n",
        "                      'Fwd IAT Mean', 'Fwd IAT Std', 'Fwd IAT Max', 'Fwd IAT Min', 'Bwd IAT Total', 'Bwd IAT Mean', 'Bwd IAT Std', 'Bwd IAT Max',\r\n",
        "                      'Bwd IAT Min', 'Fwd PSH Flags', 'Fwd URG Flags', 'Fwd Header Length', 'Bwd Header Length',\r\n",
        "                      'Fwd Packets/s', 'Bwd Packets/s', 'Min Packet Length', 'Max Packet Length', 'Packet Length Mean', 'Packet Length Std',\r\n",
        "                      'Packet Length Variance', 'FIN Flag Count', 'SYN Flag Count', 'RST Flag Count', 'PSH Flag Count', 'ACK Flag Count',\r\n",
        "                      'URG Flag Count', 'CWE Flag Count', 'ECE Flag Count', 'Down/Up Ratio', 'Average Packet Size', 'Avg Fwd Segment Size',\r\n",
        "                      'Avg Bwd Segment Size','Subflow Fwd Packets', 'Subflow Fwd Bytes',\r\n",
        "                      'Subflow Bwd Packets', 'Subflow Bwd Bytes', 'Init_Win_bytes_forward', 'Init_Win_bytes_backward',\r\n",
        "                      'act_data_pkt_fwd', 'min_seg_size_forward', 'Active Mean', 'Active Std', 'Active Max', 'Active Min', 'Idle Mean',\r\n",
        "                      'Idle Std', 'Idle Max', 'Idle Min']"
      ],
      "execution_count": null,
      "outputs": []
    },
    {
      "cell_type": "code",
      "metadata": {
        "id": "NU2RKzdJFZmC"
      },
      "source": [
        "features=[\"Fwd Packet Length Max\",\"Flow IAT Std\",\"Fwd Packet Length Std\" ,\"Fwd IAT Total\",'Flow Packets/s', \"Fwd Packet Length Mean\",  \"Flow Bytes/s\",  \"Flow IAT Mean\", \"Bwd Packet Length Mean\",  \"Flow IAT Max\", \"Bwd Packet Length Std\", ]"
      ],
      "execution_count": null,
      "outputs": []
    },
    {
      "cell_type": "markdown",
      "metadata": {
        "id": "vP3l1zG7Feyy"
      },
      "source": [
        "**Import module for KNN**\r\n",
        "\r\n",
        "First, convert numpy array to dataframe"
      ]
    },
    {
      "cell_type": "code",
      "metadata": {
        "id": "Op2VjiaKFhJi"
      },
      "source": [
        "df_train = pd.DataFrame(X_train, columns = features_order)\r\n",
        "df_train.head()"
      ],
      "execution_count": null,
      "outputs": []
    },
    {
      "cell_type": "code",
      "metadata": {
        "id": "hPPO-5y_FoOd"
      },
      "source": [
        "df_val = pd.DataFrame(X_val, columns = features_order)"
      ],
      "execution_count": null,
      "outputs": []
    },
    {
      "cell_type": "markdown",
      "metadata": {
        "id": "f--DqQxhFqKE"
      },
      "source": [
        "Select a subset of features from the dataframe"
      ]
    },
    {
      "cell_type": "code",
      "metadata": {
        "id": "3PATykVIFshk"
      },
      "source": [
        "df_sub=df_train.loc[:, features]\r\n",
        "df_sub.head()"
      ],
      "execution_count": null,
      "outputs": []
    },
    {
      "cell_type": "code",
      "metadata": {
        "id": "wh3wjt7KFwrn"
      },
      "source": [
        "df_val_sub=df_val.loc[:, features]\r\n",
        "df_val_sub.head()"
      ],
      "execution_count": null,
      "outputs": []
    },
    {
      "cell_type": "markdown",
      "metadata": {
        "id": "UvbZHRMxFy_C"
      },
      "source": [
        "Convert dataframes to numpy array"
      ]
    },
    {
      "cell_type": "code",
      "metadata": {
        "id": "U-FPHn6DFzeC"
      },
      "source": [
        "X_train = df_sub.to_numpy()\r\n",
        "X_val = df_val_sub.to_numpy()"
      ],
      "execution_count": null,
      "outputs": []
    },
    {
      "cell_type": "code",
      "metadata": {
        "id": "UtgCVyUrF8zk"
      },
      "source": [
        "for i in range(1,X_train.shape[1]+1):\r\n",
        "    knn=KNeighborsClassifier(n_neighbors=i)\r\n",
        "    model_knn=knn.fit(X_train,y_train)\r\n",
        "    yhat=model_knn.predict(X_val)\r\n",
        "    print(\"for \" , i,  \" as K, accuracy is : \", accuracy_score(y_val, yhat))"
      ],
      "execution_count": null,
      "outputs": []
    },
    {
      "cell_type": "markdown",
      "metadata": {
        "id": "DLFMoNRIGBlo"
      },
      "source": [
        "## Step 11. Random Foresty with DecisionTree"
      ]
    },
    {
      "cell_type": "code",
      "metadata": {
        "id": "VXEFY0S6GEAr"
      },
      "source": [
        "from sklearn.ensemble import RandomForestClassifier\r\n",
        "from sklearn import metrics"
      ],
      "execution_count": null,
      "outputs": []
    },
    {
      "cell_type": "code",
      "metadata": {
        "id": "cv58osvMHHec"
      },
      "source": [
        "clf = RandomForestClassifier(n_estimators=10, random_state=SEED)\r\n",
        "clf.fit(X_train,y_train)\r\n",
        "    \r\n",
        "pred = clf.predict(X_val)\r\n",
        "val_acc = metrics.accuracy_score(y_val,pred)*100        \r\n",
        "print('val acc:',val_acc)"
      ],
      "execution_count": null,
      "outputs": []
    },
    {
      "cell_type": "markdown",
      "metadata": {
        "id": "_RpfMdIxHS9b"
      },
      "source": [
        "## Step 12. PLS Model"
      ]
    },
    {
      "cell_type": "code",
      "metadata": {
        "id": "ZKdHmeQ9K-bK"
      },
      "source": [
        ""
      ],
      "execution_count": null,
      "outputs": []
    },
    {
      "cell_type": "markdown",
      "metadata": {
        "id": "zVNyU1kNTbV4"
      },
      "source": [
        "## Step 13. AdaBoostClassifier"
      ]
    },
    {
      "cell_type": "code",
      "metadata": {
        "id": "20H7RiWzTgRU"
      },
      "source": [
        "from sklearn.ensemble import AdaBoostClassifier\r\n",
        "from sklearn import metrics\r\n",
        "from sklearn.metrics import (precision_score, recall_score,f1_score, accuracy_score,mean_squared_error,mean_absolute_error)"
      ],
      "execution_count": 77,
      "outputs": []
    },
    {
      "cell_type": "code",
      "metadata": {
        "id": "bUYEmzjaTnEG"
      },
      "source": [
        "model_ada = AdaBoostClassifier(n_estimators=100)\r\n",
        "model_ada.fit(X_train, y_train_ada)\r\n",
        "\r\n",
        "# make predictions\r\n",
        "expected = y_val_ada\r\n",
        "predicted = model_ada.predict(X_val)"
      ],
      "execution_count": 73,
      "outputs": []
    },
    {
      "cell_type": "code",
      "metadata": {
        "colab": {
          "base_uri": "https://localhost:8080/"
        },
        "id": "2bshEfGFBPbG",
        "outputId": "e742722a-666b-4670-f6e1-fae753d6aa3b"
      },
      "source": [
        "cm = metrics.confusion_matrix(expected, predicted)\r\n",
        "print(cm)\r\n",
        "tpr = float(cm[0][0])/np.sum(cm[0])\r\n",
        "fpr = float(cm[1][1])/np.sum(cm[1])\r\n",
        "print(\"%.3f\" %tpr)\r\n",
        "print(\"%.3f\" %fpr)\r\n",
        "print(\"fpr\")\r\n",
        "print(\"%.3f\" %fpr)\r\n",
        "print(\"tpr\")\r\n",
        "print(\"%.3f\" %tpr)\r\n",
        "print(\"\\nAccuracy:%f\" %metrics.accuracy_score(y_val, predicted))\r\n",
        "#print(\"\\nPrecision:%f\" %metrics.average_precision_score(y_val, predicted, average=None))\r\n",
        "print(\"\\nRecall:%f\" %metrics.recall_score(y_val, predicted, average='weighted'))\r\n",
        "print(\"\\nF1-score:%f\" %metrics.f1_score(y_val, predicted,average='weighted'))\r\n",
        "print(\"\\nconfusion matrix:\" )\r\n",
        "print(\"\\n%s\" %metrics.confusion_matrix(y_val, predicted))"
      ],
      "execution_count": 93,
      "outputs": [
        {
          "output_type": "stream",
          "text": [
            "[[138638      0      9      0    486      0      0      0      0      2\n",
            "       0      0      0      0      0]\n",
            " [   489      0      0      0      0      0      0      0      0      0\n",
            "       0      0      0      0      0]\n",
            " [ 11653      0   5264      0  15089      0      0      0      0      0\n",
            "       0      0      0      0      0]\n",
            " [   851      0    118      0   1604      0      0      0      0      0\n",
            "       0      0      0      0      0]\n",
            " [ 18725      0   1025      0  37781      0      0      0      0      0\n",
            "       0      0      0      0      0]\n",
            " [  1355      0      0      0     19      0      0      0      0      0\n",
            "       0      0      0      0      0]\n",
            " [  1449      0      0      0      0      0      0      0      0      0\n",
            "       0      0      0      0      0]\n",
            " [  1983      0      0      0      0      0      0      0      0      0\n",
            "       0      0      0      0      0]\n",
            " [     0      0      2      0      0      0      0      0      0      0\n",
            "       0      0      0      0      0]\n",
            " [     8      0      0      0      0      0      0      0      0      1\n",
            "       0      0      0      0      0]\n",
            " [ 39680      0      0      0     21      0      0      0      0      0\n",
            "       0      0      0      0      0]\n",
            " [  1474      0      0      0      0      0      0      0      0      0\n",
            "       0      0      0      0      0]\n",
            " [   376      0      0      0      0      0      0      0      0      0\n",
            "       0      0      0      0      0]\n",
            " [     5      0      0      0      0      0      0      0      0      0\n",
            "       0      0      0      0      0]\n",
            " [   162      0      0      0      1      0      0      0      0      0\n",
            "       0      0      0      0      0]]\n",
            "0.996\n",
            "0.000\n",
            "fpr\n",
            "0.000\n",
            "tpr\n",
            "0.996\n",
            "\n",
            "Accuracy:0.652905\n",
            "\n",
            "Recall:0.652905\n",
            "\n",
            "F1-score:0.559794\n",
            "\n",
            "confusion matrix:\n",
            "\n",
            "[[138638      0      9      0    486      0      0      0      0      2\n",
            "       0      0      0      0      0]\n",
            " [   489      0      0      0      0      0      0      0      0      0\n",
            "       0      0      0      0      0]\n",
            " [ 11653      0   5264      0  15089      0      0      0      0      0\n",
            "       0      0      0      0      0]\n",
            " [   851      0    118      0   1604      0      0      0      0      0\n",
            "       0      0      0      0      0]\n",
            " [ 18725      0   1025      0  37781      0      0      0      0      0\n",
            "       0      0      0      0      0]\n",
            " [  1355      0      0      0     19      0      0      0      0      0\n",
            "       0      0      0      0      0]\n",
            " [  1449      0      0      0      0      0      0      0      0      0\n",
            "       0      0      0      0      0]\n",
            " [  1983      0      0      0      0      0      0      0      0      0\n",
            "       0      0      0      0      0]\n",
            " [     0      0      2      0      0      0      0      0      0      0\n",
            "       0      0      0      0      0]\n",
            " [     8      0      0      0      0      0      0      0      0      1\n",
            "       0      0      0      0      0]\n",
            " [ 39680      0      0      0     21      0      0      0      0      0\n",
            "       0      0      0      0      0]\n",
            " [  1474      0      0      0      0      0      0      0      0      0\n",
            "       0      0      0      0      0]\n",
            " [   376      0      0      0      0      0      0      0      0      0\n",
            "       0      0      0      0      0]\n",
            " [     5      0      0      0      0      0      0      0      0      0\n",
            "       0      0      0      0      0]\n",
            " [   162      0      0      0      1      0      0      0      0      0\n",
            "       0      0      0      0      0]]\n"
          ],
          "name": "stdout"
        }
      ]
    },
    {
      "cell_type": "markdown",
      "metadata": {
        "id": "4ARW4idriNM1"
      },
      "source": [
        "## Step x. Reorder features according to their importance. "
      ]
    },
    {
      "cell_type": "markdown",
      "metadata": {
        "id": "89fsZiiijI1Y"
      },
      "source": [
        "According to \"Selection and Performance Analysis of CICIDS2017 Features Importance\", the important features are: Destination Port, Fwd IAT Min, Init_Win_bytes_Forward, Init_Win_bytes_backward and FlowIATMin"
      ]
    },
    {
      "cell_type": "code",
      "metadata": {
        "id": "Fd3SNXjGjJkD"
      },
      "source": [
        "col_important = np.array(['Source Port', 'Destination Port', 'Fwd IAT Min', 'Init_Win_bytes_forward', 'Init_Win_bytes_backward', 'Flow IAT Min',\r\n",
        "                      'Flow Duration', 'Total Fwd Packets', 'Total Backward Packets', 'Total Length of Fwd Packets',\r\n",
        "                      'Total Length of Bwd Packets', 'Fwd Packet Length Max', 'Protocol', 'Fwd Packet Length Min', 'Fwd Packet Length Mean',\r\n",
        "                      'Fwd Packet Length Std', 'Bwd Packet Length Max', 'Bwd Packet Length Min', 'Bwd Packet Length Mean', 'Bwd Packet Length Std',\r\n",
        "                      'Flow Bytes/s', 'Flow Packets/s', 'Flow IAT Mean', 'Flow IAT Std', 'Flow IAT Max', 'Fwd IAT Total',\r\n",
        "                      'Fwd IAT Mean', 'Fwd IAT Std', 'Fwd IAT Max', 'Bwd IAT Total', 'Bwd IAT Mean', 'Bwd IAT Std', 'Bwd IAT Max',\r\n",
        "                      'Bwd IAT Min', 'Fwd PSH Flags', 'Fwd URG Flags', 'Fwd Header Length', 'Bwd Header Length',\r\n",
        "                      'Fwd Packets/s', 'Bwd Packets/s', 'Min Packet Length', 'Max Packet Length', 'Packet Length Mean', 'Packet Length Std',\r\n",
        "                      'Packet Length Variance', 'FIN Flag Count', 'SYN Flag Count', 'RST Flag Count', 'PSH Flag Count', 'ACK Flag Count',\r\n",
        "                      'URG Flag Count', 'CWE Flag Count', 'ECE Flag Count', 'Down/Up Ratio', 'Average Packet Size', 'Avg Fwd Segment Size',\r\n",
        "                      'Avg Bwd Segment Size','Subflow Fwd Packets', 'Subflow Fwd Bytes',\r\n",
        "                      'Subflow Bwd Packets', 'Subflow Bwd Bytes', \r\n",
        "                      'act_data_pkt_fwd', 'min_seg_size_forward', 'Active Mean', 'Active Std', 'Active Max', 'Active Min', 'Idle Mean',\r\n",
        "                      'Idle Std', 'Idle Max', 'Idle Min', 'Label'])"
      ],
      "execution_count": null,
      "outputs": []
    },
    {
      "cell_type": "markdown",
      "metadata": {
        "id": "pfmbaStpjf4_"
      },
      "source": [
        "Load the data again."
      ]
    },
    {
      "cell_type": "code",
      "metadata": {
        "colab": {
          "base_uri": "https://localhost:8080/",
          "height": 434
        },
        "id": "C6SFk-v4jkZI",
        "outputId": "a1421bce-1299-4c05-dd25-8d2c277e5f25"
      },
      "source": [
        "# load train data\r\n",
        "df_train = pd.read_csv('/content/drive/My Drive/CICIDS2017/train_set.csv',names=col_important, skiprows=1) \r\n",
        "df_train.head()"
      ],
      "execution_count": null,
      "outputs": [
        {
          "output_type": "execute_result",
          "data": {
            "text/html": [
              "<div>\n",
              "<style scoped>\n",
              "    .dataframe tbody tr th:only-of-type {\n",
              "        vertical-align: middle;\n",
              "    }\n",
              "\n",
              "    .dataframe tbody tr th {\n",
              "        vertical-align: top;\n",
              "    }\n",
              "\n",
              "    .dataframe thead th {\n",
              "        text-align: right;\n",
              "    }\n",
              "</style>\n",
              "<table border=\"1\" class=\"dataframe\">\n",
              "  <thead>\n",
              "    <tr style=\"text-align: right;\">\n",
              "      <th></th>\n",
              "      <th></th>\n",
              "      <th></th>\n",
              "      <th></th>\n",
              "      <th></th>\n",
              "      <th></th>\n",
              "      <th></th>\n",
              "      <th></th>\n",
              "      <th></th>\n",
              "      <th></th>\n",
              "      <th></th>\n",
              "      <th></th>\n",
              "      <th></th>\n",
              "      <th></th>\n",
              "      <th>Source Port</th>\n",
              "      <th>Destination Port</th>\n",
              "      <th>Fwd IAT Min</th>\n",
              "      <th>Init_Win_bytes_forward</th>\n",
              "      <th>Init_Win_bytes_backward</th>\n",
              "      <th>Flow IAT Min</th>\n",
              "      <th>Flow Duration</th>\n",
              "      <th>Total Fwd Packets</th>\n",
              "      <th>Total Backward Packets</th>\n",
              "      <th>Total Length of Fwd Packets</th>\n",
              "      <th>Total Length of Bwd Packets</th>\n",
              "      <th>Fwd Packet Length Max</th>\n",
              "      <th>Protocol</th>\n",
              "      <th>Fwd Packet Length Min</th>\n",
              "      <th>Fwd Packet Length Mean</th>\n",
              "      <th>Fwd Packet Length Std</th>\n",
              "      <th>Bwd Packet Length Max</th>\n",
              "      <th>Bwd Packet Length Min</th>\n",
              "      <th>Bwd Packet Length Mean</th>\n",
              "      <th>Bwd Packet Length Std</th>\n",
              "      <th>Flow Bytes/s</th>\n",
              "      <th>Flow Packets/s</th>\n",
              "      <th>Flow IAT Mean</th>\n",
              "      <th>Flow IAT Std</th>\n",
              "      <th>Flow IAT Max</th>\n",
              "      <th>Fwd IAT Total</th>\n",
              "      <th>Fwd IAT Mean</th>\n",
              "      <th>Fwd IAT Std</th>\n",
              "      <th>Fwd IAT Max</th>\n",
              "      <th>Bwd IAT Total</th>\n",
              "      <th>Bwd IAT Mean</th>\n",
              "      <th>Bwd IAT Std</th>\n",
              "      <th>Bwd IAT Max</th>\n",
              "      <th>Bwd IAT Min</th>\n",
              "      <th>Fwd PSH Flags</th>\n",
              "      <th>Fwd URG Flags</th>\n",
              "      <th>Fwd Header Length</th>\n",
              "      <th>Bwd Header Length</th>\n",
              "      <th>Fwd Packets/s</th>\n",
              "      <th>Bwd Packets/s</th>\n",
              "      <th>Min Packet Length</th>\n",
              "      <th>Max Packet Length</th>\n",
              "      <th>Packet Length Mean</th>\n",
              "      <th>Packet Length Std</th>\n",
              "      <th>Packet Length Variance</th>\n",
              "      <th>FIN Flag Count</th>\n",
              "      <th>SYN Flag Count</th>\n",
              "      <th>RST Flag Count</th>\n",
              "      <th>PSH Flag Count</th>\n",
              "      <th>ACK Flag Count</th>\n",
              "      <th>URG Flag Count</th>\n",
              "      <th>CWE Flag Count</th>\n",
              "      <th>ECE Flag Count</th>\n",
              "      <th>Down/Up Ratio</th>\n",
              "      <th>Average Packet Size</th>\n",
              "      <th>Avg Fwd Segment Size</th>\n",
              "      <th>Avg Bwd Segment Size</th>\n",
              "      <th>Subflow Fwd Packets</th>\n",
              "      <th>Subflow Fwd Bytes</th>\n",
              "      <th>Subflow Bwd Packets</th>\n",
              "      <th>Subflow Bwd Bytes</th>\n",
              "      <th>act_data_pkt_fwd</th>\n",
              "      <th>min_seg_size_forward</th>\n",
              "      <th>Active Mean</th>\n",
              "      <th>Active Std</th>\n",
              "      <th>Active Max</th>\n",
              "      <th>Active Min</th>\n",
              "      <th>Idle Mean</th>\n",
              "      <th>Idle Std</th>\n",
              "      <th>Idle Max</th>\n",
              "      <th>Idle Min</th>\n",
              "      <th>Label</th>\n",
              "    </tr>\n",
              "  </thead>\n",
              "  <tbody>\n",
              "    <tr>\n",
              "      <th>5141</th>\n",
              "      <th>172.16.0.1-192.168.10.50-50294-80-6</th>\n",
              "      <th>172.16.0.1</th>\n",
              "      <th>50294.0</th>\n",
              "      <th>192.168.10.50</th>\n",
              "      <th>80.0</th>\n",
              "      <th>6.0</th>\n",
              "      <th>5/7/2017 10:33</th>\n",
              "      <th>63101744.0</th>\n",
              "      <th>7.0</th>\n",
              "      <th>0.0</th>\n",
              "      <th>0.0</th>\n",
              "      <th>0.0</th>\n",
              "      <th>0.0</th>\n",
              "      <td>0.0</td>\n",
              "      <td>0.000000</td>\n",
              "      <td>0.000000</td>\n",
              "      <td>0.0</td>\n",
              "      <td>0.0</td>\n",
              "      <td>0.0</td>\n",
              "      <td>0.0</td>\n",
              "      <td>0.000000e+00</td>\n",
              "      <td>0.110932</td>\n",
              "      <td>10500000.0</td>\n",
              "      <td>1.190000e+07</td>\n",
              "      <td>32100000.0</td>\n",
              "      <td>998158.0</td>\n",
              "      <td>63100000.0</td>\n",
              "      <td>1.050000e+07</td>\n",
              "      <td>1.190000e+07</td>\n",
              "      <td>32100000.0</td>\n",
              "      <td>998158.0</td>\n",
              "      <td>0.0</td>\n",
              "      <td>0.0</td>\n",
              "      <td>0.00000</td>\n",
              "      <td>0.0</td>\n",
              "      <td>0.0</td>\n",
              "      <td>0.0</td>\n",
              "      <td>0.0</td>\n",
              "      <td>0.0</td>\n",
              "      <td>0.0</td>\n",
              "      <td>280.0</td>\n",
              "      <td>0.0</td>\n",
              "      <td>0.110932</td>\n",
              "      <td>0.000000</td>\n",
              "      <td>0.0</td>\n",
              "      <td>0.0</td>\n",
              "      <td>0.000000</td>\n",
              "      <td>0.000000</td>\n",
              "      <td>0.000000</td>\n",
              "      <td>0.0</td>\n",
              "      <td>0.0</td>\n",
              "      <td>0.0</td>\n",
              "      <td>1.0</td>\n",
              "      <td>0.0</td>\n",
              "      <td>0.0</td>\n",
              "      <td>0.0</td>\n",
              "      <td>0.0</td>\n",
              "      <td>0.0</td>\n",
              "      <td>0.000000</td>\n",
              "      <td>0.000000</td>\n",
              "      <td>0.0</td>\n",
              "      <td>280.0</td>\n",
              "      <td>0.0</td>\n",
              "      <td>0.0</td>\n",
              "      <td>0.0</td>\n",
              "      <td>0.0</td>\n",
              "      <td>0.0</td>\n",
              "      <td>0.0</td>\n",
              "      <td>7.0</td>\n",
              "      <td>0.0</td>\n",
              "      <td>0.0</td>\n",
              "      <td>0.0</td>\n",
              "      <td>29200.0</td>\n",
              "      <td>-1.0</td>\n",
              "      <td>0.0</td>\n",
              "      <td>40.0</td>\n",
              "      <td>7006133.0</td>\n",
              "      <td>0.0</td>\n",
              "      <td>7006133.0</td>\n",
              "      <td>7006133.0</td>\n",
              "      <td>18700000.0</td>\n",
              "      <td>12200000.0</td>\n",
              "      <td>32100000.0</td>\n",
              "      <td>8015895.0</td>\n",
              "      <td>DoS Slowhttptest</td>\n",
              "    </tr>\n",
              "    <tr>\n",
              "      <th>40963</th>\n",
              "      <th>172.16.0.1-192.168.10.50-37796-1199-6</th>\n",
              "      <th>172.16.0.1</th>\n",
              "      <th>37796.0</th>\n",
              "      <th>192.168.10.50</th>\n",
              "      <th>1199.0</th>\n",
              "      <th>6.0</th>\n",
              "      <th>7/7/2017 2:52</th>\n",
              "      <th>62.0</th>\n",
              "      <th>1.0</th>\n",
              "      <th>1.0</th>\n",
              "      <th>2.0</th>\n",
              "      <th>6.0</th>\n",
              "      <th>2.0</th>\n",
              "      <td>2.0</td>\n",
              "      <td>2.000000</td>\n",
              "      <td>0.000000</td>\n",
              "      <td>6.0</td>\n",
              "      <td>6.0</td>\n",
              "      <td>6.0</td>\n",
              "      <td>0.0</td>\n",
              "      <td>1.290323e+05</td>\n",
              "      <td>32258.064520</td>\n",
              "      <td>62.0</td>\n",
              "      <td>0.000000e+00</td>\n",
              "      <td>62.0</td>\n",
              "      <td>62.0</td>\n",
              "      <td>0.0</td>\n",
              "      <td>0.000000e+00</td>\n",
              "      <td>0.000000e+00</td>\n",
              "      <td>0.0</td>\n",
              "      <td>0.0</td>\n",
              "      <td>0.0</td>\n",
              "      <td>0.0</td>\n",
              "      <td>0.00000</td>\n",
              "      <td>0.0</td>\n",
              "      <td>0.0</td>\n",
              "      <td>0.0</td>\n",
              "      <td>0.0</td>\n",
              "      <td>0.0</td>\n",
              "      <td>0.0</td>\n",
              "      <td>24.0</td>\n",
              "      <td>20.0</td>\n",
              "      <td>16129.032260</td>\n",
              "      <td>16129.032260</td>\n",
              "      <td>2.0</td>\n",
              "      <td>6.0</td>\n",
              "      <td>3.333333</td>\n",
              "      <td>2.309401</td>\n",
              "      <td>5.333333</td>\n",
              "      <td>0.0</td>\n",
              "      <td>0.0</td>\n",
              "      <td>0.0</td>\n",
              "      <td>1.0</td>\n",
              "      <td>0.0</td>\n",
              "      <td>0.0</td>\n",
              "      <td>0.0</td>\n",
              "      <td>0.0</td>\n",
              "      <td>1.0</td>\n",
              "      <td>5.000000</td>\n",
              "      <td>2.000000</td>\n",
              "      <td>6.0</td>\n",
              "      <td>24.0</td>\n",
              "      <td>0.0</td>\n",
              "      <td>0.0</td>\n",
              "      <td>0.0</td>\n",
              "      <td>0.0</td>\n",
              "      <td>0.0</td>\n",
              "      <td>0.0</td>\n",
              "      <td>1.0</td>\n",
              "      <td>2.0</td>\n",
              "      <td>1.0</td>\n",
              "      <td>6.0</td>\n",
              "      <td>1024.0</td>\n",
              "      <td>0.0</td>\n",
              "      <td>0.0</td>\n",
              "      <td>24.0</td>\n",
              "      <td>0.0</td>\n",
              "      <td>0.0</td>\n",
              "      <td>0.0</td>\n",
              "      <td>0.0</td>\n",
              "      <td>0.0</td>\n",
              "      <td>0.0</td>\n",
              "      <td>0.0</td>\n",
              "      <td>0.0</td>\n",
              "      <td>PortScan</td>\n",
              "    </tr>\n",
              "    <tr>\n",
              "      <th>27718</th>\n",
              "      <th>172.217.6.200-192.168.10.12-443-42634-6</th>\n",
              "      <th>172.217.6.200</th>\n",
              "      <th>443.0</th>\n",
              "      <th>192.168.10.12</th>\n",
              "      <th>42634.0</th>\n",
              "      <th>6.0</th>\n",
              "      <th>03/07/2017 09:49:12</th>\n",
              "      <th>3.0</th>\n",
              "      <th>2.0</th>\n",
              "      <th>0.0</th>\n",
              "      <th>0.0</th>\n",
              "      <th>0.0</th>\n",
              "      <th>0.0</th>\n",
              "      <td>0.0</td>\n",
              "      <td>0.000000</td>\n",
              "      <td>0.000000</td>\n",
              "      <td>0.0</td>\n",
              "      <td>0.0</td>\n",
              "      <td>0.0</td>\n",
              "      <td>0.0</td>\n",
              "      <td>0.000000e+00</td>\n",
              "      <td>666666.666667</td>\n",
              "      <td>3.0</td>\n",
              "      <td>0.000000e+00</td>\n",
              "      <td>3.0</td>\n",
              "      <td>3.0</td>\n",
              "      <td>3.0</td>\n",
              "      <td>3.000000e+00</td>\n",
              "      <td>0.000000e+00</td>\n",
              "      <td>3.0</td>\n",
              "      <td>3.0</td>\n",
              "      <td>0.0</td>\n",
              "      <td>0.0</td>\n",
              "      <td>0.00000</td>\n",
              "      <td>0.0</td>\n",
              "      <td>0.0</td>\n",
              "      <td>0.0</td>\n",
              "      <td>0.0</td>\n",
              "      <td>0.0</td>\n",
              "      <td>0.0</td>\n",
              "      <td>64.0</td>\n",
              "      <td>0.0</td>\n",
              "      <td>666666.666667</td>\n",
              "      <td>0.000000</td>\n",
              "      <td>0.0</td>\n",
              "      <td>0.0</td>\n",
              "      <td>0.000000</td>\n",
              "      <td>0.000000</td>\n",
              "      <td>0.000000</td>\n",
              "      <td>0.0</td>\n",
              "      <td>0.0</td>\n",
              "      <td>0.0</td>\n",
              "      <td>0.0</td>\n",
              "      <td>1.0</td>\n",
              "      <td>0.0</td>\n",
              "      <td>0.0</td>\n",
              "      <td>0.0</td>\n",
              "      <td>0.0</td>\n",
              "      <td>0.000000</td>\n",
              "      <td>0.000000</td>\n",
              "      <td>0.0</td>\n",
              "      <td>64.0</td>\n",
              "      <td>0.0</td>\n",
              "      <td>0.0</td>\n",
              "      <td>0.0</td>\n",
              "      <td>0.0</td>\n",
              "      <td>0.0</td>\n",
              "      <td>0.0</td>\n",
              "      <td>2.0</td>\n",
              "      <td>0.0</td>\n",
              "      <td>0.0</td>\n",
              "      <td>0.0</td>\n",
              "      <td>357.0</td>\n",
              "      <td>-1.0</td>\n",
              "      <td>0.0</td>\n",
              "      <td>32.0</td>\n",
              "      <td>0.0</td>\n",
              "      <td>0.0</td>\n",
              "      <td>0.0</td>\n",
              "      <td>0.0</td>\n",
              "      <td>0.0</td>\n",
              "      <td>0.0</td>\n",
              "      <td>0.0</td>\n",
              "      <td>0.0</td>\n",
              "      <td>BENIGN</td>\n",
              "    </tr>\n",
              "    <tr>\n",
              "      <th>106492</th>\n",
              "      <th>192.168.10.8-23.208.79.206-52235-443-6</th>\n",
              "      <th>192.168.10.8</th>\n",
              "      <th>52235.0</th>\n",
              "      <th>23.208.79.206</th>\n",
              "      <th>443.0</th>\n",
              "      <th>6.0</th>\n",
              "      <th>4/7/2017 11:46</th>\n",
              "      <th>5007496.0</th>\n",
              "      <th>7.0</th>\n",
              "      <th>4.0</th>\n",
              "      <th>1679.0</th>\n",
              "      <th>152.0</th>\n",
              "      <th>1080.0</th>\n",
              "      <td>0.0</td>\n",
              "      <td>239.857143</td>\n",
              "      <td>415.237052</td>\n",
              "      <td>152.0</td>\n",
              "      <td>0.0</td>\n",
              "      <td>38.0</td>\n",
              "      <td>76.0</td>\n",
              "      <td>3.656518e+02</td>\n",
              "      <td>2.196707</td>\n",
              "      <td>500749.6</td>\n",
              "      <td>1.543257e+06</td>\n",
              "      <td>4892570.0</td>\n",
              "      <td>3.0</td>\n",
              "      <td>5007496.0</td>\n",
              "      <td>8.345827e+05</td>\n",
              "      <td>2.018795e+06</td>\n",
              "      <td>4955369.0</td>\n",
              "      <td>3.0</td>\n",
              "      <td>87090.0</td>\n",
              "      <td>29030.0</td>\n",
              "      <td>31709.63089</td>\n",
              "      <td>63179.0</td>\n",
              "      <td>515.0</td>\n",
              "      <td>0.0</td>\n",
              "      <td>0.0</td>\n",
              "      <td>0.0</td>\n",
              "      <td>0.0</td>\n",
              "      <td>152.0</td>\n",
              "      <td>92.0</td>\n",
              "      <td>1.397904</td>\n",
              "      <td>0.798802</td>\n",
              "      <td>0.0</td>\n",
              "      <td>1080.0</td>\n",
              "      <td>152.583333</td>\n",
              "      <td>327.660428</td>\n",
              "      <td>107361.356100</td>\n",
              "      <td>0.0</td>\n",
              "      <td>0.0</td>\n",
              "      <td>0.0</td>\n",
              "      <td>1.0</td>\n",
              "      <td>0.0</td>\n",
              "      <td>0.0</td>\n",
              "      <td>0.0</td>\n",
              "      <td>0.0</td>\n",
              "      <td>0.0</td>\n",
              "      <td>166.454545</td>\n",
              "      <td>239.857143</td>\n",
              "      <td>38.0</td>\n",
              "      <td>152.0</td>\n",
              "      <td>0.0</td>\n",
              "      <td>0.0</td>\n",
              "      <td>0.0</td>\n",
              "      <td>0.0</td>\n",
              "      <td>0.0</td>\n",
              "      <td>0.0</td>\n",
              "      <td>7.0</td>\n",
              "      <td>1679.0</td>\n",
              "      <td>4.0</td>\n",
              "      <td>152.0</td>\n",
              "      <td>8192.0</td>\n",
              "      <td>946.0</td>\n",
              "      <td>4.0</td>\n",
              "      <td>20.0</td>\n",
              "      <td>0.0</td>\n",
              "      <td>0.0</td>\n",
              "      <td>0.0</td>\n",
              "      <td>0.0</td>\n",
              "      <td>0.0</td>\n",
              "      <td>0.0</td>\n",
              "      <td>0.0</td>\n",
              "      <td>0.0</td>\n",
              "      <td>BENIGN</td>\n",
              "    </tr>\n",
              "    <tr>\n",
              "      <th>63559</th>\n",
              "      <th>192.168.10.14-52.84.30.203-59835-80-6</th>\n",
              "      <th>52.84.30.203</th>\n",
              "      <th>80.0</th>\n",
              "      <th>192.168.10.14</th>\n",
              "      <th>59835.0</th>\n",
              "      <th>6.0</th>\n",
              "      <th>6/7/2017 10:04</th>\n",
              "      <th>4.0</th>\n",
              "      <th>1.0</th>\n",
              "      <th>1.0</th>\n",
              "      <th>6.0</th>\n",
              "      <th>6.0</th>\n",
              "      <th>6.0</th>\n",
              "      <td>6.0</td>\n",
              "      <td>6.000000</td>\n",
              "      <td>0.000000</td>\n",
              "      <td>6.0</td>\n",
              "      <td>6.0</td>\n",
              "      <td>6.0</td>\n",
              "      <td>0.0</td>\n",
              "      <td>3.000000e+06</td>\n",
              "      <td>500000.000000</td>\n",
              "      <td>4.0</td>\n",
              "      <td>0.000000e+00</td>\n",
              "      <td>4.0</td>\n",
              "      <td>4.0</td>\n",
              "      <td>0.0</td>\n",
              "      <td>0.000000e+00</td>\n",
              "      <td>0.000000e+00</td>\n",
              "      <td>0.0</td>\n",
              "      <td>0.0</td>\n",
              "      <td>0.0</td>\n",
              "      <td>0.0</td>\n",
              "      <td>0.00000</td>\n",
              "      <td>0.0</td>\n",
              "      <td>0.0</td>\n",
              "      <td>0.0</td>\n",
              "      <td>0.0</td>\n",
              "      <td>0.0</td>\n",
              "      <td>0.0</td>\n",
              "      <td>20.0</td>\n",
              "      <td>20.0</td>\n",
              "      <td>250000.000000</td>\n",
              "      <td>250000.000000</td>\n",
              "      <td>6.0</td>\n",
              "      <td>6.0</td>\n",
              "      <td>6.000000</td>\n",
              "      <td>0.000000</td>\n",
              "      <td>0.000000</td>\n",
              "      <td>0.0</td>\n",
              "      <td>0.0</td>\n",
              "      <td>0.0</td>\n",
              "      <td>0.0</td>\n",
              "      <td>1.0</td>\n",
              "      <td>1.0</td>\n",
              "      <td>0.0</td>\n",
              "      <td>0.0</td>\n",
              "      <td>1.0</td>\n",
              "      <td>9.000000</td>\n",
              "      <td>6.000000</td>\n",
              "      <td>6.0</td>\n",
              "      <td>20.0</td>\n",
              "      <td>0.0</td>\n",
              "      <td>0.0</td>\n",
              "      <td>0.0</td>\n",
              "      <td>0.0</td>\n",
              "      <td>0.0</td>\n",
              "      <td>0.0</td>\n",
              "      <td>1.0</td>\n",
              "      <td>6.0</td>\n",
              "      <td>1.0</td>\n",
              "      <td>6.0</td>\n",
              "      <td>115.0</td>\n",
              "      <td>256.0</td>\n",
              "      <td>0.0</td>\n",
              "      <td>20.0</td>\n",
              "      <td>0.0</td>\n",
              "      <td>0.0</td>\n",
              "      <td>0.0</td>\n",
              "      <td>0.0</td>\n",
              "      <td>0.0</td>\n",
              "      <td>0.0</td>\n",
              "      <td>0.0</td>\n",
              "      <td>0.0</td>\n",
              "      <td>BENIGN</td>\n",
              "    </tr>\n",
              "  </tbody>\n",
              "</table>\n",
              "</div>"
            ],
            "text/plain": [
              "                                                                                                                                                           Source Port  ...             Label\n",
              "5141   172.16.0.1-192.168.10.50-50294-80-6     172.16.0.1    50294.0 192.168.10.50 80.0    6.0 5/7/2017 10:33      63101744.0 7.0 0.0 0.0    0.0   0.0             0.0  ...  DoS Slowhttptest\n",
              "40963  172.16.0.1-192.168.10.50-37796-1199-6   172.16.0.1    37796.0 192.168.10.50 1199.0  6.0 7/7/2017 2:52       62.0       1.0 1.0 2.0    6.0   2.0             2.0  ...          PortScan\n",
              "27718  172.217.6.200-192.168.10.12-443-42634-6 172.217.6.200 443.0   192.168.10.12 42634.0 6.0 03/07/2017 09:49:12 3.0        2.0 0.0 0.0    0.0   0.0             0.0  ...            BENIGN\n",
              "106492 192.168.10.8-23.208.79.206-52235-443-6  192.168.10.8  52235.0 23.208.79.206 443.0   6.0 4/7/2017 11:46      5007496.0  7.0 4.0 1679.0 152.0 1080.0          0.0  ...            BENIGN\n",
              "63559  192.168.10.14-52.84.30.203-59835-80-6   52.84.30.203  80.0    192.168.10.14 59835.0 6.0 6/7/2017 10:04      4.0        1.0 1.0 6.0    6.0   6.0             6.0  ...            BENIGN\n",
              "\n",
              "[5 rows x 72 columns]"
            ]
          },
          "metadata": {
            "tags": []
          },
          "execution_count": 106
        }
      ]
    },
    {
      "cell_type": "code",
      "metadata": {
        "colab": {
          "base_uri": "https://localhost:8080/"
        },
        "id": "sI8vjptcj3v6",
        "outputId": "71ff383c-99ce-4b6e-85d8-6716b5bf9273"
      },
      "source": [
        "df_test = pd.read_csv('/content/drive/My Drive/CICIDS2017/test_set.csv',names=col_important, skiprows=1) \r\n",
        "print('Test set size: ', df_test.shape)\r\n",
        "\r\n",
        "df_val = pd.read_csv('/content/drive/My Drive/CICIDS2017/crossval_set.csv',names=col_important, skiprows=1) \r\n",
        "print('Validation set size: ', df_val.shape)"
      ],
      "execution_count": null,
      "outputs": [
        {
          "output_type": "stream",
          "text": [
            "Test set size:  (278270, 72)\n",
            "Validation set size:  (278270, 72)\n"
          ],
          "name": "stdout"
        }
      ]
    },
    {
      "cell_type": "markdown",
      "metadata": {
        "id": "zlaM8WG1kV9A"
      },
      "source": [
        "Repeat most of above steps:"
      ]
    },
    {
      "cell_type": "code",
      "metadata": {
        "id": "fHRD1ZAWkCHA"
      },
      "source": [
        "df_label = df_train['Label']\r\n",
        "data = df_train.drop(columns=['Label'])\r\n",
        "X_train = data.values\r\n",
        "y_train = encode_label(df_label.values)"
      ],
      "execution_count": null,
      "outputs": []
    },
    {
      "cell_type": "markdown",
      "metadata": {
        "id": "15nlE1VfkmCP"
      },
      "source": [
        "Go back and restart from step 2.2"
      ]
    },
    {
      "cell_type": "markdown",
      "metadata": {
        "id": "JkEjVIpUUGwY"
      },
      "source": [
        "unfortrunately, the feature importance does not improve the accuracy."
      ]
    }
  ]
}