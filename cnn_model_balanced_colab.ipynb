{
  "nbformat": 4,
  "nbformat_minor": 0,
  "metadata": {
    "kernelspec": {
      "display_name": "Python 3",
      "language": "python",
      "name": "python3"
    },
    "language_info": {
      "codemirror_mode": {
        "name": "ipython",
        "version": 3
      },
      "file_extension": ".py",
      "mimetype": "text/x-python",
      "name": "python",
      "nbconvert_exporter": "python",
      "pygments_lexer": "ipython3",
      "version": "3.7.4"
    },
    "colab": {
      "name": "cnn_model-balanced-colab.ipynb",
      "provenance": [],
      "collapsed_sections": [],
      "include_colab_link": true
    },
    "accelerator": "GPU"
  },
  "cells": [
    {
      "cell_type": "markdown",
      "metadata": {
        "id": "view-in-github",
        "colab_type": "text"
      },
      "source": [
        "<a href=\"https://colab.research.google.com/github/fwangliberty/AIoTDesign-Frontend/blob/master/cnn_model_balanced_colab.ipynb\" target=\"_parent\"><img src=\"https://colab.research.google.com/assets/colab-badge.svg\" alt=\"Open In Colab\"/></a>"
      ]
    },
    {
      "cell_type": "markdown",
      "metadata": {
        "id": "UHrlHCYsVhVI"
      },
      "source": [
        "# Intrusion Detection based on CICIDS 2017 Data Set (2)"
      ]
    },
    {
      "cell_type": "markdown",
      "metadata": {
        "id": "lOM-A--9VhVS"
      },
      "source": [
        "We use the pre-processing dataset from mlp4nids (Multi-layer perceptron for network intrusion detection). https://github.com/ArnaudRosay/mlp4nids. Use another colab script to conver parquet files to csv files. "
      ]
    },
    {
      "cell_type": "code",
      "metadata": {
        "id": "FTe0kED3VhVT"
      },
      "source": [
        "import os\n",
        "from os.path import join\n",
        "import glob\n",
        "import pandas as pd\n",
        "import numpy as np\n",
        "import time\n",
        "import seaborn as sns\n",
        "import matplotlib.pyplot as plt\n",
        "%load_ext autoreload"
      ],
      "execution_count": 1,
      "outputs": []
    },
    {
      "cell_type": "code",
      "metadata": {
        "id": "-iI9jwuFVhVV"
      },
      "source": [
        "def display_all(df):\n",
        "    with pd.option_context(\"display.max_rows\", 100, \"display.max_columns\", 100): \n",
        "        print(df)"
      ],
      "execution_count": 2,
      "outputs": []
    },
    {
      "cell_type": "code",
      "metadata": {
        "id": "xZFOb0S1VhVV"
      },
      "source": [
        "def make_value2index(attacks):\n",
        "    #make dictionary\n",
        "    attacks = sorted(attacks)\n",
        "    d = {}\n",
        "    counter=0\n",
        "    for attack in attacks:\n",
        "        d[attack] = counter\n",
        "        counter+=1\n",
        "    return d"
      ],
      "execution_count": 3,
      "outputs": []
    },
    {
      "cell_type": "code",
      "metadata": {
        "id": "hhLnsYxeVhVW"
      },
      "source": [
        "# chganges label from string to integer/index\n",
        "def encode_label(Y_str):\n",
        "    labels_d = make_value2index(np.unique(Y_str))\n",
        "    Y = [labels_d[y_str] for y_str  in Y_str]\n",
        "    Y = np.array(Y)\n",
        "    return np.array(Y)"
      ],
      "execution_count": 4,
      "outputs": []
    },
    {
      "cell_type": "markdown",
      "metadata": {
        "id": "32nfwRGiVhVW"
      },
      "source": [
        "## Step 1. Loading csv files"
      ]
    },
    {
      "cell_type": "markdown",
      "metadata": {
        "id": "Dt7z9tDHVxkD"
      },
      "source": [
        "Connect to Google Drive"
      ]
    },
    {
      "cell_type": "code",
      "metadata": {
        "colab": {
          "base_uri": "https://localhost:8080/"
        },
        "id": "ATXKRQN5VwRk",
        "outputId": "9017e916-5e6a-4520-8ecb-b57b1a178b7e"
      },
      "source": [
        "from google.colab import drive\r\n",
        "drive.mount('/content/drive')"
      ],
      "execution_count": 5,
      "outputs": [
        {
          "output_type": "stream",
          "text": [
            "Mounted at /content/drive\n"
          ],
          "name": "stdout"
        }
      ]
    },
    {
      "cell_type": "code",
      "metadata": {
        "id": "ASr9N_gQVhVW"
      },
      "source": [
        "# All columns\n",
        "col_names = np.array(['Source Port', 'Destination Port',\n",
        "                      'Protocol', 'Flow Duration', 'Total Fwd Packets', 'Total Backward Packets', 'Total Length of Fwd Packets',\n",
        "                      'Total Length of Bwd Packets', 'Fwd Packet Length Max', 'Fwd Packet Length Min', 'Fwd Packet Length Mean',\n",
        "                      'Fwd Packet Length Std', 'Bwd Packet Length Max', 'Bwd Packet Length Min', 'Bwd Packet Length Mean', 'Bwd Packet Length Std',\n",
        "                      'Flow Bytes/s', 'Flow Packets/s', 'Flow IAT Mean', 'Flow IAT Std', 'Flow IAT Max', 'Flow IAT Min', 'Fwd IAT Total',\n",
        "                      'Fwd IAT Mean', 'Fwd IAT Std', 'Fwd IAT Max', 'Fwd IAT Min', 'Bwd IAT Total', 'Bwd IAT Mean', 'Bwd IAT Std', 'Bwd IAT Max',\n",
        "                      'Bwd IAT Min', 'Fwd PSH Flags', 'Fwd URG Flags', 'Fwd Header Length', 'Bwd Header Length',\n",
        "                      'Fwd Packets/s', 'Bwd Packets/s', 'Min Packet Length', 'Max Packet Length', 'Packet Length Mean', 'Packet Length Std',\n",
        "                      'Packet Length Variance', 'FIN Flag Count', 'SYN Flag Count', 'RST Flag Count', 'PSH Flag Count', 'ACK Flag Count',\n",
        "                      'URG Flag Count', 'CWE Flag Count', 'ECE Flag Count', 'Down/Up Ratio', 'Average Packet Size', 'Avg Fwd Segment Size',\n",
        "                      'Avg Bwd Segment Size','Subflow Fwd Packets', 'Subflow Fwd Bytes',\n",
        "                      'Subflow Bwd Packets', 'Subflow Bwd Bytes', 'Init_Win_bytes_forward', 'Init_Win_bytes_backward',\n",
        "                      'act_data_pkt_fwd', 'min_seg_size_forward', 'Active Mean', 'Active Std', 'Active Max', 'Active Min', 'Idle Mean',\n",
        "                      'Idle Std', 'Idle Max', 'Idle Min', 'Label'])"
      ],
      "execution_count": 6,
      "outputs": []
    },
    {
      "cell_type": "code",
      "metadata": {
        "id": "uILOayLZVhVY"
      },
      "source": [
        "# load three csv files generated by mlp4nids (Multi-layer perceptron for network intrusion detection )\n",
        "# first load the train set\n",
        "df_train = pd.read_csv('/content/drive/My Drive/CICIDS2017/train_set.csv',names=col_names, skiprows=1)  "
      ],
      "execution_count": 7,
      "outputs": []
    },
    {
      "cell_type": "code",
      "metadata": {
        "scrolled": false,
        "colab": {
          "base_uri": "https://localhost:8080/"
        },
        "id": "BRPkCsdlVhVZ",
        "outputId": "b6e9a049-f4c6-4788-ef67-fceb6a0b120f"
      },
      "source": [
        "# Here we can see the number of rows and columns for each table.\n",
        "print(df_train.shape)"
      ],
      "execution_count": 8,
      "outputs": [
        {
          "output_type": "stream",
          "text": [
            "(556548, 72)\n"
          ],
          "name": "stdout"
        }
      ]
    },
    {
      "cell_type": "markdown",
      "metadata": {
        "id": "ICny2va3VhVb"
      },
      "source": [
        "Count the number of attacks"
      ]
    },
    {
      "cell_type": "code",
      "metadata": {
        "scrolled": true,
        "colab": {
          "base_uri": "https://localhost:8080/"
        },
        "id": "0Yanv7FqVhVb",
        "outputId": "d031f284-254a-4c8f-cce1-6607684a7af4"
      },
      "source": [
        "df_train['Label'].value_counts()"
      ],
      "execution_count": 9,
      "outputs": [
        {
          "output_type": "execute_result",
          "data": {
            "text/plain": [
              "BENIGN                        278274\n",
              "DoS Hulk                      115062\n",
              "PortScan                       79402\n",
              "DDoS                           64012\n",
              "DoS GoldenEye                   5146\n",
              "FTP-Patator                     3967\n",
              "SSH-Patator                     2948\n",
              "DoS slowloris                   2898\n",
              "DoS Slowhttptest                2749\n",
              "Bot                              978\n",
              "Web Attack  Brute Force         753\n",
              "Web Attack  XSS                 326\n",
              "Infiltration                      18\n",
              "Web Attack  Sql Injection        10\n",
              "Heartbleed                         5\n",
              "Name: Label, dtype: int64"
            ]
          },
          "metadata": {
            "tags": []
          },
          "execution_count": 9
        }
      ]
    },
    {
      "cell_type": "markdown",
      "metadata": {
        "id": "_v-dyNq5VhVc"
      },
      "source": [
        "Read test and validation sets"
      ]
    },
    {
      "cell_type": "code",
      "metadata": {
        "colab": {
          "base_uri": "https://localhost:8080/"
        },
        "id": "wBfNHRNJVhVd",
        "outputId": "4ea93b30-6894-4a57-cf2e-5f74c50d2370"
      },
      "source": [
        "df_test = pd.read_csv('/content/drive/My Drive/CICIDS2017/test_set.csv',names=col_names, skiprows=1)  \n",
        "print('Test set size: ', df_test.shape)\n",
        "\n",
        "df_val = pd.read_csv('/content/drive/My Drive/CICIDS2017/crossval_set.csv',names=col_names, skiprows=1)  \n",
        "print('Validation set size: ', df_val.shape)"
      ],
      "execution_count": 10,
      "outputs": [
        {
          "output_type": "stream",
          "text": [
            "Test set size:  (278270, 72)\n",
            "Validation set size:  (278270, 72)\n"
          ],
          "name": "stdout"
        }
      ]
    },
    {
      "cell_type": "markdown",
      "metadata": {
        "id": "T1_j8CVGVhVe"
      },
      "source": [
        "Distribution of different attack cases"
      ]
    },
    {
      "cell_type": "code",
      "metadata": {
        "colab": {
          "base_uri": "https://localhost:8080/"
        },
        "id": "gTVt_7VXVhVe",
        "outputId": "125abf80-6883-4cf2-f7e0-c9eba73a8304"
      },
      "source": [
        "print('Test set: ')\n",
        "df_test['Label'].value_counts()"
      ],
      "execution_count": 11,
      "outputs": [
        {
          "output_type": "stream",
          "text": [
            "Test set: \n"
          ],
          "name": "stdout"
        },
        {
          "output_type": "execute_result",
          "data": {
            "text/plain": [
              "BENIGN                        139135\n",
              "DoS Hulk                       57531\n",
              "PortScan                       39701\n",
              "DDoS                           32006\n",
              "DoS GoldenEye                   2573\n",
              "FTP-Patator                     1983\n",
              "SSH-Patator                     1474\n",
              "DoS slowloris                   1449\n",
              "DoS Slowhttptest                1374\n",
              "Bot                              489\n",
              "Web Attack  Brute Force         376\n",
              "Web Attack  XSS                 163\n",
              "Infiltration                       9\n",
              "Web Attack  Sql Injection         5\n",
              "Heartbleed                         2\n",
              "Name: Label, dtype: int64"
            ]
          },
          "metadata": {
            "tags": []
          },
          "execution_count": 11
        }
      ]
    },
    {
      "cell_type": "code",
      "metadata": {
        "colab": {
          "base_uri": "https://localhost:8080/"
        },
        "id": "2o3LPdwDVhVe",
        "outputId": "c7899c9d-4f82-4516-99f5-f4b192c25a2a"
      },
      "source": [
        "print('Validation set: ')\n",
        "df_val['Label'].value_counts()"
      ],
      "execution_count": 12,
      "outputs": [
        {
          "output_type": "stream",
          "text": [
            "Validation set: \n"
          ],
          "name": "stdout"
        },
        {
          "output_type": "execute_result",
          "data": {
            "text/plain": [
              "BENIGN                        139135\n",
              "DoS Hulk                       57531\n",
              "PortScan                       39701\n",
              "DDoS                           32006\n",
              "DoS GoldenEye                   2573\n",
              "FTP-Patator                     1983\n",
              "SSH-Patator                     1474\n",
              "DoS slowloris                   1449\n",
              "DoS Slowhttptest                1374\n",
              "Bot                              489\n",
              "Web Attack  Brute Force         376\n",
              "Web Attack  XSS                 163\n",
              "Infiltration                       9\n",
              "Web Attack  Sql Injection         5\n",
              "Heartbleed                         2\n",
              "Name: Label, dtype: int64"
            ]
          },
          "metadata": {
            "tags": []
          },
          "execution_count": 12
        }
      ]
    },
    {
      "cell_type": "markdown",
      "metadata": {
        "id": "wC4QBhkAVhVf"
      },
      "source": [
        "## Step 2. Normalization\n",
        "\n",
        "The continuous feature values are normalized into the same feature space. This is important when using features that have different measurements, and is a general requirement of many machine learning algorithms. Therefore, the values for this dataset are also normalized using the Min-Max scaling technique, bringing them all within a range of [0,1]."
      ]
    },
    {
      "cell_type": "markdown",
      "metadata": {
        "id": "BFgZB_NfVhVf"
      },
      "source": [
        "### Step 2.1 Encoding train dataset\n",
        "Encoding the labels, and generate numpy array. Note that the label has not been encoded as one-hot coding. We will use one-hot code later. "
      ]
    },
    {
      "cell_type": "code",
      "metadata": {
        "id": "IQxKTIT9VhVg"
      },
      "source": [
        "df_label = df_train['Label']\n",
        "data = df_train.drop(columns=['Label'])\n",
        "X_train = data.values\n",
        "y_train = encode_label(df_label.values)"
      ],
      "execution_count": 13,
      "outputs": []
    },
    {
      "cell_type": "markdown",
      "metadata": {
        "id": "SieMK6-cVhVg"
      },
      "source": [
        "### Step 2.2 Normalizing train dataset"
      ]
    },
    {
      "cell_type": "code",
      "metadata": {
        "id": "IKi1kteuVhVh"
      },
      "source": [
        "from sklearn.preprocessing import MinMaxScaler"
      ],
      "execution_count": 14,
      "outputs": []
    },
    {
      "cell_type": "code",
      "metadata": {
        "scrolled": true,
        "colab": {
          "base_uri": "https://localhost:8080/"
        },
        "id": "ynaAVC63VhVh",
        "outputId": "9d3aa18e-cf2d-4809-fd68-796a73664de3"
      },
      "source": [
        "scaler = MinMaxScaler()\n",
        "X_train = scaler.fit_transform(X_train)\n",
        "X_train"
      ],
      "execution_count": 15,
      "outputs": [
        {
          "output_type": "execute_result",
          "data": {
            "text/plain": [
              "array([[0.00000000e+00, 0.00000000e+00, 0.00000000e+00, ...,\n",
              "        1.64199192e-01, 2.67500000e-01, 6.67991250e-02],\n",
              "       [8.60215054e-04, 3.36651758e-04, 0.00000000e+00, ...,\n",
              "        0.00000000e+00, 0.00000000e+00, 0.00000000e+00],\n",
              "       [0.00000000e+00, 0.00000000e+00, 0.00000000e+00, ...,\n",
              "        0.00000000e+00, 0.00000000e+00, 0.00000000e+00],\n",
              "       ...,\n",
              "       [0.00000000e+00, 6.98552397e-03, 1.61354247e-02, ...,\n",
              "        0.00000000e+00, 6.92500000e-01, 6.92500000e-01],\n",
              "       [0.00000000e+00, 3.19819170e-03, 2.81067803e-03, ...,\n",
              "        9.18180611e-05, 2.06666667e-01, 2.06666667e-01],\n",
              "       [0.00000000e+00, 4.59155592e-02, 5.83030421e-02, ...,\n",
              "        0.00000000e+00, 0.00000000e+00, 0.00000000e+00]])"
            ]
          },
          "metadata": {
            "tags": []
          },
          "execution_count": 15
        }
      ]
    },
    {
      "cell_type": "markdown",
      "metadata": {
        "id": "mcAOekqBVhVh"
      },
      "source": [
        "### Step 2.3. Encoding test dataset"
      ]
    },
    {
      "cell_type": "code",
      "metadata": {
        "scrolled": true,
        "id": "FHh3Xfs6VhVi"
      },
      "source": [
        "df_label = df_test['Label']\n",
        "data = df_test.drop(columns=['Label'])\n",
        "X_test = data.values\n",
        "y_test = encode_label(df_label.values)"
      ],
      "execution_count": 16,
      "outputs": []
    },
    {
      "cell_type": "markdown",
      "metadata": {
        "id": "R_K42JmRVhVi"
      },
      "source": [
        "### Step 2.4. Normalizing test dataset"
      ]
    },
    {
      "cell_type": "code",
      "metadata": {
        "colab": {
          "base_uri": "https://localhost:8080/"
        },
        "id": "6FhdSoOHVhVj",
        "outputId": "b73650c2-6cf7-456f-92f9-47055c701a9e"
      },
      "source": [
        "scaler = MinMaxScaler()\n",
        "X_test = scaler.fit_transform(X_test)\n",
        "X_test"
      ],
      "execution_count": 17,
      "outputs": [
        {
          "output_type": "execute_result",
          "data": {
            "text/plain": [
              "array([[0.00000000e+00, 1.88574865e-02, 3.72734867e-02, ...,\n",
              "        0.00000000e+00, 0.00000000e+00, 0.00000000e+00],\n",
              "       [2.61501211e-02, 9.09200241e-03, 0.00000000e+00, ...,\n",
              "        0.00000000e+00, 0.00000000e+00, 0.00000000e+00],\n",
              "       [1.79176755e-02, 6.22970535e-03, 0.00000000e+00, ...,\n",
              "        0.00000000e+00, 0.00000000e+00, 0.00000000e+00],\n",
              "       ...,\n",
              "       [1.45278450e-02, 5.05111245e-03, 0.00000000e+00, ...,\n",
              "        0.00000000e+00, 0.00000000e+00, 0.00000000e+00],\n",
              "       [0.00000000e+00, 5.40889958e-03, 1.83091266e-02, ...,\n",
              "        8.72072356e-05, 8.33333333e-02, 8.32840583e-02],\n",
              "       [0.00000000e+00, 6.50330728e-03, 1.88504848e-02, ...,\n",
              "        0.00000000e+00, 8.22500000e-01, 8.22500000e-01]])"
            ]
          },
          "metadata": {
            "tags": []
          },
          "execution_count": 17
        }
      ]
    },
    {
      "cell_type": "markdown",
      "metadata": {
        "id": "TO6uaTIJVhVj"
      },
      "source": [
        "### Step 2.5 Encoding validation dataset"
      ]
    },
    {
      "cell_type": "code",
      "metadata": {
        "id": "yAE5BhkAVhVk"
      },
      "source": [
        "df_label = df_val['Label']\n",
        "data = df_val.drop(columns=['Label'])\n",
        "X_val = data.values\n",
        "y_val = encode_label(df_label.values)"
      ],
      "execution_count": 18,
      "outputs": []
    },
    {
      "cell_type": "markdown",
      "metadata": {
        "id": "8QqGf7AViJ9J"
      },
      "source": [
        "### Step 2.6. Normalizing validation dataset"
      ]
    },
    {
      "cell_type": "code",
      "metadata": {
        "colab": {
          "base_uri": "https://localhost:8080/"
        },
        "id": "_6siB3IBiHLz",
        "outputId": "8b513596-fc34-4dbf-be46-667f7caaf1db"
      },
      "source": [
        "scaler = MinMaxScaler()\r\n",
        "X_val = scaler.fit_transform(X_val)\r\n",
        "X_val"
      ],
      "execution_count": 19,
      "outputs": [
        {
          "output_type": "execute_result",
          "data": {
            "text/plain": [
              "array([[0.        , 0.        , 0.        , ..., 0.        , 0.        ,\n",
              "        0.        ],\n",
              "       [0.        , 0.0234824 , 0.03596298, ..., 0.        , 0.        ,\n",
              "        0.        ],\n",
              "       [0.        , 0.00078058, 0.00059772, ..., 0.        , 0.        ,\n",
              "        0.        ],\n",
              "       ...,\n",
              "       [0.        , 0.        , 0.        , ..., 0.        , 0.        ,\n",
              "        0.        ],\n",
              "       [0.        , 0.00169125, 0.00177089, ..., 0.        , 0.        ,\n",
              "        0.        ],\n",
              "       [0.03922518, 0.01580671, 0.        , ..., 0.        , 0.        ,\n",
              "        0.        ]])"
            ]
          },
          "metadata": {
            "tags": []
          },
          "execution_count": 19
        }
      ]
    },
    {
      "cell_type": "markdown",
      "metadata": {
        "id": "gMCdGVokVhVk"
      },
      "source": [
        "## Step 3 One-hot encoding for labels"
      ]
    },
    {
      "cell_type": "markdown",
      "metadata": {
        "id": "VjZYdE6DVhVl"
      },
      "source": [
        "y_train, y_test and y_val have to be one-hot-encoded. That means they must have dimension (number_of_samples, 15), where 15 denotes number of classes."
      ]
    },
    {
      "cell_type": "code",
      "metadata": {
        "id": "sJLUjCbDVhVm"
      },
      "source": [
        "from tensorflow.keras.utils import to_categorical"
      ],
      "execution_count": 20,
      "outputs": []
    },
    {
      "cell_type": "code",
      "metadata": {
        "id": "Jm9z7MNgVhVm"
      },
      "source": [
        "y_train = to_categorical(y_train, 15)\n",
        "y_test = to_categorical(y_test, 15)\n",
        "y_val = to_categorical(y_val, 15)"
      ],
      "execution_count": 21,
      "outputs": []
    },
    {
      "cell_type": "markdown",
      "metadata": {
        "id": "uATqQNwsVhVm"
      },
      "source": [
        "## Step 4. Build the model"
      ]
    },
    {
      "cell_type": "code",
      "metadata": {
        "id": "0apHzPg8VhVn"
      },
      "source": [
        "import tensorflow as tf\n",
        "from tensorflow.keras.models import Sequential\n",
        "from tensorflow.keras.layers import Conv1D, BatchNormalization, Flatten, Dense, Activation,Dropout\n",
        "from tensorflow.keras.constraints import max_norm"
      ],
      "execution_count": 22,
      "outputs": []
    },
    {
      "cell_type": "code",
      "metadata": {
        "colab": {
          "base_uri": "https://localhost:8080/"
        },
        "id": "CnoOCpmMVhVn",
        "outputId": "afc33f1c-7839-4d98-9655-06b7b543b139"
      },
      "source": [
        "#hyper-params\n",
        "batch_size = 1024 # increasing batch size with more gpu added\n",
        "optim = tf.keras.optimizers.Adam(lr=0.001, beta_1=0.9, beta_2=0.999, epsilon=1e-8)\n",
        "\n",
        "input_dim = X_train.shape[1]\n",
        "num_class = 15                   # 15 intrusion classes, including benign traffic class\n",
        "num_epochs = 30\n",
        "learning_rates = [1e-3]\n",
        "regularizations = [1e-3]\n",
        "\n",
        "print(input_dim)\n",
        "print(num_class)"
      ],
      "execution_count": 23,
      "outputs": [
        {
          "output_type": "stream",
          "text": [
            "71\n",
            "15\n"
          ],
          "name": "stdout"
        }
      ]
    },
    {
      "cell_type": "code",
      "metadata": {
        "colab": {
          "base_uri": "https://localhost:8080/"
        },
        "id": "bLwYgMMEVhVo",
        "outputId": "8922c5ca-7463-41f4-fe02-14865a789332"
      },
      "source": [
        "#X_train_r = np.reshape(X_train, (X_train.shape[0], X_train.shape[1], 1))\n",
        "X_train_r = np.zeros((len(X_train), input_dim, 1))\n",
        "X_train_r[:, :, 0] = X_train[:, :input_dim]\n",
        "print(X_train_r.shape)"
      ],
      "execution_count": 24,
      "outputs": [
        {
          "output_type": "stream",
          "text": [
            "(556548, 71, 1)\n"
          ],
          "name": "stdout"
        }
      ]
    },
    {
      "cell_type": "code",
      "metadata": {
        "colab": {
          "base_uri": "https://localhost:8080/"
        },
        "id": "HDWet-dFVhVp",
        "outputId": "f5cacf63-b87f-41d5-e784-924738375b4b"
      },
      "source": [
        "X_test_r = np.zeros((len(X_test), input_dim, 1))\n",
        "X_test_r[:, :, 0] = X_test[:, :input_dim]\n",
        "print(X_test_r.shape)"
      ],
      "execution_count": 25,
      "outputs": [
        {
          "output_type": "stream",
          "text": [
            "(278270, 71, 1)\n"
          ],
          "name": "stdout"
        }
      ]
    },
    {
      "cell_type": "code",
      "metadata": {
        "colab": {
          "base_uri": "https://localhost:8080/"
        },
        "id": "Vzf1idPdVhVq",
        "outputId": "6b1e0a69-3560-4ba7-a3e9-48a7092a3ad0"
      },
      "source": [
        "X_val_r = np.zeros((len(X_val), input_dim, 1))\n",
        "X_val_r[:, :, 0] = X_val[:, :input_dim]\n",
        "print(X_val_r.shape)"
      ],
      "execution_count": 26,
      "outputs": [
        {
          "output_type": "stream",
          "text": [
            "(278270, 71, 1)\n"
          ],
          "name": "stdout"
        }
      ]
    },
    {
      "cell_type": "code",
      "metadata": {
        "colab": {
          "base_uri": "https://localhost:8080/"
        },
        "id": "0rBezIX_VhVr",
        "outputId": "52a7975c-15a9-4d1c-f95f-d763d56b2c87"
      },
      "source": [
        "model = Sequential()\n",
        "\n",
        "# input layer\n",
        "model.add(Conv1D(filters=64, kernel_size=3, padding='same', input_shape=(71,1)))\n",
        "model.add(BatchNormalization(axis=1))\n",
        "model.add(Activation('relu'))\n",
        "\n",
        "\n",
        "model.add(Conv1D(filters=128, kernel_size=3))\n",
        "model.add(BatchNormalization(axis=1))\n",
        "model.add(Activation('relu'))\n",
        "\n",
        "model.add(Flatten())\n",
        "model.add(Dense(100, activation='relu'))\n",
        "model.add(Dense(num_class))\n",
        "model.add(Activation('softmax'))\n",
        "\n",
        "\n",
        "model.summary()"
      ],
      "execution_count": 27,
      "outputs": [
        {
          "output_type": "stream",
          "text": [
            "Model: \"sequential\"\n",
            "_________________________________________________________________\n",
            "Layer (type)                 Output Shape              Param #   \n",
            "=================================================================\n",
            "conv1d (Conv1D)              (None, 71, 64)            256       \n",
            "_________________________________________________________________\n",
            "batch_normalization (BatchNo (None, 71, 64)            284       \n",
            "_________________________________________________________________\n",
            "activation (Activation)      (None, 71, 64)            0         \n",
            "_________________________________________________________________\n",
            "conv1d_1 (Conv1D)            (None, 69, 128)           24704     \n",
            "_________________________________________________________________\n",
            "batch_normalization_1 (Batch (None, 69, 128)           276       \n",
            "_________________________________________________________________\n",
            "activation_1 (Activation)    (None, 69, 128)           0         \n",
            "_________________________________________________________________\n",
            "flatten (Flatten)            (None, 8832)              0         \n",
            "_________________________________________________________________\n",
            "dense (Dense)                (None, 100)               883300    \n",
            "_________________________________________________________________\n",
            "dense_1 (Dense)              (None, 15)                1515      \n",
            "_________________________________________________________________\n",
            "activation_2 (Activation)    (None, 15)                0         \n",
            "=================================================================\n",
            "Total params: 910,335\n",
            "Trainable params: 910,055\n",
            "Non-trainable params: 280\n",
            "_________________________________________________________________\n"
          ],
          "name": "stdout"
        }
      ]
    },
    {
      "cell_type": "code",
      "metadata": {
        "id": "mRyLt02XVhVs"
      },
      "source": [
        "model.compile(loss='categorical_crossentropy', optimizer=optim, metrics=['accuracy']) "
      ],
      "execution_count": 28,
      "outputs": []
    },
    {
      "cell_type": "markdown",
      "metadata": {
        "id": "NDH9NG7WVhVs"
      },
      "source": [
        "## Step 5. Training the model"
      ]
    },
    {
      "cell_type": "code",
      "metadata": {
        "colab": {
          "base_uri": "https://localhost:8080/"
        },
        "id": "vp7vl70tVhVt",
        "outputId": "4d499245-bb5f-4d90-8db2-b86ccaaab780"
      },
      "source": [
        "# fit network\n",
        "model.fit(X_train_r, y_train, epochs=num_epochs, batch_size=batch_size, validation_data=(X_val_r, y_val), verbose=1)"
      ],
      "execution_count": 29,
      "outputs": [
        {
          "output_type": "stream",
          "text": [
            "Epoch 1/30\n",
            "544/544 [==============================] - 21s 24ms/step - loss: 0.3044 - accuracy: 0.9039 - val_loss: 0.1522 - val_accuracy: 0.9625\n",
            "Epoch 2/30\n",
            "544/544 [==============================] - 12s 23ms/step - loss: 0.0895 - accuracy: 0.9685 - val_loss: 0.1204 - val_accuracy: 0.9590\n",
            "Epoch 3/30\n",
            "544/544 [==============================] - 12s 23ms/step - loss: 0.0800 - accuracy: 0.9717 - val_loss: 0.1115 - val_accuracy: 0.9679\n",
            "Epoch 4/30\n",
            "544/544 [==============================] - 13s 23ms/step - loss: 0.0738 - accuracy: 0.9739 - val_loss: 0.0872 - val_accuracy: 0.9739\n",
            "Epoch 5/30\n",
            "544/544 [==============================] - 13s 23ms/step - loss: 0.0645 - accuracy: 0.9775 - val_loss: 0.1421 - val_accuracy: 0.9457\n",
            "Epoch 6/30\n",
            "544/544 [==============================] - 13s 23ms/step - loss: 0.0541 - accuracy: 0.9809 - val_loss: 0.1275 - val_accuracy: 0.9517\n",
            "Epoch 7/30\n",
            "544/544 [==============================] - 13s 23ms/step - loss: 0.0513 - accuracy: 0.9820 - val_loss: 0.0915 - val_accuracy: 0.9590\n",
            "Epoch 8/30\n",
            "544/544 [==============================] - 13s 23ms/step - loss: 0.0490 - accuracy: 0.9831 - val_loss: 0.1698 - val_accuracy: 0.9451\n",
            "Epoch 9/30\n",
            "544/544 [==============================] - 13s 23ms/step - loss: 0.0483 - accuracy: 0.9828 - val_loss: 0.3312 - val_accuracy: 0.9173\n",
            "Epoch 10/30\n",
            "544/544 [==============================] - 13s 23ms/step - loss: 0.0427 - accuracy: 0.9849 - val_loss: 0.1727 - val_accuracy: 0.9372\n",
            "Epoch 11/30\n",
            "544/544 [==============================] - 13s 23ms/step - loss: 0.0378 - accuracy: 0.9872 - val_loss: 0.1798 - val_accuracy: 0.9474\n",
            "Epoch 12/30\n",
            "544/544 [==============================] - 13s 23ms/step - loss: 0.0377 - accuracy: 0.9874 - val_loss: 0.0955 - val_accuracy: 0.9732\n",
            "Epoch 13/30\n",
            "544/544 [==============================] - 13s 23ms/step - loss: 0.0292 - accuracy: 0.9902 - val_loss: 0.1874 - val_accuracy: 0.9531\n",
            "Epoch 14/30\n",
            "544/544 [==============================] - 13s 23ms/step - loss: 0.0263 - accuracy: 0.9916 - val_loss: 0.1691 - val_accuracy: 0.9710\n",
            "Epoch 15/30\n",
            "544/544 [==============================] - 13s 23ms/step - loss: 0.0245 - accuracy: 0.9923 - val_loss: 0.2436 - val_accuracy: 0.9398\n",
            "Epoch 16/30\n",
            "544/544 [==============================] - 13s 23ms/step - loss: 0.0604 - accuracy: 0.9821 - val_loss: 0.1164 - val_accuracy: 0.9727\n",
            "Epoch 17/30\n",
            "544/544 [==============================] - 13s 23ms/step - loss: 0.0236 - accuracy: 0.9927 - val_loss: 0.1379 - val_accuracy: 0.9747\n",
            "Epoch 18/30\n",
            "544/544 [==============================] - 13s 23ms/step - loss: 0.0218 - accuracy: 0.9932 - val_loss: 0.1608 - val_accuracy: 0.9643\n",
            "Epoch 19/30\n",
            "544/544 [==============================] - 13s 23ms/step - loss: 0.0444 - accuracy: 0.9868 - val_loss: 0.1124 - val_accuracy: 0.9803\n",
            "Epoch 20/30\n",
            "544/544 [==============================] - 13s 23ms/step - loss: 0.0214 - accuracy: 0.9933 - val_loss: 0.2007 - val_accuracy: 0.9570\n",
            "Epoch 21/30\n",
            "544/544 [==============================] - 13s 23ms/step - loss: 0.0281 - accuracy: 0.9912 - val_loss: 0.0673 - val_accuracy: 0.9809\n",
            "Epoch 22/30\n",
            "544/544 [==============================] - 13s 23ms/step - loss: 0.0272 - accuracy: 0.9915 - val_loss: 0.1184 - val_accuracy: 0.9754\n",
            "Epoch 23/30\n",
            "544/544 [==============================] - 12s 23ms/step - loss: 0.0225 - accuracy: 0.9931 - val_loss: 0.1505 - val_accuracy: 0.9773\n",
            "Epoch 24/30\n",
            "544/544 [==============================] - 13s 23ms/step - loss: 0.0215 - accuracy: 0.9933 - val_loss: 0.1434 - val_accuracy: 0.9676\n",
            "Epoch 25/30\n",
            "544/544 [==============================] - 13s 23ms/step - loss: 0.0214 - accuracy: 0.9932 - val_loss: 0.1640 - val_accuracy: 0.9753\n",
            "Epoch 26/30\n",
            "544/544 [==============================] - 13s 23ms/step - loss: 0.0197 - accuracy: 0.9938 - val_loss: 0.1965 - val_accuracy: 0.9728\n",
            "Epoch 27/30\n",
            "544/544 [==============================] - 13s 23ms/step - loss: 0.0196 - accuracy: 0.9939 - val_loss: 0.2221 - val_accuracy: 0.9691\n",
            "Epoch 28/30\n",
            "544/544 [==============================] - 13s 23ms/step - loss: 0.0494 - accuracy: 0.9852 - val_loss: 0.2017 - val_accuracy: 0.9674\n",
            "Epoch 29/30\n",
            "544/544 [==============================] - 13s 23ms/step - loss: 0.0296 - accuracy: 0.9908 - val_loss: 0.1325 - val_accuracy: 0.9794\n",
            "Epoch 30/30\n",
            "544/544 [==============================] - 13s 23ms/step - loss: 0.0210 - accuracy: 0.9936 - val_loss: 0.1936 - val_accuracy: 0.9710\n"
          ],
          "name": "stdout"
        },
        {
          "output_type": "execute_result",
          "data": {
            "text/plain": [
              "<tensorflow.python.keras.callbacks.History at 0x7f529007f5f8>"
            ]
          },
          "metadata": {
            "tags": []
          },
          "execution_count": 29
        }
      ]
    },
    {
      "cell_type": "code",
      "metadata": {
        "id": "tCgwcslPVhVt"
      },
      "source": [
        "# evaluate model\n",
        "accuracy = model.evaluate(X_test_r, y_test, batch_size=batch_size, verbose=0)"
      ],
      "execution_count": 31,
      "outputs": []
    },
    {
      "cell_type": "markdown",
      "metadata": {
        "id": "idbRflOkkunA"
      },
      "source": [
        "## Step 6. Calculate Precision, Recall, and F-sore"
      ]
    },
    {
      "cell_type": "markdown",
      "metadata": {
        "id": "WihpW4LbVhVt"
      },
      "source": [
        "Classification accuracy is the total number of correct predictions divided by the total number of predictions made for a dataset. As a performance measure, accuracy is inappropriate for imbalanced classification problems. The main reason is that the overwhelming number of examples from the majority class (or classes) will overwhelm the number of examples in the minority class, meaning that even unskillful models can achieve accuracy scores of 90 percent, or 99 percent, depending on how severe the class imbalance happens to be.\r\n",
        "\r\n",
        "An alternative to using classification accuracy is to use precision and recall metrics."
      ]
    },
    {
      "cell_type": "code",
      "metadata": {
        "id": "Mg6vs3vPtRiv"
      },
      "source": [
        "# demonstration of calculating metrics for a neural network model using sklearn\r\n",
        "from sklearn.metrics import accuracy_score\r\n",
        "from sklearn.metrics import precision_score\r\n",
        "from sklearn.metrics import recall_score\r\n",
        "from sklearn.metrics import f1_score\r\n",
        "from sklearn.metrics import cohen_kappa_score\r\n",
        "from sklearn.metrics import roc_auc_score\r\n",
        "from sklearn.metrics import confusion_matrix"
      ],
      "execution_count": 32,
      "outputs": []
    },
    {
      "cell_type": "code",
      "metadata": {
        "id": "MUvtnIroziHC"
      },
      "source": [
        "df_label = df_test['Label']\r\n",
        "ytest = encode_label(df_label.values)"
      ],
      "execution_count": 43,
      "outputs": []
    },
    {
      "cell_type": "code",
      "metadata": {
        "colab": {
          "base_uri": "https://localhost:8080/"
        },
        "id": "GMMvAP93tLmz",
        "outputId": "abaaa723-b37c-48fc-e056-db9e7f2a6115"
      },
      "source": [
        "# predict probabilities for test set\r\n",
        "yhat_probs = model.predict(X_test_r, verbose=0)\r\n",
        "\r\n",
        "# predict crisp classes for test set\r\n",
        "yhat_classes = model.predict_classes(X_test_r, verbose=0)\r\n",
        "\r\n",
        "# reduce to 1d array\r\n",
        "yhat_probs = yhat_probs[:, 0]\r\n",
        "#yhat_classes = yhat_classes[:, 0]"
      ],
      "execution_count": 44,
      "outputs": [
        {
          "output_type": "stream",
          "text": [
            "/usr/local/lib/python3.6/dist-packages/tensorflow/python/keras/engine/sequential.py:450: UserWarning: `model.predict_classes()` is deprecated and will be removed after 2021-01-01. Please use instead:* `np.argmax(model.predict(x), axis=-1)`,   if your model does multi-class classification   (e.g. if it uses a `softmax` last-layer activation).* `(model.predict(x) > 0.5).astype(\"int32\")`,   if your model does binary classification   (e.g. if it uses a `sigmoid` last-layer activation).\n",
            "  warnings.warn('`model.predict_classes()` is deprecated and '\n"
          ],
          "name": "stderr"
        }
      ]
    },
    {
      "cell_type": "code",
      "metadata": {
        "colab": {
          "base_uri": "https://localhost:8080/"
        },
        "id": "UkH69KHwyGTZ",
        "outputId": "c2d69666-64b7-484b-c03f-a3ee663b5626"
      },
      "source": [
        "print(yhat_probs.shape)\r\n",
        "print(ytest.shape)"
      ],
      "execution_count": 45,
      "outputs": [
        {
          "output_type": "stream",
          "text": [
            "(278270,)\n",
            "(278270,)\n"
          ],
          "name": "stdout"
        }
      ]
    },
    {
      "cell_type": "markdown",
      "metadata": {
        "id": "tId99uaYto6f"
      },
      "source": [
        "**Accuracy**"
      ]
    },
    {
      "cell_type": "code",
      "metadata": {
        "colab": {
          "base_uri": "https://localhost:8080/"
        },
        "id": "jVqd5_BAtoMn",
        "outputId": "170d2891-ed19-402b-bbb9-3dbb2cb5e0f0"
      },
      "source": [
        "# accuracy: (tp + tn) / (p + n)\r\n",
        "accuracy = accuracy_score(ytest, yhat_classes)\r\n",
        "print('Accuracy: %f' % accuracy)"
      ],
      "execution_count": 46,
      "outputs": [
        {
          "output_type": "stream",
          "text": [
            "Accuracy: 0.983275\n"
          ],
          "name": "stdout"
        }
      ]
    },
    {
      "cell_type": "markdown",
      "metadata": {
        "id": "CTm8k-rokOeq"
      },
      "source": [
        "**Precision**"
      ]
    },
    {
      "cell_type": "markdown",
      "metadata": {
        "id": "fPV7hHbBpO6C"
      },
      "source": [
        "Precision calculates the accuracy for the minority class. It is calculated as the ratio of correctly predicted positive examples divided by the total number of positive examples that were predicted."
      ]
    },
    {
      "cell_type": "code",
      "metadata": {
        "colab": {
          "base_uri": "https://localhost:8080/"
        },
        "id": "U6mMkUVzn_Hs",
        "outputId": "3e4a09c2-d191-47b6-cb9e-e28e38bd5f2d"
      },
      "source": [
        "# precision tp / (tp + fp)\r\n",
        "precision = precision_score(ytest, yhat_classes, labels=[1,2], average='micro')\r\n",
        "# labels is a list of all possible class labels\r\n",
        "print('Precision: %f' % precision)"
      ],
      "execution_count": 48,
      "outputs": [
        {
          "output_type": "stream",
          "text": [
            "Precision: 0.999532\n"
          ],
          "name": "stdout"
        }
      ]
    },
    {
      "cell_type": "markdown",
      "metadata": {
        "id": "YknKgTY4iyBK"
      },
      "source": [
        "**Recall**\r\n",
        "\r\n",
        "Recall is the ratio of true positives to the ground-truth positives in the sample. Unlike Precision, Recall also considers the number of positive (minority) cases that were not classified as such."
      ]
    },
    {
      "cell_type": "code",
      "metadata": {
        "colab": {
          "base_uri": "https://localhost:8080/"
        },
        "id": "C11PO0DEjRR6",
        "outputId": "a9723d13-194a-4631-b929-92e826482bbb"
      },
      "source": [
        "# recall: tp / (tp + fn)\r\n",
        "recall = recall_score(ytest, yhat_classes, average='weighted')\r\n",
        "print('Recall: %f' % recall)"
      ],
      "execution_count": 51,
      "outputs": [
        {
          "output_type": "stream",
          "text": [
            "Recall: 0.983275\n"
          ],
          "name": "stdout"
        }
      ]
    },
    {
      "cell_type": "markdown",
      "metadata": {
        "id": "X7FcTR0endeX"
      },
      "source": [
        "**F-Score**\r\n",
        "\r\n",
        "Precision is appropriate when we are more concerned with minimizing false positives, while Recall is appropriate when the number of false negatives is more critica"
      ]
    },
    {
      "cell_type": "code",
      "metadata": {
        "colab": {
          "base_uri": "https://localhost:8080/"
        },
        "id": "PzTvXOpUuUgB",
        "outputId": "50aa320d-688f-4e96-e70b-c8b3c1cd4c90"
      },
      "source": [
        "# f1: 2 tp / (2 tp + fp + fn)\r\n",
        "f1 = f1_score(ytest, yhat_classes, average='weighted')\r\n",
        "print('F1 score: %f' % f1)"
      ],
      "execution_count": 52,
      "outputs": [
        {
          "output_type": "stream",
          "text": [
            "F1 score: 0.982347\n"
          ],
          "name": "stdout"
        }
      ]
    },
    {
      "cell_type": "code",
      "metadata": {
        "colab": {
          "base_uri": "https://localhost:8080/"
        },
        "id": "j2rk3q0k1mcj",
        "outputId": "3a58b5c9-762a-4791-87a1-b81f2985a56a"
      },
      "source": [
        "# kappa\r\n",
        "kappa = cohen_kappa_score(ytest, yhat_classes)\r\n",
        "print('Cohens kappa: %f' % kappa)\r\n",
        "\r\n",
        "# confusion matrix\r\n",
        "matrix = confusion_matrix(ytest, yhat_classes)\r\n",
        "print(matrix)"
      ],
      "execution_count": 54,
      "outputs": [
        {
          "output_type": "stream",
          "text": [
            "Cohens kappa: 0.975205\n",
            "[[136219      2      9     25    843     47      4      4      0      0\n",
            "    1981      1      0      0      0]\n",
            " [   308    181      0      0      0      0      0      0      0      0\n",
            "       0      0      0      0      0]\n",
            " [   173      0  31830      3      0      0      0      0      0      0\n",
            "       0      0      0      0      0]\n",
            " [    19      0      0   2529     22      2      0      0      0      0\n",
            "       1      0      0      0      0]\n",
            " [   106      0      0      1  57424      0      0      0      0      0\n",
            "       0      0      0      0      0]\n",
            " [    11      0      0      1      0   1355      5      0      0      0\n",
            "       0      0      2      0      0]\n",
            " [     3      0      0      0      0     14   1431      0      0      0\n",
            "       0      0      1      0      0]\n",
            " [    27      0      0      0      0      0      9   1946      0      0\n",
            "       0      0      1      0      0]\n",
            " [     0      0      0      0      0      0      0      0      2      0\n",
            "       0      0      0      0      0]\n",
            " [     3      0      0      0      0      0      0      1      0      5\n",
            "       0      0      0      0      0]\n",
            " [    18      0      4      0     19      0      0      0      0      0\n",
            "   39660      0      0      0      0]\n",
            " [   765      0      0      1      1      0      1      0      0      0\n",
            "       0    706      0      0      0]\n",
            " [    50      0      0      0      0      0      0      0      0      0\n",
            "       0      0    326      0      0]\n",
            " [     4      0      0      1      0      0      0      0      0      0\n",
            "       0      0      0      0      0]\n",
            " [     7      0      0      1      0      0      0      0      0      0\n",
            "       0      0    153      0      2]]\n"
          ],
          "name": "stdout"
        }
      ]
    }
  ]
}