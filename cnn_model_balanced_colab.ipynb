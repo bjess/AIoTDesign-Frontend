{
  "nbformat": 4,
  "nbformat_minor": 0,
  "metadata": {
    "kernelspec": {
      "display_name": "Python 3",
      "language": "python",
      "name": "python3"
    },
    "language_info": {
      "codemirror_mode": {
        "name": "ipython",
        "version": 3
      },
      "file_extension": ".py",
      "mimetype": "text/x-python",
      "name": "python",
      "nbconvert_exporter": "python",
      "pygments_lexer": "ipython3",
      "version": "3.7.4"
    },
    "colab": {
      "name": "cnn_model-balanced-colab.ipynb",
      "provenance": [],
      "collapsed_sections": [],
      "include_colab_link": true
    },
    "accelerator": "GPU"
  },
  "cells": [
    {
      "cell_type": "markdown",
      "metadata": {
        "id": "view-in-github",
        "colab_type": "text"
      },
      "source": [
        "<a href=\"https://colab.research.google.com/github/fwangliberty/AIoTDesign-Frontend/blob/master/cnn_model_balanced_colab.ipynb\" target=\"_parent\"><img src=\"https://colab.research.google.com/assets/colab-badge.svg\" alt=\"Open In Colab\"/></a>"
      ]
    },
    {
      "cell_type": "markdown",
      "metadata": {
        "id": "UHrlHCYsVhVI"
      },
      "source": [
        "# Intrusion Detection based on CICIDS 2017 Data Set (2)"
      ]
    },
    {
      "cell_type": "markdown",
      "metadata": {
        "id": "lOM-A--9VhVS"
      },
      "source": [
        "We use the pre-processing dataset from mlp4nids (Multi-layer perceptron for network intrusion detection). https://github.com/ArnaudRosay/mlp4nids. Use another colab script to conver parquet files to csv files. "
      ]
    },
    {
      "cell_type": "code",
      "metadata": {
        "id": "FTe0kED3VhVT"
      },
      "source": [
        "import os\n",
        "from os.path import join\n",
        "import glob\n",
        "import pandas as pd\n",
        "import numpy as np\n",
        "import time\n",
        "import seaborn as sns\n",
        "import matplotlib.pyplot as plt\n",
        "%load_ext autoreload"
      ],
      "execution_count": 1,
      "outputs": []
    },
    {
      "cell_type": "code",
      "metadata": {
        "id": "-iI9jwuFVhVV"
      },
      "source": [
        "def display_all(df):\n",
        "    with pd.option_context(\"display.max_rows\", 100, \"display.max_columns\", 100): \n",
        "        print(df)"
      ],
      "execution_count": 2,
      "outputs": []
    },
    {
      "cell_type": "code",
      "metadata": {
        "id": "xZFOb0S1VhVV"
      },
      "source": [
        "def make_value2index(attacks):\n",
        "    #make dictionary\n",
        "    attacks = sorted(attacks)\n",
        "    d = {}\n",
        "    counter=0\n",
        "    for attack in attacks:\n",
        "        d[attack] = counter\n",
        "        counter+=1\n",
        "    return d"
      ],
      "execution_count": 3,
      "outputs": []
    },
    {
      "cell_type": "code",
      "metadata": {
        "id": "hhLnsYxeVhVW"
      },
      "source": [
        "# chganges label from string to integer/index\n",
        "def encode_label(Y_str):\n",
        "    labels_d = make_value2index(np.unique(Y_str))\n",
        "    Y = [labels_d[y_str] for y_str  in Y_str]\n",
        "    Y = np.array(Y)\n",
        "    return np.array(Y)"
      ],
      "execution_count": 4,
      "outputs": []
    },
    {
      "cell_type": "markdown",
      "metadata": {
        "id": "32nfwRGiVhVW"
      },
      "source": [
        "## Step 1. Loading csv files"
      ]
    },
    {
      "cell_type": "markdown",
      "metadata": {
        "id": "Dt7z9tDHVxkD"
      },
      "source": [
        "Connect to Google Drive"
      ]
    },
    {
      "cell_type": "code",
      "metadata": {
        "colab": {
          "base_uri": "https://localhost:8080/"
        },
        "id": "ATXKRQN5VwRk",
        "outputId": "e86d683e-32aa-40f5-f40f-f2ade98bbb63"
      },
      "source": [
        "from google.colab import drive\r\n",
        "drive.mount('/content/drive')"
      ],
      "execution_count": 5,
      "outputs": [
        {
          "output_type": "stream",
          "text": [
            "Mounted at /content/drive\n"
          ],
          "name": "stdout"
        }
      ]
    },
    {
      "cell_type": "code",
      "metadata": {
        "id": "ASr9N_gQVhVW"
      },
      "source": [
        "# All columns\n",
        "col_names = np.array(['Source Port', 'Destination Port',\n",
        "                      'Protocol', 'Flow Duration', 'Total Fwd Packets', 'Total Backward Packets', 'Total Length of Fwd Packets',\n",
        "                      'Total Length of Bwd Packets', 'Fwd Packet Length Max', 'Fwd Packet Length Min', 'Fwd Packet Length Mean',\n",
        "                      'Fwd Packet Length Std', 'Bwd Packet Length Max', 'Bwd Packet Length Min', 'Bwd Packet Length Mean', 'Bwd Packet Length Std',\n",
        "                      'Flow Bytes/s', 'Flow Packets/s', 'Flow IAT Mean', 'Flow IAT Std', 'Flow IAT Max', 'Flow IAT Min', 'Fwd IAT Total',\n",
        "                      'Fwd IAT Mean', 'Fwd IAT Std', 'Fwd IAT Max', 'Fwd IAT Min', 'Bwd IAT Total', 'Bwd IAT Mean', 'Bwd IAT Std', 'Bwd IAT Max',\n",
        "                      'Bwd IAT Min', 'Fwd PSH Flags', 'Fwd URG Flags', 'Fwd Header Length', 'Bwd Header Length',\n",
        "                      'Fwd Packets/s', 'Bwd Packets/s', 'Min Packet Length', 'Max Packet Length', 'Packet Length Mean', 'Packet Length Std',\n",
        "                      'Packet Length Variance', 'FIN Flag Count', 'SYN Flag Count', 'RST Flag Count', 'PSH Flag Count', 'ACK Flag Count',\n",
        "                      'URG Flag Count', 'CWE Flag Count', 'ECE Flag Count', 'Down/Up Ratio', 'Average Packet Size', 'Avg Fwd Segment Size',\n",
        "                      'Avg Bwd Segment Size','Subflow Fwd Packets', 'Subflow Fwd Bytes',\n",
        "                      'Subflow Bwd Packets', 'Subflow Bwd Bytes', 'Init_Win_bytes_forward', 'Init_Win_bytes_backward',\n",
        "                      'act_data_pkt_fwd', 'min_seg_size_forward', 'Active Mean', 'Active Std', 'Active Max', 'Active Min', 'Idle Mean',\n",
        "                      'Idle Std', 'Idle Max', 'Idle Min', 'Label'])"
      ],
      "execution_count": 6,
      "outputs": []
    },
    {
      "cell_type": "code",
      "metadata": {
        "id": "uILOayLZVhVY"
      },
      "source": [
        "# load three csv files generated by mlp4nids (Multi-layer perceptron for network intrusion detection )\n",
        "# first load the train set\n",
        "df_train = pd.read_csv('/content/drive/My Drive/CICIDS2017/train_set.csv',names=col_names, skiprows=1)  "
      ],
      "execution_count": 7,
      "outputs": []
    },
    {
      "cell_type": "code",
      "metadata": {
        "scrolled": false,
        "colab": {
          "base_uri": "https://localhost:8080/"
        },
        "id": "BRPkCsdlVhVZ",
        "outputId": "4831a10d-50ad-4467-8de7-a40cc36308df"
      },
      "source": [
        "# Here we can see the number of rows and columns for each table.\n",
        "print(df_train.shape)"
      ],
      "execution_count": 8,
      "outputs": [
        {
          "output_type": "stream",
          "text": [
            "(556548, 72)\n"
          ],
          "name": "stdout"
        }
      ]
    },
    {
      "cell_type": "markdown",
      "metadata": {
        "id": "ICny2va3VhVb"
      },
      "source": [
        "Count the number of attacks"
      ]
    },
    {
      "cell_type": "code",
      "metadata": {
        "scrolled": true,
        "colab": {
          "base_uri": "https://localhost:8080/"
        },
        "id": "0Yanv7FqVhVb",
        "outputId": "50851f6c-2a87-42c9-d54a-dc8a9090abb5"
      },
      "source": [
        "df_train['Label'].value_counts()"
      ],
      "execution_count": 9,
      "outputs": [
        {
          "output_type": "execute_result",
          "data": {
            "text/plain": [
              "BENIGN                        278274\n",
              "DoS Hulk                      115062\n",
              "PortScan                       79402\n",
              "DDoS                           64012\n",
              "DoS GoldenEye                   5146\n",
              "FTP-Patator                     3967\n",
              "SSH-Patator                     2948\n",
              "DoS slowloris                   2898\n",
              "DoS Slowhttptest                2749\n",
              "Bot                              978\n",
              "Web Attack  Brute Force         753\n",
              "Web Attack  XSS                 326\n",
              "Infiltration                      18\n",
              "Web Attack  Sql Injection        10\n",
              "Heartbleed                         5\n",
              "Name: Label, dtype: int64"
            ]
          },
          "metadata": {
            "tags": []
          },
          "execution_count": 9
        }
      ]
    },
    {
      "cell_type": "markdown",
      "metadata": {
        "id": "_v-dyNq5VhVc"
      },
      "source": [
        "Read test and validation sets"
      ]
    },
    {
      "cell_type": "code",
      "metadata": {
        "colab": {
          "base_uri": "https://localhost:8080/"
        },
        "id": "wBfNHRNJVhVd",
        "outputId": "255d4dff-ed9d-4572-b6ca-ee188812b070"
      },
      "source": [
        "df_test = pd.read_csv('/content/drive/My Drive/CICIDS2017/test_set.csv',names=col_names, skiprows=1)  \n",
        "print('Test set size: ', df_test.shape)\n",
        "\n",
        "df_val = pd.read_csv('/content/drive/My Drive/CICIDS2017/crossval_set.csv',names=col_names, skiprows=1)  \n",
        "print('Validation set size: ', df_val.shape)"
      ],
      "execution_count": 8,
      "outputs": [
        {
          "output_type": "stream",
          "text": [
            "Test set size:  (278270, 72)\n",
            "Validation set size:  (278270, 72)\n"
          ],
          "name": "stdout"
        }
      ]
    },
    {
      "cell_type": "markdown",
      "metadata": {
        "id": "T1_j8CVGVhVe"
      },
      "source": [
        "Distribution of different attack cases"
      ]
    },
    {
      "cell_type": "code",
      "metadata": {
        "colab": {
          "base_uri": "https://localhost:8080/"
        },
        "id": "gTVt_7VXVhVe",
        "outputId": "4e9b03b6-27fe-4640-eba7-de96609d313f"
      },
      "source": [
        "print('Test set: ')\n",
        "df_test['Label'].value_counts()"
      ],
      "execution_count": 10,
      "outputs": [
        {
          "output_type": "stream",
          "text": [
            "Test set: \n"
          ],
          "name": "stdout"
        },
        {
          "output_type": "execute_result",
          "data": {
            "text/plain": [
              "BENIGN                        139135\n",
              "DoS Hulk                       57531\n",
              "PortScan                       39701\n",
              "DDoS                           32006\n",
              "DoS GoldenEye                   2573\n",
              "FTP-Patator                     1983\n",
              "SSH-Patator                     1474\n",
              "DoS slowloris                   1449\n",
              "DoS Slowhttptest                1374\n",
              "Bot                              489\n",
              "Web Attack  Brute Force         376\n",
              "Web Attack  XSS                 163\n",
              "Infiltration                       9\n",
              "Web Attack  Sql Injection         5\n",
              "Heartbleed                         2\n",
              "Name: Label, dtype: int64"
            ]
          },
          "metadata": {
            "tags": []
          },
          "execution_count": 10
        }
      ]
    },
    {
      "cell_type": "code",
      "metadata": {
        "colab": {
          "base_uri": "https://localhost:8080/"
        },
        "id": "2o3LPdwDVhVe",
        "outputId": "77f0ccc3-4c12-4281-aa81-52030b815e28"
      },
      "source": [
        "print('Validation set: ')\n",
        "df_val['Label'].value_counts()"
      ],
      "execution_count": 12,
      "outputs": [
        {
          "output_type": "stream",
          "text": [
            "Validation set: \n"
          ],
          "name": "stdout"
        },
        {
          "output_type": "execute_result",
          "data": {
            "text/plain": [
              "BENIGN                        139135\n",
              "DoS Hulk                       57531\n",
              "PortScan                       39701\n",
              "DDoS                           32006\n",
              "DoS GoldenEye                   2573\n",
              "FTP-Patator                     1983\n",
              "SSH-Patator                     1474\n",
              "DoS slowloris                   1449\n",
              "DoS Slowhttptest                1374\n",
              "Bot                              489\n",
              "Web Attack  Brute Force         376\n",
              "Web Attack  XSS                 163\n",
              "Infiltration                       9\n",
              "Web Attack  Sql Injection         5\n",
              "Heartbleed                         2\n",
              "Name: Label, dtype: int64"
            ]
          },
          "metadata": {
            "tags": []
          },
          "execution_count": 12
        }
      ]
    },
    {
      "cell_type": "markdown",
      "metadata": {
        "id": "wC4QBhkAVhVf"
      },
      "source": [
        "## Step 2. Normalization\n",
        "\n",
        "The continuous feature values are normalized into the same feature space. This is important when using features that have different measurements, and is a general requirement of many machine learning algorithms. Therefore, the values for this dataset are also normalized using the Min-Max scaling technique, bringing them all within a range of [0,1]."
      ]
    },
    {
      "cell_type": "markdown",
      "metadata": {
        "id": "BFgZB_NfVhVf"
      },
      "source": [
        "### Step 2.1 Encoding train dataset\n",
        "Encoding the labels, and generate numpy array. Note that the label has not been encoded as one-hot coding. We will use one-hot code later. "
      ]
    },
    {
      "cell_type": "code",
      "metadata": {
        "id": "IQxKTIT9VhVg"
      },
      "source": [
        "df_label = df_train['Label']\n",
        "data = df_train.drop(columns=['Label'])\n",
        "X_train = data.values\n",
        "y_train = encode_label(df_label.values)"
      ],
      "execution_count": 9,
      "outputs": []
    },
    {
      "cell_type": "markdown",
      "metadata": {
        "id": "SieMK6-cVhVg"
      },
      "source": [
        "### Step 2.2 Normalizing train dataset"
      ]
    },
    {
      "cell_type": "code",
      "metadata": {
        "id": "IKi1kteuVhVh"
      },
      "source": [
        "from sklearn.preprocessing import MinMaxScaler"
      ],
      "execution_count": 109,
      "outputs": []
    },
    {
      "cell_type": "code",
      "metadata": {
        "scrolled": true,
        "colab": {
          "base_uri": "https://localhost:8080/"
        },
        "id": "ynaAVC63VhVh",
        "outputId": "27762aea-6f60-4a06-91e7-a2a09b20b23d"
      },
      "source": [
        "scaler = MinMaxScaler()\n",
        "X_train = scaler.fit_transform(X_train)\n",
        "X_train"
      ],
      "execution_count": 110,
      "outputs": [
        {
          "output_type": "execute_result",
          "data": {
            "text/plain": [
              "array([[0.00000000e+00, 0.00000000e+00, 0.00000000e+00, ...,\n",
              "        1.64199192e-01, 2.67500000e-01, 6.67991250e-02],\n",
              "       [8.60215054e-04, 3.36651758e-04, 0.00000000e+00, ...,\n",
              "        0.00000000e+00, 0.00000000e+00, 0.00000000e+00],\n",
              "       [0.00000000e+00, 0.00000000e+00, 0.00000000e+00, ...,\n",
              "        0.00000000e+00, 0.00000000e+00, 0.00000000e+00],\n",
              "       ...,\n",
              "       [0.00000000e+00, 6.98552397e-03, 1.61354247e-02, ...,\n",
              "        0.00000000e+00, 6.92500000e-01, 6.92500000e-01],\n",
              "       [0.00000000e+00, 3.19819170e-03, 2.81067803e-03, ...,\n",
              "        9.18180611e-05, 2.06666667e-01, 2.06666667e-01],\n",
              "       [0.00000000e+00, 4.59155592e-02, 5.83030421e-02, ...,\n",
              "        0.00000000e+00, 0.00000000e+00, 0.00000000e+00]])"
            ]
          },
          "metadata": {
            "tags": []
          },
          "execution_count": 110
        }
      ]
    },
    {
      "cell_type": "markdown",
      "metadata": {
        "id": "mcAOekqBVhVh"
      },
      "source": [
        "### Step 2.3. Encoding test dataset"
      ]
    },
    {
      "cell_type": "code",
      "metadata": {
        "scrolled": true,
        "id": "FHh3Xfs6VhVi"
      },
      "source": [
        "dft_label = df_test['Label']\n",
        "datat = df_test.drop(columns=['Label'])\n",
        "X_test = datat.values\n",
        "y_test = encode_label(dft_label.values)"
      ],
      "execution_count": 111,
      "outputs": []
    },
    {
      "cell_type": "markdown",
      "metadata": {
        "id": "R_K42JmRVhVi"
      },
      "source": [
        "### Step 2.4. Normalizing test dataset"
      ]
    },
    {
      "cell_type": "code",
      "metadata": {
        "colab": {
          "base_uri": "https://localhost:8080/"
        },
        "id": "6FhdSoOHVhVj",
        "outputId": "fc9fa29d-6ba6-4061-a537-2f62f567e2d8"
      },
      "source": [
        "scaler = MinMaxScaler()\n",
        "X_test = scaler.fit_transform(X_test)\n",
        "X_test"
      ],
      "execution_count": 112,
      "outputs": [
        {
          "output_type": "execute_result",
          "data": {
            "text/plain": [
              "array([[0.00000000e+00, 1.88574865e-02, 3.72734867e-02, ...,\n",
              "        0.00000000e+00, 0.00000000e+00, 0.00000000e+00],\n",
              "       [2.61501211e-02, 9.09200241e-03, 0.00000000e+00, ...,\n",
              "        0.00000000e+00, 0.00000000e+00, 0.00000000e+00],\n",
              "       [1.79176755e-02, 6.22970535e-03, 0.00000000e+00, ...,\n",
              "        0.00000000e+00, 0.00000000e+00, 0.00000000e+00],\n",
              "       ...,\n",
              "       [1.45278450e-02, 5.05111245e-03, 0.00000000e+00, ...,\n",
              "        0.00000000e+00, 0.00000000e+00, 0.00000000e+00],\n",
              "       [0.00000000e+00, 5.40889958e-03, 1.83091266e-02, ...,\n",
              "        8.72072356e-05, 8.33333333e-02, 8.32840583e-02],\n",
              "       [0.00000000e+00, 6.50330728e-03, 1.88504848e-02, ...,\n",
              "        0.00000000e+00, 8.22500000e-01, 8.22500000e-01]])"
            ]
          },
          "metadata": {
            "tags": []
          },
          "execution_count": 112
        }
      ]
    },
    {
      "cell_type": "markdown",
      "metadata": {
        "id": "TO6uaTIJVhVj"
      },
      "source": [
        "### Step 2.5 Encoding validation dataset"
      ]
    },
    {
      "cell_type": "code",
      "metadata": {
        "id": "yAE5BhkAVhVk"
      },
      "source": [
        "dfv_label = df_val['Label']\n",
        "datav = df_val.drop(columns=['Label'])\n",
        "X_val = datav.values\n",
        "y_val = encode_label(dfv_label.values)"
      ],
      "execution_count": 113,
      "outputs": []
    },
    {
      "cell_type": "markdown",
      "metadata": {
        "id": "8QqGf7AViJ9J"
      },
      "source": [
        "### Step 2.6. Normalizing validation dataset"
      ]
    },
    {
      "cell_type": "code",
      "metadata": {
        "colab": {
          "base_uri": "https://localhost:8080/"
        },
        "id": "_6siB3IBiHLz",
        "outputId": "25b2bd35-eb4a-4d7d-f222-35e59aaf9cfd"
      },
      "source": [
        "scaler = MinMaxScaler()\r\n",
        "X_val = scaler.fit_transform(X_val)\r\n",
        "X_val"
      ],
      "execution_count": 114,
      "outputs": [
        {
          "output_type": "execute_result",
          "data": {
            "text/plain": [
              "array([[0.        , 0.        , 0.        , ..., 0.        , 0.        ,\n",
              "        0.        ],\n",
              "       [0.        , 0.0234824 , 0.03596298, ..., 0.        , 0.        ,\n",
              "        0.        ],\n",
              "       [0.        , 0.00078058, 0.00059772, ..., 0.        , 0.        ,\n",
              "        0.        ],\n",
              "       ...,\n",
              "       [0.        , 0.        , 0.        , ..., 0.        , 0.        ,\n",
              "        0.        ],\n",
              "       [0.        , 0.00169125, 0.00177089, ..., 0.        , 0.        ,\n",
              "        0.        ],\n",
              "       [0.03922518, 0.01580671, 0.        , ..., 0.        , 0.        ,\n",
              "        0.        ]])"
            ]
          },
          "metadata": {
            "tags": []
          },
          "execution_count": 114
        }
      ]
    },
    {
      "cell_type": "markdown",
      "metadata": {
        "id": "gMCdGVokVhVk"
      },
      "source": [
        "## Step 3 One-hot encoding for labels"
      ]
    },
    {
      "cell_type": "markdown",
      "metadata": {
        "id": "VjZYdE6DVhVl"
      },
      "source": [
        "y_train, y_test and y_val have to be one-hot-encoded. That means they must have dimension (number_of_samples, 15), where 15 denotes number of classes."
      ]
    },
    {
      "cell_type": "code",
      "metadata": {
        "id": "sJLUjCbDVhVm"
      },
      "source": [
        "from tensorflow.keras.utils import to_categorical"
      ],
      "execution_count": 115,
      "outputs": []
    },
    {
      "cell_type": "code",
      "metadata": {
        "id": "Jm9z7MNgVhVm"
      },
      "source": [
        "y_train = to_categorical(y_train, 15)\n",
        "y_test = to_categorical(y_test, 15)\n",
        "y_val = to_categorical(y_val, 15)"
      ],
      "execution_count": 116,
      "outputs": []
    },
    {
      "cell_type": "markdown",
      "metadata": {
        "id": "uATqQNwsVhVm"
      },
      "source": [
        "## Step 4. Build the model"
      ]
    },
    {
      "cell_type": "code",
      "metadata": {
        "id": "0apHzPg8VhVn"
      },
      "source": [
        "import tensorflow as tf\n",
        "from tensorflow.keras.models import Sequential\n",
        "from tensorflow.keras.layers import Conv1D, BatchNormalization, Flatten, Dense, Activation,Dropout\n",
        "from tensorflow.keras.constraints import max_norm"
      ],
      "execution_count": 24,
      "outputs": []
    },
    {
      "cell_type": "code",
      "metadata": {
        "colab": {
          "base_uri": "https://localhost:8080/"
        },
        "id": "CnoOCpmMVhVn",
        "outputId": "84e2f623-3589-4f4c-d6f2-e73fd4a284e9"
      },
      "source": [
        "#hyper-params\n",
        "batch_size = 1024 # increasing batch size with more gpu added\n",
        "input_dim = X_train.shape[1]\n",
        "num_class = 15                   # 15 intrusion classes, including benign traffic class\n",
        "num_epochs = 30\n",
        "learning_rates = 1e-3\n",
        "regularizations = 1e-3\n",
        "optim = tf.keras.optimizers.Adam(lr=learning_rates, beta_1=0.9, beta_2=0.999, epsilon=1e-8)\n",
        "\n",
        "print(input_dim)\n",
        "print(num_class)"
      ],
      "execution_count": 25,
      "outputs": [
        {
          "output_type": "stream",
          "text": [
            "71\n",
            "15\n"
          ],
          "name": "stdout"
        }
      ]
    },
    {
      "cell_type": "code",
      "metadata": {
        "colab": {
          "base_uri": "https://localhost:8080/"
        },
        "id": "bLwYgMMEVhVo",
        "outputId": "ef06f87e-1f80-49c7-d89e-486af6345ceb"
      },
      "source": [
        "#X_train_r = np.reshape(X_train, (X_train.shape[0], X_train.shape[1], 1))\n",
        "X_train_r = np.zeros((len(X_train), input_dim, 1))\n",
        "X_train_r[:, :, 0] = X_train[:, :input_dim]\n",
        "print(X_train_r.shape)"
      ],
      "execution_count": 26,
      "outputs": [
        {
          "output_type": "stream",
          "text": [
            "(556548, 71, 1)\n"
          ],
          "name": "stdout"
        }
      ]
    },
    {
      "cell_type": "code",
      "metadata": {
        "colab": {
          "base_uri": "https://localhost:8080/"
        },
        "id": "HDWet-dFVhVp",
        "outputId": "92a8d1fd-b228-4e7d-8a1a-17a60719e16e"
      },
      "source": [
        "X_test_r = np.zeros((len(X_test), input_dim, 1))\n",
        "X_test_r[:, :, 0] = X_test[:, :input_dim]\n",
        "print(X_test_r.shape)"
      ],
      "execution_count": 27,
      "outputs": [
        {
          "output_type": "stream",
          "text": [
            "(278270, 71, 1)\n"
          ],
          "name": "stdout"
        }
      ]
    },
    {
      "cell_type": "code",
      "metadata": {
        "colab": {
          "base_uri": "https://localhost:8080/"
        },
        "id": "Vzf1idPdVhVq",
        "outputId": "852fabdd-9eaf-42ce-d477-0d223834e5bf"
      },
      "source": [
        "X_val_r = np.zeros((len(X_val), input_dim, 1))\n",
        "X_val_r[:, :, 0] = X_val[:, :input_dim]\n",
        "print(X_val_r.shape)"
      ],
      "execution_count": 28,
      "outputs": [
        {
          "output_type": "stream",
          "text": [
            "(278270, 71, 1)\n"
          ],
          "name": "stdout"
        }
      ]
    },
    {
      "cell_type": "code",
      "metadata": {
        "colab": {
          "base_uri": "https://localhost:8080/"
        },
        "id": "0rBezIX_VhVr",
        "outputId": "9622c1ba-2f99-4c65-cd77-b6ca995beed9"
      },
      "source": [
        "model = Sequential()\n",
        "\n",
        "# input layer\n",
        "model.add(Conv1D(filters=64, kernel_size=3, padding='same', input_shape=(71,1)))\n",
        "model.add(BatchNormalization(axis=1))\n",
        "model.add(Activation('relu'))\n",
        "\n",
        "\n",
        "model.add(Conv1D(filters=128, kernel_size=3))\n",
        "model.add(BatchNormalization(axis=1))\n",
        "model.add(Activation('relu'))\n",
        "\n",
        "model.add(Flatten())\n",
        "model.add(Dense(100, activation='relu'))\n",
        "model.add(Dense(num_class))\n",
        "model.add(Activation('softmax'))\n",
        "\n",
        "\n",
        "model.summary()"
      ],
      "execution_count": 29,
      "outputs": [
        {
          "output_type": "stream",
          "text": [
            "Model: \"sequential\"\n",
            "_________________________________________________________________\n",
            "Layer (type)                 Output Shape              Param #   \n",
            "=================================================================\n",
            "conv1d (Conv1D)              (None, 71, 64)            256       \n",
            "_________________________________________________________________\n",
            "batch_normalization (BatchNo (None, 71, 64)            284       \n",
            "_________________________________________________________________\n",
            "activation (Activation)      (None, 71, 64)            0         \n",
            "_________________________________________________________________\n",
            "conv1d_1 (Conv1D)            (None, 69, 128)           24704     \n",
            "_________________________________________________________________\n",
            "batch_normalization_1 (Batch (None, 69, 128)           276       \n",
            "_________________________________________________________________\n",
            "activation_1 (Activation)    (None, 69, 128)           0         \n",
            "_________________________________________________________________\n",
            "flatten (Flatten)            (None, 8832)              0         \n",
            "_________________________________________________________________\n",
            "dense (Dense)                (None, 100)               883300    \n",
            "_________________________________________________________________\n",
            "dense_1 (Dense)              (None, 15)                1515      \n",
            "_________________________________________________________________\n",
            "activation_2 (Activation)    (None, 15)                0         \n",
            "=================================================================\n",
            "Total params: 910,335\n",
            "Trainable params: 910,055\n",
            "Non-trainable params: 280\n",
            "_________________________________________________________________\n"
          ],
          "name": "stdout"
        }
      ]
    },
    {
      "cell_type": "code",
      "metadata": {
        "id": "mRyLt02XVhVs"
      },
      "source": [
        "model.compile(loss='categorical_crossentropy', optimizer=optim, metrics=['accuracy']) "
      ],
      "execution_count": 30,
      "outputs": []
    },
    {
      "cell_type": "markdown",
      "metadata": {
        "id": "NDH9NG7WVhVs"
      },
      "source": [
        "## Step 5. Training the model"
      ]
    },
    {
      "cell_type": "code",
      "metadata": {
        "colab": {
          "base_uri": "https://localhost:8080/"
        },
        "id": "vp7vl70tVhVt",
        "outputId": "7b54c0c3-d1df-48e8-b36d-fde1b08d4e81"
      },
      "source": [
        "# fit network\n",
        "model.fit(X_train_r, y_train, epochs=num_epochs, batch_size=batch_size, validation_data=(X_val_r, y_val), verbose=1)"
      ],
      "execution_count": 31,
      "outputs": [
        {
          "output_type": "stream",
          "text": [
            "Epoch 1/30\n",
            "544/544 [==============================] - 15s 16ms/step - loss: 0.3761 - accuracy: 0.8867 - val_loss: 0.1968 - val_accuracy: 0.9491\n",
            "Epoch 2/30\n",
            "544/544 [==============================] - 8s 15ms/step - loss: 0.0919 - accuracy: 0.9689 - val_loss: 0.1204 - val_accuracy: 0.9620\n",
            "Epoch 3/30\n",
            "544/544 [==============================] - 8s 15ms/step - loss: 0.0805 - accuracy: 0.9719 - val_loss: 0.0859 - val_accuracy: 0.9694\n",
            "Epoch 4/30\n",
            "544/544 [==============================] - 8s 15ms/step - loss: 0.0742 - accuracy: 0.9737 - val_loss: 0.0852 - val_accuracy: 0.9736\n",
            "Epoch 5/30\n",
            "544/544 [==============================] - 8s 15ms/step - loss: 0.0644 - accuracy: 0.9777 - val_loss: 0.0692 - val_accuracy: 0.9763\n",
            "Epoch 6/30\n",
            "544/544 [==============================] - 8s 15ms/step - loss: 0.0564 - accuracy: 0.9804 - val_loss: 0.0874 - val_accuracy: 0.9649\n",
            "Epoch 7/30\n",
            "544/544 [==============================] - 8s 15ms/step - loss: 0.0541 - accuracy: 0.9814 - val_loss: 0.0664 - val_accuracy: 0.9769\n",
            "Epoch 8/30\n",
            "544/544 [==============================] - 8s 15ms/step - loss: 0.0503 - accuracy: 0.9824 - val_loss: 0.0672 - val_accuracy: 0.9773\n",
            "Epoch 9/30\n",
            "544/544 [==============================] - 8s 15ms/step - loss: 0.0467 - accuracy: 0.9834 - val_loss: 0.0684 - val_accuracy: 0.9713\n",
            "Epoch 10/30\n",
            "544/544 [==============================] - 8s 15ms/step - loss: 0.0457 - accuracy: 0.9839 - val_loss: 0.0895 - val_accuracy: 0.9656\n",
            "Epoch 11/30\n",
            "544/544 [==============================] - 8s 15ms/step - loss: 0.0407 - accuracy: 0.9856 - val_loss: 0.3497 - val_accuracy: 0.9147\n",
            "Epoch 12/30\n",
            "544/544 [==============================] - 8s 15ms/step - loss: 0.0509 - accuracy: 0.9828 - val_loss: 0.1008 - val_accuracy: 0.9777\n",
            "Epoch 13/30\n",
            "544/544 [==============================] - 8s 15ms/step - loss: 0.0319 - accuracy: 0.9892 - val_loss: 0.0942 - val_accuracy: 0.9684\n",
            "Epoch 14/30\n",
            "544/544 [==============================] - 8s 15ms/step - loss: 0.0262 - accuracy: 0.9916 - val_loss: 0.1114 - val_accuracy: 0.9705\n",
            "Epoch 15/30\n",
            "544/544 [==============================] - 8s 14ms/step - loss: 0.0381 - accuracy: 0.9886 - val_loss: 0.1274 - val_accuracy: 0.9719\n",
            "Epoch 16/30\n",
            "544/544 [==============================] - 8s 14ms/step - loss: 0.0239 - accuracy: 0.9926 - val_loss: 0.1246 - val_accuracy: 0.9728\n",
            "Epoch 17/30\n",
            "544/544 [==============================] - 8s 15ms/step - loss: 0.0215 - accuracy: 0.9934 - val_loss: 0.1059 - val_accuracy: 0.9754\n",
            "Epoch 18/30\n",
            "544/544 [==============================] - 8s 15ms/step - loss: 0.0208 - accuracy: 0.9937 - val_loss: 0.1138 - val_accuracy: 0.9749\n",
            "Epoch 19/30\n",
            "544/544 [==============================] - 8s 15ms/step - loss: 0.0218 - accuracy: 0.9932 - val_loss: 0.3139 - val_accuracy: 0.9196\n",
            "Epoch 20/30\n",
            "544/544 [==============================] - 8s 15ms/step - loss: 0.0538 - accuracy: 0.9824 - val_loss: 0.1066 - val_accuracy: 0.9722\n",
            "Epoch 21/30\n",
            "544/544 [==============================] - 8s 14ms/step - loss: 0.0222 - accuracy: 0.9933 - val_loss: 0.1211 - val_accuracy: 0.9830\n",
            "Epoch 22/30\n",
            "544/544 [==============================] - 8s 14ms/step - loss: 0.0240 - accuracy: 0.9926 - val_loss: 0.1373 - val_accuracy: 0.9696\n",
            "Epoch 23/30\n",
            "544/544 [==============================] - 8s 15ms/step - loss: 0.0233 - accuracy: 0.9929 - val_loss: 0.1285 - val_accuracy: 0.9802\n",
            "Epoch 24/30\n",
            "544/544 [==============================] - 8s 15ms/step - loss: 0.0184 - accuracy: 0.9941 - val_loss: 0.1246 - val_accuracy: 0.9767\n",
            "Epoch 25/30\n",
            "544/544 [==============================] - 8s 15ms/step - loss: 0.0191 - accuracy: 0.9940 - val_loss: 0.0839 - val_accuracy: 0.9811\n",
            "Epoch 26/30\n",
            "544/544 [==============================] - 8s 15ms/step - loss: 0.0200 - accuracy: 0.9937 - val_loss: 0.0999 - val_accuracy: 0.9814\n",
            "Epoch 27/30\n",
            "544/544 [==============================] - 8s 15ms/step - loss: 0.0270 - accuracy: 0.9918 - val_loss: 0.0751 - val_accuracy: 0.9815\n",
            "Epoch 28/30\n",
            "544/544 [==============================] - 8s 15ms/step - loss: 0.0260 - accuracy: 0.9921 - val_loss: 0.1080 - val_accuracy: 0.9841\n",
            "Epoch 29/30\n",
            "544/544 [==============================] - 8s 15ms/step - loss: 0.0189 - accuracy: 0.9941 - val_loss: 0.1156 - val_accuracy: 0.9810\n",
            "Epoch 30/30\n",
            "544/544 [==============================] - 8s 14ms/step - loss: 0.0180 - accuracy: 0.9944 - val_loss: 0.1218 - val_accuracy: 0.9809\n"
          ],
          "name": "stdout"
        },
        {
          "output_type": "execute_result",
          "data": {
            "text/plain": [
              "<tensorflow.python.keras.callbacks.History at 0x7f418027cb00>"
            ]
          },
          "metadata": {
            "tags": []
          },
          "execution_count": 31
        }
      ]
    },
    {
      "cell_type": "code",
      "metadata": {
        "id": "tCgwcslPVhVt",
        "colab": {
          "base_uri": "https://localhost:8080/"
        },
        "outputId": "41de4c10-2282-4bcb-bcb5-03b3a5c7a991"
      },
      "source": [
        "# evaluate model\n",
        "accuracy = model.evaluate(X_test_r, y_test, batch_size=batch_size, verbose=0)\n",
        "print(accuracy)"
      ],
      "execution_count": 33,
      "outputs": [
        {
          "output_type": "stream",
          "text": [
            "[0.06611747294664383, 0.9843748807907104]\n"
          ],
          "name": "stdout"
        }
      ]
    },
    {
      "cell_type": "markdown",
      "metadata": {
        "id": "N1UGo1sd3-Qo"
      },
      "source": [
        "Save the model"
      ]
    },
    {
      "cell_type": "code",
      "metadata": {
        "id": "O_rq2fiC39qY"
      },
      "source": [
        "model.save('/content/drive/My Drive/CICIDS2017/cicids2017cnn.h5')"
      ],
      "execution_count": null,
      "outputs": []
    },
    {
      "cell_type": "markdown",
      "metadata": {
        "id": "idbRflOkkunA"
      },
      "source": [
        "## Step 6. Calculate Precision, Recall, and F-sore"
      ]
    },
    {
      "cell_type": "markdown",
      "metadata": {
        "id": "WihpW4LbVhVt"
      },
      "source": [
        "Classification accuracy is the total number of correct predictions divided by the total number of predictions made for a dataset. As a performance measure, accuracy is inappropriate for imbalanced classification problems. The main reason is that the overwhelming number of examples from the majority class (or classes) will overwhelm the number of examples in the minority class, meaning that even unskillful models can achieve accuracy scores of 90 percent, or 99 percent, depending on how severe the class imbalance happens to be.\r\n",
        "\r\n",
        "An alternative to using classification accuracy is to use precision and recall metrics."
      ]
    },
    {
      "cell_type": "code",
      "metadata": {
        "id": "Mg6vs3vPtRiv"
      },
      "source": [
        "# demonstration of calculating metrics for a neural network model using sklearn\r\n",
        "from sklearn.metrics import accuracy_score\r\n",
        "from sklearn.metrics import precision_score\r\n",
        "from sklearn.metrics import recall_score\r\n",
        "from sklearn.metrics import f1_score\r\n",
        "from sklearn.metrics import cohen_kappa_score\r\n",
        "from sklearn.metrics import roc_auc_score\r\n",
        "from sklearn.metrics import confusion_matrix"
      ],
      "execution_count": 34,
      "outputs": []
    },
    {
      "cell_type": "code",
      "metadata": {
        "id": "MUvtnIroziHC"
      },
      "source": [
        "df_label = df_test['Label']\r\n",
        "ytest = encode_label(df_label.values)"
      ],
      "execution_count": 35,
      "outputs": []
    },
    {
      "cell_type": "code",
      "metadata": {
        "colab": {
          "base_uri": "https://localhost:8080/"
        },
        "id": "GMMvAP93tLmz",
        "outputId": "b620ba6f-3398-4648-f321-8688c7557d58"
      },
      "source": [
        "# predict probabilities for test set\r\n",
        "yhat_probs = model.predict(X_test_r, verbose=0)\r\n",
        "\r\n",
        "# predict crisp classes for test set\r\n",
        "yhat_classes = model.predict_classes(X_test_r, verbose=0)\r\n",
        "\r\n",
        "# reduce to 1d array\r\n",
        "yhat_probs = yhat_probs[:, 0]\r\n",
        "#yhat_classes = yhat_classes[:, 0]"
      ],
      "execution_count": 36,
      "outputs": [
        {
          "output_type": "stream",
          "text": [
            "/usr/local/lib/python3.6/dist-packages/tensorflow/python/keras/engine/sequential.py:450: UserWarning: `model.predict_classes()` is deprecated and will be removed after 2021-01-01. Please use instead:* `np.argmax(model.predict(x), axis=-1)`,   if your model does multi-class classification   (e.g. if it uses a `softmax` last-layer activation).* `(model.predict(x) > 0.5).astype(\"int32\")`,   if your model does binary classification   (e.g. if it uses a `sigmoid` last-layer activation).\n",
            "  warnings.warn('`model.predict_classes()` is deprecated and '\n"
          ],
          "name": "stderr"
        }
      ]
    },
    {
      "cell_type": "code",
      "metadata": {
        "colab": {
          "base_uri": "https://localhost:8080/"
        },
        "id": "UkH69KHwyGTZ",
        "outputId": "dcaf0c8a-474f-4d0b-fa2a-5b9a2c0cdfb8"
      },
      "source": [
        "print(yhat_probs.shape)\r\n",
        "print(ytest.shape)"
      ],
      "execution_count": 37,
      "outputs": [
        {
          "output_type": "stream",
          "text": [
            "(278270,)\n",
            "(278270,)\n"
          ],
          "name": "stdout"
        }
      ]
    },
    {
      "cell_type": "markdown",
      "metadata": {
        "id": "tId99uaYto6f"
      },
      "source": [
        "**Accuracy**"
      ]
    },
    {
      "cell_type": "code",
      "metadata": {
        "colab": {
          "base_uri": "https://localhost:8080/"
        },
        "id": "jVqd5_BAtoMn",
        "outputId": "746a2afb-e4e7-4033-d0eb-4bd88038c4cc"
      },
      "source": [
        "# accuracy: (tp + tn) / (p + n)\r\n",
        "accuracy = accuracy_score(ytest, yhat_classes)\r\n",
        "print('Accuracy: %f' % accuracy)"
      ],
      "execution_count": 38,
      "outputs": [
        {
          "output_type": "stream",
          "text": [
            "Accuracy: 0.984375\n"
          ],
          "name": "stdout"
        }
      ]
    },
    {
      "cell_type": "markdown",
      "metadata": {
        "id": "CTm8k-rokOeq"
      },
      "source": [
        "**Precision**"
      ]
    },
    {
      "cell_type": "markdown",
      "metadata": {
        "id": "fPV7hHbBpO6C"
      },
      "source": [
        "Precision calculates the accuracy for the minority class. It is calculated as the ratio of correctly predicted positive examples divided by the total number of positive examples that were predicted."
      ]
    },
    {
      "cell_type": "code",
      "metadata": {
        "colab": {
          "base_uri": "https://localhost:8080/"
        },
        "id": "U6mMkUVzn_Hs",
        "outputId": "521247fd-7b9b-4e19-d8d9-6d75774b3e5b"
      },
      "source": [
        "# precision tp / (tp + fp)\r\n",
        "precision = precision_score(ytest, yhat_classes, labels=[1,2], average='micro')\r\n",
        "# labels is a list of all possible class labels\r\n",
        "print('Precision: %f' % precision)"
      ],
      "execution_count": 39,
      "outputs": [
        {
          "output_type": "stream",
          "text": [
            "Precision: 0.997210\n"
          ],
          "name": "stdout"
        }
      ]
    },
    {
      "cell_type": "markdown",
      "metadata": {
        "id": "YknKgTY4iyBK"
      },
      "source": [
        "**Recall**\r\n",
        "\r\n",
        "Recall is the ratio of true positives to the ground-truth positives in the sample. Unlike Precision, Recall also considers the number of positive (minority) cases that were not classified as such."
      ]
    },
    {
      "cell_type": "code",
      "metadata": {
        "colab": {
          "base_uri": "https://localhost:8080/"
        },
        "id": "C11PO0DEjRR6",
        "outputId": "6ef0ae08-ddcf-48e6-e88d-d903665f2739"
      },
      "source": [
        "# recall: tp / (tp + fn)\r\n",
        "recall = recall_score(ytest, yhat_classes, average='weighted')\r\n",
        "print('Recall: %f' % recall)"
      ],
      "execution_count": 40,
      "outputs": [
        {
          "output_type": "stream",
          "text": [
            "Recall: 0.984375\n"
          ],
          "name": "stdout"
        }
      ]
    },
    {
      "cell_type": "markdown",
      "metadata": {
        "id": "X7FcTR0endeX"
      },
      "source": [
        "**F-Score**\r\n",
        "\r\n",
        "Precision is appropriate when we are more concerned with minimizing false positives, while Recall is appropriate when the number of false negatives is more critica"
      ]
    },
    {
      "cell_type": "code",
      "metadata": {
        "colab": {
          "base_uri": "https://localhost:8080/"
        },
        "id": "PzTvXOpUuUgB",
        "outputId": "31ec61d0-77e7-455e-ed15-0e55753a748e"
      },
      "source": [
        "# f1: 2 tp / (2 tp + fp + fn)\r\n",
        "f1 = f1_score(ytest, yhat_classes, average='weighted')\r\n",
        "print('F1 score: %f' % f1)"
      ],
      "execution_count": 41,
      "outputs": [
        {
          "output_type": "stream",
          "text": [
            "F1 score: 0.983610\n"
          ],
          "name": "stdout"
        }
      ]
    },
    {
      "cell_type": "code",
      "metadata": {
        "colab": {
          "base_uri": "https://localhost:8080/"
        },
        "id": "j2rk3q0k1mcj",
        "outputId": "11f710ea-0e59-4ebd-bdec-bc9522021b1e"
      },
      "source": [
        "# kappa\r\n",
        "kappa = cohen_kappa_score(ytest, yhat_classes)\r\n",
        "print('Cohens kappa: %f' % kappa)\r\n",
        "\r\n",
        "# confusion matrix\r\n",
        "matrix = confusion_matrix(ytest, yhat_classes)\r\n",
        "print(matrix)"
      ],
      "execution_count": 42,
      "outputs": [
        {
          "output_type": "stream",
          "text": [
            "Cohens kappa: 0.976714\n",
            "[[137918     69     12     26    901     39      4     36      0      0\n",
            "      90      3     37      0      0]\n",
            " [   199    290      0      0      0      0      0      0      0      0\n",
            "       0      0      0      0      0]\n",
            " [   132      0  31873      1      0      0      0      0      0      0\n",
            "       0      0      0      0      0]\n",
            " [    12      0      0   2537     22      1      1      0      0      0\n",
            "       0      0      0      0      0]\n",
            " [  1573      0      1      6  55951      0      0      0      0      0\n",
            "       0      0      0      0      0]\n",
            " [    53      0      0      1      0   1309      8      0      0      0\n",
            "       0      0      3      0      0]\n",
            " [    44      0      0      0      0     13   1391      0      0      0\n",
            "       0      0      1      0      0]\n",
            " [     4      0      0      0      0      0      2   1976      0      0\n",
            "       0      0      1      0      0]\n",
            " [     0      0      0      0      0      0      0      0      2      0\n",
            "       0      0      0      0      0]\n",
            " [     7      0      0      0      0      0      0      0      0      2\n",
            "       0      0      0      0      0]\n",
            " [    26      0      8      0     19      0      0      0      0      0\n",
            "   39648      0      0      0      0]\n",
            " [   755      0      0      0      2      0      0      0      0      0\n",
            "       0    717      0      0      0]\n",
            " [    49      0      0      0      0      0      0      0      0      0\n",
            "       0     19    308      0      0]\n",
            " [     4      0      0      1      0      0      0      0      0      0\n",
            "       0      0      0      0      0]\n",
            " [     9      0      0      1      0      0      0      0      0      0\n",
            "       0      0    153      0      0]]\n"
          ],
          "name": "stdout"
        }
      ]
    },
    {
      "cell_type": "markdown",
      "metadata": {
        "id": "e9ItA5t8Qtn7"
      },
      "source": [
        "## Step 7. Using CNN2D Model\r\n",
        "\r\n",
        "Convert each example as a 9x8 gray image."
      ]
    },
    {
      "cell_type": "markdown",
      "metadata": {
        "id": "AtyvmjYlQ_mx"
      },
      "source": [
        "Each example has 71 features. Add one additional column to have 72 features such that we can have 9x8 gray images."
      ]
    },
    {
      "cell_type": "code",
      "metadata": {
        "id": "nkApShsTRnHK"
      },
      "source": [
        "X_train_enlarge = np.append(X_train, np.zeros([len(X_train),1]),1)\r\n",
        "X_val_enlarge = np.append(X_val, np.zeros([len(X_val),1]),1)\r\n",
        "X_test_enlarge = np.append(X_test, np.zeros([len(X_test),1]),1)"
      ],
      "execution_count": 117,
      "outputs": []
    },
    {
      "cell_type": "code",
      "metadata": {
        "id": "-hdG6ulRR1u9"
      },
      "source": [
        "img_row = 9\r\n",
        "img_col = 8\r\n",
        "\r\n",
        "X_train_gray = np.array([x.reshape(img_row, img_col,1) for x in X_train_enlarge])\r\n",
        "train_gray = np.array([x.reshape(img_row, img_col) for x in X_train_enlarge])"
      ],
      "execution_count": 118,
      "outputs": []
    },
    {
      "cell_type": "code",
      "metadata": {
        "id": "F44Tnkm3Ywjd"
      },
      "source": [
        "X_test_gray = np.array([x.reshape(img_row, img_col,1) for x in X_test_enlarge])\r\n",
        "test_gray = np.array([x.reshape(img_row, img_col) for x in X_test_enlarge])"
      ],
      "execution_count": 119,
      "outputs": []
    },
    {
      "cell_type": "code",
      "metadata": {
        "id": "thymITcuYyNP"
      },
      "source": [
        "X_val_gray = np.array([x.reshape(img_row, img_col,1) for x in X_val_enlarge])\r\n",
        "val_gray =  np.array([x.reshape(img_row, img_col) for x in X_val_enlarge])"
      ],
      "execution_count": 120,
      "outputs": []
    },
    {
      "cell_type": "code",
      "metadata": {
        "colab": {
          "base_uri": "https://localhost:8080/"
        },
        "id": "bmwagL4RR8UJ",
        "outputId": "7b2cb67c-cee0-464e-b9f5-98fd48cf3e7e"
      },
      "source": [
        "X_train_gray.shape"
      ],
      "execution_count": 121,
      "outputs": [
        {
          "output_type": "execute_result",
          "data": {
            "text/plain": [
              "(556548, 9, 8, 1)"
            ]
          },
          "metadata": {
            "tags": []
          },
          "execution_count": 121
        }
      ]
    },
    {
      "cell_type": "code",
      "metadata": {
        "colab": {
          "base_uri": "https://localhost:8080/"
        },
        "id": "uCZ7X1RdTv0B",
        "outputId": "6b9751d4-64fd-4875-b19e-c85cb3b93e98"
      },
      "source": [
        "X_test_gray.shape"
      ],
      "execution_count": 122,
      "outputs": [
        {
          "output_type": "execute_result",
          "data": {
            "text/plain": [
              "(278270, 9, 8, 1)"
            ]
          },
          "metadata": {
            "tags": []
          },
          "execution_count": 122
        }
      ]
    },
    {
      "cell_type": "code",
      "metadata": {
        "colab": {
          "base_uri": "https://localhost:8080/",
          "height": 139
        },
        "id": "0LMrG3lXR84C",
        "outputId": "6a8b470e-0eb4-4a14-c0db-bcff36fe5fe0"
      },
      "source": [
        "n = 40  # how many digits we will display\r\n",
        "plt.figure(figsize=(80, 30))\r\n",
        "for i in range(1,10):\r\n",
        "    # display original\r\n",
        "    ax = plt.subplot(1, n, i + 1)\r\n",
        "    plt.imshow(train_gray[i])\r\n",
        "    plt.gray()\r\n",
        "    ax.get_xaxis().set_visible(False)\r\n",
        "    ax.get_yaxis().set_visible(False)\r\n",
        "plt.show()\r\n",
        "plt.close()"
      ],
      "execution_count": 123,
      "outputs": [
        {
          "output_type": "display_data",
          "data": {
            "image/png": "[encoded data removed]",
            "text/plain": [
              "<Figure size 5760x2160 with 9 Axes>"
            ]
          },
          "metadata": {
            "tags": [],
            "needs_background": "light"
          }
        }
      ]
    },
    {
      "cell_type": "code",
      "metadata": {
        "colab": {
          "base_uri": "https://localhost:8080/",
          "height": 139
        },
        "id": "WpRL__rXSAyg",
        "outputId": "16872bb5-81bc-432c-871d-135ff744a207"
      },
      "source": [
        "n = 40  # how many digits we will display\r\n",
        "plt.figure(figsize=(80, 30))\r\n",
        "for i in range(1,10):\r\n",
        "    # display original\r\n",
        "    ax = plt.subplot(1, n, i + 1)\r\n",
        "    plt.imshow(test_gray[i])\r\n",
        "    plt.gray()\r\n",
        "    ax.get_xaxis().set_visible(False)\r\n",
        "    ax.get_yaxis().set_visible(False)\r\n",
        "plt.show()\r\n",
        "plt.close()"
      ],
      "execution_count": 124,
      "outputs": [
        {
          "output_type": "display_data",
          "data": {
            "image/png": "[encoded data removed]",
            "text/plain": [
              "<Figure size 5760x2160 with 9 Axes>"
            ]
          },
          "metadata": {
            "tags": [],
            "needs_background": "light"
          }
        }
      ]
    },
    {
      "cell_type": "code",
      "metadata": {
        "colab": {
          "base_uri": "https://localhost:8080/",
          "height": 139
        },
        "id": "lxx02x93rzsQ",
        "outputId": "db1b5f0d-e991-41a6-a504-e6a6f5f61b58"
      },
      "source": [
        "n = 40  # how many digits we will display\r\n",
        "plt.figure(figsize=(80, 30))\r\n",
        "for i in range(1,10):\r\n",
        "    # display original\r\n",
        "    ax = plt.subplot(1, n, i + 1)\r\n",
        "    plt.imshow(val_gray[i])\r\n",
        "    plt.gray()\r\n",
        "    ax.get_xaxis().set_visible(False)\r\n",
        "    ax.get_yaxis().set_visible(False)\r\n",
        "plt.show()\r\n",
        "plt.close()"
      ],
      "execution_count": 125,
      "outputs": [
        {
          "output_type": "display_data",
          "data": {
            "image/png": "[encoded data removed]",
            "text/plain": [
              "<Figure size 5760x2160 with 9 Axes>"
            ]
          },
          "metadata": {
            "tags": [],
            "needs_background": "light"
          }
        }
      ]
    },
    {
      "cell_type": "code",
      "metadata": {
        "id": "ugGLvutdSDa3"
      },
      "source": [
        "import tensorflow as tf\r\n",
        "from tensorflow.keras.models import Sequential\r\n",
        "from tensorflow.keras.layers import Conv2D, BatchNormalization, MaxPooling2D, Flatten, Dense, Activation,Dropout\r\n",
        "from tensorflow.keras.constraints import max_norm"
      ],
      "execution_count": 126,
      "outputs": []
    },
    {
      "cell_type": "code",
      "metadata": {
        "id": "U1gBaaEpSFfy"
      },
      "source": [
        "batch_size = 1000 # increasing batch size with more gpu added\r\n",
        " \r\n",
        "num_class = 15                   # 15 intrusion classes, including benign traffic class\r\n",
        "epochs = 40"
      ],
      "execution_count": 127,
      "outputs": []
    },
    {
      "cell_type": "code",
      "metadata": {
        "colab": {
          "base_uri": "https://localhost:8080/"
        },
        "id": "hkUmpqvASGBT",
        "outputId": "7cee7644-9573-476c-956e-7247931c7438"
      },
      "source": [
        "model2d_g = Sequential()\r\n",
        "model2d_g.add(Conv2D(32, kernel_size=(3, 3), padding='same', activation='relu', input_shape=(9,8,1)))\r\n",
        "model2d_g.add(Conv2D(64, kernel_size=(3,3), padding='same',  activation='relu'))\r\n",
        "model2d_g.add(Flatten())\r\n",
        "model2d_g.add(Dropout(0.2))\r\n",
        "model2d_g.add(Dense(512))\r\n",
        "model2d_g.add(Dense(num_class, activation='softmax'))\r\n",
        " \r\n",
        "model2d_g.summary()"
      ],
      "execution_count": 128,
      "outputs": [
        {
          "output_type": "stream",
          "text": [
            "Model: \"sequential_25\"\n",
            "_________________________________________________________________\n",
            "Layer (type)                 Output Shape              Param #   \n",
            "=================================================================\n",
            "conv2d_48 (Conv2D)           (None, 9, 8, 32)          320       \n",
            "_________________________________________________________________\n",
            "conv2d_49 (Conv2D)           (None, 9, 8, 64)          18496     \n",
            "_________________________________________________________________\n",
            "flatten_24 (Flatten)         (None, 4608)              0         \n",
            "_________________________________________________________________\n",
            "dropout_18 (Dropout)         (None, 4608)              0         \n",
            "_________________________________________________________________\n",
            "dense_48 (Dense)             (None, 512)               2359808   \n",
            "_________________________________________________________________\n",
            "dense_49 (Dense)             (None, 15)                7695      \n",
            "=================================================================\n",
            "Total params: 2,386,319\n",
            "Trainable params: 2,386,319\n",
            "Non-trainable params: 0\n",
            "_________________________________________________________________\n"
          ],
          "name": "stdout"
        }
      ]
    },
    {
      "cell_type": "code",
      "metadata": {
        "id": "f9JpvgWCSIJZ"
      },
      "source": [
        "# training\r\n",
        "model2d_g.compile(loss='categorical_crossentropy',\r\n",
        "              optimizer=tf.keras.optimizers.RMSprop(lr=0.001), #,SGD(lr=0.01), #\r\n",
        "              metrics=['accuracy'])"
      ],
      "execution_count": 129,
      "outputs": []
    },
    {
      "cell_type": "code",
      "metadata": {
        "colab": {
          "base_uri": "https://localhost:8080/"
        },
        "id": "FwN4-uyN0tj8",
        "outputId": "fd8a049b-9207-4b44-87ee-c54b1ad6aa05"
      },
      "source": [
        "model2d_g.fit(X_train_gray, y_train,\r\n",
        "          batch_size=batch_size,\r\n",
        "          epochs=epochs,\r\n",
        "          verbose=1,\r\n",
        "          validation_data=(X_val_gray, y_val))"
      ],
      "execution_count": 130,
      "outputs": [
        {
          "output_type": "stream",
          "text": [
            "Epoch 1/40\n",
            "557/557 [==============================] - 9s 15ms/step - loss: 0.5116 - accuracy: 0.8180 - val_loss: 0.4099 - val_accuracy: 0.8110\n",
            "Epoch 2/40\n",
            "557/557 [==============================] - 8s 15ms/step - loss: 0.1565 - accuracy: 0.9436 - val_loss: 0.7247 - val_accuracy: 0.7966\n",
            "Epoch 3/40\n",
            "557/557 [==============================] - 8s 15ms/step - loss: 0.1091 - accuracy: 0.9633 - val_loss: 0.7172 - val_accuracy: 0.7689\n",
            "Epoch 4/40\n",
            "557/557 [==============================] - 8s 15ms/step - loss: 0.0890 - accuracy: 0.9697 - val_loss: 0.6974 - val_accuracy: 0.7304\n",
            "Epoch 5/40\n",
            "557/557 [==============================] - 8s 14ms/step - loss: 0.0773 - accuracy: 0.9733 - val_loss: 0.8603 - val_accuracy: 0.7299\n",
            "Epoch 6/40\n",
            "557/557 [==============================] - 8s 14ms/step - loss: 0.0688 - accuracy: 0.9765 - val_loss: 0.5598 - val_accuracy: 0.7989\n",
            "Epoch 7/40\n",
            "557/557 [==============================] - 8s 14ms/step - loss: 0.0634 - accuracy: 0.9783 - val_loss: 0.6528 - val_accuracy: 0.7998\n",
            "Epoch 8/40\n",
            "557/557 [==============================] - 8s 14ms/step - loss: 0.0617 - accuracy: 0.9786 - val_loss: 0.5260 - val_accuracy: 0.8449\n",
            "Epoch 9/40\n",
            "557/557 [==============================] - 8s 14ms/step - loss: 0.0602 - accuracy: 0.9792 - val_loss: 0.4886 - val_accuracy: 0.8581\n",
            "Epoch 10/40\n",
            "557/557 [==============================] - 8s 14ms/step - loss: 0.0582 - accuracy: 0.9798 - val_loss: 0.4769 - val_accuracy: 0.8727\n",
            "Epoch 11/40\n",
            "557/557 [==============================] - 8s 14ms/step - loss: 0.0565 - accuracy: 0.9803 - val_loss: 0.3280 - val_accuracy: 0.9128\n",
            "Epoch 12/40\n",
            "557/557 [==============================] - 8s 14ms/step - loss: 0.0551 - accuracy: 0.9808 - val_loss: 0.5444 - val_accuracy: 0.8603\n",
            "Epoch 13/40\n",
            "557/557 [==============================] - 8s 15ms/step - loss: 0.0544 - accuracy: 0.9808 - val_loss: 0.4976 - val_accuracy: 0.8567\n",
            "Epoch 14/40\n",
            "557/557 [==============================] - 8s 14ms/step - loss: 0.0532 - accuracy: 0.9812 - val_loss: 0.4418 - val_accuracy: 0.8641\n",
            "Epoch 15/40\n",
            "557/557 [==============================] - 8s 14ms/step - loss: 0.0526 - accuracy: 0.9814 - val_loss: 0.5937 - val_accuracy: 0.8654\n",
            "Epoch 16/40\n",
            "557/557 [==============================] - 8s 14ms/step - loss: 0.0525 - accuracy: 0.9816 - val_loss: 0.4221 - val_accuracy: 0.8774\n",
            "Epoch 17/40\n",
            "557/557 [==============================] - 8s 14ms/step - loss: 0.0521 - accuracy: 0.9820 - val_loss: 0.2978 - val_accuracy: 0.9418\n",
            "Epoch 18/40\n",
            "557/557 [==============================] - 8s 14ms/step - loss: 0.0521 - accuracy: 0.9818 - val_loss: 0.4772 - val_accuracy: 0.8170\n",
            "Epoch 19/40\n",
            "557/557 [==============================] - 8s 14ms/step - loss: 0.0513 - accuracy: 0.9819 - val_loss: 0.6555 - val_accuracy: 0.8541\n",
            "Epoch 20/40\n",
            "557/557 [==============================] - 8s 14ms/step - loss: 0.0513 - accuracy: 0.9820 - val_loss: 0.3566 - val_accuracy: 0.9005\n",
            "Epoch 21/40\n",
            "557/557 [==============================] - 8s 14ms/step - loss: 0.0514 - accuracy: 0.9819 - val_loss: 0.3171 - val_accuracy: 0.9293\n",
            "Epoch 22/40\n",
            "557/557 [==============================] - 8s 14ms/step - loss: 0.0508 - accuracy: 0.9819 - val_loss: 0.2740 - val_accuracy: 0.9461\n",
            "Epoch 23/40\n",
            "557/557 [==============================] - 8s 14ms/step - loss: 0.0499 - accuracy: 0.9825 - val_loss: 0.3117 - val_accuracy: 0.9397\n",
            "Epoch 24/40\n",
            "557/557 [==============================] - 8s 14ms/step - loss: 0.0498 - accuracy: 0.9823 - val_loss: 0.3218 - val_accuracy: 0.9453\n",
            "Epoch 25/40\n",
            "557/557 [==============================] - 8s 14ms/step - loss: 0.0496 - accuracy: 0.9826 - val_loss: 0.3238 - val_accuracy: 0.9100\n",
            "Epoch 26/40\n",
            "557/557 [==============================] - 8s 14ms/step - loss: 0.0497 - accuracy: 0.9826 - val_loss: 0.3630 - val_accuracy: 0.9008\n",
            "Epoch 27/40\n",
            "557/557 [==============================] - 8s 14ms/step - loss: 0.0493 - accuracy: 0.9826 - val_loss: 0.4331 - val_accuracy: 0.8532\n",
            "Epoch 28/40\n",
            "557/557 [==============================] - 8s 14ms/step - loss: 0.0489 - accuracy: 0.9826 - val_loss: 0.3237 - val_accuracy: 0.9284\n",
            "Epoch 29/40\n",
            "557/557 [==============================] - 8s 14ms/step - loss: 0.0485 - accuracy: 0.9829 - val_loss: 0.3547 - val_accuracy: 0.9180\n",
            "Epoch 30/40\n",
            "557/557 [==============================] - 8s 14ms/step - loss: 0.0478 - accuracy: 0.9831 - val_loss: 0.4317 - val_accuracy: 0.8619\n",
            "Epoch 31/40\n",
            "557/557 [==============================] - 8s 14ms/step - loss: 0.0486 - accuracy: 0.9828 - val_loss: 0.4347 - val_accuracy: 0.8789\n",
            "Epoch 32/40\n",
            "557/557 [==============================] - 8s 14ms/step - loss: 0.0474 - accuracy: 0.9832 - val_loss: 0.3505 - val_accuracy: 0.8670\n",
            "Epoch 33/40\n",
            "557/557 [==============================] - 8s 14ms/step - loss: 0.0479 - accuracy: 0.9832 - val_loss: 0.3482 - val_accuracy: 0.9187\n",
            "Epoch 34/40\n",
            "557/557 [==============================] - 8s 14ms/step - loss: 0.0479 - accuracy: 0.9831 - val_loss: 0.3990 - val_accuracy: 0.8765\n",
            "Epoch 35/40\n",
            "557/557 [==============================] - 8s 14ms/step - loss: 0.0475 - accuracy: 0.9832 - val_loss: 0.3790 - val_accuracy: 0.8947\n",
            "Epoch 36/40\n",
            "557/557 [==============================] - 8s 14ms/step - loss: 0.0465 - accuracy: 0.9837 - val_loss: 0.4595 - val_accuracy: 0.8718\n",
            "Epoch 37/40\n",
            "557/557 [==============================] - 8s 14ms/step - loss: 0.0466 - accuracy: 0.9841 - val_loss: 0.6758 - val_accuracy: 0.8387\n",
            "Epoch 38/40\n",
            "557/557 [==============================] - 8s 14ms/step - loss: 0.0467 - accuracy: 0.9834 - val_loss: 0.4959 - val_accuracy: 0.8618\n",
            "Epoch 39/40\n",
            "557/557 [==============================] - 8s 14ms/step - loss: 0.0462 - accuracy: 0.9838 - val_loss: 0.5915 - val_accuracy: 0.8516\n",
            "Epoch 40/40\n",
            "557/557 [==============================] - 8s 14ms/step - loss: 0.0466 - accuracy: 0.9840 - val_loss: 0.5361 - val_accuracy: 0.8396\n"
          ],
          "name": "stdout"
        },
        {
          "output_type": "execute_result",
          "data": {
            "text/plain": [
              "<tensorflow.python.keras.callbacks.History at 0x7f24d1c95550>"
            ]
          },
          "metadata": {
            "tags": []
          },
          "execution_count": 130
        }
      ]
    },
    {
      "cell_type": "code",
      "metadata": {
        "colab": {
          "base_uri": "https://localhost:8080/"
        },
        "id": "4fjqVlruetSV",
        "outputId": "0653b0d5-e6f2-411b-f67d-595b602714f5"
      },
      "source": [
        "# evaluate model\r\n",
        "accuracy = model2d_g.evaluate(X_test_gray, y_test, batch_size=batch_size, verbose=0)\r\n",
        "print(accuracy)"
      ],
      "execution_count": 131,
      "outputs": [
        {
          "output_type": "stream",
          "text": [
            "[0.07864858955144882, 0.9820713400840759]\n"
          ],
          "name": "stdout"
        }
      ]
    },
    {
      "cell_type": "markdown",
      "metadata": {
        "id": "lh9FLb7_WRLH"
      },
      "source": [
        "Convert each example as a 6x4 color image."
      ]
    },
    {
      "cell_type": "code",
      "metadata": {
        "id": "05SJRUI4WjCB"
      },
      "source": [
        "img_row = 6\r\n",
        "img_col = 4\r\n",
        "\r\n",
        "X_train_img = np.array([x.reshape(img_row, img_col, 3) for x in X_train_enlarge])\r\n",
        "X_val_img = np.array([x.reshape(img_row, img_col, 3) for x in X_val_enlarge])\r\n",
        "X_test_img = np.array([x.reshape(img_row, img_col, 3) for x in X_test_enlarge])"
      ],
      "execution_count": 132,
      "outputs": []
    },
    {
      "cell_type": "code",
      "metadata": {
        "colab": {
          "base_uri": "https://localhost:8080/",
          "height": 174
        },
        "id": "kOTZhA91Wnrw",
        "outputId": "40be642c-3f31-4e4e-81ed-5d8a90e281a7"
      },
      "source": [
        "#ploting images for data\r\n",
        "%matplotlib inline\r\n",
        "n = 40  # how many digits we will display\r\n",
        "plt.figure(figsize=(80, 30))\r\n",
        "for i in range(6,11):\r\n",
        "    # display original\r\n",
        "    ax = plt.subplot(1, n, i + 1)\r\n",
        "    plt.imshow(X_train_img[i])\r\n",
        "    plt.gray()\r\n",
        "    ax.get_xaxis().set_visible(False)\r\n",
        "    ax.get_yaxis().set_visible(False)\r\n",
        "plt.show()\r\n",
        "plt.close()"
      ],
      "execution_count": 133,
      "outputs": [
        {
          "output_type": "display_data",
          "data": {
            "image/png": "[encoded data removed]",
            "text/plain": [
              "<Figure size 5760x2160 with 5 Axes>"
            ]
          },
          "metadata": {
            "tags": [],
            "needs_background": "light"
          }
        }
      ]
    },
    {
      "cell_type": "code",
      "metadata": {
        "colab": {
          "base_uri": "https://localhost:8080/",
          "height": 174
        },
        "id": "N-0c21LeWqL-",
        "outputId": "5f55016b-d2c7-4e7e-e799-34d47d5547b3"
      },
      "source": [
        "n = 40  # how many digits we will display\r\n",
        "plt.figure(figsize=(80, 30))\r\n",
        "for i in range(6,11):\r\n",
        "    # display original\r\n",
        "    ax = plt.subplot(1, n, i + 1)\r\n",
        "    plt.imshow(X_test_img[i])\r\n",
        "    plt.gray()\r\n",
        "    ax.get_xaxis().set_visible(False)\r\n",
        "    ax.get_yaxis().set_visible(False)\r\n",
        "plt.show()\r\n",
        "plt.close()"
      ],
      "execution_count": 134,
      "outputs": [
        {
          "output_type": "display_data",
          "data": {
            "image/png": "[encoded data removed]",
            "text/plain": [
              "<Figure size 5760x2160 with 5 Axes>"
            ]
          },
          "metadata": {
            "tags": [],
            "needs_background": "light"
          }
        }
      ]
    },
    {
      "cell_type": "code",
      "metadata": {
        "colab": {
          "base_uri": "https://localhost:8080/"
        },
        "id": "fwGv07d4WwWY",
        "outputId": "532b0ea1-b60a-4357-c58b-8dc0ed6d286e"
      },
      "source": [
        "model2d = Sequential()\r\n",
        "model2d.add(Conv2D(32, kernel_size=(1, 1), padding='same', activation='relu', input_shape=(6,4,3)))\r\n",
        "model2d.add(Conv2D(64, kernel_size=(1, 1), padding='same', activation='relu'))\r\n",
        "model2d.add(Flatten()) \r\n",
        "model2d.add(Dropout(0.1))\r\n",
        "model2d.add(Dense(512))\r\n",
        "model2d.add(Dense(num_class, activation='softmax'))\r\n",
        " \r\n",
        "model2d.summary()"
      ],
      "execution_count": 135,
      "outputs": [
        {
          "output_type": "stream",
          "text": [
            "Model: \"sequential_26\"\n",
            "_________________________________________________________________\n",
            "Layer (type)                 Output Shape              Param #   \n",
            "=================================================================\n",
            "conv2d_50 (Conv2D)           (None, 6, 4, 32)          128       \n",
            "_________________________________________________________________\n",
            "conv2d_51 (Conv2D)           (None, 6, 4, 64)          2112      \n",
            "_________________________________________________________________\n",
            "flatten_25 (Flatten)         (None, 1536)              0         \n",
            "_________________________________________________________________\n",
            "dropout_19 (Dropout)         (None, 1536)              0         \n",
            "_________________________________________________________________\n",
            "dense_50 (Dense)             (None, 512)               786944    \n",
            "_________________________________________________________________\n",
            "dense_51 (Dense)             (None, 15)                7695      \n",
            "=================================================================\n",
            "Total params: 796,879\n",
            "Trainable params: 796,879\n",
            "Non-trainable params: 0\n",
            "_________________________________________________________________\n"
          ],
          "name": "stdout"
        }
      ]
    },
    {
      "cell_type": "code",
      "metadata": {
        "colab": {
          "base_uri": "https://localhost:8080/"
        },
        "id": "rWzzbIhaW0H1",
        "outputId": "0cdcaeea-84a6-4861-ddad-56d531503bcf"
      },
      "source": [
        "# training\r\n",
        "model2d.compile(loss='categorical_crossentropy',\r\n",
        "              optimizer=tf.keras.optimizers.RMSprop(lr=0.01), #,SGD(lr=0.01), #\r\n",
        "              metrics=['accuracy'])\r\n",
        "model2d.fit(X_train_img, y_train,\r\n",
        "          batch_size=batch_size,\r\n",
        "          epochs=epochs,\r\n",
        "          verbose=1,\r\n",
        "          validation_data=(X_val_img, y_val))"
      ],
      "execution_count": 136,
      "outputs": [
        {
          "output_type": "stream",
          "text": [
            "Epoch 1/40\n",
            "557/557 [==============================] - 4s 6ms/step - loss: 0.7221 - accuracy: 0.7703 - val_loss: 0.2294 - val_accuracy: 0.9005\n",
            "Epoch 2/40\n",
            "557/557 [==============================] - 3s 6ms/step - loss: 0.2083 - accuracy: 0.9291 - val_loss: 0.2261 - val_accuracy: 0.8936\n",
            "Epoch 3/40\n",
            "557/557 [==============================] - 3s 6ms/step - loss: 0.1720 - accuracy: 0.9440 - val_loss: 0.1358 - val_accuracy: 0.9522\n",
            "Epoch 4/40\n",
            "557/557 [==============================] - 3s 6ms/step - loss: 0.1463 - accuracy: 0.9507 - val_loss: 0.1972 - val_accuracy: 0.9365\n",
            "Epoch 5/40\n",
            "557/557 [==============================] - 3s 6ms/step - loss: 0.1388 - accuracy: 0.9526 - val_loss: 0.1799 - val_accuracy: 0.9016\n",
            "Epoch 6/40\n",
            "557/557 [==============================] - 3s 6ms/step - loss: 0.1359 - accuracy: 0.9545 - val_loss: 0.2031 - val_accuracy: 0.9002\n",
            "Epoch 7/40\n",
            "557/557 [==============================] - 3s 6ms/step - loss: 0.1221 - accuracy: 0.9585 - val_loss: 0.3816 - val_accuracy: 0.8337\n",
            "Epoch 8/40\n",
            "557/557 [==============================] - 3s 6ms/step - loss: 0.1335 - accuracy: 0.9551 - val_loss: 0.3129 - val_accuracy: 0.8920\n",
            "Epoch 9/40\n",
            "557/557 [==============================] - 3s 6ms/step - loss: 0.1196 - accuracy: 0.9589 - val_loss: 0.2263 - val_accuracy: 0.9029\n",
            "Epoch 10/40\n",
            "557/557 [==============================] - 3s 6ms/step - loss: 0.1158 - accuracy: 0.9600 - val_loss: 0.1915 - val_accuracy: 0.9525\n",
            "Epoch 11/40\n",
            "557/557 [==============================] - 3s 6ms/step - loss: 0.1145 - accuracy: 0.9608 - val_loss: 0.1831 - val_accuracy: 0.9053\n",
            "Epoch 12/40\n",
            "557/557 [==============================] - 3s 6ms/step - loss: 0.1146 - accuracy: 0.9605 - val_loss: 0.1924 - val_accuracy: 0.9552\n",
            "Epoch 13/40\n",
            "557/557 [==============================] - 3s 6ms/step - loss: 0.1135 - accuracy: 0.9608 - val_loss: 0.1909 - val_accuracy: 0.9102\n",
            "Epoch 14/40\n",
            "557/557 [==============================] - 3s 6ms/step - loss: 0.1150 - accuracy: 0.9601 - val_loss: 0.1446 - val_accuracy: 0.9620\n",
            "Epoch 15/40\n",
            "557/557 [==============================] - 3s 6ms/step - loss: 0.1150 - accuracy: 0.9609 - val_loss: 0.2011 - val_accuracy: 0.9571\n",
            "Epoch 16/40\n",
            "557/557 [==============================] - 4s 6ms/step - loss: 0.1066 - accuracy: 0.9629 - val_loss: 0.2417 - val_accuracy: 0.9012\n",
            "Epoch 17/40\n",
            "557/557 [==============================] - 3s 6ms/step - loss: 0.1078 - accuracy: 0.9628 - val_loss: 0.2093 - val_accuracy: 0.9573\n",
            "Epoch 18/40\n",
            "557/557 [==============================] - 3s 6ms/step - loss: 0.1064 - accuracy: 0.9633 - val_loss: 0.2037 - val_accuracy: 0.9541\n",
            "Epoch 19/40\n",
            "557/557 [==============================] - 3s 6ms/step - loss: 0.1062 - accuracy: 0.9632 - val_loss: 0.2125 - val_accuracy: 0.9458\n",
            "Epoch 20/40\n",
            "557/557 [==============================] - 3s 6ms/step - loss: 0.1062 - accuracy: 0.9628 - val_loss: 0.2022 - val_accuracy: 0.9307\n",
            "Epoch 21/40\n",
            "557/557 [==============================] - 3s 6ms/step - loss: 0.1065 - accuracy: 0.9630 - val_loss: 0.2184 - val_accuracy: 0.9411\n",
            "Epoch 22/40\n",
            "557/557 [==============================] - 3s 6ms/step - loss: 0.1062 - accuracy: 0.9629 - val_loss: 0.1883 - val_accuracy: 0.9507\n",
            "Epoch 23/40\n",
            "557/557 [==============================] - 3s 6ms/step - loss: 0.1034 - accuracy: 0.9642 - val_loss: 0.2372 - val_accuracy: 0.9498\n",
            "Epoch 24/40\n",
            "557/557 [==============================] - 3s 6ms/step - loss: 0.1021 - accuracy: 0.9640 - val_loss: 0.2798 - val_accuracy: 0.9161\n",
            "Epoch 25/40\n",
            "557/557 [==============================] - 3s 6ms/step - loss: 0.1050 - accuracy: 0.9626 - val_loss: 0.1621 - val_accuracy: 0.9558\n",
            "Epoch 26/40\n",
            "557/557 [==============================] - 3s 6ms/step - loss: 0.1035 - accuracy: 0.9626 - val_loss: 0.2638 - val_accuracy: 0.9086\n",
            "Epoch 27/40\n",
            "557/557 [==============================] - 3s 6ms/step - loss: 0.1024 - accuracy: 0.9638 - val_loss: 0.3195 - val_accuracy: 0.8894\n",
            "Epoch 28/40\n",
            "557/557 [==============================] - 3s 6ms/step - loss: 0.1013 - accuracy: 0.9638 - val_loss: 0.4991 - val_accuracy: 0.8443\n",
            "Epoch 29/40\n",
            "557/557 [==============================] - 3s 6ms/step - loss: 0.1051 - accuracy: 0.9628 - val_loss: 0.2088 - val_accuracy: 0.9427\n",
            "Epoch 30/40\n",
            "557/557 [==============================] - 3s 6ms/step - loss: 0.1014 - accuracy: 0.9637 - val_loss: 0.3551 - val_accuracy: 0.9002\n",
            "Epoch 31/40\n",
            "557/557 [==============================] - 3s 6ms/step - loss: 0.0995 - accuracy: 0.9647 - val_loss: 0.1928 - val_accuracy: 0.9502\n",
            "Epoch 32/40\n",
            "557/557 [==============================] - 4s 6ms/step - loss: 0.1024 - accuracy: 0.9633 - val_loss: 0.1884 - val_accuracy: 0.9600\n",
            "Epoch 33/40\n",
            "557/557 [==============================] - 3s 6ms/step - loss: 0.1034 - accuracy: 0.9636 - val_loss: 0.9633 - val_accuracy: 0.8069\n",
            "Epoch 34/40\n",
            "557/557 [==============================] - 4s 6ms/step - loss: 0.1034 - accuracy: 0.9627 - val_loss: 0.3138 - val_accuracy: 0.9098\n",
            "Epoch 35/40\n",
            "557/557 [==============================] - 3s 6ms/step - loss: 0.1019 - accuracy: 0.9635 - val_loss: 0.2654 - val_accuracy: 0.9491\n",
            "Epoch 36/40\n",
            "557/557 [==============================] - 3s 6ms/step - loss: 0.1013 - accuracy: 0.9637 - val_loss: 0.3124 - val_accuracy: 0.9317\n",
            "Epoch 37/40\n",
            "557/557 [==============================] - 3s 6ms/step - loss: 0.1036 - accuracy: 0.9631 - val_loss: 0.5440 - val_accuracy: 0.8569\n",
            "Epoch 38/40\n",
            "557/557 [==============================] - 3s 6ms/step - loss: 0.1020 - accuracy: 0.9638 - val_loss: 0.2144 - val_accuracy: 0.9382\n",
            "Epoch 39/40\n",
            "557/557 [==============================] - 3s 6ms/step - loss: 0.1009 - accuracy: 0.9638 - val_loss: 0.2267 - val_accuracy: 0.9526\n",
            "Epoch 40/40\n",
            "557/557 [==============================] - 3s 6ms/step - loss: 0.1006 - accuracy: 0.9643 - val_loss: 0.2988 - val_accuracy: 0.9417\n"
          ],
          "name": "stdout"
        },
        {
          "output_type": "execute_result",
          "data": {
            "text/plain": [
              "<tensorflow.python.keras.callbacks.History at 0x7f24d28605c0>"
            ]
          },
          "metadata": {
            "tags": []
          },
          "execution_count": 136
        }
      ]
    },
    {
      "cell_type": "code",
      "metadata": {
        "colab": {
          "base_uri": "https://localhost:8080/"
        },
        "id": "mMPHxj0-f-oe",
        "outputId": "953d384c-a673-4237-8706-c4518f3ec911"
      },
      "source": [
        "# evaluate model\r\n",
        "accuracy = model2d.evaluate(X_test_img, y_test, batch_size=batch_size, verbose=0)\r\n",
        "print(accuracy)"
      ],
      "execution_count": 137,
      "outputs": [
        {
          "output_type": "stream",
          "text": [
            "[0.14182227849960327, 0.9685341715812683]\n"
          ],
          "name": "stdout"
        }
      ]
    },
    {
      "cell_type": "markdown",
      "metadata": {
        "id": "4ARW4idriNM1"
      },
      "source": [
        "## Step 8. Reorder features according to their importance. "
      ]
    },
    {
      "cell_type": "markdown",
      "metadata": {
        "id": "89fsZiiijI1Y"
      },
      "source": [
        "According to \"Selection and Performance Analysis of CICIDS2017 Features Importance\", the important features are: Destination Port, Fwd IAT Min, Init_Win_bytes_Forward, Init_Win_bytes_backward and FlowIATMin"
      ]
    },
    {
      "cell_type": "code",
      "metadata": {
        "id": "Fd3SNXjGjJkD"
      },
      "source": [
        "col_important = np.array(['Source Port', 'Destination Port', 'Fwd IAT Min', 'Init_Win_bytes_forward', 'Init_Win_bytes_backward', 'Flow IAT Min',\r\n",
        "                      'Flow Duration', 'Total Fwd Packets', 'Total Backward Packets', 'Total Length of Fwd Packets',\r\n",
        "                      'Total Length of Bwd Packets', 'Fwd Packet Length Max', 'Protocol', 'Fwd Packet Length Min', 'Fwd Packet Length Mean',\r\n",
        "                      'Fwd Packet Length Std', 'Bwd Packet Length Max', 'Bwd Packet Length Min', 'Bwd Packet Length Mean', 'Bwd Packet Length Std',\r\n",
        "                      'Flow Bytes/s', 'Flow Packets/s', 'Flow IAT Mean', 'Flow IAT Std', 'Flow IAT Max', 'Fwd IAT Total',\r\n",
        "                      'Fwd IAT Mean', 'Fwd IAT Std', 'Fwd IAT Max', 'Bwd IAT Total', 'Bwd IAT Mean', 'Bwd IAT Std', 'Bwd IAT Max',\r\n",
        "                      'Bwd IAT Min', 'Fwd PSH Flags', 'Fwd URG Flags', 'Fwd Header Length', 'Bwd Header Length',\r\n",
        "                      'Fwd Packets/s', 'Bwd Packets/s', 'Min Packet Length', 'Max Packet Length', 'Packet Length Mean', 'Packet Length Std',\r\n",
        "                      'Packet Length Variance', 'FIN Flag Count', 'SYN Flag Count', 'RST Flag Count', 'PSH Flag Count', 'ACK Flag Count',\r\n",
        "                      'URG Flag Count', 'CWE Flag Count', 'ECE Flag Count', 'Down/Up Ratio', 'Average Packet Size', 'Avg Fwd Segment Size',\r\n",
        "                      'Avg Bwd Segment Size','Subflow Fwd Packets', 'Subflow Fwd Bytes',\r\n",
        "                      'Subflow Bwd Packets', 'Subflow Bwd Bytes', \r\n",
        "                      'act_data_pkt_fwd', 'min_seg_size_forward', 'Active Mean', 'Active Std', 'Active Max', 'Active Min', 'Idle Mean',\r\n",
        "                      'Idle Std', 'Idle Max', 'Idle Min', 'Label'])"
      ],
      "execution_count": 105,
      "outputs": []
    },
    {
      "cell_type": "markdown",
      "metadata": {
        "id": "pfmbaStpjf4_"
      },
      "source": [
        "Load the data again."
      ]
    },
    {
      "cell_type": "code",
      "metadata": {
        "colab": {
          "base_uri": "https://localhost:8080/",
          "height": 434
        },
        "id": "C6SFk-v4jkZI",
        "outputId": "a1421bce-1299-4c05-dd25-8d2c277e5f25"
      },
      "source": [
        "# load train data\r\n",
        "df_train = pd.read_csv('/content/drive/My Drive/CICIDS2017/train_set.csv',names=col_important, skiprows=1) \r\n",
        "df_train.head()"
      ],
      "execution_count": 106,
      "outputs": [
        {
          "output_type": "execute_result",
          "data": {
            "text/html": [
              "<div>\n",
              "<style scoped>\n",
              "    .dataframe tbody tr th:only-of-type {\n",
              "        vertical-align: middle;\n",
              "    }\n",
              "\n",
              "    .dataframe tbody tr th {\n",
              "        vertical-align: top;\n",
              "    }\n",
              "\n",
              "    .dataframe thead th {\n",
              "        text-align: right;\n",
              "    }\n",
              "</style>\n",
              "<table border=\"1\" class=\"dataframe\">\n",
              "  <thead>\n",
              "    <tr style=\"text-align: right;\">\n",
              "      <th></th>\n",
              "      <th></th>\n",
              "      <th></th>\n",
              "      <th></th>\n",
              "      <th></th>\n",
              "      <th></th>\n",
              "      <th></th>\n",
              "      <th></th>\n",
              "      <th></th>\n",
              "      <th></th>\n",
              "      <th></th>\n",
              "      <th></th>\n",
              "      <th></th>\n",
              "      <th></th>\n",
              "      <th>Source Port</th>\n",
              "      <th>Destination Port</th>\n",
              "      <th>Fwd IAT Min</th>\n",
              "      <th>Init_Win_bytes_forward</th>\n",
              "      <th>Init_Win_bytes_backward</th>\n",
              "      <th>Flow IAT Min</th>\n",
              "      <th>Flow Duration</th>\n",
              "      <th>Total Fwd Packets</th>\n",
              "      <th>Total Backward Packets</th>\n",
              "      <th>Total Length of Fwd Packets</th>\n",
              "      <th>Total Length of Bwd Packets</th>\n",
              "      <th>Fwd Packet Length Max</th>\n",
              "      <th>Protocol</th>\n",
              "      <th>Fwd Packet Length Min</th>\n",
              "      <th>Fwd Packet Length Mean</th>\n",
              "      <th>Fwd Packet Length Std</th>\n",
              "      <th>Bwd Packet Length Max</th>\n",
              "      <th>Bwd Packet Length Min</th>\n",
              "      <th>Bwd Packet Length Mean</th>\n",
              "      <th>Bwd Packet Length Std</th>\n",
              "      <th>Flow Bytes/s</th>\n",
              "      <th>Flow Packets/s</th>\n",
              "      <th>Flow IAT Mean</th>\n",
              "      <th>Flow IAT Std</th>\n",
              "      <th>Flow IAT Max</th>\n",
              "      <th>Fwd IAT Total</th>\n",
              "      <th>Fwd IAT Mean</th>\n",
              "      <th>Fwd IAT Std</th>\n",
              "      <th>Fwd IAT Max</th>\n",
              "      <th>Bwd IAT Total</th>\n",
              "      <th>Bwd IAT Mean</th>\n",
              "      <th>Bwd IAT Std</th>\n",
              "      <th>Bwd IAT Max</th>\n",
              "      <th>Bwd IAT Min</th>\n",
              "      <th>Fwd PSH Flags</th>\n",
              "      <th>Fwd URG Flags</th>\n",
              "      <th>Fwd Header Length</th>\n",
              "      <th>Bwd Header Length</th>\n",
              "      <th>Fwd Packets/s</th>\n",
              "      <th>Bwd Packets/s</th>\n",
              "      <th>Min Packet Length</th>\n",
              "      <th>Max Packet Length</th>\n",
              "      <th>Packet Length Mean</th>\n",
              "      <th>Packet Length Std</th>\n",
              "      <th>Packet Length Variance</th>\n",
              "      <th>FIN Flag Count</th>\n",
              "      <th>SYN Flag Count</th>\n",
              "      <th>RST Flag Count</th>\n",
              "      <th>PSH Flag Count</th>\n",
              "      <th>ACK Flag Count</th>\n",
              "      <th>URG Flag Count</th>\n",
              "      <th>CWE Flag Count</th>\n",
              "      <th>ECE Flag Count</th>\n",
              "      <th>Down/Up Ratio</th>\n",
              "      <th>Average Packet Size</th>\n",
              "      <th>Avg Fwd Segment Size</th>\n",
              "      <th>Avg Bwd Segment Size</th>\n",
              "      <th>Subflow Fwd Packets</th>\n",
              "      <th>Subflow Fwd Bytes</th>\n",
              "      <th>Subflow Bwd Packets</th>\n",
              "      <th>Subflow Bwd Bytes</th>\n",
              "      <th>act_data_pkt_fwd</th>\n",
              "      <th>min_seg_size_forward</th>\n",
              "      <th>Active Mean</th>\n",
              "      <th>Active Std</th>\n",
              "      <th>Active Max</th>\n",
              "      <th>Active Min</th>\n",
              "      <th>Idle Mean</th>\n",
              "      <th>Idle Std</th>\n",
              "      <th>Idle Max</th>\n",
              "      <th>Idle Min</th>\n",
              "      <th>Label</th>\n",
              "    </tr>\n",
              "  </thead>\n",
              "  <tbody>\n",
              "    <tr>\n",
              "      <th>5141</th>\n",
              "      <th>172.16.0.1-192.168.10.50-50294-80-6</th>\n",
              "      <th>172.16.0.1</th>\n",
              "      <th>50294.0</th>\n",
              "      <th>192.168.10.50</th>\n",
              "      <th>80.0</th>\n",
              "      <th>6.0</th>\n",
              "      <th>5/7/2017 10:33</th>\n",
              "      <th>63101744.0</th>\n",
              "      <th>7.0</th>\n",
              "      <th>0.0</th>\n",
              "      <th>0.0</th>\n",
              "      <th>0.0</th>\n",
              "      <th>0.0</th>\n",
              "      <td>0.0</td>\n",
              "      <td>0.000000</td>\n",
              "      <td>0.000000</td>\n",
              "      <td>0.0</td>\n",
              "      <td>0.0</td>\n",
              "      <td>0.0</td>\n",
              "      <td>0.0</td>\n",
              "      <td>0.000000e+00</td>\n",
              "      <td>0.110932</td>\n",
              "      <td>10500000.0</td>\n",
              "      <td>1.190000e+07</td>\n",
              "      <td>32100000.0</td>\n",
              "      <td>998158.0</td>\n",
              "      <td>63100000.0</td>\n",
              "      <td>1.050000e+07</td>\n",
              "      <td>1.190000e+07</td>\n",
              "      <td>32100000.0</td>\n",
              "      <td>998158.0</td>\n",
              "      <td>0.0</td>\n",
              "      <td>0.0</td>\n",
              "      <td>0.00000</td>\n",
              "      <td>0.0</td>\n",
              "      <td>0.0</td>\n",
              "      <td>0.0</td>\n",
              "      <td>0.0</td>\n",
              "      <td>0.0</td>\n",
              "      <td>0.0</td>\n",
              "      <td>280.0</td>\n",
              "      <td>0.0</td>\n",
              "      <td>0.110932</td>\n",
              "      <td>0.000000</td>\n",
              "      <td>0.0</td>\n",
              "      <td>0.0</td>\n",
              "      <td>0.000000</td>\n",
              "      <td>0.000000</td>\n",
              "      <td>0.000000</td>\n",
              "      <td>0.0</td>\n",
              "      <td>0.0</td>\n",
              "      <td>0.0</td>\n",
              "      <td>1.0</td>\n",
              "      <td>0.0</td>\n",
              "      <td>0.0</td>\n",
              "      <td>0.0</td>\n",
              "      <td>0.0</td>\n",
              "      <td>0.0</td>\n",
              "      <td>0.000000</td>\n",
              "      <td>0.000000</td>\n",
              "      <td>0.0</td>\n",
              "      <td>280.0</td>\n",
              "      <td>0.0</td>\n",
              "      <td>0.0</td>\n",
              "      <td>0.0</td>\n",
              "      <td>0.0</td>\n",
              "      <td>0.0</td>\n",
              "      <td>0.0</td>\n",
              "      <td>7.0</td>\n",
              "      <td>0.0</td>\n",
              "      <td>0.0</td>\n",
              "      <td>0.0</td>\n",
              "      <td>29200.0</td>\n",
              "      <td>-1.0</td>\n",
              "      <td>0.0</td>\n",
              "      <td>40.0</td>\n",
              "      <td>7006133.0</td>\n",
              "      <td>0.0</td>\n",
              "      <td>7006133.0</td>\n",
              "      <td>7006133.0</td>\n",
              "      <td>18700000.0</td>\n",
              "      <td>12200000.0</td>\n",
              "      <td>32100000.0</td>\n",
              "      <td>8015895.0</td>\n",
              "      <td>DoS Slowhttptest</td>\n",
              "    </tr>\n",
              "    <tr>\n",
              "      <th>40963</th>\n",
              "      <th>172.16.0.1-192.168.10.50-37796-1199-6</th>\n",
              "      <th>172.16.0.1</th>\n",
              "      <th>37796.0</th>\n",
              "      <th>192.168.10.50</th>\n",
              "      <th>1199.0</th>\n",
              "      <th>6.0</th>\n",
              "      <th>7/7/2017 2:52</th>\n",
              "      <th>62.0</th>\n",
              "      <th>1.0</th>\n",
              "      <th>1.0</th>\n",
              "      <th>2.0</th>\n",
              "      <th>6.0</th>\n",
              "      <th>2.0</th>\n",
              "      <td>2.0</td>\n",
              "      <td>2.000000</td>\n",
              "      <td>0.000000</td>\n",
              "      <td>6.0</td>\n",
              "      <td>6.0</td>\n",
              "      <td>6.0</td>\n",
              "      <td>0.0</td>\n",
              "      <td>1.290323e+05</td>\n",
              "      <td>32258.064520</td>\n",
              "      <td>62.0</td>\n",
              "      <td>0.000000e+00</td>\n",
              "      <td>62.0</td>\n",
              "      <td>62.0</td>\n",
              "      <td>0.0</td>\n",
              "      <td>0.000000e+00</td>\n",
              "      <td>0.000000e+00</td>\n",
              "      <td>0.0</td>\n",
              "      <td>0.0</td>\n",
              "      <td>0.0</td>\n",
              "      <td>0.0</td>\n",
              "      <td>0.00000</td>\n",
              "      <td>0.0</td>\n",
              "      <td>0.0</td>\n",
              "      <td>0.0</td>\n",
              "      <td>0.0</td>\n",
              "      <td>0.0</td>\n",
              "      <td>0.0</td>\n",
              "      <td>24.0</td>\n",
              "      <td>20.0</td>\n",
              "      <td>16129.032260</td>\n",
              "      <td>16129.032260</td>\n",
              "      <td>2.0</td>\n",
              "      <td>6.0</td>\n",
              "      <td>3.333333</td>\n",
              "      <td>2.309401</td>\n",
              "      <td>5.333333</td>\n",
              "      <td>0.0</td>\n",
              "      <td>0.0</td>\n",
              "      <td>0.0</td>\n",
              "      <td>1.0</td>\n",
              "      <td>0.0</td>\n",
              "      <td>0.0</td>\n",
              "      <td>0.0</td>\n",
              "      <td>0.0</td>\n",
              "      <td>1.0</td>\n",
              "      <td>5.000000</td>\n",
              "      <td>2.000000</td>\n",
              "      <td>6.0</td>\n",
              "      <td>24.0</td>\n",
              "      <td>0.0</td>\n",
              "      <td>0.0</td>\n",
              "      <td>0.0</td>\n",
              "      <td>0.0</td>\n",
              "      <td>0.0</td>\n",
              "      <td>0.0</td>\n",
              "      <td>1.0</td>\n",
              "      <td>2.0</td>\n",
              "      <td>1.0</td>\n",
              "      <td>6.0</td>\n",
              "      <td>1024.0</td>\n",
              "      <td>0.0</td>\n",
              "      <td>0.0</td>\n",
              "      <td>24.0</td>\n",
              "      <td>0.0</td>\n",
              "      <td>0.0</td>\n",
              "      <td>0.0</td>\n",
              "      <td>0.0</td>\n",
              "      <td>0.0</td>\n",
              "      <td>0.0</td>\n",
              "      <td>0.0</td>\n",
              "      <td>0.0</td>\n",
              "      <td>PortScan</td>\n",
              "    </tr>\n",
              "    <tr>\n",
              "      <th>27718</th>\n",
              "      <th>172.217.6.200-192.168.10.12-443-42634-6</th>\n",
              "      <th>172.217.6.200</th>\n",
              "      <th>443.0</th>\n",
              "      <th>192.168.10.12</th>\n",
              "      <th>42634.0</th>\n",
              "      <th>6.0</th>\n",
              "      <th>03/07/2017 09:49:12</th>\n",
              "      <th>3.0</th>\n",
              "      <th>2.0</th>\n",
              "      <th>0.0</th>\n",
              "      <th>0.0</th>\n",
              "      <th>0.0</th>\n",
              "      <th>0.0</th>\n",
              "      <td>0.0</td>\n",
              "      <td>0.000000</td>\n",
              "      <td>0.000000</td>\n",
              "      <td>0.0</td>\n",
              "      <td>0.0</td>\n",
              "      <td>0.0</td>\n",
              "      <td>0.0</td>\n",
              "      <td>0.000000e+00</td>\n",
              "      <td>666666.666667</td>\n",
              "      <td>3.0</td>\n",
              "      <td>0.000000e+00</td>\n",
              "      <td>3.0</td>\n",
              "      <td>3.0</td>\n",
              "      <td>3.0</td>\n",
              "      <td>3.000000e+00</td>\n",
              "      <td>0.000000e+00</td>\n",
              "      <td>3.0</td>\n",
              "      <td>3.0</td>\n",
              "      <td>0.0</td>\n",
              "      <td>0.0</td>\n",
              "      <td>0.00000</td>\n",
              "      <td>0.0</td>\n",
              "      <td>0.0</td>\n",
              "      <td>0.0</td>\n",
              "      <td>0.0</td>\n",
              "      <td>0.0</td>\n",
              "      <td>0.0</td>\n",
              "      <td>64.0</td>\n",
              "      <td>0.0</td>\n",
              "      <td>666666.666667</td>\n",
              "      <td>0.000000</td>\n",
              "      <td>0.0</td>\n",
              "      <td>0.0</td>\n",
              "      <td>0.000000</td>\n",
              "      <td>0.000000</td>\n",
              "      <td>0.000000</td>\n",
              "      <td>0.0</td>\n",
              "      <td>0.0</td>\n",
              "      <td>0.0</td>\n",
              "      <td>0.0</td>\n",
              "      <td>1.0</td>\n",
              "      <td>0.0</td>\n",
              "      <td>0.0</td>\n",
              "      <td>0.0</td>\n",
              "      <td>0.0</td>\n",
              "      <td>0.000000</td>\n",
              "      <td>0.000000</td>\n",
              "      <td>0.0</td>\n",
              "      <td>64.0</td>\n",
              "      <td>0.0</td>\n",
              "      <td>0.0</td>\n",
              "      <td>0.0</td>\n",
              "      <td>0.0</td>\n",
              "      <td>0.0</td>\n",
              "      <td>0.0</td>\n",
              "      <td>2.0</td>\n",
              "      <td>0.0</td>\n",
              "      <td>0.0</td>\n",
              "      <td>0.0</td>\n",
              "      <td>357.0</td>\n",
              "      <td>-1.0</td>\n",
              "      <td>0.0</td>\n",
              "      <td>32.0</td>\n",
              "      <td>0.0</td>\n",
              "      <td>0.0</td>\n",
              "      <td>0.0</td>\n",
              "      <td>0.0</td>\n",
              "      <td>0.0</td>\n",
              "      <td>0.0</td>\n",
              "      <td>0.0</td>\n",
              "      <td>0.0</td>\n",
              "      <td>BENIGN</td>\n",
              "    </tr>\n",
              "    <tr>\n",
              "      <th>106492</th>\n",
              "      <th>192.168.10.8-23.208.79.206-52235-443-6</th>\n",
              "      <th>192.168.10.8</th>\n",
              "      <th>52235.0</th>\n",
              "      <th>23.208.79.206</th>\n",
              "      <th>443.0</th>\n",
              "      <th>6.0</th>\n",
              "      <th>4/7/2017 11:46</th>\n",
              "      <th>5007496.0</th>\n",
              "      <th>7.0</th>\n",
              "      <th>4.0</th>\n",
              "      <th>1679.0</th>\n",
              "      <th>152.0</th>\n",
              "      <th>1080.0</th>\n",
              "      <td>0.0</td>\n",
              "      <td>239.857143</td>\n",
              "      <td>415.237052</td>\n",
              "      <td>152.0</td>\n",
              "      <td>0.0</td>\n",
              "      <td>38.0</td>\n",
              "      <td>76.0</td>\n",
              "      <td>3.656518e+02</td>\n",
              "      <td>2.196707</td>\n",
              "      <td>500749.6</td>\n",
              "      <td>1.543257e+06</td>\n",
              "      <td>4892570.0</td>\n",
              "      <td>3.0</td>\n",
              "      <td>5007496.0</td>\n",
              "      <td>8.345827e+05</td>\n",
              "      <td>2.018795e+06</td>\n",
              "      <td>4955369.0</td>\n",
              "      <td>3.0</td>\n",
              "      <td>87090.0</td>\n",
              "      <td>29030.0</td>\n",
              "      <td>31709.63089</td>\n",
              "      <td>63179.0</td>\n",
              "      <td>515.0</td>\n",
              "      <td>0.0</td>\n",
              "      <td>0.0</td>\n",
              "      <td>0.0</td>\n",
              "      <td>0.0</td>\n",
              "      <td>152.0</td>\n",
              "      <td>92.0</td>\n",
              "      <td>1.397904</td>\n",
              "      <td>0.798802</td>\n",
              "      <td>0.0</td>\n",
              "      <td>1080.0</td>\n",
              "      <td>152.583333</td>\n",
              "      <td>327.660428</td>\n",
              "      <td>107361.356100</td>\n",
              "      <td>0.0</td>\n",
              "      <td>0.0</td>\n",
              "      <td>0.0</td>\n",
              "      <td>1.0</td>\n",
              "      <td>0.0</td>\n",
              "      <td>0.0</td>\n",
              "      <td>0.0</td>\n",
              "      <td>0.0</td>\n",
              "      <td>0.0</td>\n",
              "      <td>166.454545</td>\n",
              "      <td>239.857143</td>\n",
              "      <td>38.0</td>\n",
              "      <td>152.0</td>\n",
              "      <td>0.0</td>\n",
              "      <td>0.0</td>\n",
              "      <td>0.0</td>\n",
              "      <td>0.0</td>\n",
              "      <td>0.0</td>\n",
              "      <td>0.0</td>\n",
              "      <td>7.0</td>\n",
              "      <td>1679.0</td>\n",
              "      <td>4.0</td>\n",
              "      <td>152.0</td>\n",
              "      <td>8192.0</td>\n",
              "      <td>946.0</td>\n",
              "      <td>4.0</td>\n",
              "      <td>20.0</td>\n",
              "      <td>0.0</td>\n",
              "      <td>0.0</td>\n",
              "      <td>0.0</td>\n",
              "      <td>0.0</td>\n",
              "      <td>0.0</td>\n",
              "      <td>0.0</td>\n",
              "      <td>0.0</td>\n",
              "      <td>0.0</td>\n",
              "      <td>BENIGN</td>\n",
              "    </tr>\n",
              "    <tr>\n",
              "      <th>63559</th>\n",
              "      <th>192.168.10.14-52.84.30.203-59835-80-6</th>\n",
              "      <th>52.84.30.203</th>\n",
              "      <th>80.0</th>\n",
              "      <th>192.168.10.14</th>\n",
              "      <th>59835.0</th>\n",
              "      <th>6.0</th>\n",
              "      <th>6/7/2017 10:04</th>\n",
              "      <th>4.0</th>\n",
              "      <th>1.0</th>\n",
              "      <th>1.0</th>\n",
              "      <th>6.0</th>\n",
              "      <th>6.0</th>\n",
              "      <th>6.0</th>\n",
              "      <td>6.0</td>\n",
              "      <td>6.000000</td>\n",
              "      <td>0.000000</td>\n",
              "      <td>6.0</td>\n",
              "      <td>6.0</td>\n",
              "      <td>6.0</td>\n",
              "      <td>0.0</td>\n",
              "      <td>3.000000e+06</td>\n",
              "      <td>500000.000000</td>\n",
              "      <td>4.0</td>\n",
              "      <td>0.000000e+00</td>\n",
              "      <td>4.0</td>\n",
              "      <td>4.0</td>\n",
              "      <td>0.0</td>\n",
              "      <td>0.000000e+00</td>\n",
              "      <td>0.000000e+00</td>\n",
              "      <td>0.0</td>\n",
              "      <td>0.0</td>\n",
              "      <td>0.0</td>\n",
              "      <td>0.0</td>\n",
              "      <td>0.00000</td>\n",
              "      <td>0.0</td>\n",
              "      <td>0.0</td>\n",
              "      <td>0.0</td>\n",
              "      <td>0.0</td>\n",
              "      <td>0.0</td>\n",
              "      <td>0.0</td>\n",
              "      <td>20.0</td>\n",
              "      <td>20.0</td>\n",
              "      <td>250000.000000</td>\n",
              "      <td>250000.000000</td>\n",
              "      <td>6.0</td>\n",
              "      <td>6.0</td>\n",
              "      <td>6.000000</td>\n",
              "      <td>0.000000</td>\n",
              "      <td>0.000000</td>\n",
              "      <td>0.0</td>\n",
              "      <td>0.0</td>\n",
              "      <td>0.0</td>\n",
              "      <td>0.0</td>\n",
              "      <td>1.0</td>\n",
              "      <td>1.0</td>\n",
              "      <td>0.0</td>\n",
              "      <td>0.0</td>\n",
              "      <td>1.0</td>\n",
              "      <td>9.000000</td>\n",
              "      <td>6.000000</td>\n",
              "      <td>6.0</td>\n",
              "      <td>20.0</td>\n",
              "      <td>0.0</td>\n",
              "      <td>0.0</td>\n",
              "      <td>0.0</td>\n",
              "      <td>0.0</td>\n",
              "      <td>0.0</td>\n",
              "      <td>0.0</td>\n",
              "      <td>1.0</td>\n",
              "      <td>6.0</td>\n",
              "      <td>1.0</td>\n",
              "      <td>6.0</td>\n",
              "      <td>115.0</td>\n",
              "      <td>256.0</td>\n",
              "      <td>0.0</td>\n",
              "      <td>20.0</td>\n",
              "      <td>0.0</td>\n",
              "      <td>0.0</td>\n",
              "      <td>0.0</td>\n",
              "      <td>0.0</td>\n",
              "      <td>0.0</td>\n",
              "      <td>0.0</td>\n",
              "      <td>0.0</td>\n",
              "      <td>0.0</td>\n",
              "      <td>BENIGN</td>\n",
              "    </tr>\n",
              "  </tbody>\n",
              "</table>\n",
              "</div>"
            ],
            "text/plain": [
              "                                                                                                                                                           Source Port  ...             Label\n",
              "5141   172.16.0.1-192.168.10.50-50294-80-6     172.16.0.1    50294.0 192.168.10.50 80.0    6.0 5/7/2017 10:33      63101744.0 7.0 0.0 0.0    0.0   0.0             0.0  ...  DoS Slowhttptest\n",
              "40963  172.16.0.1-192.168.10.50-37796-1199-6   172.16.0.1    37796.0 192.168.10.50 1199.0  6.0 7/7/2017 2:52       62.0       1.0 1.0 2.0    6.0   2.0             2.0  ...          PortScan\n",
              "27718  172.217.6.200-192.168.10.12-443-42634-6 172.217.6.200 443.0   192.168.10.12 42634.0 6.0 03/07/2017 09:49:12 3.0        2.0 0.0 0.0    0.0   0.0             0.0  ...            BENIGN\n",
              "106492 192.168.10.8-23.208.79.206-52235-443-6  192.168.10.8  52235.0 23.208.79.206 443.0   6.0 4/7/2017 11:46      5007496.0  7.0 4.0 1679.0 152.0 1080.0          0.0  ...            BENIGN\n",
              "63559  192.168.10.14-52.84.30.203-59835-80-6   52.84.30.203  80.0    192.168.10.14 59835.0 6.0 6/7/2017 10:04      4.0        1.0 1.0 6.0    6.0   6.0             6.0  ...            BENIGN\n",
              "\n",
              "[5 rows x 72 columns]"
            ]
          },
          "metadata": {
            "tags": []
          },
          "execution_count": 106
        }
      ]
    },
    {
      "cell_type": "code",
      "metadata": {
        "colab": {
          "base_uri": "https://localhost:8080/"
        },
        "id": "sI8vjptcj3v6",
        "outputId": "71ff383c-99ce-4b6e-85d8-6716b5bf9273"
      },
      "source": [
        "df_test = pd.read_csv('/content/drive/My Drive/CICIDS2017/test_set.csv',names=col_important, skiprows=1) \r\n",
        "print('Test set size: ', df_test.shape)\r\n",
        "\r\n",
        "df_val = pd.read_csv('/content/drive/My Drive/CICIDS2017/crossval_set.csv',names=col_important, skiprows=1) \r\n",
        "print('Validation set size: ', df_val.shape)"
      ],
      "execution_count": 107,
      "outputs": [
        {
          "output_type": "stream",
          "text": [
            "Test set size:  (278270, 72)\n",
            "Validation set size:  (278270, 72)\n"
          ],
          "name": "stdout"
        }
      ]
    },
    {
      "cell_type": "markdown",
      "metadata": {
        "id": "zlaM8WG1kV9A"
      },
      "source": [
        "Repeat most of above steps:"
      ]
    },
    {
      "cell_type": "code",
      "metadata": {
        "id": "fHRD1ZAWkCHA"
      },
      "source": [
        "df_label = df_train['Label']\r\n",
        "data = df_train.drop(columns=['Label'])\r\n",
        "X_train = data.values\r\n",
        "y_train = encode_label(df_label.values)"
      ],
      "execution_count": 108,
      "outputs": []
    },
    {
      "cell_type": "markdown",
      "metadata": {
        "id": "15nlE1VfkmCP"
      },
      "source": [
        "Go back and restart from step 2.2"
      ]
    },
    {
      "cell_type": "markdown",
      "metadata": {
        "id": "JkEjVIpUUGwY"
      },
      "source": [
        "unfortrunately, the feature importance does not improve the accuracy."
      ]
    }
  ]
}