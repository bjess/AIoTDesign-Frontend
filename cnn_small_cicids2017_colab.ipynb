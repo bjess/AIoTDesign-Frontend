{
  "nbformat": 4,
  "nbformat_minor": 0,
  "metadata": {
    "kernelspec": {
      "display_name": "Python 3",
      "language": "python",
      "name": "python3"
    },
    "language_info": {
      "codemirror_mode": {
        "name": "ipython",
        "version": 3
      },
      "file_extension": ".py",
      "mimetype": "text/x-python",
      "name": "python",
      "nbconvert_exporter": "python",
      "pygments_lexer": "ipython3",
      "version": "3.7.4"
    },
    "colab": {
      "name": "cnn_small_cicids2017_colab.ipynb",
      "provenance": [],
      "collapsed_sections": [],
      "include_colab_link": true
    },
    "accelerator": "GPU"
  },
  "cells": [
    {
      "cell_type": "markdown",
      "metadata": {
        "id": "view-in-github",
        "colab_type": "text"
      },
      "source": [
        "<a href=\"https://colab.research.google.com/github/fwangliberty/AIoTDesign-Frontend/blob/master/cnn_small_cicids2017_colab.ipynb\" target=\"_parent\"><img src=\"https://colab.research.google.com/assets/colab-badge.svg\" alt=\"Open In Colab\"/></a>"
      ]
    },
    {
      "cell_type": "markdown",
      "metadata": {
        "id": "HakdgCXBymAw"
      },
      "source": [
        "# Intrusion Detection by using small CICIDS 2017 DataSet with 2000 examples each type"
      ]
    },
    {
      "cell_type": "code",
      "metadata": {
        "id": "yqdB1_F0ymAz"
      },
      "source": [
        "import os\n",
        "from os.path import join\n",
        "import glob\n",
        "import pandas as pd\n",
        "import numpy as np\n",
        "import time\n",
        "import seaborn as sns\n",
        "import matplotlib.pyplot as plt"
      ],
      "execution_count": 1,
      "outputs": []
    },
    {
      "cell_type": "code",
      "metadata": {
        "id": "l7LnjNAcvll6"
      },
      "source": [
        "def make_value2index(attacks):\r\n",
        "    #make dictionary\r\n",
        "    attacks = sorted(attacks)\r\n",
        "    d = {}\r\n",
        "    counter=0\r\n",
        "    for attack in attacks:\r\n",
        "        d[attack] = counter\r\n",
        "        counter+=1\r\n",
        "    return d"
      ],
      "execution_count": 2,
      "outputs": []
    },
    {
      "cell_type": "code",
      "metadata": {
        "id": "7bJxEKODvmH5"
      },
      "source": [
        "# chganges label from string to integer/index\r\n",
        "def encode_label(Y_str):\r\n",
        "    labels_d = make_value2index(np.unique(Y_str))\r\n",
        "    Y = [labels_d[y_str] for y_str  in Y_str]\r\n",
        "    Y = np.array(Y)\r\n",
        "    return np.array(Y)"
      ],
      "execution_count": 3,
      "outputs": []
    },
    {
      "cell_type": "code",
      "metadata": {
        "id": "lW4i5wbIrCfT"
      },
      "source": [
        "def get_dataframe_ofType(df, traffic_type):\r\n",
        "    \"\"\"\r\n",
        "    Analyze traffic distribution of pandas data frame containing IDS2017 CSV\r\n",
        "    file with labelled traffic\r\n",
        "\r\n",
        "    Parameter\r\n",
        "    ---------\r\n",
        "    df: DataFrame\r\n",
        "        Pandas DataFrame corresponding to the content of a CSV file\r\n",
        "    traffic_type: string\r\n",
        "        name corresponding to traffic type\r\n",
        "\r\n",
        "    Return\r\n",
        "    ------\r\n",
        "    req_df: DataFrame\r\n",
        "        Pandas DataFrame containing only the requested traffic type\r\n",
        "    \"\"\"\r\n",
        "    req_df = df.loc[df['Label'] == traffic_type]\r\n",
        "    # don't keep original indexes\r\n",
        "    #req_df = req_df.reset_index()\r\n",
        "    return req_df"
      ],
      "execution_count": 4,
      "outputs": []
    },
    {
      "cell_type": "code",
      "metadata": {
        "id": "crMkU4GxphLu"
      },
      "source": [
        "def get_typelist(df):\r\n",
        "    \"\"\"\r\n",
        "    Extract traffic type from a pandas data frame containing IDS2017 CSV\r\n",
        "    file with labelled traffic\r\n",
        "\r\n",
        "    Parameter\r\n",
        "    ---------\r\n",
        "    df: DataFrame\r\n",
        "        Pandas DataFrame corresponding to the content of a CSV file\r\n",
        "\r\n",
        "    Return\r\n",
        "    ------\r\n",
        "    traffic_type_list: list\r\n",
        "        List of traffic types contained in the DataFrame\r\n",
        "    \"\"\"\r\n",
        "    traffic_type_list = df['Label'].value_counts().index.tolist()\r\n",
        "    return traffic_type_list"
      ],
      "execution_count": 5,
      "outputs": []
    },
    {
      "cell_type": "code",
      "metadata": {
        "id": "yyxQXnv_uJok"
      },
      "source": [
        "#We balance data as follows:\r\n",
        "#1) oversample small classes so that their population/count is equal to mean_number_of_samples_per_class\r\n",
        "#2) undersample large classes so that their count is equal to mean_number_of_samples_per_class\r\n",
        "def balance_data(X,y,seed, mean_samples):\r\n",
        "    np.random.seed(seed)\r\n",
        "    unique,counts = np.unique(y,return_counts=True)\r\n",
        "    mean_samples_per_class = mean_samples # int(round(np.mean(counts)))\r\n",
        "    N,D = X.shape #(number of examples, number of features)\r\n",
        "    new_X = np.empty((0,D)) \r\n",
        "    new_y = np.empty((0),dtype=int)\r\n",
        "    for i,c in enumerate(unique):\r\n",
        "        temp_x = X[y==c]\r\n",
        "        indices = np.random.choice(temp_x.shape[0],mean_samples_per_class) # gets `mean_samples_per_class` indices of class `c`\r\n",
        "        new_X = np.concatenate((new_X,temp_x[indices]),axis=0) # now we put new data into new_X \r\n",
        "        temp_y = np.ones(mean_samples_per_class,dtype=int)*c\r\n",
        "        new_y = np.concatenate((new_y,temp_y),axis=0)\r\n",
        "        \r\n",
        "    # in order to break class order in data we need shuffling\r\n",
        "    indices = np.arange(new_y.shape[0])\r\n",
        "    np.random.shuffle(indices)\r\n",
        "    new_X =  new_X[indices,:]\r\n",
        "    new_y = new_y[indices]\r\n",
        "    return (new_X,new_y)"
      ],
      "execution_count": 6,
      "outputs": []
    },
    {
      "cell_type": "markdown",
      "metadata": {
        "id": "T-kNtwdKymAz"
      },
      "source": [
        "## Step 1. Read cleaned CICIDS2017 dataset"
      ]
    },
    {
      "cell_type": "markdown",
      "metadata": {
        "id": "Is2az0Giy0iC"
      },
      "source": [
        "Connect to Google Drive"
      ]
    },
    {
      "cell_type": "code",
      "metadata": {
        "colab": {
          "base_uri": "https://localhost:8080/"
        },
        "id": "p9zJ-0oQy1Gy",
        "outputId": "68ee542c-9431-40a0-d0c9-5903fb954aea"
      },
      "source": [
        "from google.colab import drive\r\n",
        "drive.mount('/content/drive')"
      ],
      "execution_count": 7,
      "outputs": [
        {
          "output_type": "stream",
          "text": [
            "Mounted at /content/drive\n"
          ],
          "name": "stdout"
        }
      ]
    },
    {
      "cell_type": "code",
      "metadata": {
        "id": "8aL5u5kynL_B"
      },
      "source": [
        "# All columns\r\n",
        "col_names = np.array(['Source Port', 'Destination Port',\r\n",
        "                      'Protocol', 'Flow Duration', 'Total Fwd Packets', 'Total Backward Packets', 'Total Length of Fwd Packets',\r\n",
        "                      'Total Length of Bwd Packets', 'Fwd Packet Length Max', 'Fwd Packet Length Min', 'Fwd Packet Length Mean',\r\n",
        "                      'Fwd Packet Length Std', 'Bwd Packet Length Max', 'Bwd Packet Length Min', 'Bwd Packet Length Mean', 'Bwd Packet Length Std',\r\n",
        "                      'Flow Bytes/s', 'Flow Packets/s', 'Flow IAT Mean', 'Flow IAT Std', 'Flow IAT Max', 'Flow IAT Min', 'Fwd IAT Total',\r\n",
        "                      'Fwd IAT Mean', 'Fwd IAT Std', 'Fwd IAT Max', 'Fwd IAT Min', 'Bwd IAT Total', 'Bwd IAT Mean', 'Bwd IAT Std', 'Bwd IAT Max',\r\n",
        "                      'Bwd IAT Min', 'Fwd PSH Flags', 'Fwd URG Flags', 'Fwd Header Length', 'Bwd Header Length',\r\n",
        "                      'Fwd Packets/s', 'Bwd Packets/s', 'Min Packet Length', 'Max Packet Length', 'Packet Length Mean', 'Packet Length Std',\r\n",
        "                      'Packet Length Variance', 'FIN Flag Count', 'SYN Flag Count', 'RST Flag Count', 'PSH Flag Count', 'ACK Flag Count',\r\n",
        "                      'URG Flag Count', 'CWE Flag Count', 'ECE Flag Count', 'Down/Up Ratio', 'Average Packet Size', 'Avg Fwd Segment Size',\r\n",
        "                      'Avg Bwd Segment Size','Subflow Fwd Packets', 'Subflow Fwd Bytes',\r\n",
        "                      'Subflow Bwd Packets', 'Subflow Bwd Bytes', 'Init_Win_bytes_forward', 'Init_Win_bytes_backward',\r\n",
        "                      'act_data_pkt_fwd', 'min_seg_size_forward', 'Active Mean', 'Active Std', 'Active Max', 'Active Min', 'Idle Mean',\r\n",
        "                      'Idle Std', 'Idle Max', 'Idle Min', 'Label'])"
      ],
      "execution_count": 8,
      "outputs": []
    },
    {
      "cell_type": "markdown",
      "metadata": {
        "id": "rC6XqERIc9c4"
      },
      "source": [
        "According to \"**Selection and Performance Analysis of CICIDS2017 Features Importance**\", the important features are: *Destination Port, Fwd IAT Min, Init_Win_bytes_Forward, Init_Win_bytes_backward* and *FlowIATMin*"
      ]
    },
    {
      "cell_type": "code",
      "metadata": {
        "id": "uSfAZhiPCwpu"
      },
      "source": [
        "col_important = np.array(['Source Port', 'Destination Port', 'Fwd IAT Min', 'Init_Win_bytes_forward', 'Init_Win_bytes_backward', 'Flow IAT Min',\r\n",
        "                      'Flow Duration', 'Total Fwd Packets', 'Total Backward Packets', 'Total Length of Fwd Packets',\r\n",
        "                      'Total Length of Bwd Packets', 'Fwd Packet Length Max', 'Protocol', 'Fwd Packet Length Min', 'Fwd Packet Length Mean',\r\n",
        "                      'Fwd Packet Length Std', 'Bwd Packet Length Max', 'Bwd Packet Length Min', 'Bwd Packet Length Mean', 'Bwd Packet Length Std',\r\n",
        "                      'Flow Bytes/s', 'Flow Packets/s', 'Flow IAT Mean', 'Flow IAT Std', 'Flow IAT Max', 'Fwd IAT Total',\r\n",
        "                      'Fwd IAT Mean', 'Fwd IAT Std', 'Fwd IAT Max', 'Bwd IAT Total', 'Bwd IAT Mean', 'Bwd IAT Std', 'Bwd IAT Max',\r\n",
        "                      'Bwd IAT Min', 'Fwd PSH Flags', 'Fwd URG Flags', 'Fwd Header Length', 'Bwd Header Length',\r\n",
        "                      'Fwd Packets/s', 'Bwd Packets/s', 'Min Packet Length', 'Max Packet Length', 'Packet Length Mean', 'Packet Length Std',\r\n",
        "                      'Packet Length Variance', 'FIN Flag Count', 'SYN Flag Count', 'RST Flag Count', 'PSH Flag Count', 'ACK Flag Count',\r\n",
        "                      'URG Flag Count', 'CWE Flag Count', 'ECE Flag Count', 'Down/Up Ratio', 'Average Packet Size', 'Avg Fwd Segment Size',\r\n",
        "                      'Avg Bwd Segment Size','Subflow Fwd Packets', 'Subflow Fwd Bytes',\r\n",
        "                      'Subflow Bwd Packets', 'Subflow Bwd Bytes', \r\n",
        "                      'act_data_pkt_fwd', 'min_seg_size_forward', 'Active Mean', 'Active Std', 'Active Max', 'Active Min', 'Idle Mean',\r\n",
        "                      'Idle Std', 'Idle Max', 'Idle Min', 'Label'])"
      ],
      "execution_count": 9,
      "outputs": []
    },
    {
      "cell_type": "code",
      "metadata": {
        "id": "E17GpxaNymAz",
        "colab": {
          "base_uri": "https://localhost:8080/",
          "height": 434
        },
        "outputId": "7e5e2164-7523-4dce-8338-fcb04cf67e84"
      },
      "source": [
        "# load train data\n",
        "#df_train = pd.read_csv('/content/drive/My Drive/CICIDS2017/train_set.csv',names=col_names, skiprows=1)  \n",
        "df_train = pd.read_csv('/content/drive/My Drive/CICIDS2017/train_set.csv',names=col_important, skiprows=1) \n",
        "df_train.head()"
      ],
      "execution_count": 10,
      "outputs": [
        {
          "output_type": "execute_result",
          "data": {
            "text/html": [
              "<div>\n",
              "<style scoped>\n",
              "    .dataframe tbody tr th:only-of-type {\n",
              "        vertical-align: middle;\n",
              "    }\n",
              "\n",
              "    .dataframe tbody tr th {\n",
              "        vertical-align: top;\n",
              "    }\n",
              "\n",
              "    .dataframe thead th {\n",
              "        text-align: right;\n",
              "    }\n",
              "</style>\n",
              "<table border=\"1\" class=\"dataframe\">\n",
              "  <thead>\n",
              "    <tr style=\"text-align: right;\">\n",
              "      <th></th>\n",
              "      <th></th>\n",
              "      <th></th>\n",
              "      <th></th>\n",
              "      <th></th>\n",
              "      <th></th>\n",
              "      <th></th>\n",
              "      <th></th>\n",
              "      <th></th>\n",
              "      <th></th>\n",
              "      <th></th>\n",
              "      <th></th>\n",
              "      <th></th>\n",
              "      <th></th>\n",
              "      <th>Source Port</th>\n",
              "      <th>Destination Port</th>\n",
              "      <th>Fwd IAT Min</th>\n",
              "      <th>Init_Win_bytes_forward</th>\n",
              "      <th>Init_Win_bytes_backward</th>\n",
              "      <th>Flow IAT Min</th>\n",
              "      <th>Flow Duration</th>\n",
              "      <th>Total Fwd Packets</th>\n",
              "      <th>Total Backward Packets</th>\n",
              "      <th>Total Length of Fwd Packets</th>\n",
              "      <th>Total Length of Bwd Packets</th>\n",
              "      <th>Fwd Packet Length Max</th>\n",
              "      <th>Protocol</th>\n",
              "      <th>Fwd Packet Length Min</th>\n",
              "      <th>Fwd Packet Length Mean</th>\n",
              "      <th>Fwd Packet Length Std</th>\n",
              "      <th>Bwd Packet Length Max</th>\n",
              "      <th>Bwd Packet Length Min</th>\n",
              "      <th>Bwd Packet Length Mean</th>\n",
              "      <th>Bwd Packet Length Std</th>\n",
              "      <th>Flow Bytes/s</th>\n",
              "      <th>Flow Packets/s</th>\n",
              "      <th>Flow IAT Mean</th>\n",
              "      <th>Flow IAT Std</th>\n",
              "      <th>Flow IAT Max</th>\n",
              "      <th>Fwd IAT Total</th>\n",
              "      <th>Fwd IAT Mean</th>\n",
              "      <th>Fwd IAT Std</th>\n",
              "      <th>Fwd IAT Max</th>\n",
              "      <th>Bwd IAT Total</th>\n",
              "      <th>Bwd IAT Mean</th>\n",
              "      <th>Bwd IAT Std</th>\n",
              "      <th>Bwd IAT Max</th>\n",
              "      <th>Bwd IAT Min</th>\n",
              "      <th>Fwd PSH Flags</th>\n",
              "      <th>Fwd URG Flags</th>\n",
              "      <th>Fwd Header Length</th>\n",
              "      <th>Bwd Header Length</th>\n",
              "      <th>Fwd Packets/s</th>\n",
              "      <th>Bwd Packets/s</th>\n",
              "      <th>Min Packet Length</th>\n",
              "      <th>Max Packet Length</th>\n",
              "      <th>Packet Length Mean</th>\n",
              "      <th>Packet Length Std</th>\n",
              "      <th>Packet Length Variance</th>\n",
              "      <th>FIN Flag Count</th>\n",
              "      <th>SYN Flag Count</th>\n",
              "      <th>RST Flag Count</th>\n",
              "      <th>PSH Flag Count</th>\n",
              "      <th>ACK Flag Count</th>\n",
              "      <th>URG Flag Count</th>\n",
              "      <th>CWE Flag Count</th>\n",
              "      <th>ECE Flag Count</th>\n",
              "      <th>Down/Up Ratio</th>\n",
              "      <th>Average Packet Size</th>\n",
              "      <th>Avg Fwd Segment Size</th>\n",
              "      <th>Avg Bwd Segment Size</th>\n",
              "      <th>Subflow Fwd Packets</th>\n",
              "      <th>Subflow Fwd Bytes</th>\n",
              "      <th>Subflow Bwd Packets</th>\n",
              "      <th>Subflow Bwd Bytes</th>\n",
              "      <th>act_data_pkt_fwd</th>\n",
              "      <th>min_seg_size_forward</th>\n",
              "      <th>Active Mean</th>\n",
              "      <th>Active Std</th>\n",
              "      <th>Active Max</th>\n",
              "      <th>Active Min</th>\n",
              "      <th>Idle Mean</th>\n",
              "      <th>Idle Std</th>\n",
              "      <th>Idle Max</th>\n",
              "      <th>Idle Min</th>\n",
              "      <th>Label</th>\n",
              "    </tr>\n",
              "  </thead>\n",
              "  <tbody>\n",
              "    <tr>\n",
              "      <th>5141</th>\n",
              "      <th>172.16.0.1-192.168.10.50-50294-80-6</th>\n",
              "      <th>172.16.0.1</th>\n",
              "      <th>50294.0</th>\n",
              "      <th>192.168.10.50</th>\n",
              "      <th>80.0</th>\n",
              "      <th>6.0</th>\n",
              "      <th>5/7/2017 10:33</th>\n",
              "      <th>63101744.0</th>\n",
              "      <th>7.0</th>\n",
              "      <th>0.0</th>\n",
              "      <th>0.0</th>\n",
              "      <th>0.0</th>\n",
              "      <th>0.0</th>\n",
              "      <td>0.0</td>\n",
              "      <td>0.000000</td>\n",
              "      <td>0.000000</td>\n",
              "      <td>0.0</td>\n",
              "      <td>0.0</td>\n",
              "      <td>0.0</td>\n",
              "      <td>0.0</td>\n",
              "      <td>0.000000e+00</td>\n",
              "      <td>0.110932</td>\n",
              "      <td>10500000.0</td>\n",
              "      <td>1.190000e+07</td>\n",
              "      <td>32100000.0</td>\n",
              "      <td>998158.0</td>\n",
              "      <td>63100000.0</td>\n",
              "      <td>1.050000e+07</td>\n",
              "      <td>1.190000e+07</td>\n",
              "      <td>32100000.0</td>\n",
              "      <td>998158.0</td>\n",
              "      <td>0.0</td>\n",
              "      <td>0.0</td>\n",
              "      <td>0.00000</td>\n",
              "      <td>0.0</td>\n",
              "      <td>0.0</td>\n",
              "      <td>0.0</td>\n",
              "      <td>0.0</td>\n",
              "      <td>0.0</td>\n",
              "      <td>0.0</td>\n",
              "      <td>280.0</td>\n",
              "      <td>0.0</td>\n",
              "      <td>0.110932</td>\n",
              "      <td>0.000000</td>\n",
              "      <td>0.0</td>\n",
              "      <td>0.0</td>\n",
              "      <td>0.000000</td>\n",
              "      <td>0.000000</td>\n",
              "      <td>0.000000</td>\n",
              "      <td>0.0</td>\n",
              "      <td>0.0</td>\n",
              "      <td>0.0</td>\n",
              "      <td>1.0</td>\n",
              "      <td>0.0</td>\n",
              "      <td>0.0</td>\n",
              "      <td>0.0</td>\n",
              "      <td>0.0</td>\n",
              "      <td>0.0</td>\n",
              "      <td>0.000000</td>\n",
              "      <td>0.000000</td>\n",
              "      <td>0.0</td>\n",
              "      <td>280.0</td>\n",
              "      <td>0.0</td>\n",
              "      <td>0.0</td>\n",
              "      <td>0.0</td>\n",
              "      <td>0.0</td>\n",
              "      <td>0.0</td>\n",
              "      <td>0.0</td>\n",
              "      <td>7.0</td>\n",
              "      <td>0.0</td>\n",
              "      <td>0.0</td>\n",
              "      <td>0.0</td>\n",
              "      <td>29200.0</td>\n",
              "      <td>-1.0</td>\n",
              "      <td>0.0</td>\n",
              "      <td>40.0</td>\n",
              "      <td>7006133.0</td>\n",
              "      <td>0.0</td>\n",
              "      <td>7006133.0</td>\n",
              "      <td>7006133.0</td>\n",
              "      <td>18700000.0</td>\n",
              "      <td>12200000.0</td>\n",
              "      <td>32100000.0</td>\n",
              "      <td>8015895.0</td>\n",
              "      <td>DoS Slowhttptest</td>\n",
              "    </tr>\n",
              "    <tr>\n",
              "      <th>40963</th>\n",
              "      <th>172.16.0.1-192.168.10.50-37796-1199-6</th>\n",
              "      <th>172.16.0.1</th>\n",
              "      <th>37796.0</th>\n",
              "      <th>192.168.10.50</th>\n",
              "      <th>1199.0</th>\n",
              "      <th>6.0</th>\n",
              "      <th>7/7/2017 2:52</th>\n",
              "      <th>62.0</th>\n",
              "      <th>1.0</th>\n",
              "      <th>1.0</th>\n",
              "      <th>2.0</th>\n",
              "      <th>6.0</th>\n",
              "      <th>2.0</th>\n",
              "      <td>2.0</td>\n",
              "      <td>2.000000</td>\n",
              "      <td>0.000000</td>\n",
              "      <td>6.0</td>\n",
              "      <td>6.0</td>\n",
              "      <td>6.0</td>\n",
              "      <td>0.0</td>\n",
              "      <td>1.290323e+05</td>\n",
              "      <td>32258.064520</td>\n",
              "      <td>62.0</td>\n",
              "      <td>0.000000e+00</td>\n",
              "      <td>62.0</td>\n",
              "      <td>62.0</td>\n",
              "      <td>0.0</td>\n",
              "      <td>0.000000e+00</td>\n",
              "      <td>0.000000e+00</td>\n",
              "      <td>0.0</td>\n",
              "      <td>0.0</td>\n",
              "      <td>0.0</td>\n",
              "      <td>0.0</td>\n",
              "      <td>0.00000</td>\n",
              "      <td>0.0</td>\n",
              "      <td>0.0</td>\n",
              "      <td>0.0</td>\n",
              "      <td>0.0</td>\n",
              "      <td>0.0</td>\n",
              "      <td>0.0</td>\n",
              "      <td>24.0</td>\n",
              "      <td>20.0</td>\n",
              "      <td>16129.032260</td>\n",
              "      <td>16129.032260</td>\n",
              "      <td>2.0</td>\n",
              "      <td>6.0</td>\n",
              "      <td>3.333333</td>\n",
              "      <td>2.309401</td>\n",
              "      <td>5.333333</td>\n",
              "      <td>0.0</td>\n",
              "      <td>0.0</td>\n",
              "      <td>0.0</td>\n",
              "      <td>1.0</td>\n",
              "      <td>0.0</td>\n",
              "      <td>0.0</td>\n",
              "      <td>0.0</td>\n",
              "      <td>0.0</td>\n",
              "      <td>1.0</td>\n",
              "      <td>5.000000</td>\n",
              "      <td>2.000000</td>\n",
              "      <td>6.0</td>\n",
              "      <td>24.0</td>\n",
              "      <td>0.0</td>\n",
              "      <td>0.0</td>\n",
              "      <td>0.0</td>\n",
              "      <td>0.0</td>\n",
              "      <td>0.0</td>\n",
              "      <td>0.0</td>\n",
              "      <td>1.0</td>\n",
              "      <td>2.0</td>\n",
              "      <td>1.0</td>\n",
              "      <td>6.0</td>\n",
              "      <td>1024.0</td>\n",
              "      <td>0.0</td>\n",
              "      <td>0.0</td>\n",
              "      <td>24.0</td>\n",
              "      <td>0.0</td>\n",
              "      <td>0.0</td>\n",
              "      <td>0.0</td>\n",
              "      <td>0.0</td>\n",
              "      <td>0.0</td>\n",
              "      <td>0.0</td>\n",
              "      <td>0.0</td>\n",
              "      <td>0.0</td>\n",
              "      <td>PortScan</td>\n",
              "    </tr>\n",
              "    <tr>\n",
              "      <th>27718</th>\n",
              "      <th>172.217.6.200-192.168.10.12-443-42634-6</th>\n",
              "      <th>172.217.6.200</th>\n",
              "      <th>443.0</th>\n",
              "      <th>192.168.10.12</th>\n",
              "      <th>42634.0</th>\n",
              "      <th>6.0</th>\n",
              "      <th>03/07/2017 09:49:12</th>\n",
              "      <th>3.0</th>\n",
              "      <th>2.0</th>\n",
              "      <th>0.0</th>\n",
              "      <th>0.0</th>\n",
              "      <th>0.0</th>\n",
              "      <th>0.0</th>\n",
              "      <td>0.0</td>\n",
              "      <td>0.000000</td>\n",
              "      <td>0.000000</td>\n",
              "      <td>0.0</td>\n",
              "      <td>0.0</td>\n",
              "      <td>0.0</td>\n",
              "      <td>0.0</td>\n",
              "      <td>0.000000e+00</td>\n",
              "      <td>666666.666667</td>\n",
              "      <td>3.0</td>\n",
              "      <td>0.000000e+00</td>\n",
              "      <td>3.0</td>\n",
              "      <td>3.0</td>\n",
              "      <td>3.0</td>\n",
              "      <td>3.000000e+00</td>\n",
              "      <td>0.000000e+00</td>\n",
              "      <td>3.0</td>\n",
              "      <td>3.0</td>\n",
              "      <td>0.0</td>\n",
              "      <td>0.0</td>\n",
              "      <td>0.00000</td>\n",
              "      <td>0.0</td>\n",
              "      <td>0.0</td>\n",
              "      <td>0.0</td>\n",
              "      <td>0.0</td>\n",
              "      <td>0.0</td>\n",
              "      <td>0.0</td>\n",
              "      <td>64.0</td>\n",
              "      <td>0.0</td>\n",
              "      <td>666666.666667</td>\n",
              "      <td>0.000000</td>\n",
              "      <td>0.0</td>\n",
              "      <td>0.0</td>\n",
              "      <td>0.000000</td>\n",
              "      <td>0.000000</td>\n",
              "      <td>0.000000</td>\n",
              "      <td>0.0</td>\n",
              "      <td>0.0</td>\n",
              "      <td>0.0</td>\n",
              "      <td>0.0</td>\n",
              "      <td>1.0</td>\n",
              "      <td>0.0</td>\n",
              "      <td>0.0</td>\n",
              "      <td>0.0</td>\n",
              "      <td>0.0</td>\n",
              "      <td>0.000000</td>\n",
              "      <td>0.000000</td>\n",
              "      <td>0.0</td>\n",
              "      <td>64.0</td>\n",
              "      <td>0.0</td>\n",
              "      <td>0.0</td>\n",
              "      <td>0.0</td>\n",
              "      <td>0.0</td>\n",
              "      <td>0.0</td>\n",
              "      <td>0.0</td>\n",
              "      <td>2.0</td>\n",
              "      <td>0.0</td>\n",
              "      <td>0.0</td>\n",
              "      <td>0.0</td>\n",
              "      <td>357.0</td>\n",
              "      <td>-1.0</td>\n",
              "      <td>0.0</td>\n",
              "      <td>32.0</td>\n",
              "      <td>0.0</td>\n",
              "      <td>0.0</td>\n",
              "      <td>0.0</td>\n",
              "      <td>0.0</td>\n",
              "      <td>0.0</td>\n",
              "      <td>0.0</td>\n",
              "      <td>0.0</td>\n",
              "      <td>0.0</td>\n",
              "      <td>BENIGN</td>\n",
              "    </tr>\n",
              "    <tr>\n",
              "      <th>106492</th>\n",
              "      <th>192.168.10.8-23.208.79.206-52235-443-6</th>\n",
              "      <th>192.168.10.8</th>\n",
              "      <th>52235.0</th>\n",
              "      <th>23.208.79.206</th>\n",
              "      <th>443.0</th>\n",
              "      <th>6.0</th>\n",
              "      <th>4/7/2017 11:46</th>\n",
              "      <th>5007496.0</th>\n",
              "      <th>7.0</th>\n",
              "      <th>4.0</th>\n",
              "      <th>1679.0</th>\n",
              "      <th>152.0</th>\n",
              "      <th>1080.0</th>\n",
              "      <td>0.0</td>\n",
              "      <td>239.857143</td>\n",
              "      <td>415.237052</td>\n",
              "      <td>152.0</td>\n",
              "      <td>0.0</td>\n",
              "      <td>38.0</td>\n",
              "      <td>76.0</td>\n",
              "      <td>3.656518e+02</td>\n",
              "      <td>2.196707</td>\n",
              "      <td>500749.6</td>\n",
              "      <td>1.543257e+06</td>\n",
              "      <td>4892570.0</td>\n",
              "      <td>3.0</td>\n",
              "      <td>5007496.0</td>\n",
              "      <td>8.345827e+05</td>\n",
              "      <td>2.018795e+06</td>\n",
              "      <td>4955369.0</td>\n",
              "      <td>3.0</td>\n",
              "      <td>87090.0</td>\n",
              "      <td>29030.0</td>\n",
              "      <td>31709.63089</td>\n",
              "      <td>63179.0</td>\n",
              "      <td>515.0</td>\n",
              "      <td>0.0</td>\n",
              "      <td>0.0</td>\n",
              "      <td>0.0</td>\n",
              "      <td>0.0</td>\n",
              "      <td>152.0</td>\n",
              "      <td>92.0</td>\n",
              "      <td>1.397904</td>\n",
              "      <td>0.798802</td>\n",
              "      <td>0.0</td>\n",
              "      <td>1080.0</td>\n",
              "      <td>152.583333</td>\n",
              "      <td>327.660428</td>\n",
              "      <td>107361.356100</td>\n",
              "      <td>0.0</td>\n",
              "      <td>0.0</td>\n",
              "      <td>0.0</td>\n",
              "      <td>1.0</td>\n",
              "      <td>0.0</td>\n",
              "      <td>0.0</td>\n",
              "      <td>0.0</td>\n",
              "      <td>0.0</td>\n",
              "      <td>0.0</td>\n",
              "      <td>166.454545</td>\n",
              "      <td>239.857143</td>\n",
              "      <td>38.0</td>\n",
              "      <td>152.0</td>\n",
              "      <td>0.0</td>\n",
              "      <td>0.0</td>\n",
              "      <td>0.0</td>\n",
              "      <td>0.0</td>\n",
              "      <td>0.0</td>\n",
              "      <td>0.0</td>\n",
              "      <td>7.0</td>\n",
              "      <td>1679.0</td>\n",
              "      <td>4.0</td>\n",
              "      <td>152.0</td>\n",
              "      <td>8192.0</td>\n",
              "      <td>946.0</td>\n",
              "      <td>4.0</td>\n",
              "      <td>20.0</td>\n",
              "      <td>0.0</td>\n",
              "      <td>0.0</td>\n",
              "      <td>0.0</td>\n",
              "      <td>0.0</td>\n",
              "      <td>0.0</td>\n",
              "      <td>0.0</td>\n",
              "      <td>0.0</td>\n",
              "      <td>0.0</td>\n",
              "      <td>BENIGN</td>\n",
              "    </tr>\n",
              "    <tr>\n",
              "      <th>63559</th>\n",
              "      <th>192.168.10.14-52.84.30.203-59835-80-6</th>\n",
              "      <th>52.84.30.203</th>\n",
              "      <th>80.0</th>\n",
              "      <th>192.168.10.14</th>\n",
              "      <th>59835.0</th>\n",
              "      <th>6.0</th>\n",
              "      <th>6/7/2017 10:04</th>\n",
              "      <th>4.0</th>\n",
              "      <th>1.0</th>\n",
              "      <th>1.0</th>\n",
              "      <th>6.0</th>\n",
              "      <th>6.0</th>\n",
              "      <th>6.0</th>\n",
              "      <td>6.0</td>\n",
              "      <td>6.000000</td>\n",
              "      <td>0.000000</td>\n",
              "      <td>6.0</td>\n",
              "      <td>6.0</td>\n",
              "      <td>6.0</td>\n",
              "      <td>0.0</td>\n",
              "      <td>3.000000e+06</td>\n",
              "      <td>500000.000000</td>\n",
              "      <td>4.0</td>\n",
              "      <td>0.000000e+00</td>\n",
              "      <td>4.0</td>\n",
              "      <td>4.0</td>\n",
              "      <td>0.0</td>\n",
              "      <td>0.000000e+00</td>\n",
              "      <td>0.000000e+00</td>\n",
              "      <td>0.0</td>\n",
              "      <td>0.0</td>\n",
              "      <td>0.0</td>\n",
              "      <td>0.0</td>\n",
              "      <td>0.00000</td>\n",
              "      <td>0.0</td>\n",
              "      <td>0.0</td>\n",
              "      <td>0.0</td>\n",
              "      <td>0.0</td>\n",
              "      <td>0.0</td>\n",
              "      <td>0.0</td>\n",
              "      <td>20.0</td>\n",
              "      <td>20.0</td>\n",
              "      <td>250000.000000</td>\n",
              "      <td>250000.000000</td>\n",
              "      <td>6.0</td>\n",
              "      <td>6.0</td>\n",
              "      <td>6.000000</td>\n",
              "      <td>0.000000</td>\n",
              "      <td>0.000000</td>\n",
              "      <td>0.0</td>\n",
              "      <td>0.0</td>\n",
              "      <td>0.0</td>\n",
              "      <td>0.0</td>\n",
              "      <td>1.0</td>\n",
              "      <td>1.0</td>\n",
              "      <td>0.0</td>\n",
              "      <td>0.0</td>\n",
              "      <td>1.0</td>\n",
              "      <td>9.000000</td>\n",
              "      <td>6.000000</td>\n",
              "      <td>6.0</td>\n",
              "      <td>20.0</td>\n",
              "      <td>0.0</td>\n",
              "      <td>0.0</td>\n",
              "      <td>0.0</td>\n",
              "      <td>0.0</td>\n",
              "      <td>0.0</td>\n",
              "      <td>0.0</td>\n",
              "      <td>1.0</td>\n",
              "      <td>6.0</td>\n",
              "      <td>1.0</td>\n",
              "      <td>6.0</td>\n",
              "      <td>115.0</td>\n",
              "      <td>256.0</td>\n",
              "      <td>0.0</td>\n",
              "      <td>20.0</td>\n",
              "      <td>0.0</td>\n",
              "      <td>0.0</td>\n",
              "      <td>0.0</td>\n",
              "      <td>0.0</td>\n",
              "      <td>0.0</td>\n",
              "      <td>0.0</td>\n",
              "      <td>0.0</td>\n",
              "      <td>0.0</td>\n",
              "      <td>BENIGN</td>\n",
              "    </tr>\n",
              "  </tbody>\n",
              "</table>\n",
              "</div>"
            ],
            "text/plain": [
              "                                                                                                                                                           Source Port  ...             Label\n",
              "5141   172.16.0.1-192.168.10.50-50294-80-6     172.16.0.1    50294.0 192.168.10.50 80.0    6.0 5/7/2017 10:33      63101744.0 7.0 0.0 0.0    0.0   0.0             0.0  ...  DoS Slowhttptest\n",
              "40963  172.16.0.1-192.168.10.50-37796-1199-6   172.16.0.1    37796.0 192.168.10.50 1199.0  6.0 7/7/2017 2:52       62.0       1.0 1.0 2.0    6.0   2.0             2.0  ...          PortScan\n",
              "27718  172.217.6.200-192.168.10.12-443-42634-6 172.217.6.200 443.0   192.168.10.12 42634.0 6.0 03/07/2017 09:49:12 3.0        2.0 0.0 0.0    0.0   0.0             0.0  ...            BENIGN\n",
              "106492 192.168.10.8-23.208.79.206-52235-443-6  192.168.10.8  52235.0 23.208.79.206 443.0   6.0 4/7/2017 11:46      5007496.0  7.0 4.0 1679.0 152.0 1080.0          0.0  ...            BENIGN\n",
              "63559  192.168.10.14-52.84.30.203-59835-80-6   52.84.30.203  80.0    192.168.10.14 59835.0 6.0 6/7/2017 10:04      4.0        1.0 1.0 6.0    6.0   6.0             6.0  ...            BENIGN\n",
              "\n",
              "[5 rows x 72 columns]"
            ]
          },
          "metadata": {
            "tags": []
          },
          "execution_count": 10
        }
      ]
    },
    {
      "cell_type": "code",
      "metadata": {
        "colab": {
          "base_uri": "https://localhost:8080/"
        },
        "id": "YXMkWoEUymA0",
        "outputId": "90dcc115-9f00-4572-9688-a96f79aa633d"
      },
      "source": [
        "#df_test = pd.read_csv('/content/drive/My Drive/CICIDS2017/test_set.csv',names=col_names, skiprows=1)  \n",
        "df_test = pd.read_csv('/content/drive/My Drive/CICIDS2017/test_set.csv',names=col_important, skiprows=1) \n",
        "print('Test set size: ', df_test.shape)\n",
        "\n",
        "#df_val = pd.read_csv('/content/drive/My Drive/CICIDS2017/crossval_set.csv',names=col_names, skiprows=1)  \n",
        "df_val = pd.read_csv('/content/drive/My Drive/CICIDS2017/crossval_set.csv',names=col_important, skiprows=1) \n",
        "print('Validation set size: ', df_val.shape)"
      ],
      "execution_count": 11,
      "outputs": [
        {
          "output_type": "stream",
          "text": [
            "Test set size:  (278270, 72)\n",
            "Validation set size:  (278270, 72)\n"
          ],
          "name": "stdout"
        }
      ]
    },
    {
      "cell_type": "code",
      "metadata": {
        "scrolled": false,
        "colab": {
          "base_uri": "https://localhost:8080/"
        },
        "id": "cPLtWtJ8ymA1",
        "outputId": "d9d04ee7-e933-4af2-f93b-aca74aa8f20d"
      },
      "source": [
        "# Here we can see the number of rows and columns for each table.\n",
        "print(df_train.shape)"
      ],
      "execution_count": 12,
      "outputs": [
        {
          "output_type": "stream",
          "text": [
            "(556548, 72)\n"
          ],
          "name": "stdout"
        }
      ]
    },
    {
      "cell_type": "markdown",
      "metadata": {
        "id": "VVGdQOpFnhMT"
      },
      "source": [
        "Count the number of attacks"
      ]
    },
    {
      "cell_type": "code",
      "metadata": {
        "colab": {
          "base_uri": "https://localhost:8080/"
        },
        "id": "ZK5kP4X3ngMA",
        "outputId": "82a14796-afcf-49a2-92cc-9b7632249b63"
      },
      "source": [
        "df_train['Label'].value_counts()"
      ],
      "execution_count": 13,
      "outputs": [
        {
          "output_type": "execute_result",
          "data": {
            "text/plain": [
              "BENIGN                        278274\n",
              "DoS Hulk                      115062\n",
              "PortScan                       79402\n",
              "DDoS                           64012\n",
              "DoS GoldenEye                   5146\n",
              "FTP-Patator                     3967\n",
              "SSH-Patator                     2948\n",
              "DoS slowloris                   2898\n",
              "DoS Slowhttptest                2749\n",
              "Bot                              978\n",
              "Web Attack  Brute Force         753\n",
              "Web Attack  XSS                 326\n",
              "Infiltration                      18\n",
              "Web Attack  Sql Injection        10\n",
              "Heartbleed                         5\n",
              "Name: Label, dtype: int64"
            ]
          },
          "metadata": {
            "tags": []
          },
          "execution_count": 13
        }
      ]
    },
    {
      "cell_type": "code",
      "metadata": {
        "colab": {
          "base_uri": "https://localhost:8080/"
        },
        "id": "kCjcgUmlnr0T",
        "outputId": "e2cb13fd-b885-4513-b2c4-b66ccc87fdcf"
      },
      "source": [
        "print('Test set: ')\r\n",
        "df_test['Label'].value_counts()"
      ],
      "execution_count": 14,
      "outputs": [
        {
          "output_type": "stream",
          "text": [
            "Test set: \n"
          ],
          "name": "stdout"
        },
        {
          "output_type": "execute_result",
          "data": {
            "text/plain": [
              "BENIGN                        139135\n",
              "DoS Hulk                       57531\n",
              "PortScan                       39701\n",
              "DDoS                           32006\n",
              "DoS GoldenEye                   2573\n",
              "FTP-Patator                     1983\n",
              "SSH-Patator                     1474\n",
              "DoS slowloris                   1449\n",
              "DoS Slowhttptest                1374\n",
              "Bot                              489\n",
              "Web Attack  Brute Force         376\n",
              "Web Attack  XSS                 163\n",
              "Infiltration                       9\n",
              "Web Attack  Sql Injection         5\n",
              "Heartbleed                         2\n",
              "Name: Label, dtype: int64"
            ]
          },
          "metadata": {
            "tags": []
          },
          "execution_count": 14
        }
      ]
    },
    {
      "cell_type": "code",
      "metadata": {
        "colab": {
          "base_uri": "https://localhost:8080/"
        },
        "id": "1sIo9YzUnuY5",
        "outputId": "351b6a96-95b9-49a1-ec41-b7a91c459498"
      },
      "source": [
        "print('Validation set: ')\r\n",
        "df_val['Label'].value_counts()"
      ],
      "execution_count": 15,
      "outputs": [
        {
          "output_type": "stream",
          "text": [
            "Validation set: \n"
          ],
          "name": "stdout"
        },
        {
          "output_type": "execute_result",
          "data": {
            "text/plain": [
              "BENIGN                        139135\n",
              "DoS Hulk                       57531\n",
              "PortScan                       39701\n",
              "DDoS                           32006\n",
              "DoS GoldenEye                   2573\n",
              "FTP-Patator                     1983\n",
              "SSH-Patator                     1474\n",
              "DoS slowloris                   1449\n",
              "DoS Slowhttptest                1374\n",
              "Bot                              489\n",
              "Web Attack  Brute Force         376\n",
              "Web Attack  XSS                 163\n",
              "Infiltration                       9\n",
              "Web Attack  Sql Injection         5\n",
              "Heartbleed                         2\n",
              "Name: Label, dtype: int64"
            ]
          },
          "metadata": {
            "tags": []
          },
          "execution_count": 15
        }
      ]
    },
    {
      "cell_type": "markdown",
      "metadata": {
        "id": "DzHvvoMDotTj"
      },
      "source": [
        "## Step 2. Randomly Selecting 2000 examples from each type"
      ]
    },
    {
      "cell_type": "markdown",
      "metadata": {
        "id": "asjXEVY7yrXa"
      },
      "source": [
        "First, selecting 4000 examples for each type in train dataset"
      ]
    },
    {
      "cell_type": "code",
      "metadata": {
        "id": "nW88xIvao0GO"
      },
      "source": [
        "df_label = df_train['Label']\r\n",
        "data = df_train.drop(columns=['Label'])\r\n",
        "X = data.values\r\n",
        "y = encode_label(df_label.values)"
      ],
      "execution_count": 16,
      "outputs": []
    },
    {
      "cell_type": "code",
      "metadata": {
        "colab": {
          "base_uri": "https://localhost:8080/"
        },
        "id": "m32yYQ-prx45",
        "outputId": "5a9d0e3f-c6b4-4a9e-d419-bea14ba21ee9"
      },
      "source": [
        "print(X.shape)\r\n",
        "print(y.shape)"
      ],
      "execution_count": 17,
      "outputs": [
        {
          "output_type": "stream",
          "text": [
            "(556548, 71)\n",
            "(556548,)\n"
          ],
          "name": "stdout"
        }
      ]
    },
    {
      "cell_type": "code",
      "metadata": {
        "colab": {
          "base_uri": "https://localhost:8080/"
        },
        "id": "jo9psJWmx7y7",
        "outputId": "7917d5e6-36b7-4cf8-e0c7-8d103c0a0b15"
      },
      "source": [
        "unique, counts = np.unique(y, return_counts=True)\r\n",
        "print(unique, counts)"
      ],
      "execution_count": 18,
      "outputs": [
        {
          "output_type": "stream",
          "text": [
            "[ 0  1  2  3  4  5  6  7  8  9 10 11 12 13 14] [278274    978  64012   5146 115062   2749   2898   3967      5     18\n",
            "  79402   2948    753     10    326]\n"
          ],
          "name": "stdout"
        }
      ]
    },
    {
      "cell_type": "code",
      "metadata": {
        "id": "RDTCXiY-qtFZ"
      },
      "source": [
        "SEED = 2\r\n",
        "X_train,y_train = balance_data(X,y,seed=SEED, mean_samples=4000)"
      ],
      "execution_count": 19,
      "outputs": []
    },
    {
      "cell_type": "code",
      "metadata": {
        "colab": {
          "base_uri": "https://localhost:8080/"
        },
        "id": "Ks1hpGiFyRi_",
        "outputId": "00b4b53b-9d36-465b-d792-98aecff5744b"
      },
      "source": [
        "print(X_train.shape)\r\n",
        "print(y_train.shape)\r\n",
        "unique, counts = np.unique(y_train, return_counts=True)\r\n",
        "print(unique, counts)"
      ],
      "execution_count": 20,
      "outputs": [
        {
          "output_type": "stream",
          "text": [
            "(60000, 71)\n",
            "(60000,)\n",
            "[ 0  1  2  3  4  5  6  7  8  9 10 11 12 13 14] [4000 4000 4000 4000 4000 4000 4000 4000 4000 4000 4000 4000 4000 4000\n",
            " 4000]\n"
          ],
          "name": "stdout"
        }
      ]
    },
    {
      "cell_type": "markdown",
      "metadata": {
        "id": "Gua98tTqypEx"
      },
      "source": [
        "Next, selecting 1000 examples from validation datesets"
      ]
    },
    {
      "cell_type": "code",
      "metadata": {
        "id": "9DbW1x3UzCzT"
      },
      "source": [
        "df_label = df_test['Label']\r\n",
        "data = df_test.drop(columns=['Label'])\r\n",
        "X = data.values\r\n",
        "y = encode_label(df_label.values)\r\n",
        "\r\n",
        "SEED = 2\r\n",
        "X_test,y_test = balance_data(X,y,seed=SEED, mean_samples=1000)"
      ],
      "execution_count": 21,
      "outputs": []
    },
    {
      "cell_type": "markdown",
      "metadata": {
        "id": "SLLES1n7zjAC"
      },
      "source": [
        "Next, selecting 500 examples from test datesets"
      ]
    },
    {
      "cell_type": "code",
      "metadata": {
        "id": "v7VxrFq3zQ8M"
      },
      "source": [
        "df_label = df_val['Label']\r\n",
        "data = df_val.drop(columns=['Label'])\r\n",
        "X = data.values\r\n",
        "y = encode_label(df_label.values)\r\n",
        "\r\n",
        "SEED = 2\r\n",
        "X_val,y_val = balance_data(X,y,seed=SEED, mean_samples=500)"
      ],
      "execution_count": 22,
      "outputs": []
    },
    {
      "cell_type": "markdown",
      "metadata": {
        "id": "BtjNVDHfymA1"
      },
      "source": [
        "## Step 3. Normalization\n",
        "\n",
        "The continuous feature values are normalized into the same feature space. This is important when using features that have different measurements, and is a general requirement of many machine learning algorithms. Therefore, the values for this dataset are also normalized using the Min-Max scaling technique, bringing them all within a range of [0,1]."
      ]
    },
    {
      "cell_type": "code",
      "metadata": {
        "id": "euTfYdWHymA2"
      },
      "source": [
        "from sklearn.preprocessing import MinMaxScaler"
      ],
      "execution_count": 23,
      "outputs": []
    },
    {
      "cell_type": "code",
      "metadata": {
        "scrolled": true,
        "colab": {
          "base_uri": "https://localhost:8080/"
        },
        "id": "S5JH_i4EymA2",
        "outputId": "ea5c6498-ed83-4858-f261-45499ad1a59b"
      },
      "source": [
        "scaler = MinMaxScaler()\n",
        "X_train = scaler.fit_transform(X_train)\n",
        "X_train"
      ],
      "execution_count": 24,
      "outputs": [
        {
          "output_type": "execute_result",
          "data": {
            "text/plain": [
              "array([[0.        , 0.        , 0.        , ..., 0.        , 0.        ,\n",
              "        0.        ],\n",
              "       [0.        , 0.        , 0.        , ..., 0.        , 0.        ,\n",
              "        0.        ],\n",
              "       [0.        , 0.00109412, 0.00130398, ..., 0.        , 0.        ,\n",
              "        0.        ],\n",
              "       ...,\n",
              "       [0.        , 0.        , 0.        , ..., 0.        , 0.        ,\n",
              "        0.        ],\n",
              "       [0.        , 0.        , 0.        , ..., 0.        , 0.        ,\n",
              "        0.        ],\n",
              "       [0.        , 0.0077991 , 0.0197178 , ..., 0.        , 0.05733978,\n",
              "        0.05733978]])"
            ]
          },
          "metadata": {
            "tags": []
          },
          "execution_count": 24
        }
      ]
    },
    {
      "cell_type": "code",
      "metadata": {
        "colab": {
          "base_uri": "https://localhost:8080/"
        },
        "id": "_PuA6ri3ymA2",
        "outputId": "61a6e77d-1a15-49c3-fc58-f72c084f80ee"
      },
      "source": [
        "X_train.shape"
      ],
      "execution_count": 25,
      "outputs": [
        {
          "output_type": "execute_result",
          "data": {
            "text/plain": [
              "(60000, 71)"
            ]
          },
          "metadata": {
            "tags": []
          },
          "execution_count": 25
        }
      ]
    },
    {
      "cell_type": "code",
      "metadata": {
        "id": "ry0R9AFFymA3"
      },
      "source": [
        "X_test = scaler.fit_transform(X_test)"
      ],
      "execution_count": 26,
      "outputs": []
    },
    {
      "cell_type": "code",
      "metadata": {
        "colab": {
          "base_uri": "https://localhost:8080/"
        },
        "id": "YeFIseICymA3",
        "outputId": "b1ef4b11-8fe8-47a7-b461-746f8038e441"
      },
      "source": [
        "X_test.shape"
      ],
      "execution_count": 27,
      "outputs": [
        {
          "output_type": "execute_result",
          "data": {
            "text/plain": [
              "(15000, 71)"
            ]
          },
          "metadata": {
            "tags": []
          },
          "execution_count": 27
        }
      ]
    },
    {
      "cell_type": "code",
      "metadata": {
        "colab": {
          "base_uri": "https://localhost:8080/"
        },
        "id": "X1mN1ZAI0gcL",
        "outputId": "809a4225-a491-4fb8-8393-c7ad83c6e34c"
      },
      "source": [
        "X_val = scaler.fit_transform(X_val)\r\n",
        "X_val"
      ],
      "execution_count": 28,
      "outputs": [
        {
          "output_type": "execute_result",
          "data": {
            "text/plain": [
              "array([[0.        , 0.        , 0.        , ..., 0.        , 0.        ,\n",
              "        0.        ],\n",
              "       [0.        , 0.00095839, 0.02132314, ..., 0.        , 0.        ,\n",
              "        0.        ],\n",
              "       [0.00100857, 0.00039029, 0.        , ..., 0.        , 0.        ,\n",
              "        0.        ],\n",
              "       ...,\n",
              "       [0.        , 0.01865954, 0.0270547 , ..., 0.        , 0.        ,\n",
              "        0.        ],\n",
              "       [0.00302572, 0.00117087, 0.        , ..., 0.        , 0.        ,\n",
              "        0.        ],\n",
              "       [0.        , 0.02337832, 0.05175073, ..., 0.        , 0.        ,\n",
              "        0.        ]])"
            ]
          },
          "metadata": {
            "tags": []
          },
          "execution_count": 28
        }
      ]
    },
    {
      "cell_type": "markdown",
      "metadata": {
        "id": "PGN8Mww10uvV"
      },
      "source": [
        "## Step 4. One-hot encoding for labels"
      ]
    },
    {
      "cell_type": "markdown",
      "metadata": {
        "id": "XayluHqdymA3"
      },
      "source": [
        "y_train and y_test have to be one-hot-encoded. That means they must have dimension (number_of_samples, 15), where 15 denotes number of classes."
      ]
    },
    {
      "cell_type": "code",
      "metadata": {
        "id": "1pMxFRGCymA4"
      },
      "source": [
        "from tensorflow.keras.utils import to_categorical"
      ],
      "execution_count": 29,
      "outputs": []
    },
    {
      "cell_type": "code",
      "metadata": {
        "colab": {
          "base_uri": "https://localhost:8080/"
        },
        "id": "Na5t3wpmymA4",
        "outputId": "8f706e1c-ef6a-4ae4-de4a-e2592b850d5a"
      },
      "source": [
        "y_train_v = to_categorical(y_train, 15)\n",
        "y_test_v = to_categorical(y_test, 15)\n",
        "y_val_v = to_categorical(y_val, 15)\n",
        "print(y_train_v.shape)\n",
        "print(y_test_v.shape)\n",
        "print(y_val_v.shape)"
      ],
      "execution_count": 30,
      "outputs": [
        {
          "output_type": "stream",
          "text": [
            "(60000, 15)\n",
            "(15000, 15)\n",
            "(7500, 15)\n"
          ],
          "name": "stdout"
        }
      ]
    },
    {
      "cell_type": "markdown",
      "metadata": {
        "id": "79Q2ezxEymA6"
      },
      "source": [
        "## Step 5. Build the model"
      ]
    },
    {
      "cell_type": "code",
      "metadata": {
        "id": "iYdmYYyWymA6"
      },
      "source": [
        "import tensorflow as tf\n",
        "from tensorflow.keras.models import Sequential\n",
        "from tensorflow.keras.layers import Conv1D, BatchNormalization, MaxPooling1D, Flatten, Dense, Activation,Dropout\n",
        "from tensorflow.keras.constraints import max_norm"
      ],
      "execution_count": 31,
      "outputs": []
    },
    {
      "cell_type": "code",
      "metadata": {
        "colab": {
          "base_uri": "https://localhost:8080/"
        },
        "id": "VinchNXyymA7",
        "outputId": "c280341f-6b68-4c83-b88e-003033bde889"
      },
      "source": [
        "#hyper-params\n",
        "batch_size = 100 # increasing batch size with more gpu added\n",
        "\n",
        "input_dim = X_train.shape[1]\n",
        "num_class = 15                   # 15 intrusion classes, including benign traffic class\n",
        "num_epochs = 90\n",
        "\n",
        "print(input_dim)\n",
        "print(num_class)"
      ],
      "execution_count": 32,
      "outputs": [
        {
          "output_type": "stream",
          "text": [
            "71\n",
            "15\n"
          ],
          "name": "stdout"
        }
      ]
    },
    {
      "cell_type": "code",
      "metadata": {
        "colab": {
          "base_uri": "https://localhost:8080/"
        },
        "id": "5SeAQGIoymA8",
        "outputId": "e8ba3510-04fe-4c25-96f8-0e756852c229"
      },
      "source": [
        "X_train_r = np.zeros((len(X_train), input_dim, 1))\n",
        "X_train_r[:, :, 0] = X_train[:, :input_dim]\n",
        "print(X_train_r.shape)"
      ],
      "execution_count": 33,
      "outputs": [
        {
          "output_type": "stream",
          "text": [
            "(60000, 71, 1)\n"
          ],
          "name": "stdout"
        }
      ]
    },
    {
      "cell_type": "code",
      "metadata": {
        "colab": {
          "base_uri": "https://localhost:8080/"
        },
        "id": "mlcgM-4311Ee",
        "outputId": "f7f2b4ab-a911-41be-d369-566d1360f4ce"
      },
      "source": [
        "X_val_r = np.zeros((len(X_val), input_dim, 1))\r\n",
        "X_val_r[:, :, 0] = X_val[:, :input_dim]\r\n",
        "print(X_val_r.shape)"
      ],
      "execution_count": 34,
      "outputs": [
        {
          "output_type": "stream",
          "text": [
            "(7500, 71, 1)\n"
          ],
          "name": "stdout"
        }
      ]
    },
    {
      "cell_type": "code",
      "metadata": {
        "colab": {
          "base_uri": "https://localhost:8080/"
        },
        "id": "B96MRlI_ymA8",
        "outputId": "e7fe6b4b-10bd-476f-9a0b-b29be7506798"
      },
      "source": [
        "X_test_r = np.zeros((len(X_test), input_dim, 1))\n",
        "X_test_r[:, :, 0] = X_test[:, :input_dim]\n",
        "print(X_test_r.shape)"
      ],
      "execution_count": 35,
      "outputs": [
        {
          "output_type": "stream",
          "text": [
            "(15000, 71, 1)\n"
          ],
          "name": "stdout"
        }
      ]
    },
    {
      "cell_type": "markdown",
      "metadata": {
        "id": "SKMiVwhCXx2I"
      },
      "source": [
        "**Model with 2 Con1D layers**"
      ]
    },
    {
      "cell_type": "code",
      "metadata": {
        "colab": {
          "base_uri": "https://localhost:8080/"
        },
        "id": "LJqaGS9SX01m",
        "outputId": "ab5a98dd-ff10-4fef-c48e-9b05f971be0f"
      },
      "source": [
        "model2 = Sequential()\r\n",
        "\r\n",
        "# input layer\r\n",
        "model2.add(Conv1D(filters=60, kernel_size=11,  input_shape=(71,1)))\r\n",
        "#model2.add(BatchNormalization(axis=1))\r\n",
        "model2.add(Activation('relu'))\r\n",
        "model2.add(Dropout(0.1))\r\n",
        "\r\n",
        "model2.add(Conv1D(filters=60, kernel_size=3))\r\n",
        "#model2.add(BatchNormalization(axis=1))\r\n",
        "model2.add(Activation('relu'))\r\n",
        "model2.add(Dropout(0.1))\r\n",
        "\r\n",
        "model2.add(Conv1D(filters=60, kernel_size=7))\r\n",
        "#model2.add(BatchNormalization(axis=1))\r\n",
        "model2.add(Activation('relu'))\r\n",
        "model2.add(Dropout(0.1))\r\n",
        "\r\n",
        "model2.add(Flatten())\r\n",
        "#model2.add(Dropout(0.1))\r\n",
        "model2.add(Dense(128, activation='relu'))\r\n",
        "model2.add(Dense(num_class))\r\n",
        "model2.add(Activation('softmax'))\r\n",
        "\r\n",
        "model2.summary()"
      ],
      "execution_count": 36,
      "outputs": [
        {
          "output_type": "stream",
          "text": [
            "Model: \"sequential\"\n",
            "_________________________________________________________________\n",
            "Layer (type)                 Output Shape              Param #   \n",
            "=================================================================\n",
            "conv1d (Conv1D)              (None, 61, 60)            720       \n",
            "_________________________________________________________________\n",
            "activation (Activation)      (None, 61, 60)            0         \n",
            "_________________________________________________________________\n",
            "dropout (Dropout)            (None, 61, 60)            0         \n",
            "_________________________________________________________________\n",
            "conv1d_1 (Conv1D)            (None, 59, 60)            10860     \n",
            "_________________________________________________________________\n",
            "activation_1 (Activation)    (None, 59, 60)            0         \n",
            "_________________________________________________________________\n",
            "dropout_1 (Dropout)          (None, 59, 60)            0         \n",
            "_________________________________________________________________\n",
            "conv1d_2 (Conv1D)            (None, 53, 60)            25260     \n",
            "_________________________________________________________________\n",
            "activation_2 (Activation)    (None, 53, 60)            0         \n",
            "_________________________________________________________________\n",
            "dropout_2 (Dropout)          (None, 53, 60)            0         \n",
            "_________________________________________________________________\n",
            "flatten (Flatten)            (None, 3180)              0         \n",
            "_________________________________________________________________\n",
            "dense (Dense)                (None, 128)               407168    \n",
            "_________________________________________________________________\n",
            "dense_1 (Dense)              (None, 15)                1935      \n",
            "_________________________________________________________________\n",
            "activation_3 (Activation)    (None, 15)                0         \n",
            "=================================================================\n",
            "Total params: 445,943\n",
            "Trainable params: 445,943\n",
            "Non-trainable params: 0\n",
            "_________________________________________________________________\n"
          ],
          "name": "stdout"
        }
      ]
    },
    {
      "cell_type": "code",
      "metadata": {
        "id": "2u3i2MkUYNo3"
      },
      "source": [
        "learning_rates = 1e-3\r\n",
        "optim = tf.keras.optimizers.Adam(lr=learning_rates, beta_1=0.9, beta_2=0.999, epsilon=1e-8)\r\n",
        "model2.compile(loss='categorical_crossentropy', optimizer=optim, metrics=['accuracy']) "
      ],
      "execution_count": 37,
      "outputs": []
    },
    {
      "cell_type": "code",
      "metadata": {
        "colab": {
          "base_uri": "https://localhost:8080/"
        },
        "id": "5NGP29aXYPyw",
        "outputId": "7858f36e-9314-4174-d5a5-5d194f312ddc"
      },
      "source": [
        "model2.fit(X_train_r, y_train_v, epochs=100, batch_size=batch_size, validation_data=(X_val_r, y_val_v), verbose=1)"
      ],
      "execution_count": 38,
      "outputs": [
        {
          "output_type": "stream",
          "text": [
            "Epoch 1/100\n",
            "600/600 [==============================] - 10s 4ms/step - loss: 0.9566 - accuracy: 0.6844 - val_loss: 0.3925 - val_accuracy: 0.8560\n",
            "Epoch 2/100\n",
            "600/600 [==============================] - 2s 3ms/step - loss: 0.2993 - accuracy: 0.8746 - val_loss: 0.3710 - val_accuracy: 0.8488\n",
            "Epoch 3/100\n",
            "600/600 [==============================] - 2s 3ms/step - loss: 0.2609 - accuracy: 0.8799 - val_loss: 0.3645 - val_accuracy: 0.8527\n",
            "Epoch 4/100\n",
            "600/600 [==============================] - 2s 3ms/step - loss: 0.2427 - accuracy: 0.8864 - val_loss: 0.3273 - val_accuracy: 0.8615\n",
            "Epoch 5/100\n",
            "600/600 [==============================] - 2s 3ms/step - loss: 0.2304 - accuracy: 0.8865 - val_loss: 0.3215 - val_accuracy: 0.8669\n",
            "Epoch 6/100\n",
            "600/600 [==============================] - 2s 3ms/step - loss: 0.2244 - accuracy: 0.8906 - val_loss: 0.3465 - val_accuracy: 0.8791\n",
            "Epoch 7/100\n",
            "600/600 [==============================] - 2s 3ms/step - loss: 0.2147 - accuracy: 0.8942 - val_loss: 0.3312 - val_accuracy: 0.8579\n",
            "Epoch 8/100\n",
            "600/600 [==============================] - 2s 3ms/step - loss: 0.2043 - accuracy: 0.8978 - val_loss: 0.3430 - val_accuracy: 0.8565\n",
            "Epoch 9/100\n",
            "600/600 [==============================] - 2s 3ms/step - loss: 0.1987 - accuracy: 0.9003 - val_loss: 0.3313 - val_accuracy: 0.8781\n",
            "Epoch 10/100\n",
            "600/600 [==============================] - 2s 3ms/step - loss: 0.1930 - accuracy: 0.8967 - val_loss: 0.3100 - val_accuracy: 0.8604\n",
            "Epoch 11/100\n",
            "600/600 [==============================] - 2s 3ms/step - loss: 0.1920 - accuracy: 0.9000 - val_loss: 0.3725 - val_accuracy: 0.8601\n",
            "Epoch 12/100\n",
            "600/600 [==============================] - 2s 3ms/step - loss: 0.1903 - accuracy: 0.9000 - val_loss: 0.3704 - val_accuracy: 0.8720\n",
            "Epoch 13/100\n",
            "600/600 [==============================] - 2s 3ms/step - loss: 0.1905 - accuracy: 0.8999 - val_loss: 0.4024 - val_accuracy: 0.8699\n",
            "Epoch 14/100\n",
            "600/600 [==============================] - 2s 3ms/step - loss: 0.1847 - accuracy: 0.9021 - val_loss: 0.4170 - val_accuracy: 0.8625\n",
            "Epoch 15/100\n",
            "600/600 [==============================] - 2s 3ms/step - loss: 0.1838 - accuracy: 0.9015 - val_loss: 0.3662 - val_accuracy: 0.8812\n",
            "Epoch 16/100\n",
            "600/600 [==============================] - 2s 3ms/step - loss: 0.1839 - accuracy: 0.9002 - val_loss: 0.4223 - val_accuracy: 0.8795\n",
            "Epoch 17/100\n",
            "600/600 [==============================] - 2s 3ms/step - loss: 0.1817 - accuracy: 0.9038 - val_loss: 0.4045 - val_accuracy: 0.8701\n",
            "Epoch 18/100\n",
            "600/600 [==============================] - 2s 3ms/step - loss: 0.1811 - accuracy: 0.9023 - val_loss: 0.3927 - val_accuracy: 0.8700\n",
            "Epoch 19/100\n",
            "600/600 [==============================] - 2s 3ms/step - loss: 0.1750 - accuracy: 0.9066 - val_loss: 0.4338 - val_accuracy: 0.8735\n",
            "Epoch 20/100\n",
            "600/600 [==============================] - 2s 3ms/step - loss: 0.1746 - accuracy: 0.9065 - val_loss: 0.4291 - val_accuracy: 0.8703\n",
            "Epoch 21/100\n",
            "600/600 [==============================] - 2s 3ms/step - loss: 0.1765 - accuracy: 0.9055 - val_loss: 0.3819 - val_accuracy: 0.8777\n",
            "Epoch 22/100\n",
            "600/600 [==============================] - 2s 3ms/step - loss: 0.1726 - accuracy: 0.9073 - val_loss: 0.4700 - val_accuracy: 0.8805\n",
            "Epoch 23/100\n",
            "600/600 [==============================] - 2s 3ms/step - loss: 0.1755 - accuracy: 0.9048 - val_loss: 0.4620 - val_accuracy: 0.8707\n",
            "Epoch 24/100\n",
            "600/600 [==============================] - 2s 3ms/step - loss: 0.1750 - accuracy: 0.9054 - val_loss: 0.4337 - val_accuracy: 0.8624\n",
            "Epoch 25/100\n",
            "600/600 [==============================] - 2s 3ms/step - loss: 0.1701 - accuracy: 0.9105 - val_loss: 0.3926 - val_accuracy: 0.8735\n",
            "Epoch 26/100\n",
            "600/600 [==============================] - 2s 3ms/step - loss: 0.1738 - accuracy: 0.9076 - val_loss: 0.4228 - val_accuracy: 0.8725\n",
            "Epoch 27/100\n",
            "600/600 [==============================] - 2s 3ms/step - loss: 0.1717 - accuracy: 0.9074 - val_loss: 0.4564 - val_accuracy: 0.8640\n",
            "Epoch 28/100\n",
            "600/600 [==============================] - 2s 3ms/step - loss: 0.1694 - accuracy: 0.9134 - val_loss: 0.3712 - val_accuracy: 0.8739\n",
            "Epoch 29/100\n",
            "600/600 [==============================] - 2s 3ms/step - loss: 0.1698 - accuracy: 0.9072 - val_loss: 0.4643 - val_accuracy: 0.8747\n",
            "Epoch 30/100\n",
            "600/600 [==============================] - 2s 3ms/step - loss: 0.1666 - accuracy: 0.9122 - val_loss: 0.4803 - val_accuracy: 0.8683\n",
            "Epoch 31/100\n",
            "600/600 [==============================] - 2s 3ms/step - loss: 0.1630 - accuracy: 0.9126 - val_loss: 0.4179 - val_accuracy: 0.8637\n",
            "Epoch 32/100\n",
            "600/600 [==============================] - 2s 3ms/step - loss: 0.1671 - accuracy: 0.9130 - val_loss: 0.5520 - val_accuracy: 0.8731\n",
            "Epoch 33/100\n",
            "600/600 [==============================] - 2s 3ms/step - loss: 0.1636 - accuracy: 0.9141 - val_loss: 0.4773 - val_accuracy: 0.8797\n",
            "Epoch 34/100\n",
            "600/600 [==============================] - 2s 3ms/step - loss: 0.1636 - accuracy: 0.9145 - val_loss: 0.5031 - val_accuracy: 0.8589\n",
            "Epoch 35/100\n",
            "600/600 [==============================] - 2s 3ms/step - loss: 0.1608 - accuracy: 0.9140 - val_loss: 0.4917 - val_accuracy: 0.8741\n",
            "Epoch 36/100\n",
            "600/600 [==============================] - 2s 3ms/step - loss: 0.1608 - accuracy: 0.9153 - val_loss: 0.5210 - val_accuracy: 0.8736\n",
            "Epoch 37/100\n",
            "600/600 [==============================] - 2s 3ms/step - loss: 0.1608 - accuracy: 0.9165 - val_loss: 0.4987 - val_accuracy: 0.8871\n",
            "Epoch 38/100\n",
            "600/600 [==============================] - 2s 3ms/step - loss: 0.1565 - accuracy: 0.9151 - val_loss: 0.4952 - val_accuracy: 0.8828\n",
            "Epoch 39/100\n",
            "600/600 [==============================] - 2s 3ms/step - loss: 0.1592 - accuracy: 0.9159 - val_loss: 0.4449 - val_accuracy: 0.8729\n",
            "Epoch 40/100\n",
            "600/600 [==============================] - 2s 3ms/step - loss: 0.1573 - accuracy: 0.9168 - val_loss: 0.4256 - val_accuracy: 0.8848\n",
            "Epoch 41/100\n",
            "600/600 [==============================] - 2s 3ms/step - loss: 0.1491 - accuracy: 0.9210 - val_loss: 0.4525 - val_accuracy: 0.8852\n",
            "Epoch 42/100\n",
            "600/600 [==============================] - 2s 3ms/step - loss: 0.1525 - accuracy: 0.9169 - val_loss: 0.4501 - val_accuracy: 0.8833\n",
            "Epoch 43/100\n",
            "600/600 [==============================] - 2s 3ms/step - loss: 0.1501 - accuracy: 0.9194 - val_loss: 0.4541 - val_accuracy: 0.8916\n",
            "Epoch 44/100\n",
            "600/600 [==============================] - 2s 3ms/step - loss: 0.1468 - accuracy: 0.9207 - val_loss: 0.4526 - val_accuracy: 0.8820\n",
            "Epoch 45/100\n",
            "600/600 [==============================] - 2s 3ms/step - loss: 0.1502 - accuracy: 0.9206 - val_loss: 0.4726 - val_accuracy: 0.8760\n",
            "Epoch 46/100\n",
            "600/600 [==============================] - 2s 3ms/step - loss: 0.1485 - accuracy: 0.9214 - val_loss: 0.5251 - val_accuracy: 0.8800\n",
            "Epoch 47/100\n",
            "600/600 [==============================] - 2s 3ms/step - loss: 0.1459 - accuracy: 0.9205 - val_loss: 0.5104 - val_accuracy: 0.8823\n",
            "Epoch 48/100\n",
            "600/600 [==============================] - 2s 3ms/step - loss: 0.1453 - accuracy: 0.9221 - val_loss: 0.4918 - val_accuracy: 0.8668\n",
            "Epoch 49/100\n",
            "600/600 [==============================] - 2s 3ms/step - loss: 0.1447 - accuracy: 0.9203 - val_loss: 0.4660 - val_accuracy: 0.8796\n",
            "Epoch 50/100\n",
            "600/600 [==============================] - 2s 3ms/step - loss: 0.1425 - accuracy: 0.9239 - val_loss: 0.4907 - val_accuracy: 0.8728\n",
            "Epoch 51/100\n",
            "600/600 [==============================] - 2s 3ms/step - loss: 0.1502 - accuracy: 0.9204 - val_loss: 0.4611 - val_accuracy: 0.8773\n",
            "Epoch 52/100\n",
            "600/600 [==============================] - 2s 3ms/step - loss: 0.1415 - accuracy: 0.9230 - val_loss: 0.5041 - val_accuracy: 0.8799\n",
            "Epoch 53/100\n",
            "600/600 [==============================] - 2s 3ms/step - loss: 0.1422 - accuracy: 0.9259 - val_loss: 0.4665 - val_accuracy: 0.8783\n",
            "Epoch 54/100\n",
            "600/600 [==============================] - 2s 3ms/step - loss: 0.1409 - accuracy: 0.9248 - val_loss: 0.4802 - val_accuracy: 0.8780\n",
            "Epoch 55/100\n",
            "600/600 [==============================] - 2s 3ms/step - loss: 0.1349 - accuracy: 0.9261 - val_loss: 0.5225 - val_accuracy: 0.8785\n",
            "Epoch 56/100\n",
            "600/600 [==============================] - 2s 3ms/step - loss: 0.1356 - accuracy: 0.9263 - val_loss: 0.4566 - val_accuracy: 0.9007\n",
            "Epoch 57/100\n",
            "600/600 [==============================] - 2s 3ms/step - loss: 0.1345 - accuracy: 0.9277 - val_loss: 0.4714 - val_accuracy: 0.8768\n",
            "Epoch 58/100\n",
            "600/600 [==============================] - 2s 3ms/step - loss: 0.1364 - accuracy: 0.9288 - val_loss: 0.4861 - val_accuracy: 0.9071\n",
            "Epoch 59/100\n",
            "600/600 [==============================] - 2s 3ms/step - loss: 0.1342 - accuracy: 0.9284 - val_loss: 0.4777 - val_accuracy: 0.8799\n",
            "Epoch 60/100\n",
            "600/600 [==============================] - 2s 3ms/step - loss: 0.1342 - accuracy: 0.9283 - val_loss: 0.4863 - val_accuracy: 0.8832\n",
            "Epoch 61/100\n",
            "600/600 [==============================] - 2s 3ms/step - loss: 0.1358 - accuracy: 0.9246 - val_loss: 0.4600 - val_accuracy: 0.8780\n",
            "Epoch 62/100\n",
            "600/600 [==============================] - 2s 3ms/step - loss: 0.1367 - accuracy: 0.9267 - val_loss: 0.4577 - val_accuracy: 0.8783\n",
            "Epoch 63/100\n",
            "600/600 [==============================] - 2s 3ms/step - loss: 0.1393 - accuracy: 0.9255 - val_loss: 0.4951 - val_accuracy: 0.8887\n",
            "Epoch 64/100\n",
            "600/600 [==============================] - 2s 3ms/step - loss: 0.1337 - accuracy: 0.9282 - val_loss: 0.4588 - val_accuracy: 0.8809\n",
            "Epoch 65/100\n",
            "600/600 [==============================] - 2s 3ms/step - loss: 0.1359 - accuracy: 0.9278 - val_loss: 0.4753 - val_accuracy: 0.9036\n",
            "Epoch 66/100\n",
            "600/600 [==============================] - 2s 3ms/step - loss: 0.1286 - accuracy: 0.9298 - val_loss: 0.4248 - val_accuracy: 0.8783\n",
            "Epoch 67/100\n",
            "600/600 [==============================] - 2s 3ms/step - loss: 0.1286 - accuracy: 0.9305 - val_loss: 0.4939 - val_accuracy: 0.9063\n",
            "Epoch 68/100\n",
            "600/600 [==============================] - 2s 3ms/step - loss: 0.1329 - accuracy: 0.9279 - val_loss: 0.4496 - val_accuracy: 0.8912\n",
            "Epoch 69/100\n",
            "600/600 [==============================] - 2s 3ms/step - loss: 0.1295 - accuracy: 0.9300 - val_loss: 0.4340 - val_accuracy: 0.8861\n",
            "Epoch 70/100\n",
            "600/600 [==============================] - 2s 3ms/step - loss: 0.1352 - accuracy: 0.9294 - val_loss: 0.4760 - val_accuracy: 0.8988\n",
            "Epoch 71/100\n",
            "600/600 [==============================] - 2s 3ms/step - loss: 0.1305 - accuracy: 0.9308 - val_loss: 0.4442 - val_accuracy: 0.9016\n",
            "Epoch 72/100\n",
            "600/600 [==============================] - 2s 3ms/step - loss: 0.1279 - accuracy: 0.9313 - val_loss: 0.4928 - val_accuracy: 0.8865\n",
            "Epoch 73/100\n",
            "600/600 [==============================] - 2s 3ms/step - loss: 0.1277 - accuracy: 0.9329 - val_loss: 0.4374 - val_accuracy: 0.8885\n",
            "Epoch 74/100\n",
            "600/600 [==============================] - 2s 3ms/step - loss: 0.1322 - accuracy: 0.9286 - val_loss: 0.4499 - val_accuracy: 0.8873\n",
            "Epoch 75/100\n",
            "600/600 [==============================] - 2s 3ms/step - loss: 0.1309 - accuracy: 0.9308 - val_loss: 0.4088 - val_accuracy: 0.8941\n",
            "Epoch 76/100\n",
            "600/600 [==============================] - 2s 3ms/step - loss: 0.1265 - accuracy: 0.9328 - val_loss: 0.4202 - val_accuracy: 0.9060\n",
            "Epoch 77/100\n",
            "600/600 [==============================] - 2s 3ms/step - loss: 0.1287 - accuracy: 0.9325 - val_loss: 0.5266 - val_accuracy: 0.8896\n",
            "Epoch 78/100\n",
            "600/600 [==============================] - 2s 3ms/step - loss: 0.1319 - accuracy: 0.9282 - val_loss: 0.4856 - val_accuracy: 0.8944\n",
            "Epoch 79/100\n",
            "600/600 [==============================] - 2s 3ms/step - loss: 0.1316 - accuracy: 0.9315 - val_loss: 0.4803 - val_accuracy: 0.8952\n",
            "Epoch 80/100\n",
            "600/600 [==============================] - 2s 3ms/step - loss: 0.1291 - accuracy: 0.9315 - val_loss: 0.5469 - val_accuracy: 0.9101\n",
            "Epoch 81/100\n",
            "600/600 [==============================] - 2s 3ms/step - loss: 0.1248 - accuracy: 0.9336 - val_loss: 0.4762 - val_accuracy: 0.8877\n",
            "Epoch 82/100\n",
            "600/600 [==============================] - 2s 3ms/step - loss: 0.1254 - accuracy: 0.9340 - val_loss: 0.5144 - val_accuracy: 0.8887\n",
            "Epoch 83/100\n",
            "600/600 [==============================] - 2s 3ms/step - loss: 0.1283 - accuracy: 0.9298 - val_loss: 0.5689 - val_accuracy: 0.8972\n",
            "Epoch 84/100\n",
            "600/600 [==============================] - 2s 3ms/step - loss: 0.1270 - accuracy: 0.9324 - val_loss: 0.5581 - val_accuracy: 0.8936\n",
            "Epoch 85/100\n",
            "600/600 [==============================] - 2s 3ms/step - loss: 0.1235 - accuracy: 0.9338 - val_loss: 0.5211 - val_accuracy: 0.9104\n",
            "Epoch 86/100\n",
            "600/600 [==============================] - 2s 3ms/step - loss: 0.1260 - accuracy: 0.9352 - val_loss: 0.4814 - val_accuracy: 0.8971\n",
            "Epoch 87/100\n",
            "600/600 [==============================] - 2s 3ms/step - loss: 0.1246 - accuracy: 0.9349 - val_loss: 0.5600 - val_accuracy: 0.8971\n",
            "Epoch 88/100\n",
            "600/600 [==============================] - 2s 3ms/step - loss: 0.1256 - accuracy: 0.9344 - val_loss: 0.5110 - val_accuracy: 0.9076\n",
            "Epoch 89/100\n",
            "600/600 [==============================] - 2s 3ms/step - loss: 0.1268 - accuracy: 0.9340 - val_loss: 0.4904 - val_accuracy: 0.8959\n",
            "Epoch 90/100\n",
            "600/600 [==============================] - 2s 3ms/step - loss: 0.1287 - accuracy: 0.9332 - val_loss: 0.5131 - val_accuracy: 0.9076\n",
            "Epoch 91/100\n",
            "600/600 [==============================] - 2s 3ms/step - loss: 0.1191 - accuracy: 0.9372 - val_loss: 0.4261 - val_accuracy: 0.8931\n",
            "Epoch 92/100\n",
            "600/600 [==============================] - 2s 3ms/step - loss: 0.1238 - accuracy: 0.9358 - val_loss: 0.4982 - val_accuracy: 0.8885\n",
            "Epoch 93/100\n",
            "600/600 [==============================] - 2s 3ms/step - loss: 0.1274 - accuracy: 0.9333 - val_loss: 0.5430 - val_accuracy: 0.9005\n",
            "Epoch 94/100\n",
            "600/600 [==============================] - 2s 3ms/step - loss: 0.1224 - accuracy: 0.9353 - val_loss: 0.5088 - val_accuracy: 0.9069\n",
            "Epoch 95/100\n",
            "600/600 [==============================] - 2s 3ms/step - loss: 0.1241 - accuracy: 0.9344 - val_loss: 0.5843 - val_accuracy: 0.8952\n",
            "Epoch 96/100\n",
            "600/600 [==============================] - 2s 3ms/step - loss: 0.1225 - accuracy: 0.9371 - val_loss: 0.5395 - val_accuracy: 0.9095\n",
            "Epoch 97/100\n",
            "600/600 [==============================] - 2s 3ms/step - loss: 0.1213 - accuracy: 0.9365 - val_loss: 0.4639 - val_accuracy: 0.9071\n",
            "Epoch 98/100\n",
            "600/600 [==============================] - 2s 3ms/step - loss: 0.1243 - accuracy: 0.9370 - val_loss: 0.6056 - val_accuracy: 0.8965\n",
            "Epoch 99/100\n",
            "600/600 [==============================] - 2s 3ms/step - loss: 0.1179 - accuracy: 0.9401 - val_loss: 0.4929 - val_accuracy: 0.9008\n",
            "Epoch 100/100\n",
            "600/600 [==============================] - 2s 3ms/step - loss: 0.1185 - accuracy: 0.9384 - val_loss: 0.5345 - val_accuracy: 0.9089\n"
          ],
          "name": "stdout"
        },
        {
          "output_type": "execute_result",
          "data": {
            "text/plain": [
              "<tensorflow.python.keras.callbacks.History at 0x7fd2508b1c88>"
            ]
          },
          "metadata": {
            "tags": []
          },
          "execution_count": 38
        }
      ]
    },
    {
      "cell_type": "markdown",
      "metadata": {
        "id": "IQg2TKLVXsmo"
      },
      "source": [
        "## Step 6. **Model with DNN layers**"
      ]
    },
    {
      "cell_type": "code",
      "metadata": {
        "colab": {
          "base_uri": "https://localhost:8080/"
        },
        "id": "dhvdIfDwymA9",
        "outputId": "9e358245-65d6-482e-8666-0fb0a3f9677b"
      },
      "source": [
        "model = Sequential()\n",
        "\n",
        "# input layer\n",
        "model.add(Dense(128,  activation='relu', input_shape = (71,)))\n",
        "model.add(Dropout(0.2))\n",
        "\n",
        "# hidden layer\n",
        "model.add(Dense(256, activation='relu'))\n",
        "model.add(Dropout(0.2))\n",
        "\n",
        "# hidden layer\n",
        "model.add(Dense(64, activation='relu'))\n",
        "model.add(Dropout(0.2))\n",
        " \n",
        "model.add(Dense(num_class))\n",
        "model.add(Activation('softmax'))\n",
        "\n",
        "\n",
        "model.summary()"
      ],
      "execution_count": 68,
      "outputs": [
        {
          "output_type": "stream",
          "text": [
            "Model: \"sequential_11\"\n",
            "_________________________________________________________________\n",
            "Layer (type)                 Output Shape              Param #   \n",
            "=================================================================\n",
            "dense_30 (Dense)             (None, 128)               9216      \n",
            "_________________________________________________________________\n",
            "dropout_24 (Dropout)         (None, 128)               0         \n",
            "_________________________________________________________________\n",
            "dense_31 (Dense)             (None, 256)               33024     \n",
            "_________________________________________________________________\n",
            "dropout_25 (Dropout)         (None, 256)               0         \n",
            "_________________________________________________________________\n",
            "dense_32 (Dense)             (None, 64)                16448     \n",
            "_________________________________________________________________\n",
            "dropout_26 (Dropout)         (None, 64)                0         \n",
            "_________________________________________________________________\n",
            "dense_33 (Dense)             (None, 15)                975       \n",
            "_________________________________________________________________\n",
            "activation_11 (Activation)   (None, 15)                0         \n",
            "=================================================================\n",
            "Total params: 59,663\n",
            "Trainable params: 59,663\n",
            "Non-trainable params: 0\n",
            "_________________________________________________________________\n"
          ],
          "name": "stdout"
        }
      ]
    },
    {
      "cell_type": "code",
      "metadata": {
        "id": "UHcoSDdxymA-"
      },
      "source": [
        "learning_rates = 1e-3\r\n",
        "optim = tf.keras.optimizers.Adam(lr=learning_rates, beta_1=0.9, beta_2=0.999, epsilon=1e-8)\r\n",
        "model.compile(loss='categorical_crossentropy', optimizer=optim, metrics=['accuracy']) "
      ],
      "execution_count": 69,
      "outputs": []
    },
    {
      "cell_type": "markdown",
      "metadata": {
        "id": "7_dq7oCbymA_"
      },
      "source": [
        "## Step 7. Training the DNN model"
      ]
    },
    {
      "cell_type": "code",
      "metadata": {
        "colab": {
          "base_uri": "https://localhost:8080/"
        },
        "id": "ZuWGG2dNymBA",
        "outputId": "2d35c4ca-3ac5-4056-c319-23dbf9466bb5"
      },
      "source": [
        "# fit network\n",
        "model.fit(X_train, y_train_v, epochs=100, batch_size=batch_size, validation_data=(X_val, y_val_v), verbose=1)"
      ],
      "execution_count": 70,
      "outputs": [
        {
          "output_type": "stream",
          "text": [
            "Epoch 1/100\n",
            "600/600 [==============================] - 2s 3ms/step - loss: 1.3431 - accuracy: 0.5507 - val_loss: 0.4385 - val_accuracy: 0.8201\n",
            "Epoch 2/100\n",
            "600/600 [==============================] - 1s 2ms/step - loss: 0.4442 - accuracy: 0.8279 - val_loss: 0.3586 - val_accuracy: 0.8564\n",
            "Epoch 3/100\n",
            "600/600 [==============================] - 1s 2ms/step - loss: 0.3319 - accuracy: 0.8632 - val_loss: 0.3736 - val_accuracy: 0.8513\n",
            "Epoch 4/100\n",
            "600/600 [==============================] - 1s 2ms/step - loss: 0.3037 - accuracy: 0.8714 - val_loss: 0.3819 - val_accuracy: 0.8512\n",
            "Epoch 5/100\n",
            "600/600 [==============================] - 1s 2ms/step - loss: 0.2819 - accuracy: 0.8767 - val_loss: 0.4030 - val_accuracy: 0.8679\n",
            "Epoch 6/100\n",
            "600/600 [==============================] - 1s 2ms/step - loss: 0.2683 - accuracy: 0.8805 - val_loss: 0.3837 - val_accuracy: 0.8621\n",
            "Epoch 7/100\n",
            "600/600 [==============================] - 1s 2ms/step - loss: 0.2543 - accuracy: 0.8858 - val_loss: 0.4397 - val_accuracy: 0.8639\n",
            "Epoch 8/100\n",
            "600/600 [==============================] - 1s 2ms/step - loss: 0.2519 - accuracy: 0.8832 - val_loss: 0.3935 - val_accuracy: 0.8533\n",
            "Epoch 9/100\n",
            "600/600 [==============================] - 1s 2ms/step - loss: 0.2462 - accuracy: 0.8844 - val_loss: 0.4109 - val_accuracy: 0.8755\n",
            "Epoch 10/100\n",
            "600/600 [==============================] - 1s 2ms/step - loss: 0.2435 - accuracy: 0.8839 - val_loss: 0.4309 - val_accuracy: 0.8735\n",
            "Epoch 11/100\n",
            "600/600 [==============================] - 1s 2ms/step - loss: 0.2401 - accuracy: 0.8874 - val_loss: 0.4347 - val_accuracy: 0.8679\n",
            "Epoch 12/100\n",
            "600/600 [==============================] - 1s 2ms/step - loss: 0.2300 - accuracy: 0.8902 - val_loss: 0.4815 - val_accuracy: 0.8759\n",
            "Epoch 13/100\n",
            "600/600 [==============================] - 1s 2ms/step - loss: 0.2262 - accuracy: 0.8922 - val_loss: 0.4954 - val_accuracy: 0.8676\n",
            "Epoch 14/100\n",
            "600/600 [==============================] - 1s 2ms/step - loss: 0.2259 - accuracy: 0.8926 - val_loss: 0.4906 - val_accuracy: 0.8848\n",
            "Epoch 15/100\n",
            "600/600 [==============================] - 1s 2ms/step - loss: 0.2274 - accuracy: 0.8899 - val_loss: 0.4720 - val_accuracy: 0.8743\n",
            "Epoch 16/100\n",
            "600/600 [==============================] - 1s 2ms/step - loss: 0.2163 - accuracy: 0.8972 - val_loss: 0.4803 - val_accuracy: 0.8685\n",
            "Epoch 17/100\n",
            "600/600 [==============================] - 1s 2ms/step - loss: 0.2138 - accuracy: 0.8953 - val_loss: 0.4514 - val_accuracy: 0.8717\n",
            "Epoch 18/100\n",
            "600/600 [==============================] - 1s 2ms/step - loss: 0.2130 - accuracy: 0.8973 - val_loss: 0.4586 - val_accuracy: 0.8672\n",
            "Epoch 19/100\n",
            "600/600 [==============================] - 1s 2ms/step - loss: 0.2045 - accuracy: 0.9012 - val_loss: 0.4689 - val_accuracy: 0.8855\n",
            "Epoch 20/100\n",
            "600/600 [==============================] - 1s 2ms/step - loss: 0.2092 - accuracy: 0.8995 - val_loss: 0.5020 - val_accuracy: 0.8759\n",
            "Epoch 21/100\n",
            "600/600 [==============================] - 1s 2ms/step - loss: 0.2090 - accuracy: 0.8989 - val_loss: 0.3903 - val_accuracy: 0.8772\n",
            "Epoch 22/100\n",
            "600/600 [==============================] - 1s 2ms/step - loss: 0.2037 - accuracy: 0.9021 - val_loss: 0.4588 - val_accuracy: 0.8737\n",
            "Epoch 23/100\n",
            "600/600 [==============================] - 1s 2ms/step - loss: 0.1980 - accuracy: 0.9049 - val_loss: 0.5089 - val_accuracy: 0.8655\n",
            "Epoch 24/100\n",
            "600/600 [==============================] - 1s 2ms/step - loss: 0.1981 - accuracy: 0.9060 - val_loss: 0.4831 - val_accuracy: 0.9004\n",
            "Epoch 25/100\n",
            "600/600 [==============================] - 1s 2ms/step - loss: 0.1958 - accuracy: 0.9055 - val_loss: 0.5298 - val_accuracy: 0.8795\n",
            "Epoch 26/100\n",
            "600/600 [==============================] - 1s 2ms/step - loss: 0.1970 - accuracy: 0.9047 - val_loss: 0.4800 - val_accuracy: 0.8881\n",
            "Epoch 27/100\n",
            "600/600 [==============================] - 1s 2ms/step - loss: 0.1989 - accuracy: 0.9035 - val_loss: 0.4136 - val_accuracy: 0.8813\n",
            "Epoch 28/100\n",
            "600/600 [==============================] - 1s 2ms/step - loss: 0.1960 - accuracy: 0.9047 - val_loss: 0.4285 - val_accuracy: 0.8823\n",
            "Epoch 29/100\n",
            "600/600 [==============================] - 1s 2ms/step - loss: 0.1929 - accuracy: 0.9054 - val_loss: 0.4115 - val_accuracy: 0.8961\n",
            "Epoch 30/100\n",
            "600/600 [==============================] - 1s 2ms/step - loss: 0.1919 - accuracy: 0.9074 - val_loss: 0.4614 - val_accuracy: 0.8839\n",
            "Epoch 31/100\n",
            "600/600 [==============================] - 1s 2ms/step - loss: 0.1877 - accuracy: 0.9085 - val_loss: 0.5272 - val_accuracy: 0.8900\n",
            "Epoch 32/100\n",
            "600/600 [==============================] - 1s 2ms/step - loss: 0.1903 - accuracy: 0.9076 - val_loss: 0.5761 - val_accuracy: 0.8796\n",
            "Epoch 33/100\n",
            "600/600 [==============================] - 2s 3ms/step - loss: 0.1912 - accuracy: 0.9051 - val_loss: 0.6684 - val_accuracy: 0.8775\n",
            "Epoch 34/100\n",
            "600/600 [==============================] - 1s 2ms/step - loss: 0.1900 - accuracy: 0.9076 - val_loss: 0.6616 - val_accuracy: 0.8877\n",
            "Epoch 35/100\n",
            "600/600 [==============================] - 1s 2ms/step - loss: 0.1888 - accuracy: 0.9073 - val_loss: 0.5879 - val_accuracy: 0.8775\n",
            "Epoch 36/100\n",
            "600/600 [==============================] - 1s 2ms/step - loss: 0.1865 - accuracy: 0.9099 - val_loss: 0.6613 - val_accuracy: 0.8817\n",
            "Epoch 37/100\n",
            "600/600 [==============================] - 1s 2ms/step - loss: 0.1827 - accuracy: 0.9101 - val_loss: 0.6025 - val_accuracy: 0.8841\n",
            "Epoch 38/100\n",
            "600/600 [==============================] - 1s 2ms/step - loss: 0.1873 - accuracy: 0.9068 - val_loss: 0.6118 - val_accuracy: 0.8697\n",
            "Epoch 39/100\n",
            "600/600 [==============================] - 1s 2ms/step - loss: 0.1816 - accuracy: 0.9115 - val_loss: 0.6380 - val_accuracy: 0.8801\n",
            "Epoch 40/100\n",
            "600/600 [==============================] - 1s 2ms/step - loss: 0.1854 - accuracy: 0.9090 - val_loss: 0.6729 - val_accuracy: 0.8776\n",
            "Epoch 41/100\n",
            "600/600 [==============================] - 1s 2ms/step - loss: 0.1850 - accuracy: 0.9071 - val_loss: 0.8278 - val_accuracy: 0.8745\n",
            "Epoch 42/100\n",
            "600/600 [==============================] - 1s 2ms/step - loss: 0.1819 - accuracy: 0.9128 - val_loss: 0.7896 - val_accuracy: 0.8731\n",
            "Epoch 43/100\n",
            "600/600 [==============================] - 1s 2ms/step - loss: 0.1858 - accuracy: 0.9079 - val_loss: 0.8056 - val_accuracy: 0.8696\n",
            "Epoch 44/100\n",
            "600/600 [==============================] - 1s 2ms/step - loss: 0.1910 - accuracy: 0.9090 - val_loss: 0.7984 - val_accuracy: 0.8893\n",
            "Epoch 45/100\n",
            "600/600 [==============================] - 1s 2ms/step - loss: 0.1870 - accuracy: 0.9086 - val_loss: 0.8051 - val_accuracy: 0.8793\n",
            "Epoch 46/100\n",
            "600/600 [==============================] - 1s 2ms/step - loss: 0.1801 - accuracy: 0.9129 - val_loss: 0.8267 - val_accuracy: 0.8939\n",
            "Epoch 47/100\n",
            "600/600 [==============================] - 1s 2ms/step - loss: 0.1841 - accuracy: 0.9114 - val_loss: 0.7817 - val_accuracy: 0.8899\n",
            "Epoch 48/100\n",
            "600/600 [==============================] - 1s 2ms/step - loss: 0.1776 - accuracy: 0.9125 - val_loss: 0.7848 - val_accuracy: 0.8925\n",
            "Epoch 49/100\n",
            "600/600 [==============================] - 1s 2ms/step - loss: 0.1799 - accuracy: 0.9126 - val_loss: 0.9089 - val_accuracy: 0.8797\n",
            "Epoch 50/100\n",
            "600/600 [==============================] - 1s 2ms/step - loss: 0.1838 - accuracy: 0.9098 - val_loss: 0.8528 - val_accuracy: 0.8808\n",
            "Epoch 51/100\n",
            "600/600 [==============================] - 1s 2ms/step - loss: 0.1817 - accuracy: 0.9123 - val_loss: 0.8113 - val_accuracy: 0.8823\n",
            "Epoch 52/100\n",
            "600/600 [==============================] - 1s 2ms/step - loss: 0.1817 - accuracy: 0.9099 - val_loss: 0.7985 - val_accuracy: 0.8808\n",
            "Epoch 53/100\n",
            "600/600 [==============================] - 1s 2ms/step - loss: 0.1813 - accuracy: 0.9104 - val_loss: 0.7831 - val_accuracy: 0.8816\n",
            "Epoch 54/100\n",
            "600/600 [==============================] - 1s 2ms/step - loss: 0.1766 - accuracy: 0.9121 - val_loss: 0.8815 - val_accuracy: 0.8792\n",
            "Epoch 55/100\n",
            "600/600 [==============================] - 1s 2ms/step - loss: 0.1807 - accuracy: 0.9131 - val_loss: 0.8160 - val_accuracy: 0.8921\n",
            "Epoch 56/100\n",
            "600/600 [==============================] - 1s 2ms/step - loss: 0.1766 - accuracy: 0.9120 - val_loss: 0.7921 - val_accuracy: 0.8775\n",
            "Epoch 57/100\n",
            "600/600 [==============================] - 1s 2ms/step - loss: 0.1824 - accuracy: 0.9113 - val_loss: 0.6363 - val_accuracy: 0.8808\n",
            "Epoch 58/100\n",
            "600/600 [==============================] - 1s 2ms/step - loss: 0.1808 - accuracy: 0.9109 - val_loss: 0.7618 - val_accuracy: 0.8643\n",
            "Epoch 59/100\n",
            "600/600 [==============================] - 1s 2ms/step - loss: 0.1767 - accuracy: 0.9138 - val_loss: 0.7441 - val_accuracy: 0.8792\n",
            "Epoch 60/100\n",
            "600/600 [==============================] - 1s 2ms/step - loss: 0.1769 - accuracy: 0.9123 - val_loss: 0.7753 - val_accuracy: 0.8816\n",
            "Epoch 61/100\n",
            "600/600 [==============================] - 1s 2ms/step - loss: 0.1824 - accuracy: 0.9119 - val_loss: 0.7855 - val_accuracy: 0.8743\n",
            "Epoch 62/100\n",
            "600/600 [==============================] - 1s 2ms/step - loss: 0.1786 - accuracy: 0.9109 - val_loss: 0.8404 - val_accuracy: 0.8732\n",
            "Epoch 63/100\n",
            "600/600 [==============================] - 1s 2ms/step - loss: 0.1761 - accuracy: 0.9128 - val_loss: 0.7677 - val_accuracy: 0.8828\n",
            "Epoch 64/100\n",
            "600/600 [==============================] - 1s 2ms/step - loss: 0.1802 - accuracy: 0.9120 - val_loss: 0.8796 - val_accuracy: 0.8873\n",
            "Epoch 65/100\n",
            "600/600 [==============================] - 1s 2ms/step - loss: 0.1756 - accuracy: 0.9115 - val_loss: 0.8242 - val_accuracy: 0.8788\n",
            "Epoch 66/100\n",
            "600/600 [==============================] - 1s 2ms/step - loss: 0.1774 - accuracy: 0.9126 - val_loss: 0.8378 - val_accuracy: 0.8841\n",
            "Epoch 67/100\n",
            "600/600 [==============================] - 1s 2ms/step - loss: 0.1773 - accuracy: 0.9126 - val_loss: 0.9111 - val_accuracy: 0.8724\n",
            "Epoch 68/100\n",
            "600/600 [==============================] - 1s 2ms/step - loss: 0.1762 - accuracy: 0.9133 - val_loss: 0.9945 - val_accuracy: 0.8776\n",
            "Epoch 69/100\n",
            "600/600 [==============================] - 1s 2ms/step - loss: 0.1786 - accuracy: 0.9149 - val_loss: 0.8475 - val_accuracy: 0.8847\n",
            "Epoch 70/100\n",
            "600/600 [==============================] - 1s 2ms/step - loss: 0.1781 - accuracy: 0.9132 - val_loss: 0.9453 - val_accuracy: 0.8819\n",
            "Epoch 71/100\n",
            "600/600 [==============================] - 1s 2ms/step - loss: 0.1775 - accuracy: 0.9124 - val_loss: 0.9701 - val_accuracy: 0.8820\n",
            "Epoch 72/100\n",
            "600/600 [==============================] - 1s 2ms/step - loss: 0.1787 - accuracy: 0.9129 - val_loss: 0.8528 - val_accuracy: 0.8924\n",
            "Epoch 73/100\n",
            "600/600 [==============================] - 1s 2ms/step - loss: 0.1746 - accuracy: 0.9143 - val_loss: 0.7548 - val_accuracy: 0.8753\n",
            "Epoch 74/100\n",
            "600/600 [==============================] - 1s 2ms/step - loss: 0.1764 - accuracy: 0.9132 - val_loss: 0.8372 - val_accuracy: 0.8793\n",
            "Epoch 75/100\n",
            "600/600 [==============================] - 1s 2ms/step - loss: 0.1752 - accuracy: 0.9145 - val_loss: 0.9598 - val_accuracy: 0.8741\n",
            "Epoch 76/100\n",
            "600/600 [==============================] - 1s 2ms/step - loss: 0.1701 - accuracy: 0.9166 - val_loss: 0.8978 - val_accuracy: 0.8932\n",
            "Epoch 77/100\n",
            "600/600 [==============================] - 1s 2ms/step - loss: 0.1766 - accuracy: 0.9126 - val_loss: 0.8994 - val_accuracy: 0.8825\n",
            "Epoch 78/100\n",
            "600/600 [==============================] - 1s 2ms/step - loss: 0.1777 - accuracy: 0.9121 - val_loss: 0.8449 - val_accuracy: 0.8856\n",
            "Epoch 79/100\n",
            "600/600 [==============================] - 1s 2ms/step - loss: 0.1774 - accuracy: 0.9138 - val_loss: 0.9021 - val_accuracy: 0.8797\n",
            "Epoch 80/100\n",
            "600/600 [==============================] - 1s 2ms/step - loss: 0.1739 - accuracy: 0.9142 - val_loss: 0.9806 - val_accuracy: 0.8759\n",
            "Epoch 81/100\n",
            "600/600 [==============================] - 2s 3ms/step - loss: 0.1776 - accuracy: 0.9107 - val_loss: 0.9421 - val_accuracy: 0.8839\n",
            "Epoch 82/100\n",
            "600/600 [==============================] - 1s 2ms/step - loss: 0.1762 - accuracy: 0.9143 - val_loss: 1.0085 - val_accuracy: 0.8795\n",
            "Epoch 83/100\n",
            "600/600 [==============================] - 1s 2ms/step - loss: 0.1772 - accuracy: 0.9151 - val_loss: 0.9513 - val_accuracy: 0.8792\n",
            "Epoch 84/100\n",
            "600/600 [==============================] - 1s 2ms/step - loss: 0.1741 - accuracy: 0.9146 - val_loss: 1.0580 - val_accuracy: 0.8871\n",
            "Epoch 85/100\n",
            "600/600 [==============================] - 1s 2ms/step - loss: 0.1747 - accuracy: 0.9116 - val_loss: 1.1237 - val_accuracy: 0.8745\n",
            "Epoch 86/100\n",
            "600/600 [==============================] - 1s 2ms/step - loss: 0.1740 - accuracy: 0.9162 - val_loss: 1.1213 - val_accuracy: 0.8823\n",
            "Epoch 87/100\n",
            "600/600 [==============================] - 1s 2ms/step - loss: 0.1738 - accuracy: 0.9155 - val_loss: 0.8757 - val_accuracy: 0.8744\n",
            "Epoch 88/100\n",
            "600/600 [==============================] - 1s 2ms/step - loss: 0.1704 - accuracy: 0.9167 - val_loss: 0.9285 - val_accuracy: 0.8809\n",
            "Epoch 89/100\n",
            "600/600 [==============================] - 1s 2ms/step - loss: 0.1731 - accuracy: 0.9157 - val_loss: 1.0155 - val_accuracy: 0.8852\n",
            "Epoch 90/100\n",
            "600/600 [==============================] - 1s 2ms/step - loss: 0.1716 - accuracy: 0.9182 - val_loss: 0.9606 - val_accuracy: 0.8756\n",
            "Epoch 91/100\n",
            "600/600 [==============================] - 1s 2ms/step - loss: 0.1728 - accuracy: 0.9185 - val_loss: 0.9170 - val_accuracy: 0.8907\n",
            "Epoch 92/100\n",
            "600/600 [==============================] - 1s 2ms/step - loss: 0.1728 - accuracy: 0.9170 - val_loss: 0.9031 - val_accuracy: 0.8871\n",
            "Epoch 93/100\n",
            "600/600 [==============================] - 1s 2ms/step - loss: 0.1734 - accuracy: 0.9187 - val_loss: 0.9986 - val_accuracy: 0.8852\n",
            "Epoch 94/100\n",
            "600/600 [==============================] - 1s 2ms/step - loss: 0.1713 - accuracy: 0.9209 - val_loss: 1.0680 - val_accuracy: 0.8899\n",
            "Epoch 95/100\n",
            "600/600 [==============================] - 1s 2ms/step - loss: 0.1678 - accuracy: 0.9207 - val_loss: 1.0506 - val_accuracy: 0.8800\n",
            "Epoch 96/100\n",
            "600/600 [==============================] - 1s 2ms/step - loss: 0.1714 - accuracy: 0.9178 - val_loss: 1.2231 - val_accuracy: 0.8819\n",
            "Epoch 97/100\n",
            "600/600 [==============================] - 1s 2ms/step - loss: 0.1741 - accuracy: 0.9180 - val_loss: 1.1035 - val_accuracy: 0.8812\n",
            "Epoch 98/100\n",
            "600/600 [==============================] - 1s 2ms/step - loss: 0.1713 - accuracy: 0.9179 - val_loss: 1.1567 - val_accuracy: 0.8781\n",
            "Epoch 99/100\n",
            "600/600 [==============================] - 1s 2ms/step - loss: 0.1688 - accuracy: 0.9209 - val_loss: 1.0143 - val_accuracy: 0.8844\n",
            "Epoch 100/100\n",
            "600/600 [==============================] - 1s 2ms/step - loss: 0.1743 - accuracy: 0.9155 - val_loss: 1.0613 - val_accuracy: 0.8879\n"
          ],
          "name": "stdout"
        },
        {
          "output_type": "execute_result",
          "data": {
            "text/plain": [
              "<tensorflow.python.keras.callbacks.History at 0x7fd1f0623470>"
            ]
          },
          "metadata": {
            "tags": []
          },
          "execution_count": 70
        }
      ]
    },
    {
      "cell_type": "code",
      "metadata": {
        "colab": {
          "base_uri": "https://localhost:8080/"
        },
        "id": "8Y7P8jYVymBA",
        "outputId": "eeb9ac6d-ef33-434a-a0d3-a285c7009ca6"
      },
      "source": [
        "# evaluate model\n",
        "accuracy = model.evaluate(X_test_r, y_test_v, batch_size=batch_size, verbose=1)"
      ],
      "execution_count": 59,
      "outputs": [
        {
          "output_type": "stream",
          "text": [
            "59/59 [==============================] - 0s 6ms/step - loss: 3.6070 - accuracy: 0.5965\n"
          ],
          "name": "stdout"
        }
      ]
    }
  ]
}